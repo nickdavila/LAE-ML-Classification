{
 "cells": [
  {
   "cell_type": "code",
   "execution_count": 1,
   "id": "48926f5e",
   "metadata": {},
   "outputs": [],
   "source": [
    "# means that my matplotlib graphs will be included in the notebook, next to the code\n",
    "%matplotlib inline\n",
    "\n",
    "import os\n",
    "\n",
    "import math\n",
    "import astropy\n",
    "import random\n",
    "import numpy as np\n",
    "import tables as tb\n",
    "import pandas as pd\n",
    "import matplotlib.pyplot as plt\n",
    "\n",
    "from astropy.table import Table, Column, join\n",
    "from astropy.coordinates import SkyCoord\n",
    "from astropy.io import fits\n",
    "import astropy.units as u\n",
    "\n",
    "from hetdex_tools.get_spec import get_spectra\n",
    "from hetdex_api.config import HDRconfig\n",
    "from hetdex_api.detections import Detections\n",
    "from hetdex_api.elixer_widget_cls import ElixerWidget"
   ]
  },
  {
   "cell_type": "code",
   "execution_count": 2,
   "id": "4b25f138",
   "metadata": {},
   "outputs": [],
   "source": [
    "# not sure why the code below is here, it was in the Detections database and API notebook\n",
    "# https://github.com/HETDEX/hetdex_api/blob/master/notebooks/api-notebooks/03-Detections_Database_and_API.ipynb"
   ]
  },
  {
   "cell_type": "code",
   "execution_count": 3,
   "id": "ce894e85",
   "metadata": {},
   "outputs": [
    {
     "data": {
      "application/javascript": [
       "IPython.OutputArea.prototype._should_scroll = function(lines) {\n",
       "    return false;\n",
       "}\n"
      ],
      "text/plain": [
       "<IPython.core.display.Javascript object>"
      ]
     },
     "metadata": {},
     "output_type": "display_data"
    }
   ],
   "source": [
    "%%javascript\n",
    "IPython.OutputArea.prototype._should_scroll = function(lines) {\n",
    "    return false;\n",
    "}"
   ]
  },
  {
   "cell_type": "code",
   "execution_count": 4,
   "id": "11356987",
   "metadata": {},
   "outputs": [],
   "source": [
    "# Using this to be able to plot spectra. For some reason Jupyter won't let me plot spectra without this\n",
    "%matplotlib inline"
   ]
  },
  {
   "cell_type": "markdown",
   "id": "04311888",
   "metadata": {},
   "source": [
    "<hr/>"
   ]
  },
  {
   "cell_type": "markdown",
   "id": "ea270104",
   "metadata": {},
   "source": [
    "# CODE BELOW THIS IS TO GET A NOISE SAMPLE!"
   ]
  },
  {
   "cell_type": "markdown",
   "id": "aa88dea4",
   "metadata": {},
   "source": [
    "### Opens the catalogs and turns them into dataframes\n",
    "\n",
    "I like to open both catalogs separately since they are both big (HDR3 especially!)"
   ]
  },
  {
   "cell_type": "code",
   "execution_count": 5,
   "id": "6c27a5c6",
   "metadata": {},
   "outputs": [],
   "source": [
    "# Opening HDR3 detections catalog and converting it into a pandas DF\n",
    "# HDR3 is detections HETDEX found\n",
    "HDR_source_cat = fits.open('/home/jovyan/Hobby-Eberly-Telesco/hdr3/catalogs/source_catalog_3.0.1.fits', memmap = True)\n",
    "HDR3_data = HDR_source_cat[1].data\n",
    "HDR3_DF = pd.DataFrame(HDR3_data, columns=HDR3_data.columns.names)"
   ]
  },
  {
   "cell_type": "code",
   "execution_count": 6,
   "id": "77c54340",
   "metadata": {},
   "outputs": [],
   "source": [
    "# Opening H20 NEP catalog and converting it into a pandas DF\n",
    "# H20 is stricly photometry sources\n",
    "H20_NEP_catalog = fits.open('H20_NEP_VIRUS_OVERLAP_CAT_10_2021.fits', memmap = True)\n",
    "H20_NEP_data = H20_NEP_catalog[1].data\n",
    "H20_NEP_DF = pd.DataFrame(H20_NEP_data, columns=H20_NEP_data.columns.names)"
   ]
  },
  {
   "cell_type": "code",
   "execution_count": 7,
   "id": "87243526",
   "metadata": {},
   "outputs": [],
   "source": [
    "# Columns we will then take from the entire data set (it was huge so we needed to determine what we wanted to look at specifically).\n",
    "# As the name suggests, these are the ones that are useful to us!\n",
    "useful_hdr3_cols = ['source_id', 'detectid',  'selected_det', 'ra_mean', 'dec_mean', 'fwhm', 'shotid', 'field',  'ra', 'dec', 'wave', 'wave_err', 'flux', 'flux_err', 'sn', 'sn_err', 'chi2', 'chi2_err',\n",
    "'linewidth', 'linewidth_err', 'plya_classification', 'z_hetdex', 'z_hetdex_conf', 'combined_plae']\n",
    "\n",
    "# For now, the only useful columns for us in H20 NEP is RA and DEC.\n",
    "useful_h20nep_cols = ['RA_MODELING', 'DEC_MODELING', 'VALID_SOURCE_MODELING']\n",
    "\n",
    "# From the original DFs, taking the useful columns\n",
    "reduced_hdr3_df = HDR3_DF.loc[:, useful_hdr3_cols]\n",
    "reduced_h20nep_df = H20_NEP_DF.loc[:, useful_h20nep_cols]"
   ]
  },
  {
   "cell_type": "markdown",
   "id": "888ba3f0",
   "metadata": {},
   "source": [
    "### Cleaning up the data"
   ]
  },
  {
   "cell_type": "code",
   "execution_count": 8,
   "id": "44649c45",
   "metadata": {},
   "outputs": [],
   "source": [
    "# Removing data from before 2017 because it isn't good (not useful to us)\n",
    "# No need to do this for H20 NEP\n",
    "removed_bad_shots_hdr3_df = reduced_hdr3_df[reduced_hdr3_df.shotid.values >= 20180000000]"
   ]
  },
  {
   "cell_type": "markdown",
   "id": "4fc89194",
   "metadata": {},
   "source": [
    "### Filtering data. For HDR3 we use a signal to noise greater than 6.5 and for H20 NEP we check if the VALID_SOURCE_MODELING is true"
   ]
  },
  {
   "cell_type": "code",
   "execution_count": 9,
   "id": "f9e5f77c",
   "metadata": {},
   "outputs": [],
   "source": [
    "# This will give high confidence detections. Something we would want to do also. What is sn threshold that Valentina's code is having trouble with.\n",
    "# Reason why, we want high-confidence Lya. If we are very confident sn and another filter, then that's what we consider high-conf lya.\n",
    "# Once noise and high-confidence sample. We can start exanping on valentina's code and do our own stuff\n",
    "hdr3_signal_to_noise_interval = removed_bad_shots_hdr3_df[removed_bad_shots_hdr3_df['sn'] > 6.5]\n",
    "\n",
    "# For now, no need to specify a field. But once trained, we want to run this for the NEP field!\n",
    "# The VALID_SOURCE_MODELING column which just tells us that the model was able to converge and get fluxes from the source\n",
    "# False valid source modeling means that the model used to measure the fluxes failed somehow so we cannot use that galaxy reliably\n",
    "# We want the true ones since we know the model was able to find a galaxy and we can use that for \n",
    "# our imaging counterpart identification (ie: to use these galaxy to check if there is a galaxy at our new extraction coordinate)\n",
    "h20_valid_source_check = reduced_h20nep_df[reduced_h20nep_df['VALID_SOURCE_MODELING'] == True]"
   ]
  },
  {
   "cell_type": "markdown",
   "id": "2483d58b",
   "metadata": {},
   "source": [
    "## Making two skycoord objects for both catalogs\n",
    "We do this instead of directly looking at the dataframes cause when we do and exract we get fibers from nearby as well. We don't want that."
   ]
  },
  {
   "cell_type": "code",
   "execution_count": 10,
   "id": "5bccbd31",
   "metadata": {},
   "outputs": [],
   "source": [
    "hdr3_skycoords = SkyCoord(hdr3_signal_to_noise_interval['ra'] * u.deg, hdr3_signal_to_noise_interval['dec'] * u.deg)\n",
    "h20_skycoords = SkyCoord(h20_valid_source_check['RA_MODELING'] * u.deg, h20_valid_source_check['DEC_MODELING'] * u.deg)"
   ]
  },
  {
   "cell_type": "markdown",
   "id": "7b46f98f",
   "metadata": {},
   "source": [
    "IF parallel computing: need to re-define function for parallel computing."
   ]
  },
  {
   "cell_type": "code",
   "execution_count": 21,
   "id": "3069f910",
   "metadata": {},
   "outputs": [],
   "source": [
    "# Input: takes as input a SkyCoord object (ra and dec coordinates)\n",
    "#        an offset to move away from whatever random object's coordinates we get \n",
    "#        a separation_check which will be a number we use to see if an object is far enough away\n",
    "#        and a num_sources which is just how many sources we want to end up with in our noise sample\n",
    "#        any additional skycoord objects needed, in future could implement this to take an array of skycoord objects\n",
    "#        just in case if there's multiple skycoord objects\n",
    "#\n",
    "# Default: by default we take the h20_skycoords object which uses the h20 photometry catalog to make a SkyCoord\n",
    "#          (probably a good idea to clean up and filter data before puttng into function)\n",
    "#          an offset of 200 arcseconds (using Skycoord separation method)\n",
    "#          a separation check of 1.2 arcseconds\n",
    "#          a number of 100 sources outputted\n",
    "#          an additional skycoord for the HDR3 catalog\n",
    "#\n",
    "# Output: returns a numpy array of noise sources\n",
    "def Noise_Sampling(num_sources,\n",
    "    skycoord = h20_skycoords, \n",
    "    offset = 200 * u.arcsec, \n",
    "    separation_check = 1.2 * u.arcsec,\n",
    "    additional_skycoord = hdr3_skycoords):\n",
    "    \n",
    "    # variable to count how many noise sources we have\n",
    "    source_count = 0\n",
    "    \n",
    "    # Creating array to hold all sources to be returned later\n",
    "    source_list = []\n",
    "    \n",
    "    while source_count < num_sources:\n",
    "\n",
    "        #pick a random coordinate from the skycoord object\n",
    "        random_coord = skycoord[random.randint(0, skycoord.size)]\n",
    "\n",
    "        # Creating an offseted skycoord (from random one we picked) to hopefully be a noise source\n",
    "        offset_skycoord = random_coord.directional_offset_by(200 * u.arcsec, 200 * u.arcsec)\n",
    "\n",
    "        # Creating a tuple holding the separation of both catalogs, returns angles\n",
    "        # Could be implemented to take an arbitrary amount of skycoord objects\n",
    "        skycoords_separation = (offset_skycoord.separation(skycoord), offset_skycoord.separation(additional_skycoord))\n",
    "        # Creating two variables holding the separation of both catalogs, returns angles\n",
    "        sep_hdr3 = offset_skycoord.separation(skycoord)\n",
    "        sep_h20 = offset_skycoord.separation(additional_skycoord)\n",
    "\n",
    "        # Checking if the separation is less than 1.2 arcseconds (arbitrary value)\n",
    "        check_separation = skycoords_separation[0] or skycoords_separation[1] < 1.2 * u.arcsec\n",
    "        # Checking if the separation is less than 1.2 arcseconds (arbitrary value)\n",
    "        check_hdr3 = (sep_hdr3 < 1.2 * u.arcsec)\n",
    "        check_h20 = (sep_h20 < 1.2 * u.arcsec)\n",
    "            \n",
    "        \n",
    "        # If there is a true value in any of the checks, we need to find a new source because it means there was a close match\n",
    "        if (True in check_hdr3) or (True in check_h20):\n",
    "            # need to change source and re-do loop\n",
    "            continue\n",
    "        else:\n",
    "            # extract spectra at this location\n",
    "            spectra_check = get_spectra(offset_skycoord)\n",
    "        \n",
    "            # if we only extracted one source then move on\n",
    "            if len(spectra_check) == 1:    \n",
    "                # we add to extraction list!!\n",
    "                source_list.append(offset_skycoord)\n",
    "                source_count += 1\n",
    "            # if pulled a number of sources that isn't one, restart loop\n",
    "            else:\n",
    "                continue\n",
    "        \n",
    "    return np.array(source_list)"
   ]
  },
  {
   "cell_type": "code",
   "execution_count": 12,
   "id": "3bd3b5fa",
   "metadata": {
    "collapsed": true
   },
   "outputs": [
    {
     "name": "stderr",
     "output_type": "stream",
     "text": [
      "[INFO - 2022-10-31 03:14:10,431] Finding shots of interest\n",
      "[INFO - 2022-10-31 03:14:16,489] Number of shots of interest: 4\n",
      "[INFO - 2022-10-31 03:14:16,491] Extracting 4 sources\n",
      "[INFO - 2022-10-31 03:14:16,679] Working on shot: 20200813012\n",
      "[INFO - 2022-10-31 03:14:16,714] Working on shot: 20200814012\n",
      "[INFO - 2022-10-31 03:14:16,751] Working on shot: 20200814013\n",
      "[INFO - 2022-10-31 03:14:16,800] Working on shot: 20200814014\n",
      "[INFO - 2022-10-31 03:14:20,069] Extraction of sources completed in 0.06 minutes.\n",
      "[INFO - 2022-10-31 03:14:20,149] Retrieved 0 spectra.\n"
     ]
    },
    {
     "name": "stdout",
     "output_type": "stream",
     "text": [
      "BAD LENGTH!\n",
      "BAD len(spectra_check) 0\n",
      "len(source_list) 0\n"
     ]
    },
    {
     "name": "stderr",
     "output_type": "stream",
     "text": [
      "[INFO - 2022-10-31 03:14:20,427] Finding shots of interest\n",
      "[INFO - 2022-10-31 03:14:26,458] Number of shots of interest: 8\n",
      "[INFO - 2022-10-31 03:14:26,459] Extracting 8 sources\n",
      "[INFO - 2022-10-31 03:14:26,597] Working on shot: 20200813012\n",
      "[INFO - 2022-10-31 03:14:26,645] Working on shot: 20200814012\n",
      "[INFO - 2022-10-31 03:14:26,714] Working on shot: 20200814013\n",
      "[INFO - 2022-10-31 03:14:26,755] Working on shot: 20200814014\n",
      "[INFO - 2022-10-31 03:14:26,809] Working on shot: 20200815012\n",
      "[INFO - 2022-10-31 03:14:26,860] Working on shot: 20200815013\n",
      "[INFO - 2022-10-31 03:14:26,907] Working on shot: 20200815014\n",
      "[INFO - 2022-10-31 03:14:26,961] Working on shot: 20200816011\n",
      "[INFO - 2022-10-31 03:14:27,908] Extracting 1\n",
      "[INFO - 2022-10-31 03:14:27,957] Extracting 1\n",
      "[INFO - 2022-10-31 03:14:30,918] Extracting 1\n",
      "[INFO - 2022-10-31 03:14:31,312] Extraction of sources completed in 0.08 minutes.\n",
      "[INFO - 2022-10-31 03:14:31,426] Retrieved 3 spectra.\n"
     ]
    },
    {
     "name": "stdout",
     "output_type": "stream",
     "text": [
      "BAD LENGTH!\n",
      "BAD len(spectra_check) 3\n",
      "len(source_list) 0\n"
     ]
    },
    {
     "name": "stderr",
     "output_type": "stream",
     "text": [
      "[INFO - 2022-10-31 03:14:31,700] Finding shots of interest\n",
      "[INFO - 2022-10-31 03:14:38,047] Number of shots of interest: 3\n",
      "[INFO - 2022-10-31 03:14:38,048] Extracting 3 sources\n",
      "[INFO - 2022-10-31 03:14:38,281] Working on shot: 20210709017\n",
      "[INFO - 2022-10-31 03:14:38,319] Working on shot: 20210709018\n",
      "[INFO - 2022-10-31 03:14:38,381] Working on shot: 20210713017\n",
      "[INFO - 2022-10-31 03:14:40,351] Extraction of sources completed in 0.04 minutes.\n",
      "[INFO - 2022-10-31 03:14:40,443] Retrieved 0 spectra.\n"
     ]
    },
    {
     "name": "stdout",
     "output_type": "stream",
     "text": [
      "BAD LENGTH!\n",
      "BAD len(spectra_check) 0\n",
      "len(source_list) 0\n"
     ]
    },
    {
     "name": "stderr",
     "output_type": "stream",
     "text": [
      "[INFO - 2022-10-31 03:14:40,770] Finding shots of interest\n",
      "[INFO - 2022-10-31 03:14:46,906] Number of shots of interest: 6\n",
      "[INFO - 2022-10-31 03:14:46,907] Extracting 6 sources\n",
      "[INFO - 2022-10-31 03:14:47,050] Working on shot: 20210518020\n",
      "[INFO - 2022-10-31 03:14:47,095] Working on shot: 20210614017\n",
      "[INFO - 2022-10-31 03:14:47,162] Working on shot: 20210617016\n",
      "[INFO - 2022-10-31 03:14:47,202] Working on shot: 20210706014\n",
      "[INFO - 2022-10-31 03:14:47,249] Working on shot: 20210710012\n",
      "[INFO - 2022-10-31 03:14:47,301] Working on shot: 20210728010\n",
      "[INFO - 2022-10-31 03:14:48,603] Extracting 1\n",
      "[INFO - 2022-10-31 03:14:48,691] Extracting 1\n",
      "[INFO - 2022-10-31 03:14:48,699] Extracting 1\n",
      "[INFO - 2022-10-31 03:14:49,594] Extraction of sources completed in 0.04 minutes.\n",
      "[INFO - 2022-10-31 03:14:49,703] Retrieved 3 spectra.\n"
     ]
    },
    {
     "name": "stdout",
     "output_type": "stream",
     "text": [
      "BAD LENGTH!\n",
      "BAD len(spectra_check) 3\n",
      "len(source_list) 0\n"
     ]
    },
    {
     "name": "stderr",
     "output_type": "stream",
     "text": [
      "[INFO - 2022-10-31 03:14:49,958] Finding shots of interest\n",
      "[INFO - 2022-10-31 03:14:55,983] Number of shots of interest: 4\n",
      "[INFO - 2022-10-31 03:14:55,984] Extracting 4 sources\n",
      "[INFO - 2022-10-31 03:14:56,141] Working on shot: 20210609015\n",
      "[INFO - 2022-10-31 03:14:56,238] Working on shot: 20210616019\n",
      "[INFO - 2022-10-31 03:14:56,252] Working on shot: 20210705015\n",
      "[INFO - 2022-10-31 03:14:56,312] Working on shot: 20210709019\n",
      "[INFO - 2022-10-31 03:14:57,859] Extracting 1\n",
      "[INFO - 2022-10-31 03:14:59,774] Extraction of sources completed in 0.06 minutes.\n",
      "[INFO - 2022-10-31 03:14:59,876] Retrieved 1 spectra.\n"
     ]
    },
    {
     "name": "stdout",
     "output_type": "stream",
     "text": [
      "len(spectra_check) 1\n",
      "len(source_list) 1\n"
     ]
    },
    {
     "name": "stderr",
     "output_type": "stream",
     "text": [
      "[INFO - 2022-10-31 03:15:00,165] Finding shots of interest\n",
      "[INFO - 2022-10-31 03:15:06,363] Number of shots of interest: 6\n",
      "[INFO - 2022-10-31 03:15:06,364] Extracting 6 sources\n",
      "[INFO - 2022-10-31 03:15:06,532] Working on shot: 20210518020\n",
      "[INFO - 2022-10-31 03:15:06,575] Working on shot: 20210609015\n",
      "[INFO - 2022-10-31 03:15:06,628] Working on shot: 20210614017\n",
      "[INFO - 2022-10-31 03:15:06,681] Working on shot: 20210617016\n",
      "[INFO - 2022-10-31 03:15:06,769] Working on shot: 20210705015\n",
      "[INFO - 2022-10-31 03:15:06,808] Working on shot: 20210710012\n",
      "[INFO - 2022-10-31 03:15:08,171] Extracting 1\n",
      "[INFO - 2022-10-31 03:15:08,932] Extraction of sources completed in 0.04 minutes.\n",
      "[INFO - 2022-10-31 03:15:09,020] Retrieved 1 spectra.\n"
     ]
    },
    {
     "name": "stdout",
     "output_type": "stream",
     "text": [
      "len(spectra_check) 1\n",
      "len(source_list) 2\n"
     ]
    },
    {
     "name": "stderr",
     "output_type": "stream",
     "text": [
      "[INFO - 2022-10-31 03:15:09,486] Finding shots of interest\n",
      "[INFO - 2022-10-31 03:15:15,423] Number of shots of interest: 4\n",
      "[INFO - 2022-10-31 03:15:15,424] Extracting 4 sources\n",
      "[INFO - 2022-10-31 03:15:15,580] Working on shot: 20210706014\n",
      "[INFO - 2022-10-31 03:15:15,616] Working on shot: 20210709017\n",
      "[INFO - 2022-10-31 03:15:15,674] Working on shot: 20210709018\n",
      "[INFO - 2022-10-31 03:15:15,746] Working on shot: 20210713017\n",
      "[INFO - 2022-10-31 03:15:16,922] Extracting 1\n",
      "[INFO - 2022-10-31 03:15:17,308] Extraction of sources completed in 0.03 minutes.\n",
      "[INFO - 2022-10-31 03:15:17,398] Retrieved 1 spectra.\n"
     ]
    },
    {
     "name": "stdout",
     "output_type": "stream",
     "text": [
      "len(spectra_check) 1\n",
      "len(source_list) 3\n"
     ]
    },
    {
     "name": "stderr",
     "output_type": "stream",
     "text": [
      "[INFO - 2022-10-31 03:15:17,904] Finding shots of interest\n",
      "[INFO - 2022-10-31 03:15:24,023] Number of shots of interest: 6\n",
      "[INFO - 2022-10-31 03:15:24,024] Extracting 6 sources\n",
      "[INFO - 2022-10-31 03:15:24,216] Working on shot: 20200818014\n",
      "[INFO - 2022-10-31 03:15:24,245] Working on shot: 20200820011\n",
      "[INFO - 2022-10-31 03:15:24,296] Working on shot: 20210617017\n",
      "[INFO - 2022-10-31 03:15:24,332] Working on shot: 20210618020\n",
      "[INFO - 2022-10-31 03:15:24,388] Working on shot: 20210706015\n",
      "[INFO - 2022-10-31 03:15:24,450] Working on shot: 20210710013\n",
      "[INFO - 2022-10-31 03:15:28,170] Extracting 1\n",
      "[INFO - 2022-10-31 03:15:28,809] Extraction of sources completed in 0.08 minutes.\n",
      "[INFO - 2022-10-31 03:15:28,899] Retrieved 1 spectra.\n"
     ]
    },
    {
     "name": "stdout",
     "output_type": "stream",
     "text": [
      "len(spectra_check) 1\n",
      "len(source_list) 4\n"
     ]
    },
    {
     "name": "stderr",
     "output_type": "stream",
     "text": [
      "[INFO - 2022-10-31 03:15:29,163] Finding shots of interest\n",
      "[INFO - 2022-10-31 03:15:35,284] Number of shots of interest: 6\n",
      "[INFO - 2022-10-31 03:15:35,285] Extracting 6 sources\n",
      "[INFO - 2022-10-31 03:15:35,420] Working on shot: 20210611013\n",
      "[INFO - 2022-10-31 03:15:35,491] Working on shot: 20210612014\n",
      "[INFO - 2022-10-31 03:15:35,516] Working on shot: 20210616018\n",
      "[INFO - 2022-10-31 03:15:35,576] Working on shot: 20210708012\n",
      "[INFO - 2022-10-31 03:15:35,651] Working on shot: 20210713016\n",
      "[INFO - 2022-10-31 03:15:35,671] Working on shot: 20210728009\n",
      "[INFO - 2022-10-31 03:15:36,701] Extracting 1\n",
      "[INFO - 2022-10-31 03:15:36,931] Extracting 1\n",
      "[INFO - 2022-10-31 03:15:36,985] Extracting 1\n",
      "[INFO - 2022-10-31 03:15:37,087] Extracting 1\n",
      "[INFO - 2022-10-31 03:15:37,475] Extraction of sources completed in 0.04 minutes.\n",
      "[INFO - 2022-10-31 03:15:37,608] Retrieved 4 spectra.\n"
     ]
    },
    {
     "name": "stdout",
     "output_type": "stream",
     "text": [
      "BAD LENGTH!\n",
      "BAD len(spectra_check) 4\n",
      "len(source_list) 4\n"
     ]
    },
    {
     "name": "stderr",
     "output_type": "stream",
     "text": [
      "[INFO - 2022-10-31 03:15:37,930] Finding shots of interest\n",
      "[INFO - 2022-10-31 03:15:44,007] Number of shots of interest: 6\n",
      "[INFO - 2022-10-31 03:15:44,009] Extracting 6 sources\n",
      "[INFO - 2022-10-31 03:15:44,210] Working on shot: 20200716013\n",
      "[INFO - 2022-10-31 03:15:44,249] Working on shot: 20200816012\n",
      "[INFO - 2022-10-31 03:15:44,267] Working on shot: 20200817011\n",
      "[INFO - 2022-10-31 03:15:44,302] Working on shot: 20210713016\n",
      "[INFO - 2022-10-31 03:15:44,355] Working on shot: 20210728009\n",
      "[INFO - 2022-10-31 03:15:44,407] Working on shot: 20210827007\n",
      "[INFO - 2022-10-31 03:15:46,445] Extracting 1\n",
      "[INFO - 2022-10-31 03:15:47,188] Extraction of sources completed in 0.05 minutes.\n",
      "[INFO - 2022-10-31 03:15:47,282] Retrieved 1 spectra.\n"
     ]
    },
    {
     "name": "stdout",
     "output_type": "stream",
     "text": [
      "len(spectra_check) 1\n",
      "len(source_list) 5\n"
     ]
    },
    {
     "name": "stderr",
     "output_type": "stream",
     "text": [
      "[INFO - 2022-10-31 03:15:47,569] Finding shots of interest\n",
      "[INFO - 2022-10-31 03:15:53,793] Number of shots of interest: 6\n",
      "[INFO - 2022-10-31 03:15:53,794] Extracting 6 sources\n",
      "[INFO - 2022-10-31 03:15:53,975] Working on shot: 20210518020\n",
      "[INFO - 2022-10-31 03:15:53,990] Working on shot: 20210614017\n",
      "[INFO - 2022-10-31 03:15:54,038] Working on shot: 20210617016\n",
      "[INFO - 2022-10-31 03:15:54,121] Working on shot: 20210706014\n",
      "[INFO - 2022-10-31 03:15:54,145] Working on shot: 20210710012\n",
      "[INFO - 2022-10-31 03:15:54,198] Working on shot: 20210728010\n",
      "[INFO - 2022-10-31 03:15:55,086] Extracting 1\n",
      "[INFO - 2022-10-31 03:15:55,174] Extracting 1\n",
      "[INFO - 2022-10-31 03:15:55,591] Extraction of sources completed in 0.03 minutes.\n",
      "[INFO - 2022-10-31 03:15:55,692] Retrieved 2 spectra.\n"
     ]
    },
    {
     "name": "stdout",
     "output_type": "stream",
     "text": [
      "BAD LENGTH!\n",
      "BAD len(spectra_check) 2\n",
      "len(source_list) 5\n"
     ]
    },
    {
     "name": "stderr",
     "output_type": "stream",
     "text": [
      "[INFO - 2022-10-31 03:15:55,981] Finding shots of interest\n",
      "[INFO - 2022-10-31 03:16:02,041] Number of shots of interest: 4\n",
      "[INFO - 2022-10-31 03:16:02,042] Extracting 4 sources\n",
      "[INFO - 2022-10-31 03:16:02,189] Working on shot: 20210609015\n",
      "[INFO - 2022-10-31 03:16:02,243] Working on shot: 20210616019\n",
      "[INFO - 2022-10-31 03:16:02,280] Working on shot: 20210705015\n",
      "[INFO - 2022-10-31 03:16:02,333] Working on shot: 20210709019\n",
      "[INFO - 2022-10-31 03:16:03,664] Extracting 1\n",
      "[INFO - 2022-10-31 03:16:04,066] Extraction of sources completed in 0.03 minutes.\n",
      "[INFO - 2022-10-31 03:16:04,154] Retrieved 1 spectra.\n"
     ]
    },
    {
     "name": "stdout",
     "output_type": "stream",
     "text": [
      "len(spectra_check) 1\n",
      "len(source_list) 6\n"
     ]
    },
    {
     "name": "stderr",
     "output_type": "stream",
     "text": [
      "[INFO - 2022-10-31 03:16:04,474] Finding shots of interest\n",
      "[INFO - 2022-10-31 03:16:10,965] Number of shots of interest: 5\n",
      "[INFO - 2022-10-31 03:16:10,967] Extracting 5 sources\n",
      "[INFO - 2022-10-31 03:16:11,164] Working on shot: 20200714013\n",
      "[INFO - 2022-10-31 03:16:11,188] Working on shot: 20200714014\n",
      "[INFO - 2022-10-31 03:16:11,240] Working on shot: 20200714015\n",
      "[INFO - 2022-10-31 03:16:11,296] Working on shot: 20200716012\n",
      "[INFO - 2022-10-31 03:16:11,403] Working on shot: 20210827007\n",
      "[INFO - 2022-10-31 03:16:13,369] Extracting 1\n",
      "[INFO - 2022-10-31 03:16:14,435] Extraction of sources completed in 0.06 minutes.\n",
      "[INFO - 2022-10-31 03:16:14,526] Retrieved 1 spectra.\n"
     ]
    },
    {
     "name": "stdout",
     "output_type": "stream",
     "text": [
      "len(spectra_check) 1\n",
      "len(source_list) 7\n"
     ]
    },
    {
     "name": "stderr",
     "output_type": "stream",
     "text": [
      "[INFO - 2022-10-31 03:16:14,881] Finding shots of interest\n",
      "[INFO - 2022-10-31 03:16:21,045] Number of shots of interest: 3\n",
      "[INFO - 2022-10-31 03:16:21,046] Extracting 3 sources\n",
      "[INFO - 2022-10-31 03:16:21,226] Working on shot: 20200522023\n",
      "[INFO - 2022-10-31 03:16:21,280] Working on shot: 20200522024\n",
      "[INFO - 2022-10-31 03:16:21,303] Working on shot: 20200522025\n",
      "[INFO - 2022-10-31 03:16:22,893] Extraction of sources completed in 0.03 minutes.\n",
      "[INFO - 2022-10-31 03:16:22,995] Retrieved 0 spectra.\n"
     ]
    },
    {
     "name": "stdout",
     "output_type": "stream",
     "text": [
      "BAD LENGTH!\n",
      "BAD len(spectra_check) 0\n",
      "len(source_list) 7\n"
     ]
    },
    {
     "name": "stderr",
     "output_type": "stream",
     "text": [
      "[INFO - 2022-10-31 03:16:23,289] Finding shots of interest\n",
      "[INFO - 2022-10-31 03:16:29,377] Number of shots of interest: 0\n",
      "[INFO - 2022-10-31 03:16:29,379] Extracting 0 sources\n",
      "[INFO - 2022-10-31 03:16:29,440] Extraction of sources completed in 0.00 minutes.\n",
      "[INFO - 2022-10-31 03:16:29,517] Retrieved 0 spectra.\n"
     ]
    },
    {
     "name": "stdout",
     "output_type": "stream",
     "text": [
      "BAD LENGTH!\n",
      "BAD len(spectra_check) 0\n",
      "len(source_list) 7\n"
     ]
    },
    {
     "name": "stderr",
     "output_type": "stream",
     "text": [
      "[INFO - 2022-10-31 03:16:29,791] Finding shots of interest\n",
      "[INFO - 2022-10-31 03:16:35,979] Number of shots of interest: 2\n",
      "[INFO - 2022-10-31 03:16:35,981] Extracting 2 sources\n",
      "[INFO - 2022-10-31 03:16:36,157] Working on shot: 20210706014\n",
      "[INFO - 2022-10-31 03:16:36,191] Working on shot: 20210728010\n",
      "[INFO - 2022-10-31 03:16:37,345] Extraction of sources completed in 0.02 minutes.\n",
      "[INFO - 2022-10-31 03:16:37,429] Retrieved 0 spectra.\n"
     ]
    },
    {
     "name": "stdout",
     "output_type": "stream",
     "text": [
      "BAD LENGTH!\n",
      "BAD len(spectra_check) 0\n",
      "len(source_list) 7\n"
     ]
    },
    {
     "name": "stderr",
     "output_type": "stream",
     "text": [
      "[INFO - 2022-10-31 03:16:37,762] Finding shots of interest\n",
      "[INFO - 2022-10-31 03:16:44,008] Number of shots of interest: 4\n",
      "[INFO - 2022-10-31 03:16:44,010] Extracting 4 sources\n",
      "[INFO - 2022-10-31 03:16:44,182] Working on shot: 20200522023\n",
      "[INFO - 2022-10-31 03:16:44,220] Working on shot: 20200522024\n",
      "[INFO - 2022-10-31 03:16:44,270] Working on shot: 20200522025\n",
      "[INFO - 2022-10-31 03:16:44,342] Working on shot: 20200522026\n",
      "[INFO - 2022-10-31 03:16:46,057] Extraction of sources completed in 0.03 minutes.\n",
      "[INFO - 2022-10-31 03:16:46,138] Retrieved 0 spectra.\n"
     ]
    },
    {
     "name": "stdout",
     "output_type": "stream",
     "text": [
      "BAD LENGTH!\n",
      "BAD len(spectra_check) 0\n",
      "len(source_list) 7\n"
     ]
    },
    {
     "name": "stderr",
     "output_type": "stream",
     "text": [
      "[INFO - 2022-10-31 03:16:46,455] Finding shots of interest\n",
      "[INFO - 2022-10-31 03:16:52,822] Number of shots of interest: 5\n",
      "[INFO - 2022-10-31 03:16:52,823] Extracting 5 sources\n",
      "[INFO - 2022-10-31 03:16:52,969] Working on shot: 20210706014\n",
      "[INFO - 2022-10-31 03:16:53,014] Working on shot: 20210709017\n",
      "[INFO - 2022-10-31 03:16:53,069] Working on shot: 20210709018\n",
      "[INFO - 2022-10-31 03:16:53,137] Working on shot: 20210713017\n",
      "[INFO - 2022-10-31 03:16:53,187] Working on shot: 20210728010\n",
      "[INFO - 2022-10-31 03:16:54,049] Extraction of sources completed in 0.02 minutes.\n",
      "[INFO - 2022-10-31 03:16:54,128] Retrieved 0 spectra.\n"
     ]
    },
    {
     "name": "stdout",
     "output_type": "stream",
     "text": [
      "BAD LENGTH!\n",
      "BAD len(spectra_check) 0\n",
      "len(source_list) 7\n"
     ]
    },
    {
     "name": "stderr",
     "output_type": "stream",
     "text": [
      "[INFO - 2022-10-31 03:16:54,400] Finding shots of interest\n",
      "[INFO - 2022-10-31 03:17:00,630] Number of shots of interest: 6\n",
      "[INFO - 2022-10-31 03:17:00,631] Extracting 6 sources\n",
      "[INFO - 2022-10-31 03:17:00,778] Working on shot: 20210518020\n",
      "[INFO - 2022-10-31 03:17:00,855] Working on shot: 20210609015\n",
      "[INFO - 2022-10-31 03:17:00,893] Working on shot: 20210616019\n",
      "[INFO - 2022-10-31 03:17:00,957] Working on shot: 20210705015\n",
      "[INFO - 2022-10-31 03:17:00,998] Working on shot: 20210709019\n",
      "[INFO - 2022-10-31 03:17:01,060] Working on shot: 20210710012\n",
      "[INFO - 2022-10-31 03:17:02,235] Extracting 1\n",
      "[INFO - 2022-10-31 03:17:02,777] Extraction of sources completed in 0.03 minutes.\n",
      "[INFO - 2022-10-31 03:17:02,871] Retrieved 1 spectra.\n"
     ]
    },
    {
     "name": "stdout",
     "output_type": "stream",
     "text": [
      "len(spectra_check) 1\n",
      "len(source_list) 8\n"
     ]
    },
    {
     "name": "stderr",
     "output_type": "stream",
     "text": [
      "[INFO - 2022-10-31 03:17:03,350] Finding shots of interest\n",
      "[INFO - 2022-10-31 03:17:09,521] Number of shots of interest: 5\n",
      "[INFO - 2022-10-31 03:17:09,522] Extracting 5 sources\n",
      "[INFO - 2022-10-31 03:17:09,681] Working on shot: 20210510026\n",
      "[INFO - 2022-10-31 03:17:09,744] Working on shot: 20210609015\n",
      "[INFO - 2022-10-31 03:17:09,784] Working on shot: 20210616019\n",
      "[INFO - 2022-10-31 03:17:09,832] Working on shot: 20210705015\n",
      "[INFO - 2022-10-31 03:17:09,883] Working on shot: 20210709019\n",
      "[INFO - 2022-10-31 03:17:11,466] Extracting 1\n",
      "[INFO - 2022-10-31 03:17:11,888] Extraction of sources completed in 0.04 minutes.\n",
      "[INFO - 2022-10-31 03:17:11,975] Retrieved 1 spectra.\n"
     ]
    },
    {
     "name": "stdout",
     "output_type": "stream",
     "text": [
      "len(spectra_check) 1\n",
      "len(source_list) 9\n"
     ]
    },
    {
     "name": "stderr",
     "output_type": "stream",
     "text": [
      "[INFO - 2022-10-31 03:17:12,250] Finding shots of interest\n",
      "[INFO - 2022-10-31 03:17:18,431] Number of shots of interest: 11\n",
      "[INFO - 2022-10-31 03:17:18,432] Extracting 11 sources\n",
      "[INFO - 2022-10-31 03:17:18,574] Working on shot: 20210514007\n",
      "[INFO - 2022-10-31 03:17:18,622] Working on shot: 20210605014\n",
      "[INFO - 2022-10-31 03:17:18,669] Working on shot: 20210608012\n",
      "[INFO - 2022-10-31 03:17:18,717] Working on shot: 20210608013\n",
      "[INFO - 2022-10-31 03:17:18,799] Working on shot: 20210609014\n",
      "[INFO - 2022-10-31 03:17:18,823] Working on shot: 20210611012\n",
      "[INFO - 2022-10-31 03:17:18,869] Working on shot: 20210612013\n",
      "[INFO - 2022-10-31 03:17:18,922] Working on shot: 20210616017\n",
      "[INFO - 2022-10-31 03:17:18,965] Working on shot: 20210706012\n",
      "[INFO - 2022-10-31 03:17:19,044] Working on shot: 20210706013\n",
      "[INFO - 2022-10-31 03:17:19,143] Working on shot: 20210708011\n",
      "[INFO - 2022-10-31 03:17:22,900] Extracting 1\n",
      "[INFO - 2022-10-31 03:17:23,376] Extraction of sources completed in 0.08 minutes.\n",
      "[INFO - 2022-10-31 03:17:23,464] Retrieved 1 spectra.\n"
     ]
    },
    {
     "name": "stdout",
     "output_type": "stream",
     "text": [
      "len(spectra_check) 1\n",
      "len(source_list) 10\n"
     ]
    },
    {
     "name": "stderr",
     "output_type": "stream",
     "text": [
      "[INFO - 2022-10-31 03:17:23,906] Finding shots of interest\n",
      "[INFO - 2022-10-31 03:17:29,980] Number of shots of interest: 5\n",
      "[INFO - 2022-10-31 03:17:29,982] Extracting 5 sources\n",
      "[INFO - 2022-10-31 03:17:30,126] Working on shot: 20200713016\n",
      "[INFO - 2022-10-31 03:17:30,174] Working on shot: 20200713017\n",
      "[INFO - 2022-10-31 03:17:30,243] Working on shot: 20200723001\n",
      "[INFO - 2022-10-31 03:17:30,315] Working on shot: 20200724014\n",
      "[INFO - 2022-10-31 03:17:30,371] Working on shot: 20200812015\n",
      "[INFO - 2022-10-31 03:17:33,561] Extraction of sources completed in 0.06 minutes.\n",
      "[INFO - 2022-10-31 03:17:33,641] Retrieved 0 spectra.\n"
     ]
    },
    {
     "name": "stdout",
     "output_type": "stream",
     "text": [
      "BAD LENGTH!\n",
      "BAD len(spectra_check) 0\n",
      "len(source_list) 10\n"
     ]
    },
    {
     "name": "stderr",
     "output_type": "stream",
     "text": [
      "[INFO - 2022-10-31 03:17:33,911] Finding shots of interest\n",
      "[INFO - 2022-10-31 03:17:40,201] Number of shots of interest: 6\n",
      "[INFO - 2022-10-31 03:17:40,202] Extracting 6 sources\n",
      "[INFO - 2022-10-31 03:17:40,367] Working on shot: 20210616017\n",
      "[INFO - 2022-10-31 03:17:40,407] Working on shot: 20210706012\n",
      "[INFO - 2022-10-31 03:17:40,467] Working on shot: 20210706013\n",
      "[INFO - 2022-10-31 03:17:40,521] Working on shot: 20210708011\n",
      "[INFO - 2022-10-31 03:17:40,567] Working on shot: 20210711014\n",
      "[INFO - 2022-10-31 03:17:40,626] Working on shot: 20210728008\n",
      "[INFO - 2022-10-31 03:17:43,905] Extraction of sources completed in 0.06 minutes.\n",
      "[INFO - 2022-10-31 03:17:44,006] Retrieved 0 spectra.\n"
     ]
    },
    {
     "name": "stdout",
     "output_type": "stream",
     "text": [
      "BAD LENGTH!\n",
      "BAD len(spectra_check) 0\n",
      "len(source_list) 10\n"
     ]
    },
    {
     "name": "stderr",
     "output_type": "stream",
     "text": [
      "[INFO - 2022-10-31 03:17:44,264] Finding shots of interest\n",
      "[INFO - 2022-10-31 03:17:50,347] Number of shots of interest: 4\n",
      "[INFO - 2022-10-31 03:17:50,348] Extracting 4 sources\n",
      "[INFO - 2022-10-31 03:17:50,522] Working on shot: 20200716013\n",
      "[INFO - 2022-10-31 03:17:50,547] Working on shot: 20200816012\n",
      "[INFO - 2022-10-31 03:17:50,582] Working on shot: 20200817011\n",
      "[INFO - 2022-10-31 03:17:50,659] Working on shot: 20210827007\n",
      "[INFO - 2022-10-31 03:17:51,670] Extracting 1\n",
      "[INFO - 2022-10-31 03:17:51,927] Extracting 1\n",
      "[INFO - 2022-10-31 03:17:52,301] Extraction of sources completed in 0.03 minutes.\n",
      "[INFO - 2022-10-31 03:17:52,401] Retrieved 2 spectra.\n"
     ]
    },
    {
     "name": "stdout",
     "output_type": "stream",
     "text": [
      "BAD LENGTH!\n",
      "BAD len(spectra_check) 2\n",
      "len(source_list) 10\n"
     ]
    },
    {
     "name": "stderr",
     "output_type": "stream",
     "text": [
      "[INFO - 2022-10-31 03:17:52,684] Finding shots of interest\n",
      "[INFO - 2022-10-31 03:17:58,753] Number of shots of interest: 6\n",
      "[INFO - 2022-10-31 03:17:58,754] Extracting 6 sources\n",
      "[INFO - 2022-10-31 03:17:58,898] Working on shot: 20200818014\n",
      "[INFO - 2022-10-31 03:17:58,951] Working on shot: 20200820011\n",
      "[INFO - 2022-10-31 03:17:59,001] Working on shot: 20210610022\n",
      "[INFO - 2022-10-31 03:17:59,054] Working on shot: 20210616021\n",
      "[INFO - 2022-10-31 03:17:59,110] Working on shot: 20210617017\n",
      "[INFO - 2022-10-31 03:17:59,160] Working on shot: 20210618020\n",
      "[INFO - 2022-10-31 03:18:00,073] Extracting 1\n",
      "[INFO - 2022-10-31 03:18:02,386] Extraction of sources completed in 0.06 minutes.\n",
      "[INFO - 2022-10-31 03:18:02,485] Retrieved 1 spectra.\n"
     ]
    },
    {
     "name": "stdout",
     "output_type": "stream",
     "text": [
      "len(spectra_check) 1\n",
      "len(source_list) 11\n"
     ]
    },
    {
     "name": "stderr",
     "output_type": "stream",
     "text": [
      "[INFO - 2022-10-31 03:18:02,946] Finding shots of interest\n",
      "[INFO - 2022-10-31 03:18:09,234] Number of shots of interest: 8\n",
      "[INFO - 2022-10-31 03:18:09,236] Extracting 8 sources\n",
      "[INFO - 2022-10-31 03:18:09,376] Working on shot: 20200716014\n",
      "[INFO - 2022-10-31 03:18:09,425] Working on shot: 20200812016\n",
      "[INFO - 2022-10-31 03:18:09,484] Working on shot: 20200813010\n",
      "[INFO - 2022-10-31 03:18:09,539] Working on shot: 20200813011\n",
      "[INFO - 2022-10-31 03:18:09,594] Working on shot: 20200813012\n",
      "[INFO - 2022-10-31 03:18:09,631] Working on shot: 20200814012\n",
      "[INFO - 2022-10-31 03:18:09,683] Working on shot: 20200814013\n",
      "[INFO - 2022-10-31 03:18:09,734] Working on shot: 20200814014\n",
      "[INFO - 2022-10-31 03:18:10,832] Extracting 1\n",
      "[INFO - 2022-10-31 03:18:12,814] Extraction of sources completed in 0.06 minutes.\n",
      "[INFO - 2022-10-31 03:18:12,903] Retrieved 1 spectra.\n"
     ]
    },
    {
     "name": "stdout",
     "output_type": "stream",
     "text": [
      "len(spectra_check) 1\n",
      "len(source_list) 12\n"
     ]
    },
    {
     "name": "stderr",
     "output_type": "stream",
     "text": [
      "[INFO - 2022-10-31 03:18:13,157] Finding shots of interest\n",
      "[INFO - 2022-10-31 03:18:19,179] Number of shots of interest: 6\n",
      "[INFO - 2022-10-31 03:18:19,181] Extracting 6 sources\n",
      "[INFO - 2022-10-31 03:18:19,328] Working on shot: 20210609015\n",
      "[INFO - 2022-10-31 03:18:19,385] Working on shot: 20210616019\n",
      "[INFO - 2022-10-31 03:18:19,428] Working on shot: 20210705015\n",
      "[INFO - 2022-10-31 03:18:19,486] Working on shot: 20210706015\n",
      "[INFO - 2022-10-31 03:18:19,566] Working on shot: 20210709019\n",
      "[INFO - 2022-10-31 03:18:19,594] Working on shot: 20210710013\n",
      "[INFO - 2022-10-31 03:18:20,469] Extracting 1\n",
      "[INFO - 2022-10-31 03:18:20,831] Extracting 1\n",
      "[INFO - 2022-10-31 03:18:21,272] Extraction of sources completed in 0.03 minutes.\n",
      "[INFO - 2022-10-31 03:18:21,366] Retrieved 2 spectra.\n"
     ]
    },
    {
     "name": "stdout",
     "output_type": "stream",
     "text": [
      "BAD LENGTH!\n",
      "BAD len(spectra_check) 2\n",
      "len(source_list) 12\n"
     ]
    },
    {
     "name": "stderr",
     "output_type": "stream",
     "text": [
      "[INFO - 2022-10-31 03:18:21,728] Finding shots of interest\n",
      "[INFO - 2022-10-31 03:18:27,784] Number of shots of interest: 6\n",
      "[INFO - 2022-10-31 03:18:27,785] Extracting 6 sources\n",
      "[INFO - 2022-10-31 03:18:27,930] Working on shot: 20210518020\n",
      "[INFO - 2022-10-31 03:18:27,974] Working on shot: 20210614017\n",
      "[INFO - 2022-10-31 03:18:28,022] Working on shot: 20210617016\n",
      "[INFO - 2022-10-31 03:18:28,104] Working on shot: 20210706014\n",
      "[INFO - 2022-10-31 03:18:28,128] Working on shot: 20210710012\n",
      "[INFO - 2022-10-31 03:18:28,198] Working on shot: 20210728010\n",
      "[INFO - 2022-10-31 03:18:29,061] Extraction of sources completed in 0.02 minutes.\n",
      "[INFO - 2022-10-31 03:18:29,142] Retrieved 0 spectra.\n"
     ]
    },
    {
     "name": "stdout",
     "output_type": "stream",
     "text": [
      "BAD LENGTH!\n",
      "BAD len(spectra_check) 0\n",
      "len(source_list) 12\n"
     ]
    },
    {
     "name": "stderr",
     "output_type": "stream",
     "text": [
      "[INFO - 2022-10-31 03:18:29,608] Finding shots of interest\n",
      "[INFO - 2022-10-31 03:18:35,930] Number of shots of interest: 4\n",
      "[INFO - 2022-10-31 03:18:35,931] Extracting 4 sources\n",
      "[INFO - 2022-10-31 03:18:36,075] Working on shot: 20200815012\n",
      "[INFO - 2022-10-31 03:18:36,137] Working on shot: 20200815013\n",
      "[INFO - 2022-10-31 03:18:36,208] Working on shot: 20200815014\n",
      "[INFO - 2022-10-31 03:18:36,288] Working on shot: 20200816011\n",
      "[INFO - 2022-10-31 03:18:37,561] Extracting 1\n",
      "[INFO - 2022-10-31 03:18:37,913] Extraction of sources completed in 0.03 minutes.\n",
      "[INFO - 2022-10-31 03:18:37,999] Retrieved 1 spectra.\n"
     ]
    },
    {
     "name": "stdout",
     "output_type": "stream",
     "text": [
      "len(spectra_check) 1\n",
      "len(source_list) 13\n"
     ]
    },
    {
     "name": "stderr",
     "output_type": "stream",
     "text": [
      "[INFO - 2022-10-31 03:18:38,277] Finding shots of interest\n",
      "[INFO - 2022-10-31 03:18:44,203] Number of shots of interest: 4\n",
      "[INFO - 2022-10-31 03:18:44,204] Extracting 4 sources\n",
      "[INFO - 2022-10-31 03:18:44,367] Working on shot: 20200818014\n",
      "[INFO - 2022-10-31 03:18:44,400] Working on shot: 20200820011\n",
      "[INFO - 2022-10-31 03:18:44,436] Working on shot: 20210617017\n",
      "[INFO - 2022-10-31 03:18:44,485] Working on shot: 20210618020\n",
      "[INFO - 2022-10-31 03:18:45,448] Extracting 1\n",
      "[INFO - 2022-10-31 03:18:46,136] Extraction of sources completed in 0.03 minutes.\n",
      "[INFO - 2022-10-31 03:18:46,243] Retrieved 1 spectra.\n"
     ]
    },
    {
     "name": "stdout",
     "output_type": "stream",
     "text": [
      "len(spectra_check) 1\n",
      "len(source_list) 14\n"
     ]
    },
    {
     "name": "stderr",
     "output_type": "stream",
     "text": [
      "[INFO - 2022-10-31 03:18:46,599] Finding shots of interest\n",
      "[INFO - 2022-10-31 03:18:52,881] Number of shots of interest: 8\n",
      "[INFO - 2022-10-31 03:18:52,882] Extracting 8 sources\n",
      "[INFO - 2022-10-31 03:18:53,087] Working on shot: 20210514007\n",
      "[INFO - 2022-10-31 03:18:53,141] Working on shot: 20210604005\n",
      "[INFO - 2022-10-31 03:18:53,198] Working on shot: 20210605014\n",
      "[INFO - 2022-10-31 03:18:53,276] Working on shot: 20210608013\n",
      "[INFO - 2022-10-31 03:18:53,348] Working on shot: 20210611013\n",
      "[INFO - 2022-10-31 03:18:53,420] Working on shot: 20210612014\n",
      "[INFO - 2022-10-31 03:18:53,487] Working on shot: 20210616018\n",
      "[INFO - 2022-10-31 03:18:53,557] Working on shot: 20210708012\n",
      "[INFO - 2022-10-31 03:18:54,546] Extracting 1\n",
      "[INFO - 2022-10-31 03:18:55,007] Extraction of sources completed in 0.03 minutes.\n",
      "[INFO - 2022-10-31 03:18:55,110] Retrieved 1 spectra.\n"
     ]
    },
    {
     "name": "stdout",
     "output_type": "stream",
     "text": [
      "len(spectra_check) 1\n",
      "len(source_list) 15\n"
     ]
    },
    {
     "name": "stderr",
     "output_type": "stream",
     "text": [
      "[INFO - 2022-10-31 03:18:55,392] Finding shots of interest\n",
      "[INFO - 2022-10-31 03:19:01,922] Number of shots of interest: 8\n",
      "[INFO - 2022-10-31 03:19:01,923] Extracting 8 sources\n",
      "[INFO - 2022-10-31 03:19:02,072] Working on shot: 20200713016\n",
      "[INFO - 2022-10-31 03:19:02,111] Working on shot: 20200713017\n",
      "[INFO - 2022-10-31 03:19:02,167] Working on shot: 20200723001\n",
      "[INFO - 2022-10-31 03:19:02,221] Working on shot: 20200724014\n",
      "[INFO - 2022-10-31 03:19:02,277] Working on shot: 20200812015\n",
      "[INFO - 2022-10-31 03:19:02,380] Working on shot: 20200818014\n",
      "[INFO - 2022-10-31 03:19:02,425] Working on shot: 20210617017\n",
      "[INFO - 2022-10-31 03:19:02,492] Working on shot: 20210618020\n",
      "[INFO - 2022-10-31 03:19:03,286] Extracting 1\n",
      "[INFO - 2022-10-31 03:19:03,835] Extraction of sources completed in 0.03 minutes.\n",
      "[INFO - 2022-10-31 03:19:03,926] Retrieved 1 spectra.\n"
     ]
    },
    {
     "name": "stdout",
     "output_type": "stream",
     "text": [
      "len(spectra_check) 1\n",
      "len(source_list) 16\n"
     ]
    },
    {
     "name": "stderr",
     "output_type": "stream",
     "text": [
      "[INFO - 2022-10-31 03:19:04,197] Finding shots of interest\n",
      "[INFO - 2022-10-31 03:19:10,401] Number of shots of interest: 4\n",
      "[INFO - 2022-10-31 03:19:10,402] Extracting 4 sources\n",
      "[INFO - 2022-10-31 03:19:10,537] Working on shot: 20210611013\n",
      "[INFO - 2022-10-31 03:19:10,587] Working on shot: 20210612014\n",
      "[INFO - 2022-10-31 03:19:10,656] Working on shot: 20210616018\n",
      "[INFO - 2022-10-31 03:19:10,691] Working on shot: 20210708012\n",
      "[INFO - 2022-10-31 03:19:12,110] Extracting 1\n",
      "[INFO - 2022-10-31 03:19:12,601] Extraction of sources completed in 0.04 minutes.\n",
      "[INFO - 2022-10-31 03:19:12,690] Retrieved 1 spectra.\n"
     ]
    },
    {
     "name": "stdout",
     "output_type": "stream",
     "text": [
      "len(spectra_check) 1\n",
      "len(source_list) 17\n"
     ]
    },
    {
     "name": "stderr",
     "output_type": "stream",
     "text": [
      "[INFO - 2022-10-31 03:19:12,978] Finding shots of interest\n",
      "[INFO - 2022-10-31 03:19:19,234] Number of shots of interest: 4\n",
      "[INFO - 2022-10-31 03:19:19,235] Extracting 4 sources\n",
      "[INFO - 2022-10-31 03:19:19,417] Working on shot: 20210510026\n",
      "[INFO - 2022-10-31 03:19:19,430] Working on shot: 20210612015\n",
      "[INFO - 2022-10-31 03:19:19,469] Working on shot: 20210616020\n",
      "[INFO - 2022-10-31 03:19:19,532] Working on shot: 20210616021\n",
      "[INFO - 2022-10-31 03:19:20,679] Extracting 1\n",
      "[INFO - 2022-10-31 03:19:21,306] Extracting 1\n",
      "[INFO - 2022-10-31 03:19:21,650] Extraction of sources completed in 0.04 minutes.\n",
      "[INFO - 2022-10-31 03:19:21,750] Retrieved 2 spectra.\n"
     ]
    },
    {
     "name": "stdout",
     "output_type": "stream",
     "text": [
      "BAD LENGTH!\n",
      "BAD len(spectra_check) 2\n",
      "len(source_list) 17\n"
     ]
    },
    {
     "name": "stderr",
     "output_type": "stream",
     "text": [
      "[INFO - 2022-10-31 03:19:22,023] Finding shots of interest\n",
      "[INFO - 2022-10-31 03:19:27,891] Number of shots of interest: 2\n",
      "[INFO - 2022-10-31 03:19:27,892] Extracting 2 sources\n",
      "[INFO - 2022-10-31 03:19:28,052] Working on shot: 20200712016\n",
      "[INFO - 2022-10-31 03:19:28,093] Working on shot: 20200712017\n",
      "[INFO - 2022-10-31 03:19:31,618] Extraction of sources completed in 0.06 minutes.\n",
      "[INFO - 2022-10-31 03:19:31,713] Retrieved 0 spectra.\n"
     ]
    },
    {
     "name": "stdout",
     "output_type": "stream",
     "text": [
      "BAD LENGTH!\n",
      "BAD len(spectra_check) 0\n",
      "len(source_list) 17\n"
     ]
    },
    {
     "name": "stderr",
     "output_type": "stream",
     "text": [
      "[INFO - 2022-10-31 03:19:31,975] Finding shots of interest\n",
      "[INFO - 2022-10-31 03:19:38,218] Number of shots of interest: 7\n",
      "[INFO - 2022-10-31 03:19:38,220] Extracting 7 sources\n",
      "[INFO - 2022-10-31 03:19:38,370] Working on shot: 20210611013\n",
      "[INFO - 2022-10-31 03:19:38,410] Working on shot: 20210612014\n",
      "[INFO - 2022-10-31 03:19:38,471] Working on shot: 20210616018\n",
      "[INFO - 2022-10-31 03:19:38,526] Working on shot: 20210708012\n",
      "[INFO - 2022-10-31 03:19:38,585] Working on shot: 20210709017\n",
      "[INFO - 2022-10-31 03:19:38,646] Working on shot: 20210709018\n",
      "[INFO - 2022-10-31 03:19:38,694] Working on shot: 20210713017\n",
      "[INFO - 2022-10-31 03:19:39,915] Extracting 1\n",
      "[INFO - 2022-10-31 03:19:39,959] Extracting 1\n",
      "[INFO - 2022-10-31 03:19:40,538] Extraction of sources completed in 0.04 minutes.\n",
      "[INFO - 2022-10-31 03:19:40,627] Retrieved 2 spectra.\n"
     ]
    },
    {
     "name": "stdout",
     "output_type": "stream",
     "text": [
      "BAD LENGTH!\n",
      "BAD len(spectra_check) 2\n",
      "len(source_list) 17\n"
     ]
    },
    {
     "name": "stderr",
     "output_type": "stream",
     "text": [
      "[INFO - 2022-10-31 03:19:40,927] Finding shots of interest\n",
      "[INFO - 2022-10-31 03:19:46,725] Number of shots of interest: 11\n",
      "[INFO - 2022-10-31 03:19:46,726] Extracting 11 sources\n",
      "[INFO - 2022-10-31 03:19:46,888] Working on shot: 20210514007\n",
      "[INFO - 2022-10-31 03:19:46,924] Working on shot: 20210517023\n",
      "[INFO - 2022-10-31 03:19:46,998] Working on shot: 20210518019\n",
      "[INFO - 2022-10-31 03:19:47,031] Working on shot: 20210519024\n",
      "[INFO - 2022-10-31 03:19:47,084] Working on shot: 20210604004\n",
      "[INFO - 2022-10-31 03:19:47,155] Working on shot: 20210604005\n",
      "[INFO - 2022-10-31 03:19:47,190] Working on shot: 20210605014\n",
      "[INFO - 2022-10-31 03:19:47,245] Working on shot: 20210608012\n",
      "[INFO - 2022-10-31 03:19:47,307] Working on shot: 20210608013\n",
      "[INFO - 2022-10-31 03:19:47,346] Working on shot: 20210609014\n",
      "[INFO - 2022-10-31 03:19:47,410] Working on shot: 20210706012\n",
      "[INFO - 2022-10-31 03:19:48,862] Extracting 1\n",
      "[INFO - 2022-10-31 03:19:50,697] Extraction of sources completed in 0.07 minutes.\n",
      "[INFO - 2022-10-31 03:19:50,792] Retrieved 1 spectra.\n"
     ]
    },
    {
     "name": "stdout",
     "output_type": "stream",
     "text": [
      "len(spectra_check) 1\n",
      "len(source_list) 18\n"
     ]
    },
    {
     "name": "stderr",
     "output_type": "stream",
     "text": [
      "[INFO - 2022-10-31 03:19:51,106] Finding shots of interest\n",
      "[INFO - 2022-10-31 03:19:57,120] Number of shots of interest: 1\n",
      "[INFO - 2022-10-31 03:19:57,122] Extracting 1 sources\n",
      "[INFO - 2022-10-31 03:19:57,344] Working on shot: 20210711014\n",
      "[INFO - 2022-10-31 03:19:58,666] Extraction of sources completed in 0.02 minutes.\n",
      "[INFO - 2022-10-31 03:19:58,745] Retrieved 0 spectra.\n"
     ]
    },
    {
     "name": "stdout",
     "output_type": "stream",
     "text": [
      "BAD LENGTH!\n",
      "BAD len(spectra_check) 0\n",
      "len(source_list) 18\n"
     ]
    },
    {
     "name": "stderr",
     "output_type": "stream",
     "text": [
      "[INFO - 2022-10-31 03:19:59,039] Finding shots of interest\n",
      "[INFO - 2022-10-31 03:20:05,019] Number of shots of interest: 11\n",
      "[INFO - 2022-10-31 03:20:05,021] Extracting 11 sources\n",
      "[INFO - 2022-10-31 03:20:05,247] Working on shot: 20200713017\n",
      "[INFO - 2022-10-31 03:20:05,248] Working on shot: 20200713016\n",
      "[INFO - 2022-10-31 03:20:05,288] Working on shot: 20200723001\n",
      "[INFO - 2022-10-31 03:20:05,351] Working on shot: 20200724014\n",
      "[INFO - 2022-10-31 03:20:05,439] Working on shot: 20200812015\n",
      "[INFO - 2022-10-31 03:20:05,481] Working on shot: 20200818014\n",
      "[INFO - 2022-10-31 03:20:05,546] Working on shot: 20200820011\n",
      "[INFO - 2022-10-31 03:20:05,601] Working on shot: 20210617017\n",
      "[INFO - 2022-10-31 03:20:05,638] Working on shot: 20210618020\n",
      "[INFO - 2022-10-31 03:20:05,720] Working on shot: 20210706015\n",
      "[INFO - 2022-10-31 03:20:05,747] Working on shot: 20210710013\n",
      "[INFO - 2022-10-31 03:20:07,980] Extracting 1\n",
      "[INFO - 2022-10-31 03:20:08,525] Extraction of sources completed in 0.06 minutes.\n",
      "[INFO - 2022-10-31 03:20:08,614] Retrieved 1 spectra.\n"
     ]
    },
    {
     "name": "stdout",
     "output_type": "stream",
     "text": [
      "len(spectra_check) 1\n",
      "len(source_list) 19\n"
     ]
    },
    {
     "name": "stderr",
     "output_type": "stream",
     "text": [
      "[INFO - 2022-10-31 03:20:08,871] Finding shots of interest\n",
      "[INFO - 2022-10-31 03:20:14,769] Number of shots of interest: 8\n",
      "[INFO - 2022-10-31 03:20:14,770] Extracting 8 sources\n",
      "[INFO - 2022-10-31 03:20:14,926] Working on shot: 20200711014\n",
      "[INFO - 2022-10-31 03:20:14,963] Working on shot: 20200711015\n",
      "[INFO - 2022-10-31 03:20:15,015] Working on shot: 20200712016\n",
      "[INFO - 2022-10-31 03:20:15,072] Working on shot: 20200712017\n",
      "[INFO - 2022-10-31 03:20:15,123] Working on shot: 20200813012\n",
      "[INFO - 2022-10-31 03:20:15,194] Working on shot: 20200814012\n",
      "[INFO - 2022-10-31 03:20:15,237] Working on shot: 20200814013\n",
      "[INFO - 2022-10-31 03:20:15,283] Working on shot: 20200814014\n",
      "[INFO - 2022-10-31 03:20:16,662] Extracting 1\n",
      "[INFO - 2022-10-31 03:20:16,787] Extracting 1\n",
      "[INFO - 2022-10-31 03:20:18,434] Extraction of sources completed in 0.06 minutes.\n",
      "[INFO - 2022-10-31 03:20:18,545] Retrieved 2 spectra.\n"
     ]
    },
    {
     "name": "stdout",
     "output_type": "stream",
     "text": [
      "BAD LENGTH!\n",
      "BAD len(spectra_check) 2\n",
      "len(source_list) 19\n"
     ]
    },
    {
     "name": "stderr",
     "output_type": "stream",
     "text": [
      "[INFO - 2022-10-31 03:20:19,010] Finding shots of interest\n",
      "[INFO - 2022-10-31 03:20:24,999] Number of shots of interest: 0\n",
      "[INFO - 2022-10-31 03:20:25,000] Extracting 0 sources\n",
      "[INFO - 2022-10-31 03:20:25,062] Extraction of sources completed in 0.00 minutes.\n",
      "[INFO - 2022-10-31 03:20:25,149] Retrieved 0 spectra.\n"
     ]
    },
    {
     "name": "stdout",
     "output_type": "stream",
     "text": [
      "BAD LENGTH!\n",
      "BAD len(spectra_check) 0\n",
      "len(source_list) 19\n"
     ]
    },
    {
     "name": "stderr",
     "output_type": "stream",
     "text": [
      "[INFO - 2022-10-31 03:20:25,493] Finding shots of interest\n",
      "[INFO - 2022-10-31 03:20:31,908] Number of shots of interest: 6\n",
      "[INFO - 2022-10-31 03:20:31,910] Extracting 6 sources\n",
      "[INFO - 2022-10-31 03:20:32,108] Working on shot: 20210518020\n",
      "[INFO - 2022-10-31 03:20:32,124] Working on shot: 20210614017\n",
      "[INFO - 2022-10-31 03:20:32,193] Working on shot: 20210617016\n",
      "[INFO - 2022-10-31 03:20:32,264] Working on shot: 20210706014\n",
      "[INFO - 2022-10-31 03:20:32,302] Working on shot: 20210710012\n",
      "[INFO - 2022-10-31 03:20:32,355] Working on shot: 20210728010\n",
      "[INFO - 2022-10-31 03:20:33,845] Extracting 1\n",
      "[INFO - 2022-10-31 03:20:34,048] Extracting 1\n",
      "[INFO - 2022-10-31 03:20:34,146] Extracting 1\n",
      "[INFO - 2022-10-31 03:20:34,468] Extraction of sources completed in 0.04 minutes.\n",
      "[INFO - 2022-10-31 03:20:34,578] Retrieved 2 spectra.\n"
     ]
    },
    {
     "name": "stdout",
     "output_type": "stream",
     "text": [
      "BAD LENGTH!\n",
      "BAD len(spectra_check) 2\n",
      "len(source_list) 19\n"
     ]
    },
    {
     "name": "stderr",
     "output_type": "stream",
     "text": [
      "[INFO - 2022-10-31 03:20:34,867] Finding shots of interest\n",
      "[INFO - 2022-10-31 03:20:40,905] Number of shots of interest: 7\n",
      "[INFO - 2022-10-31 03:20:40,907] Extracting 7 sources\n",
      "[INFO - 2022-10-31 03:20:41,098] Working on shot: 20210611013\n",
      "[INFO - 2022-10-31 03:20:41,139] Working on shot: 20210612014\n",
      "[INFO - 2022-10-31 03:20:41,194] Working on shot: 20210616018\n",
      "[INFO - 2022-10-31 03:20:41,250] Working on shot: 20210708012\n",
      "[INFO - 2022-10-31 03:20:41,313] Working on shot: 20210709017\n",
      "[INFO - 2022-10-31 03:20:41,347] Working on shot: 20210709018\n",
      "[INFO - 2022-10-31 03:20:41,413] Working on shot: 20210713017\n",
      "[INFO - 2022-10-31 03:20:42,868] Extracting 1\n",
      "[INFO - 2022-10-31 03:20:42,983] Extracting 1\n",
      "[INFO - 2022-10-31 03:20:43,518] Extraction of sources completed in 0.04 minutes.\n",
      "[INFO - 2022-10-31 03:20:43,642] Retrieved 2 spectra.\n"
     ]
    },
    {
     "name": "stdout",
     "output_type": "stream",
     "text": [
      "BAD LENGTH!\n",
      "BAD len(spectra_check) 2\n",
      "len(source_list) 19\n"
     ]
    },
    {
     "name": "stderr",
     "output_type": "stream",
     "text": [
      "[INFO - 2022-10-31 03:20:43,933] Finding shots of interest\n",
      "[INFO - 2022-10-31 03:20:49,924] Number of shots of interest: 7\n",
      "[INFO - 2022-10-31 03:20:49,925] Extracting 7 sources\n",
      "[INFO - 2022-10-31 03:20:50,068] Working on shot: 20200713016\n",
      "[INFO - 2022-10-31 03:20:50,116] Working on shot: 20200818014\n",
      "[INFO - 2022-10-31 03:20:50,166] Working on shot: 20200820011\n",
      "[INFO - 2022-10-31 03:20:50,221] Working on shot: 20210617017\n",
      "[INFO - 2022-10-31 03:20:50,281] Working on shot: 20210618020\n",
      "[INFO - 2022-10-31 03:20:50,345] Working on shot: 20210706015\n",
      "[INFO - 2022-10-31 03:20:50,374] Working on shot: 20210710013\n",
      "[INFO - 2022-10-31 03:20:51,484] Extracting 1\n",
      "[INFO - 2022-10-31 03:20:51,603] Extracting 1\n",
      "[INFO - 2022-10-31 03:20:51,962] Extraction of sources completed in 0.03 minutes.\n",
      "[INFO - 2022-10-31 03:20:52,056] Retrieved 2 spectra.\n"
     ]
    },
    {
     "name": "stdout",
     "output_type": "stream",
     "text": [
      "BAD LENGTH!\n",
      "BAD len(spectra_check) 2\n",
      "len(source_list) 19\n"
     ]
    },
    {
     "name": "stderr",
     "output_type": "stream",
     "text": [
      "[INFO - 2022-10-31 03:20:52,309] Finding shots of interest\n",
      "[INFO - 2022-10-31 03:20:58,363] Number of shots of interest: 4\n",
      "[INFO - 2022-10-31 03:20:58,365] Extracting 4 sources\n",
      "[INFO - 2022-10-31 03:20:58,507] Working on shot: 20210608012\n",
      "[INFO - 2022-10-31 03:20:58,572] Working on shot: 20210609014\n",
      "[INFO - 2022-10-31 03:20:58,602] Working on shot: 20210611012\n",
      "[INFO - 2022-10-31 03:20:58,662] Working on shot: 20210612013\n",
      "[INFO - 2022-10-31 03:20:59,944] Extracting 1\n",
      "[INFO - 2022-10-31 03:21:00,527] Extraction of sources completed in 0.04 minutes.\n",
      "[INFO - 2022-10-31 03:21:00,636] Retrieved 1 spectra.\n"
     ]
    },
    {
     "name": "stdout",
     "output_type": "stream",
     "text": [
      "len(spectra_check) 1\n",
      "len(source_list) 20\n"
     ]
    },
    {
     "name": "stderr",
     "output_type": "stream",
     "text": [
      "[INFO - 2022-10-31 03:21:00,917] Finding shots of interest\n",
      "[INFO - 2022-10-31 03:21:06,924] Number of shots of interest: 4\n",
      "[INFO - 2022-10-31 03:21:06,925] Extracting 4 sources\n",
      "[INFO - 2022-10-31 03:21:07,058] Working on shot: 20200522023\n",
      "[INFO - 2022-10-31 03:21:07,110] Working on shot: 20200522024\n",
      "[INFO - 2022-10-31 03:21:07,169] Working on shot: 20200522025\n",
      "[INFO - 2022-10-31 03:21:07,216] Working on shot: 20200522026\n",
      "[INFO - 2022-10-31 03:21:08,107] Extraction of sources completed in 0.02 minutes.\n",
      "[INFO - 2022-10-31 03:21:08,202] Retrieved 0 spectra.\n"
     ]
    },
    {
     "name": "stdout",
     "output_type": "stream",
     "text": [
      "BAD LENGTH!\n",
      "BAD len(spectra_check) 0\n",
      "len(source_list) 20\n"
     ]
    },
    {
     "name": "stderr",
     "output_type": "stream",
     "text": [
      "[INFO - 2022-10-31 03:21:08,488] Finding shots of interest\n",
      "[INFO - 2022-10-31 03:21:14,320] Number of shots of interest: 4\n",
      "[INFO - 2022-10-31 03:21:14,322] Extracting 4 sources\n",
      "[INFO - 2022-10-31 03:21:14,467] Working on shot: 20200522023\n",
      "[INFO - 2022-10-31 03:21:14,515] Working on shot: 20200522024\n",
      "[INFO - 2022-10-31 03:21:14,586] Working on shot: 20200522025\n",
      "[INFO - 2022-10-31 03:21:14,627] Working on shot: 20200522026\n",
      "[INFO - 2022-10-31 03:21:15,874] Extracting 1\n",
      "[INFO - 2022-10-31 03:21:16,406] Extraction of sources completed in 0.03 minutes.\n",
      "[INFO - 2022-10-31 03:21:16,499] Retrieved 1 spectra.\n"
     ]
    },
    {
     "name": "stdout",
     "output_type": "stream",
     "text": [
      "len(spectra_check) 1\n",
      "len(source_list) 21\n"
     ]
    },
    {
     "name": "stderr",
     "output_type": "stream",
     "text": [
      "[INFO - 2022-10-31 03:21:16,760] Finding shots of interest\n",
      "[INFO - 2022-10-31 03:21:23,028] Number of shots of interest: 8\n",
      "[INFO - 2022-10-31 03:21:23,029] Extracting 8 sources\n",
      "[INFO - 2022-10-31 03:21:23,172] Working on shot: 20200818014\n",
      "[INFO - 2022-10-31 03:21:23,219] Working on shot: 20200820011\n",
      "[INFO - 2022-10-31 03:21:23,295] Working on shot: 20210510026\n",
      "[INFO - 2022-10-31 03:21:23,333] Working on shot: 20210612015\n",
      "[INFO - 2022-10-31 03:21:23,381] Working on shot: 20210616020\n",
      "[INFO - 2022-10-31 03:21:23,437] Working on shot: 20210616021\n",
      "[INFO - 2022-10-31 03:21:23,493] Working on shot: 20210617017\n",
      "[INFO - 2022-10-31 03:21:23,534] Working on shot: 20210618020\n",
      "[INFO - 2022-10-31 03:21:24,602] Extracting 1\n",
      "[INFO - 2022-10-31 03:21:25,150] Extraction of sources completed in 0.03 minutes.\n",
      "[INFO - 2022-10-31 03:21:25,239] Retrieved 1 spectra.\n"
     ]
    },
    {
     "name": "stdout",
     "output_type": "stream",
     "text": [
      "len(spectra_check) 1\n",
      "len(source_list) 22\n"
     ]
    },
    {
     "name": "stderr",
     "output_type": "stream",
     "text": [
      "[INFO - 2022-10-31 03:21:25,522] Finding shots of interest\n",
      "[INFO - 2022-10-31 03:21:31,532] Number of shots of interest: 10\n",
      "[INFO - 2022-10-31 03:21:31,534] Extracting 10 sources\n",
      "[INFO - 2022-10-31 03:21:31,687] Working on shot: 20200818014\n",
      "[INFO - 2022-10-31 03:21:31,715] Working on shot: 20200820011\n",
      "[INFO - 2022-10-31 03:21:31,791] Working on shot: 20210510026\n",
      "[INFO - 2022-10-31 03:21:31,829] Working on shot: 20210612015\n",
      "[INFO - 2022-10-31 03:21:31,881] Working on shot: 20210616020\n",
      "[INFO - 2022-10-31 03:21:31,937] Working on shot: 20210616021\n",
      "[INFO - 2022-10-31 03:21:31,989] Working on shot: 20210617017\n",
      "[INFO - 2022-10-31 03:21:32,047] Working on shot: 20210618020\n",
      "[INFO - 2022-10-31 03:21:32,092] Working on shot: 20210706015\n",
      "[INFO - 2022-10-31 03:21:32,151] Working on shot: 20210710013\n",
      "[INFO - 2022-10-31 03:21:32,720] Extracting 1\n",
      "[INFO - 2022-10-31 03:21:32,751] Extracting 1\n",
      "[INFO - 2022-10-31 03:21:32,780] Extracting 1\n",
      "[INFO - 2022-10-31 03:21:33,006] Extracting 1\n",
      "[INFO - 2022-10-31 03:21:33,464] Extraction of sources completed in 0.03 minutes.\n",
      "[INFO - 2022-10-31 03:21:33,557] Retrieved 3 spectra.\n"
     ]
    },
    {
     "name": "stdout",
     "output_type": "stream",
     "text": [
      "BAD LENGTH!\n",
      "BAD len(spectra_check) 3\n",
      "len(source_list) 22\n"
     ]
    },
    {
     "name": "stderr",
     "output_type": "stream",
     "text": [
      "[INFO - 2022-10-31 03:21:34,039] Finding shots of interest\n",
      "[INFO - 2022-10-31 03:21:40,135] Number of shots of interest: 4\n",
      "[INFO - 2022-10-31 03:21:40,136] Extracting 4 sources\n",
      "[INFO - 2022-10-31 03:21:40,279] Working on shot: 20210518020\n",
      "[INFO - 2022-10-31 03:21:40,323] Working on shot: 20210614017\n",
      "[INFO - 2022-10-31 03:21:40,374] Working on shot: 20210617016\n",
      "[INFO - 2022-10-31 03:21:40,426] Working on shot: 20210710012\n",
      "[INFO - 2022-10-31 03:21:41,610] Extracting 1\n",
      "[INFO - 2022-10-31 03:21:42,063] Extraction of sources completed in 0.03 minutes.\n",
      "[INFO - 2022-10-31 03:21:42,154] Retrieved 1 spectra.\n"
     ]
    },
    {
     "name": "stdout",
     "output_type": "stream",
     "text": [
      "len(spectra_check) 1\n",
      "len(source_list) 23\n"
     ]
    },
    {
     "name": "stderr",
     "output_type": "stream",
     "text": [
      "[INFO - 2022-10-31 03:21:42,442] Finding shots of interest\n",
      "[INFO - 2022-10-31 03:21:48,301] Number of shots of interest: 3\n",
      "[INFO - 2022-10-31 03:21:48,303] Extracting 3 sources\n",
      "[INFO - 2022-10-31 03:21:48,475] Working on shot: 20210709017\n",
      "[INFO - 2022-10-31 03:21:48,494] Working on shot: 20210709018\n",
      "[INFO - 2022-10-31 03:21:48,541] Working on shot: 20210713017\n",
      "[INFO - 2022-10-31 03:21:49,355] Extraction of sources completed in 0.02 minutes.\n",
      "[INFO - 2022-10-31 03:21:49,435] Retrieved 0 spectra.\n"
     ]
    },
    {
     "name": "stdout",
     "output_type": "stream",
     "text": [
      "BAD LENGTH!\n",
      "BAD len(spectra_check) 0\n",
      "len(source_list) 23\n"
     ]
    },
    {
     "name": "stderr",
     "output_type": "stream",
     "text": [
      "[INFO - 2022-10-31 03:21:49,695] Finding shots of interest\n",
      "[INFO - 2022-10-31 03:21:55,907] Number of shots of interest: 11\n",
      "[INFO - 2022-10-31 03:21:55,909] Extracting 11 sources\n",
      "[INFO - 2022-10-31 03:21:56,045] Working on shot: 20200713016\n",
      "[INFO - 2022-10-31 03:21:56,122] Working on shot: 20200713017\n",
      "[INFO - 2022-10-31 03:21:56,157] Working on shot: 20200723001\n",
      "[INFO - 2022-10-31 03:21:56,202] Working on shot: 20200724014\n",
      "[INFO - 2022-10-31 03:21:56,250] Working on shot: 20200812015\n",
      "[INFO - 2022-10-31 03:21:56,299] Working on shot: 20200818014\n",
      "[INFO - 2022-10-31 03:21:56,353] Working on shot: 20200820011\n",
      "[INFO - 2022-10-31 03:21:56,404] Working on shot: 20210617017\n",
      "[INFO - 2022-10-31 03:21:56,488] Working on shot: 20210618020\n",
      "[INFO - 2022-10-31 03:21:56,516] Working on shot: 20210706015\n",
      "[INFO - 2022-10-31 03:21:56,575] Working on shot: 20210710013\n",
      "[INFO - 2022-10-31 03:21:57,584] Extracting 1\n",
      "[INFO - 2022-10-31 03:21:57,968] Extraction of sources completed in 0.03 minutes.\n",
      "[INFO - 2022-10-31 03:21:58,066] Retrieved 1 spectra.\n"
     ]
    },
    {
     "name": "stdout",
     "output_type": "stream",
     "text": [
      "len(spectra_check) 1\n",
      "len(source_list) 24\n"
     ]
    },
    {
     "name": "stderr",
     "output_type": "stream",
     "text": [
      "[INFO - 2022-10-31 03:21:58,350] Finding shots of interest\n",
      "[INFO - 2022-10-31 03:22:04,372] Number of shots of interest: 5\n",
      "[INFO - 2022-10-31 03:22:04,373] Extracting 5 sources\n",
      "[INFO - 2022-10-31 03:22:04,537] Working on shot: 20200716014\n",
      "[INFO - 2022-10-31 03:22:04,575] Working on shot: 20200812016\n",
      "[INFO - 2022-10-31 03:22:04,638] Working on shot: 20200813010\n",
      "[INFO - 2022-10-31 03:22:04,687] Working on shot: 20200813011\n",
      "[INFO - 2022-10-31 03:22:04,728] Working on shot: 20210706015\n",
      "[INFO - 2022-10-31 03:22:06,001] Extracting 1\n",
      "[INFO - 2022-10-31 03:22:06,505] Extraction of sources completed in 0.03 minutes.\n",
      "[INFO - 2022-10-31 03:22:06,599] Retrieved 1 spectra.\n"
     ]
    },
    {
     "name": "stdout",
     "output_type": "stream",
     "text": [
      "len(spectra_check) 1\n",
      "len(source_list) 25\n"
     ]
    },
    {
     "name": "stderr",
     "output_type": "stream",
     "text": [
      "[INFO - 2022-10-31 03:22:06,854] Finding shots of interest\n",
      "[INFO - 2022-10-31 03:22:12,965] Number of shots of interest: 4\n",
      "[INFO - 2022-10-31 03:22:12,967] Extracting 4 sources\n",
      "[INFO - 2022-10-31 03:22:13,110] Working on shot: 20210616017\n",
      "[INFO - 2022-10-31 03:22:13,160] Working on shot: 20210706012\n",
      "[INFO - 2022-10-31 03:22:13,217] Working on shot: 20210706013\n",
      "[INFO - 2022-10-31 03:22:13,265] Working on shot: 20210708011\n",
      "[INFO - 2022-10-31 03:22:14,229] Extracting 1\n",
      "[INFO - 2022-10-31 03:22:14,250] Extracting 1\n",
      "[INFO - 2022-10-31 03:22:14,636] Extraction of sources completed in 0.03 minutes.\n",
      "[INFO - 2022-10-31 03:22:14,738] Retrieved 1 spectra.\n"
     ]
    },
    {
     "name": "stdout",
     "output_type": "stream",
     "text": [
      "len(spectra_check) 1\n",
      "len(source_list) 26\n"
     ]
    },
    {
     "name": "stderr",
     "output_type": "stream",
     "text": [
      "[INFO - 2022-10-31 03:22:15,023] Finding shots of interest\n",
      "[INFO - 2022-10-31 03:22:21,124] Number of shots of interest: 9\n",
      "[INFO - 2022-10-31 03:22:21,125] Extracting 9 sources\n",
      "[INFO - 2022-10-31 03:22:21,276] Working on shot: 20200522023\n",
      "[INFO - 2022-10-31 03:22:21,318] Working on shot: 20200522024\n",
      "[INFO - 2022-10-31 03:22:21,371] Working on shot: 20200522025\n",
      "[INFO - 2022-10-31 03:22:21,444] Working on shot: 20200522026\n",
      "[INFO - 2022-10-31 03:22:21,479] Working on shot: 20200711014\n",
      "[INFO - 2022-10-31 03:22:21,532] Working on shot: 20200711015\n",
      "[INFO - 2022-10-31 03:22:21,581] Working on shot: 20200712016\n",
      "[INFO - 2022-10-31 03:22:21,633] Working on shot: 20200712017\n",
      "[INFO - 2022-10-31 03:22:21,696] Working on shot: 20200814013\n",
      "[INFO - 2022-10-31 03:22:22,443] Extracting 1\n",
      "[INFO - 2022-10-31 03:22:22,570] Extracting 1\n",
      "[INFO - 2022-10-31 03:22:22,707] Extracting 1\n",
      "[INFO - 2022-10-31 03:22:23,066] Extraction of sources completed in 0.03 minutes.\n",
      "[INFO - 2022-10-31 03:22:23,160] Retrieved 1 spectra.\n"
     ]
    },
    {
     "name": "stdout",
     "output_type": "stream",
     "text": [
      "len(spectra_check) 1\n",
      "len(source_list) 27\n"
     ]
    },
    {
     "name": "stderr",
     "output_type": "stream",
     "text": [
      "[INFO - 2022-10-31 03:22:23,407] Finding shots of interest\n",
      "[INFO - 2022-10-31 03:22:29,497] Number of shots of interest: 8\n",
      "[INFO - 2022-10-31 03:22:29,499] Extracting 8 sources\n",
      "[INFO - 2022-10-31 03:22:29,645] Working on shot: 20210518020\n",
      "[INFO - 2022-10-31 03:22:29,697] Working on shot: 20210609015\n",
      "[INFO - 2022-10-31 03:22:29,757] Working on shot: 20210614017\n",
      "[INFO - 2022-10-31 03:22:29,805] Working on shot: 20210616019\n",
      "[INFO - 2022-10-31 03:22:29,864] Working on shot: 20210617016\n",
      "[INFO - 2022-10-31 03:22:29,913] Working on shot: 20210705015\n",
      "[INFO - 2022-10-31 03:22:29,972] Working on shot: 20210709019\n",
      "[INFO - 2022-10-31 03:22:30,024] Working on shot: 20210710012\n",
      "[INFO - 2022-10-31 03:22:31,046] Extracting 1\n",
      "[INFO - 2022-10-31 03:22:31,316] Extracting 1\n",
      "[INFO - 2022-10-31 03:22:31,661] Extraction of sources completed in 0.03 minutes.\n",
      "[INFO - 2022-10-31 03:22:31,750] Retrieved 1 spectra.\n"
     ]
    },
    {
     "name": "stdout",
     "output_type": "stream",
     "text": [
      "len(spectra_check) 1\n",
      "len(source_list) 28\n"
     ]
    },
    {
     "name": "stderr",
     "output_type": "stream",
     "text": [
      "[INFO - 2022-10-31 03:22:32,000] Finding shots of interest\n",
      "[INFO - 2022-10-31 03:22:38,307] Number of shots of interest: 4\n",
      "[INFO - 2022-10-31 03:22:38,308] Extracting 4 sources\n",
      "[INFO - 2022-10-31 03:22:38,463] Working on shot: 20210518020\n",
      "[INFO - 2022-10-31 03:22:38,493] Working on shot: 20210614017\n",
      "[INFO - 2022-10-31 03:22:38,544] Working on shot: 20210617016\n",
      "[INFO - 2022-10-31 03:22:38,610] Working on shot: 20210710012\n",
      "[INFO - 2022-10-31 03:22:39,801] Extracting 1\n",
      "[INFO - 2022-10-31 03:22:40,215] Extraction of sources completed in 0.03 minutes.\n",
      "[INFO - 2022-10-31 03:22:40,310] Retrieved 1 spectra.\n"
     ]
    },
    {
     "name": "stdout",
     "output_type": "stream",
     "text": [
      "len(spectra_check) 1\n",
      "len(source_list) 29\n"
     ]
    },
    {
     "name": "stderr",
     "output_type": "stream",
     "text": [
      "[INFO - 2022-10-31 03:22:40,578] Finding shots of interest\n",
      "[INFO - 2022-10-31 03:22:46,603] Number of shots of interest: 8\n",
      "[INFO - 2022-10-31 03:22:46,605] Extracting 8 sources\n",
      "[INFO - 2022-10-31 03:22:46,771] Working on shot: 20200716013\n",
      "[INFO - 2022-10-31 03:22:46,794] Working on shot: 20200816012\n",
      "[INFO - 2022-10-31 03:22:46,857] Working on shot: 20200817011\n",
      "[INFO - 2022-10-31 03:22:46,904] Working on shot: 20210711014\n",
      "[INFO - 2022-10-31 03:22:46,961] Working on shot: 20210713016\n",
      "[INFO - 2022-10-31 03:22:47,006] Working on shot: 20210728008\n",
      "[INFO - 2022-10-31 03:22:47,072] Working on shot: 20210728009\n",
      "[INFO - 2022-10-31 03:22:47,120] Working on shot: 20210827007\n",
      "[INFO - 2022-10-31 03:22:48,329] Extracting 1\n",
      "[INFO - 2022-10-31 03:22:48,767] Extraction of sources completed in 0.04 minutes.\n",
      "[INFO - 2022-10-31 03:22:48,858] Retrieved 1 spectra.\n"
     ]
    },
    {
     "name": "stdout",
     "output_type": "stream",
     "text": [
      "len(spectra_check) 1\n",
      "len(source_list) 30\n"
     ]
    },
    {
     "name": "stderr",
     "output_type": "stream",
     "text": [
      "[INFO - 2022-10-31 03:22:49,143] Finding shots of interest\n",
      "[INFO - 2022-10-31 03:22:55,311] Number of shots of interest: 5\n",
      "[INFO - 2022-10-31 03:22:55,312] Extracting 5 sources\n",
      "[INFO - 2022-10-31 03:22:55,507] Working on shot: 20200716014\n",
      "[INFO - 2022-10-31 03:22:55,525] Working on shot: 20200812016\n",
      "[INFO - 2022-10-31 03:22:55,579] Working on shot: 20200813010\n",
      "[INFO - 2022-10-31 03:22:55,631] Working on shot: 20210706015\n",
      "[INFO - 2022-10-31 03:22:55,683] Working on shot: 20210710013\n",
      "[INFO - 2022-10-31 03:22:57,066] Extraction of sources completed in 0.03 minutes.\n",
      "[INFO - 2022-10-31 03:22:57,148] Retrieved 0 spectra.\n"
     ]
    },
    {
     "name": "stdout",
     "output_type": "stream",
     "text": [
      "BAD LENGTH!\n",
      "BAD len(spectra_check) 0\n",
      "len(source_list) 30\n"
     ]
    },
    {
     "name": "stderr",
     "output_type": "stream",
     "text": [
      "[INFO - 2022-10-31 03:22:57,441] Finding shots of interest\n",
      "[INFO - 2022-10-31 03:23:03,407] Number of shots of interest: 0\n",
      "[INFO - 2022-10-31 03:23:03,409] Extracting 0 sources\n",
      "[INFO - 2022-10-31 03:23:03,469] Extraction of sources completed in 0.00 minutes.\n",
      "[INFO - 2022-10-31 03:23:03,548] Retrieved 0 spectra.\n"
     ]
    },
    {
     "name": "stdout",
     "output_type": "stream",
     "text": [
      "BAD LENGTH!\n",
      "BAD len(spectra_check) 0\n",
      "len(source_list) 30\n"
     ]
    },
    {
     "name": "stderr",
     "output_type": "stream",
     "text": [
      "[INFO - 2022-10-31 03:23:03,815] Finding shots of interest\n",
      "[INFO - 2022-10-31 03:23:09,984] Number of shots of interest: 3\n",
      "[INFO - 2022-10-31 03:23:09,985] Extracting 3 sources\n",
      "[INFO - 2022-10-31 03:23:10,135] Working on shot: 20210709017\n",
      "[INFO - 2022-10-31 03:23:10,185] Working on shot: 20210709018\n",
      "[INFO - 2022-10-31 03:23:10,253] Working on shot: 20210713017\n",
      "[INFO - 2022-10-31 03:23:11,041] Extraction of sources completed in 0.02 minutes.\n",
      "[INFO - 2022-10-31 03:23:11,120] Retrieved 0 spectra.\n"
     ]
    },
    {
     "name": "stdout",
     "output_type": "stream",
     "text": [
      "BAD LENGTH!\n",
      "BAD len(spectra_check) 0\n",
      "len(source_list) 30\n"
     ]
    },
    {
     "name": "stderr",
     "output_type": "stream",
     "text": [
      "[INFO - 2022-10-31 03:23:11,381] Finding shots of interest\n",
      "[INFO - 2022-10-31 03:23:17,215] Number of shots of interest: 5\n",
      "[INFO - 2022-10-31 03:23:17,216] Extracting 5 sources\n",
      "[INFO - 2022-10-31 03:23:17,388] Working on shot: 20210706014\n",
      "[INFO - 2022-10-31 03:23:17,424] Working on shot: 20210709017\n",
      "[INFO - 2022-10-31 03:23:17,470] Working on shot: 20210709018\n",
      "[INFO - 2022-10-31 03:23:17,529] Working on shot: 20210713017\n",
      "[INFO - 2022-10-31 03:23:17,581] Working on shot: 20210728010\n",
      "[INFO - 2022-10-31 03:23:18,506] Extracting 1\n",
      "[INFO - 2022-10-31 03:23:18,895] Extraction of sources completed in 0.03 minutes.\n",
      "[INFO - 2022-10-31 03:23:18,984] Retrieved 1 spectra.\n"
     ]
    },
    {
     "name": "stdout",
     "output_type": "stream",
     "text": [
      "len(spectra_check) 1\n",
      "len(source_list) 31\n"
     ]
    },
    {
     "name": "stderr",
     "output_type": "stream",
     "text": [
      "[INFO - 2022-10-31 03:23:19,270] Finding shots of interest\n",
      "[INFO - 2022-10-31 03:23:25,412] Number of shots of interest: 5\n",
      "[INFO - 2022-10-31 03:23:25,413] Extracting 5 sources\n",
      "[INFO - 2022-10-31 03:23:25,573] Working on shot: 20210706014\n",
      "[INFO - 2022-10-31 03:23:25,603] Working on shot: 20210709017\n",
      "[INFO - 2022-10-31 03:23:25,660] Working on shot: 20210709018\n",
      "[INFO - 2022-10-31 03:23:25,740] Working on shot: 20210713017\n",
      "[INFO - 2022-10-31 03:23:25,791] Working on shot: 20210728010\n",
      "[INFO - 2022-10-31 03:23:27,360] Extracting 1\n",
      "[INFO - 2022-10-31 03:23:27,751] Extraction of sources completed in 0.04 minutes.\n",
      "[INFO - 2022-10-31 03:23:27,842] Retrieved 1 spectra.\n"
     ]
    },
    {
     "name": "stdout",
     "output_type": "stream",
     "text": [
      "len(spectra_check) 1\n",
      "len(source_list) 32\n"
     ]
    },
    {
     "name": "stderr",
     "output_type": "stream",
     "text": [
      "[INFO - 2022-10-31 03:23:28,103] Finding shots of interest\n",
      "[INFO - 2022-10-31 03:23:34,014] Number of shots of interest: 5\n",
      "[INFO - 2022-10-31 03:23:34,015] Extracting 5 sources\n",
      "[INFO - 2022-10-31 03:23:34,164] Working on shot: 20210706014\n",
      "[INFO - 2022-10-31 03:23:34,205] Working on shot: 20210709017\n",
      "[INFO - 2022-10-31 03:23:34,256] Working on shot: 20210709018\n",
      "[INFO - 2022-10-31 03:23:34,308] Working on shot: 20210713017\n",
      "[INFO - 2022-10-31 03:23:34,358] Working on shot: 20210728010\n",
      "[INFO - 2022-10-31 03:23:35,725] Extracting 1\n",
      "[INFO - 2022-10-31 03:23:36,216] Extraction of sources completed in 0.04 minutes.\n",
      "[INFO - 2022-10-31 03:23:36,346] Retrieved 1 spectra.\n"
     ]
    },
    {
     "name": "stdout",
     "output_type": "stream",
     "text": [
      "len(spectra_check) 1\n",
      "len(source_list) 33\n"
     ]
    },
    {
     "name": "stderr",
     "output_type": "stream",
     "text": [
      "[INFO - 2022-10-31 03:23:36,612] Finding shots of interest\n",
      "[INFO - 2022-10-31 03:23:42,655] Number of shots of interest: 7\n",
      "[INFO - 2022-10-31 03:23:42,656] Extracting 7 sources\n",
      "[INFO - 2022-10-31 03:23:42,811] Working on shot: 20200713016\n",
      "[INFO - 2022-10-31 03:23:42,838] Working on shot: 20200713017\n",
      "[INFO - 2022-10-31 03:23:42,890] Working on shot: 20200723001\n",
      "[INFO - 2022-10-31 03:23:42,953] Working on shot: 20200724014\n",
      "[INFO - 2022-10-31 03:23:42,999] Working on shot: 20200812015\n",
      "[INFO - 2022-10-31 03:23:43,054] Working on shot: 20210617017\n",
      "[INFO - 2022-10-31 03:23:43,105] Working on shot: 20210618020\n",
      "[INFO - 2022-10-31 03:23:43,958] Extracting 1\n",
      "[INFO - 2022-10-31 03:23:44,003] Extracting 1\n",
      "[INFO - 2022-10-31 03:23:44,074] Extracting 1\n",
      "[INFO - 2022-10-31 03:23:44,471] Extraction of sources completed in 0.03 minutes.\n",
      "[INFO - 2022-10-31 03:23:44,577] Retrieved 1 spectra.\n"
     ]
    },
    {
     "name": "stdout",
     "output_type": "stream",
     "text": [
      "len(spectra_check) 1\n",
      "len(source_list) 34\n"
     ]
    },
    {
     "name": "stderr",
     "output_type": "stream",
     "text": [
      "[INFO - 2022-10-31 03:23:44,869] Finding shots of interest\n",
      "[INFO - 2022-10-31 03:23:51,051] Number of shots of interest: 4\n",
      "[INFO - 2022-10-31 03:23:51,052] Extracting 4 sources\n",
      "[INFO - 2022-10-31 03:23:51,203] Working on shot: 20210706014\n",
      "[INFO - 2022-10-31 03:23:51,254] Working on shot: 20210709017\n",
      "[INFO - 2022-10-31 03:23:51,316] Working on shot: 20210709018\n",
      "[INFO - 2022-10-31 03:23:51,344] Working on shot: 20210713017\n",
      "[INFO - 2022-10-31 03:23:52,580] Extracting 1\n",
      "[INFO - 2022-10-31 03:23:52,975] Extraction of sources completed in 0.03 minutes.\n",
      "[INFO - 2022-10-31 03:23:53,099] Retrieved 1 spectra.\n"
     ]
    },
    {
     "name": "stdout",
     "output_type": "stream",
     "text": [
      "len(spectra_check) 1\n",
      "len(source_list) 35\n"
     ]
    },
    {
     "name": "stderr",
     "output_type": "stream",
     "text": [
      "[INFO - 2022-10-31 03:23:53,384] Finding shots of interest\n",
      "[INFO - 2022-10-31 03:23:59,514] Number of shots of interest: 4\n",
      "[INFO - 2022-10-31 03:23:59,516] Extracting 4 sources\n",
      "[INFO - 2022-10-31 03:23:59,658] Working on shot: 20200712015\n",
      "[INFO - 2022-10-31 03:23:59,716] Working on shot: 20200712018\n",
      "[INFO - 2022-10-31 03:23:59,812] Working on shot: 20200713014\n",
      "[INFO - 2022-10-31 03:23:59,844] Working on shot: 20200713015\n",
      "[INFO - 2022-10-31 03:24:03,082] Extraction of sources completed in 0.06 minutes.\n",
      "[INFO - 2022-10-31 03:24:03,161] Retrieved 0 spectra.\n"
     ]
    },
    {
     "name": "stdout",
     "output_type": "stream",
     "text": [
      "BAD LENGTH!\n",
      "BAD len(spectra_check) 0\n",
      "len(source_list) 35\n"
     ]
    },
    {
     "name": "stderr",
     "output_type": "stream",
     "text": [
      "[INFO - 2022-10-31 03:24:03,429] Finding shots of interest\n",
      "[INFO - 2022-10-31 03:24:09,436] Number of shots of interest: 7\n",
      "[INFO - 2022-10-31 03:24:09,437] Extracting 7 sources\n",
      "[INFO - 2022-10-31 03:24:09,570] Working on shot: 20210611013\n",
      "[INFO - 2022-10-31 03:24:09,644] Working on shot: 20210612014\n",
      "[INFO - 2022-10-31 03:24:09,675] Working on shot: 20210616018\n",
      "[INFO - 2022-10-31 03:24:09,734] Working on shot: 20210708012\n",
      "[INFO - 2022-10-31 03:24:09,790] Working on shot: 20210709018\n",
      "[INFO - 2022-10-31 03:24:09,901] Working on shot: 20210713016\n",
      "[INFO - 2022-10-31 03:24:09,922] Working on shot: 20210728009\n",
      "[INFO - 2022-10-31 03:24:10,719] Extracting 1\n",
      "[INFO - 2022-10-31 03:24:11,035] Extracting 1\n",
      "[INFO - 2022-10-31 03:24:11,376] Extraction of sources completed in 0.03 minutes.\n",
      "[INFO - 2022-10-31 03:24:11,478] Retrieved 2 spectra.\n"
     ]
    },
    {
     "name": "stdout",
     "output_type": "stream",
     "text": [
      "BAD LENGTH!\n",
      "BAD len(spectra_check) 2\n",
      "len(source_list) 35\n"
     ]
    },
    {
     "name": "stderr",
     "output_type": "stream",
     "text": [
      "[INFO - 2022-10-31 03:24:11,958] Finding shots of interest\n",
      "[INFO - 2022-10-31 03:24:18,134] Number of shots of interest: 0\n",
      "[INFO - 2022-10-31 03:24:18,135] Extracting 0 sources\n",
      "[INFO - 2022-10-31 03:24:18,194] Extraction of sources completed in 0.00 minutes.\n",
      "[INFO - 2022-10-31 03:24:18,273] Retrieved 0 spectra.\n"
     ]
    },
    {
     "name": "stdout",
     "output_type": "stream",
     "text": [
      "BAD LENGTH!\n",
      "BAD len(spectra_check) 0\n",
      "len(source_list) 35\n"
     ]
    },
    {
     "name": "stderr",
     "output_type": "stream",
     "text": [
      "[INFO - 2022-10-31 03:24:18,528] Finding shots of interest\n",
      "[INFO - 2022-10-31 03:24:24,478] Number of shots of interest: 5\n",
      "[INFO - 2022-10-31 03:24:24,479] Extracting 5 sources\n",
      "[INFO - 2022-10-31 03:24:24,616] Working on shot: 20210518020\n",
      "[INFO - 2022-10-31 03:24:24,665] Working on shot: 20210609015\n",
      "[INFO - 2022-10-31 03:24:24,719] Working on shot: 20210614017\n",
      "[INFO - 2022-10-31 03:24:24,795] Working on shot: 20210617016\n",
      "[INFO - 2022-10-31 03:24:24,860] Working on shot: 20210710012\n",
      "[INFO - 2022-10-31 03:24:25,652] Extracting 1\n",
      "[INFO - 2022-10-31 03:24:26,152] Extraction of sources completed in 0.03 minutes.\n",
      "[INFO - 2022-10-31 03:24:26,240] Retrieved 1 spectra.\n"
     ]
    },
    {
     "name": "stdout",
     "output_type": "stream",
     "text": [
      "len(spectra_check) 1\n",
      "len(source_list) 36\n"
     ]
    },
    {
     "name": "stderr",
     "output_type": "stream",
     "text": [
      "[INFO - 2022-10-31 03:24:26,509] Finding shots of interest\n",
      "[INFO - 2022-10-31 03:24:32,402] Number of shots of interest: 4\n",
      "[INFO - 2022-10-31 03:24:32,403] Extracting 4 sources\n",
      "[INFO - 2022-10-31 03:24:32,549] Working on shot: 20200813012\n",
      "[INFO - 2022-10-31 03:24:32,586] Working on shot: 20200814012\n",
      "[INFO - 2022-10-31 03:24:32,646] Working on shot: 20200814013\n",
      "[INFO - 2022-10-31 03:24:32,697] Working on shot: 20200814014\n",
      "[INFO - 2022-10-31 03:24:33,793] Extraction of sources completed in 0.02 minutes.\n",
      "[INFO - 2022-10-31 03:24:33,874] Retrieved 0 spectra.\n"
     ]
    },
    {
     "name": "stdout",
     "output_type": "stream",
     "text": [
      "BAD LENGTH!\n",
      "BAD len(spectra_check) 0\n",
      "len(source_list) 36\n"
     ]
    },
    {
     "name": "stderr",
     "output_type": "stream",
     "text": [
      "[INFO - 2022-10-31 03:24:34,138] Finding shots of interest\n",
      "[INFO - 2022-10-31 03:24:40,407] Number of shots of interest: 8\n",
      "[INFO - 2022-10-31 03:24:40,408] Extracting 8 sources\n",
      "[INFO - 2022-10-31 03:24:40,544] Working on shot: 20210514007\n",
      "[INFO - 2022-10-31 03:24:40,592] Working on shot: 20210604005\n",
      "[INFO - 2022-10-31 03:24:40,640] Working on shot: 20210605014\n",
      "[INFO - 2022-10-31 03:24:40,695] Working on shot: 20210608013\n",
      "[INFO - 2022-10-31 03:24:40,763] Working on shot: 20210611013\n",
      "[INFO - 2022-10-31 03:24:40,801] Working on shot: 20210612014\n",
      "[INFO - 2022-10-31 03:24:40,860] Working on shot: 20210616018\n",
      "[INFO - 2022-10-31 03:24:40,904] Working on shot: 20210708012\n",
      "[INFO - 2022-10-31 03:24:42,267] Extracting 1\n",
      "[INFO - 2022-10-31 03:24:42,717] Extraction of sources completed in 0.04 minutes.\n",
      "[INFO - 2022-10-31 03:24:42,806] Retrieved 1 spectra.\n"
     ]
    },
    {
     "name": "stdout",
     "output_type": "stream",
     "text": [
      "len(spectra_check) 1\n",
      "len(source_list) 37\n"
     ]
    },
    {
     "name": "stderr",
     "output_type": "stream",
     "text": [
      "[INFO - 2022-10-31 03:24:43,075] Finding shots of interest\n",
      "[INFO - 2022-10-31 03:24:48,987] Number of shots of interest: 8\n",
      "[INFO - 2022-10-31 03:24:48,988] Extracting 8 sources\n",
      "[INFO - 2022-10-31 03:24:49,150] Working on shot: 20200716013\n",
      "[INFO - 2022-10-31 03:24:49,210] Working on shot: 20200815012\n",
      "[INFO - 2022-10-31 03:24:49,239] Working on shot: 20200815013\n",
      "[INFO - 2022-10-31 03:24:49,290] Working on shot: 20200815014\n",
      "[INFO - 2022-10-31 03:24:49,331] Working on shot: 20200816011\n",
      "[INFO - 2022-10-31 03:24:49,392] Working on shot: 20200816012\n",
      "[INFO - 2022-10-31 03:24:49,475] Working on shot: 20200817011\n",
      "[INFO - 2022-10-31 03:24:49,529] Working on shot: 20210827007\n",
      "[INFO - 2022-10-31 03:24:50,473] Extracting 1\n",
      "[INFO - 2022-10-31 03:24:50,528] Extracting 1\n",
      "[INFO - 2022-10-31 03:24:50,751] Extracting 1\n",
      "[INFO - 2022-10-31 03:24:51,117] Extraction of sources completed in 0.03 minutes.\n",
      "[INFO - 2022-10-31 03:24:51,212] Retrieved 3 spectra.\n"
     ]
    },
    {
     "name": "stdout",
     "output_type": "stream",
     "text": [
      "BAD LENGTH!\n",
      "BAD len(spectra_check) 3\n",
      "len(source_list) 37\n"
     ]
    },
    {
     "name": "stderr",
     "output_type": "stream",
     "text": [
      "[INFO - 2022-10-31 03:24:51,485] Finding shots of interest\n",
      "[INFO - 2022-10-31 03:24:58,058] Number of shots of interest: 6\n",
      "[INFO - 2022-10-31 03:24:58,059] Extracting 6 sources\n",
      "[INFO - 2022-10-31 03:24:58,225] Working on shot: 20200716014\n",
      "[INFO - 2022-10-31 03:24:58,297] Working on shot: 20200812016\n",
      "[INFO - 2022-10-31 03:24:58,350] Working on shot: 20200813010\n",
      "[INFO - 2022-10-31 03:24:58,422] Working on shot: 20200813011\n",
      "[INFO - 2022-10-31 03:24:58,497] Working on shot: 20210706015\n",
      "[INFO - 2022-10-31 03:24:58,562] Working on shot: 20210710013\n",
      "[INFO - 2022-10-31 03:24:59,546] Extracting 1\n",
      "[INFO - 2022-10-31 03:24:59,955] Extraction of sources completed in 0.03 minutes.\n",
      "[INFO - 2022-10-31 03:25:00,046] Retrieved 1 spectra.\n"
     ]
    },
    {
     "name": "stdout",
     "output_type": "stream",
     "text": [
      "len(spectra_check) 1\n",
      "len(source_list) 38\n"
     ]
    },
    {
     "name": "stderr",
     "output_type": "stream",
     "text": [
      "[INFO - 2022-10-31 03:25:00,369] Finding shots of interest\n",
      "[INFO - 2022-10-31 03:25:06,479] Number of shots of interest: 6\n",
      "[INFO - 2022-10-31 03:25:06,481] Extracting 6 sources\n",
      "[INFO - 2022-10-31 03:25:06,630] Working on shot: 20210611013\n",
      "[INFO - 2022-10-31 03:25:06,681] Working on shot: 20210612014\n",
      "[INFO - 2022-10-31 03:25:06,721] Working on shot: 20210616018\n",
      "[INFO - 2022-10-31 03:25:06,815] Working on shot: 20210708012\n",
      "[INFO - 2022-10-31 03:25:06,832] Working on shot: 20210713016\n",
      "[INFO - 2022-10-31 03:25:06,894] Working on shot: 20210728009\n",
      "[INFO - 2022-10-31 03:25:08,089] Extracting 1\n",
      "[INFO - 2022-10-31 03:25:08,532] Extraction of sources completed in 0.03 minutes.\n",
      "[INFO - 2022-10-31 03:25:08,634] Retrieved 1 spectra.\n"
     ]
    },
    {
     "name": "stdout",
     "output_type": "stream",
     "text": [
      "len(spectra_check) 1\n",
      "len(source_list) 39\n"
     ]
    },
    {
     "name": "stderr",
     "output_type": "stream",
     "text": [
      "[INFO - 2022-10-31 03:25:08,918] Finding shots of interest\n",
      "[INFO - 2022-10-31 03:25:14,843] Number of shots of interest: 4\n",
      "[INFO - 2022-10-31 03:25:14,845] Extracting 4 sources\n",
      "[INFO - 2022-10-31 03:25:14,979] Working on shot: 20210609015\n",
      "[INFO - 2022-10-31 03:25:15,036] Working on shot: 20210616019\n",
      "[INFO - 2022-10-31 03:25:15,079] Working on shot: 20210705015\n",
      "[INFO - 2022-10-31 03:25:15,134] Working on shot: 20210709019\n",
      "[INFO - 2022-10-31 03:25:15,880] Extraction of sources completed in 0.02 minutes.\n",
      "[INFO - 2022-10-31 03:25:15,971] Retrieved 0 spectra.\n"
     ]
    },
    {
     "name": "stdout",
     "output_type": "stream",
     "text": [
      "BAD LENGTH!\n",
      "BAD len(spectra_check) 0\n",
      "len(source_list) 39\n"
     ]
    },
    {
     "name": "stderr",
     "output_type": "stream",
     "text": [
      "[INFO - 2022-10-31 03:25:16,239] Finding shots of interest\n",
      "[INFO - 2022-10-31 03:25:22,223] Number of shots of interest: 11\n",
      "[INFO - 2022-10-31 03:25:22,225] Extracting 11 sources\n",
      "[INFO - 2022-10-31 03:25:22,360] Working on shot: 20200713016\n",
      "[INFO - 2022-10-31 03:25:22,406] Working on shot: 20200713017\n",
      "[INFO - 2022-10-31 03:25:22,458] Working on shot: 20200723001\n",
      "[INFO - 2022-10-31 03:25:22,516] Working on shot: 20200724014\n",
      "[INFO - 2022-10-31 03:25:22,559] Working on shot: 20200812015\n",
      "[INFO - 2022-10-31 03:25:22,611] Working on shot: 20200818014\n",
      "[INFO - 2022-10-31 03:25:22,663] Working on shot: 20200820011\n",
      "[INFO - 2022-10-31 03:25:22,712] Working on shot: 20210617017\n",
      "[INFO - 2022-10-31 03:25:22,769] Working on shot: 20210618020\n",
      "[INFO - 2022-10-31 03:25:22,819] Working on shot: 20210706015\n",
      "[INFO - 2022-10-31 03:25:22,879] Working on shot: 20210710013\n",
      "[INFO - 2022-10-31 03:25:23,747] Extracting 1\n",
      "[INFO - 2022-10-31 03:25:24,204] Extraction of sources completed in 0.03 minutes.\n",
      "[INFO - 2022-10-31 03:25:24,310] Retrieved 1 spectra.\n"
     ]
    },
    {
     "name": "stdout",
     "output_type": "stream",
     "text": [
      "len(spectra_check) 1\n",
      "len(source_list) 40\n"
     ]
    },
    {
     "name": "stderr",
     "output_type": "stream",
     "text": [
      "[INFO - 2022-10-31 03:25:24,566] Finding shots of interest\n",
      "[INFO - 2022-10-31 03:25:30,504] Number of shots of interest: 8\n",
      "[INFO - 2022-10-31 03:25:30,506] Extracting 8 sources\n",
      "[INFO - 2022-10-31 03:25:30,642] Working on shot: 20210514007\n",
      "[INFO - 2022-10-31 03:25:30,696] Working on shot: 20210604005\n",
      "[INFO - 2022-10-31 03:25:30,743] Working on shot: 20210605014\n",
      "[INFO - 2022-10-31 03:25:30,797] Working on shot: 20210608013\n",
      "[INFO - 2022-10-31 03:25:30,857] Working on shot: 20210616017\n",
      "[INFO - 2022-10-31 03:25:30,902] Working on shot: 20210706012\n",
      "[INFO - 2022-10-31 03:25:30,958] Working on shot: 20210706013\n",
      "[INFO - 2022-10-31 03:25:31,018] Working on shot: 20210708011\n",
      "[INFO - 2022-10-31 03:25:31,773] Extracting 1\n",
      "[INFO - 2022-10-31 03:25:31,928] Extracting 1\n",
      "[INFO - 2022-10-31 03:25:32,559] Extraction of sources completed in 0.03 minutes.\n",
      "[INFO - 2022-10-31 03:25:32,650] Retrieved 2 spectra.\n"
     ]
    },
    {
     "name": "stdout",
     "output_type": "stream",
     "text": [
      "BAD LENGTH!\n",
      "BAD len(spectra_check) 2\n",
      "len(source_list) 40\n"
     ]
    },
    {
     "name": "stderr",
     "output_type": "stream",
     "text": [
      "[INFO - 2022-10-31 03:25:33,083] Finding shots of interest\n",
      "[INFO - 2022-10-31 03:25:39,239] Number of shots of interest: 10\n",
      "[INFO - 2022-10-31 03:25:39,240] Extracting 10 sources\n",
      "[INFO - 2022-10-31 03:25:39,413] Working on shot: 20200713016\n",
      "[INFO - 2022-10-31 03:25:39,448] Working on shot: 20200713017\n",
      "[INFO - 2022-10-31 03:25:39,483] Working on shot: 20200716014\n",
      "[INFO - 2022-10-31 03:25:39,541] Working on shot: 20200723001\n",
      "[INFO - 2022-10-31 03:25:39,619] Working on shot: 20200724014\n",
      "[INFO - 2022-10-31 03:25:39,670] Working on shot: 20200812015\n",
      "[INFO - 2022-10-31 03:25:39,740] Working on shot: 20200812016\n",
      "[INFO - 2022-10-31 03:25:39,768] Working on shot: 20200813010\n",
      "[INFO - 2022-10-31 03:25:39,814] Working on shot: 20210706015\n",
      "[INFO - 2022-10-31 03:25:39,862] Working on shot: 20210710013\n",
      "[INFO - 2022-10-31 03:25:41,291] Extracting 1\n",
      "[INFO - 2022-10-31 03:25:41,696] Extraction of sources completed in 0.04 minutes.\n",
      "[INFO - 2022-10-31 03:25:41,782] Retrieved 1 spectra.\n"
     ]
    },
    {
     "name": "stdout",
     "output_type": "stream",
     "text": [
      "len(spectra_check) 1\n",
      "len(source_list) 41\n"
     ]
    },
    {
     "name": "stderr",
     "output_type": "stream",
     "text": [
      "[INFO - 2022-10-31 03:25:42,066] Finding shots of interest\n",
      "[INFO - 2022-10-31 03:25:48,860] Number of shots of interest: 4\n",
      "[INFO - 2022-10-31 03:25:48,861] Extracting 4 sources\n",
      "[INFO - 2022-10-31 03:25:49,032] Working on shot: 20210608012\n",
      "[INFO - 2022-10-31 03:25:49,096] Working on shot: 20210609014\n",
      "[INFO - 2022-10-31 03:25:49,173] Working on shot: 20210611012\n",
      "[INFO - 2022-10-31 03:25:49,238] Working on shot: 20210612013\n",
      "[INFO - 2022-10-31 03:25:50,167] Extracting 1\n",
      "[INFO - 2022-10-31 03:25:50,529] Extraction of sources completed in 0.03 minutes.\n",
      "[INFO - 2022-10-31 03:25:50,614] Retrieved 1 spectra.\n"
     ]
    },
    {
     "name": "stdout",
     "output_type": "stream",
     "text": [
      "len(spectra_check) 1\n",
      "len(source_list) 42\n"
     ]
    },
    {
     "name": "stderr",
     "output_type": "stream",
     "text": [
      "[INFO - 2022-10-31 03:25:50,898] Finding shots of interest\n",
      "[INFO - 2022-10-31 03:25:57,200] Number of shots of interest: 2\n",
      "[INFO - 2022-10-31 03:25:57,202] Extracting 2 sources\n",
      "[INFO - 2022-10-31 03:25:57,369] Working on shot: 20210706014\n",
      "[INFO - 2022-10-31 03:25:57,438] Working on shot: 20210728010\n",
      "[INFO - 2022-10-31 03:25:58,217] Extraction of sources completed in 0.02 minutes.\n",
      "[INFO - 2022-10-31 03:25:58,311] Retrieved 0 spectra.\n"
     ]
    },
    {
     "name": "stdout",
     "output_type": "stream",
     "text": [
      "BAD LENGTH!\n",
      "BAD len(spectra_check) 0\n",
      "len(source_list) 42\n"
     ]
    },
    {
     "name": "stderr",
     "output_type": "stream",
     "text": [
      "[INFO - 2022-10-31 03:25:58,594] Finding shots of interest\n",
      "[INFO - 2022-10-31 03:26:04,616] Number of shots of interest: 4\n",
      "[INFO - 2022-10-31 03:26:04,618] Extracting 4 sources\n",
      "[INFO - 2022-10-31 03:26:04,758] Working on shot: 20210518020\n",
      "[INFO - 2022-10-31 03:26:04,845] Working on shot: 20210614017\n",
      "[INFO - 2022-10-31 03:26:04,865] Working on shot: 20210617016\n",
      "[INFO - 2022-10-31 03:26:04,930] Working on shot: 20210710012\n",
      "[INFO - 2022-10-31 03:26:05,793] Extraction of sources completed in 0.02 minutes.\n",
      "[INFO - 2022-10-31 03:26:05,884] Retrieved 0 spectra.\n"
     ]
    },
    {
     "name": "stdout",
     "output_type": "stream",
     "text": [
      "BAD LENGTH!\n",
      "BAD len(spectra_check) 0\n",
      "len(source_list) 42\n"
     ]
    },
    {
     "name": "stderr",
     "output_type": "stream",
     "text": [
      "[INFO - 2022-10-31 03:26:06,344] Finding shots of interest\n",
      "[INFO - 2022-10-31 03:26:12,428] Number of shots of interest: 6\n",
      "[INFO - 2022-10-31 03:26:12,430] Extracting 6 sources\n",
      "[INFO - 2022-10-31 03:26:12,568] Working on shot: 20210604005\n",
      "[INFO - 2022-10-31 03:26:12,610] Working on shot: 20210608013\n",
      "[INFO - 2022-10-31 03:26:12,664] Working on shot: 20210611013\n",
      "[INFO - 2022-10-31 03:26:12,730] Working on shot: 20210612014\n",
      "[INFO - 2022-10-31 03:26:12,799] Working on shot: 20210616018\n",
      "[INFO - 2022-10-31 03:26:12,833] Working on shot: 20210708012\n",
      "[INFO - 2022-10-31 03:26:13,930] Extracting 1\n",
      "[INFO - 2022-10-31 03:26:14,383] Extraction of sources completed in 0.03 minutes.\n",
      "[INFO - 2022-10-31 03:26:14,487] Retrieved 1 spectra.\n"
     ]
    },
    {
     "name": "stdout",
     "output_type": "stream",
     "text": [
      "len(spectra_check) 1\n",
      "len(source_list) 43\n"
     ]
    },
    {
     "name": "stderr",
     "output_type": "stream",
     "text": [
      "[INFO - 2022-10-31 03:26:14,750] Finding shots of interest\n",
      "[INFO - 2022-10-31 03:26:20,938] Number of shots of interest: 9\n",
      "[INFO - 2022-10-31 03:26:20,939] Extracting 9 sources\n",
      "[INFO - 2022-10-31 03:26:21,110] Working on shot: 20200711014\n",
      "[INFO - 2022-10-31 03:26:21,158] Working on shot: 20200711015\n",
      "[INFO - 2022-10-31 03:26:21,197] Working on shot: 20200712015\n",
      "[INFO - 2022-10-31 03:26:21,249] Working on shot: 20200712016\n",
      "[INFO - 2022-10-31 03:26:21,288] Working on shot: 20200712017\n",
      "[INFO - 2022-10-31 03:26:21,332] Working on shot: 20200712018\n",
      "[INFO - 2022-10-31 03:26:21,396] Working on shot: 20200713014\n",
      "[INFO - 2022-10-31 03:26:21,439] Working on shot: 20200713015\n",
      "[INFO - 2022-10-31 03:26:21,512] Working on shot: 20200815014\n",
      "[INFO - 2022-10-31 03:26:22,922] Extracting 1\n",
      "[INFO - 2022-10-31 03:26:23,377] Extraction of sources completed in 0.04 minutes.\n",
      "[INFO - 2022-10-31 03:26:23,467] Retrieved 1 spectra.\n"
     ]
    },
    {
     "name": "stdout",
     "output_type": "stream",
     "text": [
      "len(spectra_check) 1\n",
      "len(source_list) 44\n"
     ]
    },
    {
     "name": "stderr",
     "output_type": "stream",
     "text": [
      "[INFO - 2022-10-31 03:26:23,724] Finding shots of interest\n",
      "[INFO - 2022-10-31 03:26:29,909] Number of shots of interest: 4\n",
      "[INFO - 2022-10-31 03:26:29,911] Extracting 4 sources\n",
      "[INFO - 2022-10-31 03:26:30,066] Working on shot: 20210611013\n",
      "[INFO - 2022-10-31 03:26:30,113] Working on shot: 20210612014\n",
      "[INFO - 2022-10-31 03:26:30,155] Working on shot: 20210616018\n",
      "[INFO - 2022-10-31 03:26:30,210] Working on shot: 20210708012\n",
      "[INFO - 2022-10-31 03:26:31,311] Extracting 1\n",
      "[INFO - 2022-10-31 03:26:31,786] Extraction of sources completed in 0.03 minutes.\n",
      "[INFO - 2022-10-31 03:26:31,875] Retrieved 1 spectra.\n"
     ]
    },
    {
     "name": "stdout",
     "output_type": "stream",
     "text": [
      "len(spectra_check) 1\n",
      "len(source_list) 45\n"
     ]
    },
    {
     "name": "stderr",
     "output_type": "stream",
     "text": [
      "[INFO - 2022-10-31 03:26:32,533] Finding shots of interest\n",
      "[INFO - 2022-10-31 03:26:38,649] Number of shots of interest: 4\n",
      "[INFO - 2022-10-31 03:26:38,651] Extracting 4 sources\n",
      "[INFO - 2022-10-31 03:26:38,793] Working on shot: 20210608012\n",
      "[INFO - 2022-10-31 03:26:38,845] Working on shot: 20210609014\n",
      "[INFO - 2022-10-31 03:26:38,889] Working on shot: 20210611012\n",
      "[INFO - 2022-10-31 03:26:38,956] Working on shot: 20210612013\n",
      "[INFO - 2022-10-31 03:26:39,755] Extraction of sources completed in 0.02 minutes.\n",
      "[INFO - 2022-10-31 03:26:39,835] Retrieved 0 spectra.\n"
     ]
    },
    {
     "name": "stdout",
     "output_type": "stream",
     "text": [
      "BAD LENGTH!\n",
      "BAD len(spectra_check) 0\n",
      "len(source_list) 45\n"
     ]
    },
    {
     "name": "stderr",
     "output_type": "stream",
     "text": [
      "[INFO - 2022-10-31 03:26:40,098] Finding shots of interest\n",
      "[INFO - 2022-10-31 03:26:46,146] Number of shots of interest: 6\n",
      "[INFO - 2022-10-31 03:26:46,148] Extracting 6 sources\n",
      "[INFO - 2022-10-31 03:26:46,313] Working on shot: 20210609015\n",
      "[INFO - 2022-10-31 03:26:46,356] Working on shot: 20210616019\n",
      "[INFO - 2022-10-31 03:26:46,397] Working on shot: 20210705015\n",
      "[INFO - 2022-10-31 03:26:46,490] Working on shot: 20210706015\n",
      "[INFO - 2022-10-31 03:26:46,537] Working on shot: 20210709019\n",
      "[INFO - 2022-10-31 03:26:46,596] Working on shot: 20210710013\n",
      "[INFO - 2022-10-31 03:26:48,197] Extracting 1\n",
      "[INFO - 2022-10-31 03:26:48,768] Extraction of sources completed in 0.04 minutes.\n",
      "[INFO - 2022-10-31 03:26:48,875] Retrieved 1 spectra.\n"
     ]
    },
    {
     "name": "stdout",
     "output_type": "stream",
     "text": [
      "len(spectra_check) 1\n",
      "len(source_list) 46\n"
     ]
    },
    {
     "name": "stderr",
     "output_type": "stream",
     "text": [
      "[INFO - 2022-10-31 03:26:49,157] Finding shots of interest\n",
      "[INFO - 2022-10-31 03:26:55,224] Number of shots of interest: 8\n",
      "[INFO - 2022-10-31 03:26:55,225] Extracting 8 sources\n",
      "[INFO - 2022-10-31 03:26:55,369] Working on shot: 20200522023\n",
      "[INFO - 2022-10-31 03:26:55,427] Working on shot: 20200522024\n",
      "[INFO - 2022-10-31 03:26:55,469] Working on shot: 20200522025\n",
      "[INFO - 2022-10-31 03:26:55,521] Working on shot: 20200522026\n",
      "[INFO - 2022-10-31 03:26:55,568] Working on shot: 20200716014\n",
      "[INFO - 2022-10-31 03:26:55,630] Working on shot: 20200812016\n",
      "[INFO - 2022-10-31 03:26:55,714] Working on shot: 20200813010\n",
      "[INFO - 2022-10-31 03:26:55,771] Working on shot: 20200813011\n",
      "[INFO - 2022-10-31 03:26:56,486] Extracting 1\n",
      "[INFO - 2022-10-31 03:26:56,839] Extraction of sources completed in 0.03 minutes.\n",
      "[INFO - 2022-10-31 03:26:56,941] Retrieved 1 spectra.\n"
     ]
    },
    {
     "name": "stdout",
     "output_type": "stream",
     "text": [
      "len(spectra_check) 1\n",
      "len(source_list) 47\n"
     ]
    },
    {
     "name": "stderr",
     "output_type": "stream",
     "text": [
      "[INFO - 2022-10-31 03:26:57,217] Finding shots of interest\n",
      "[INFO - 2022-10-31 03:27:03,149] Number of shots of interest: 4\n",
      "[INFO - 2022-10-31 03:27:03,150] Extracting 4 sources\n",
      "[INFO - 2022-10-31 03:27:03,302] Working on shot: 20200813012\n",
      "[INFO - 2022-10-31 03:27:03,363] Working on shot: 20200814012\n",
      "[INFO - 2022-10-31 03:27:03,401] Working on shot: 20200814013\n",
      "[INFO - 2022-10-31 03:27:03,458] Working on shot: 20200814014\n",
      "[INFO - 2022-10-31 03:27:04,481] Extracting 1\n",
      "[INFO - 2022-10-31 03:27:04,844] Extraction of sources completed in 0.03 minutes.\n",
      "[INFO - 2022-10-31 03:27:04,949] Retrieved 1 spectra.\n"
     ]
    },
    {
     "name": "stdout",
     "output_type": "stream",
     "text": [
      "len(spectra_check) 1\n",
      "len(source_list) 48\n"
     ]
    },
    {
     "name": "stderr",
     "output_type": "stream",
     "text": [
      "[INFO - 2022-10-31 03:27:05,224] Finding shots of interest\n",
      "[INFO - 2022-10-31 03:27:11,778] Number of shots of interest: 2\n",
      "[INFO - 2022-10-31 03:27:11,780] Extracting 2 sources\n",
      "[INFO - 2022-10-31 03:27:11,953] Working on shot: 20200522023\n",
      "[INFO - 2022-10-31 03:27:12,014] Working on shot: 20200812015\n",
      "[INFO - 2022-10-31 03:27:13,057] Extraction of sources completed in 0.02 minutes.\n",
      "[INFO - 2022-10-31 03:27:13,140] Retrieved 0 spectra.\n"
     ]
    },
    {
     "name": "stdout",
     "output_type": "stream",
     "text": [
      "BAD LENGTH!\n",
      "BAD len(spectra_check) 0\n",
      "len(source_list) 48\n"
     ]
    },
    {
     "name": "stderr",
     "output_type": "stream",
     "text": [
      "[INFO - 2022-10-31 03:27:13,600] Finding shots of interest\n",
      "[INFO - 2022-10-31 03:27:19,668] Number of shots of interest: 6\n",
      "[INFO - 2022-10-31 03:27:19,669] Extracting 6 sources\n",
      "[INFO - 2022-10-31 03:27:19,853] Working on shot: 20210609015\n",
      "[INFO - 2022-10-31 03:27:19,910] Working on shot: 20210616019\n",
      "[INFO - 2022-10-31 03:27:20,004] Working on shot: 20210705015\n",
      "[INFO - 2022-10-31 03:27:20,062] Working on shot: 20210706015\n",
      "[INFO - 2022-10-31 03:27:20,151] Working on shot: 20210709019\n",
      "[INFO - 2022-10-31 03:27:20,213] Working on shot: 20210710013\n",
      "[INFO - 2022-10-31 03:27:21,158] Extracting 1\n",
      "[INFO - 2022-10-31 03:27:21,722] Extraction of sources completed in 0.03 minutes.\n",
      "[INFO - 2022-10-31 03:27:21,813] Retrieved 1 spectra.\n"
     ]
    },
    {
     "name": "stdout",
     "output_type": "stream",
     "text": [
      "len(spectra_check) 1\n",
      "len(source_list) 49\n"
     ]
    },
    {
     "name": "stderr",
     "output_type": "stream",
     "text": [
      "[INFO - 2022-10-31 03:27:22,082] Finding shots of interest\n",
      "[INFO - 2022-10-31 03:27:28,299] Number of shots of interest: 2\n",
      "[INFO - 2022-10-31 03:27:28,300] Extracting 2 sources\n",
      "[INFO - 2022-10-31 03:27:28,454] Working on shot: 20210706014\n",
      "[INFO - 2022-10-31 03:27:28,497] Working on shot: 20210728010\n",
      "[INFO - 2022-10-31 03:27:29,740] Extracting 1\n",
      "[INFO - 2022-10-31 03:27:30,113] Extraction of sources completed in 0.03 minutes.\n",
      "[INFO - 2022-10-31 03:27:30,202] Retrieved 1 spectra.\n"
     ]
    },
    {
     "name": "stdout",
     "output_type": "stream",
     "text": [
      "len(spectra_check) 1\n",
      "len(source_list) 50\n"
     ]
    },
    {
     "name": "stderr",
     "output_type": "stream",
     "text": [
      "[INFO - 2022-10-31 03:27:30,465] Finding shots of interest\n",
      "[INFO - 2022-10-31 03:27:36,744] Number of shots of interest: 0\n",
      "[INFO - 2022-10-31 03:27:36,745] Extracting 0 sources\n",
      "[INFO - 2022-10-31 03:27:36,814] Extraction of sources completed in 0.00 minutes.\n",
      "[INFO - 2022-10-31 03:27:36,894] Retrieved 0 spectra.\n"
     ]
    },
    {
     "name": "stdout",
     "output_type": "stream",
     "text": [
      "BAD LENGTH!\n",
      "BAD len(spectra_check) 0\n",
      "len(source_list) 50\n"
     ]
    },
    {
     "name": "stderr",
     "output_type": "stream",
     "text": [
      "[INFO - 2022-10-31 03:27:37,188] Finding shots of interest\n",
      "[INFO - 2022-10-31 03:27:43,483] Number of shots of interest: 3\n",
      "[INFO - 2022-10-31 03:27:43,484] Extracting 3 sources\n",
      "[INFO - 2022-10-31 03:27:43,700] Working on shot: 20210709017\n",
      "[INFO - 2022-10-31 03:27:43,740] Working on shot: 20210709018\n",
      "[INFO - 2022-10-31 03:27:43,798] Working on shot: 20210713017\n",
      "[INFO - 2022-10-31 03:27:45,198] Extracting 1\n",
      "[INFO - 2022-10-31 03:27:45,741] Extraction of sources completed in 0.04 minutes.\n",
      "[INFO - 2022-10-31 03:27:45,833] Retrieved 1 spectra.\n"
     ]
    },
    {
     "name": "stdout",
     "output_type": "stream",
     "text": [
      "len(spectra_check) 1\n",
      "len(source_list) 51\n"
     ]
    },
    {
     "name": "stderr",
     "output_type": "stream",
     "text": [
      "[INFO - 2022-10-31 03:27:46,091] Finding shots of interest\n",
      "[INFO - 2022-10-31 03:27:52,432] Number of shots of interest: 4\n",
      "[INFO - 2022-10-31 03:27:52,434] Extracting 4 sources\n",
      "[INFO - 2022-10-31 03:27:52,585] Working on shot: 20200522023\n",
      "[INFO - 2022-10-31 03:27:52,641] Working on shot: 20200522024\n",
      "[INFO - 2022-10-31 03:27:52,679] Working on shot: 20200522025\n",
      "[INFO - 2022-10-31 03:27:52,744] Working on shot: 20200522026\n",
      "[INFO - 2022-10-31 03:27:53,838] Extracting 1\n",
      "[INFO - 2022-10-31 03:27:54,284] Extraction of sources completed in 0.03 minutes.\n",
      "[INFO - 2022-10-31 03:27:54,375] Retrieved 1 spectra.\n"
     ]
    },
    {
     "name": "stdout",
     "output_type": "stream",
     "text": [
      "len(spectra_check) 1\n",
      "len(source_list) 52\n"
     ]
    },
    {
     "name": "stderr",
     "output_type": "stream",
     "text": [
      "[INFO - 2022-10-31 03:27:54,630] Finding shots of interest\n",
      "[INFO - 2022-10-31 03:28:00,982] Number of shots of interest: 3\n",
      "[INFO - 2022-10-31 03:28:00,983] Extracting 3 sources\n",
      "[INFO - 2022-10-31 03:28:01,135] Working on shot: 20210709017\n",
      "[INFO - 2022-10-31 03:28:01,183] Working on shot: 20210709018\n",
      "[INFO - 2022-10-31 03:28:01,230] Working on shot: 20210713017\n",
      "[INFO - 2022-10-31 03:28:02,033] Extraction of sources completed in 0.02 minutes.\n",
      "[INFO - 2022-10-31 03:28:02,128] Retrieved 0 spectra.\n"
     ]
    },
    {
     "name": "stdout",
     "output_type": "stream",
     "text": [
      "BAD LENGTH!\n",
      "BAD len(spectra_check) 0\n",
      "len(source_list) 52\n"
     ]
    },
    {
     "name": "stderr",
     "output_type": "stream",
     "text": [
      "[INFO - 2022-10-31 03:28:02,390] Finding shots of interest\n",
      "[INFO - 2022-10-31 03:28:08,733] Number of shots of interest: 4\n",
      "[INFO - 2022-10-31 03:28:08,734] Extracting 4 sources\n",
      "[INFO - 2022-10-31 03:28:08,890] Working on shot: 20210609015\n",
      "[INFO - 2022-10-31 03:28:08,921] Working on shot: 20210616019\n",
      "[INFO - 2022-10-31 03:28:08,982] Working on shot: 20210705015\n",
      "[INFO - 2022-10-31 03:28:09,031] Working on shot: 20210709019\n",
      "[INFO - 2022-10-31 03:28:10,065] Extracting 1\n",
      "[INFO - 2022-10-31 03:28:10,471] Extraction of sources completed in 0.03 minutes.\n",
      "[INFO - 2022-10-31 03:28:10,560] Retrieved 1 spectra.\n"
     ]
    },
    {
     "name": "stdout",
     "output_type": "stream",
     "text": [
      "len(spectra_check) 1\n",
      "len(source_list) 53\n"
     ]
    },
    {
     "name": "stderr",
     "output_type": "stream",
     "text": [
      "[INFO - 2022-10-31 03:28:10,816] Finding shots of interest\n",
      "[INFO - 2022-10-31 03:28:16,976] Number of shots of interest: 4\n",
      "[INFO - 2022-10-31 03:28:16,978] Extracting 4 sources\n",
      "[INFO - 2022-10-31 03:28:17,117] Working on shot: 20200712015\n",
      "[INFO - 2022-10-31 03:28:17,177] Working on shot: 20200712018\n",
      "[INFO - 2022-10-31 03:28:17,224] Working on shot: 20200713014\n",
      "[INFO - 2022-10-31 03:28:17,281] Working on shot: 20200713015\n",
      "[INFO - 2022-10-31 03:28:18,038] Extraction of sources completed in 0.02 minutes.\n",
      "[INFO - 2022-10-31 03:28:18,117] Retrieved 0 spectra.\n"
     ]
    },
    {
     "name": "stdout",
     "output_type": "stream",
     "text": [
      "BAD LENGTH!\n",
      "BAD len(spectra_check) 0\n",
      "len(source_list) 53\n"
     ]
    },
    {
     "name": "stderr",
     "output_type": "stream",
     "text": [
      "[INFO - 2022-10-31 03:28:18,387] Finding shots of interest\n",
      "[INFO - 2022-10-31 03:28:24,696] Number of shots of interest: 2\n",
      "[INFO - 2022-10-31 03:28:24,698] Extracting 2 sources\n",
      "[INFO - 2022-10-31 03:28:24,833] Working on shot: 20210612014\n",
      "[INFO - 2022-10-31 03:28:24,882] Working on shot: 20210709017\n",
      "[INFO - 2022-10-31 03:28:25,756] Extraction of sources completed in 0.02 minutes.\n",
      "[INFO - 2022-10-31 03:28:25,838] Retrieved 0 spectra.\n"
     ]
    },
    {
     "name": "stdout",
     "output_type": "stream",
     "text": [
      "BAD LENGTH!\n",
      "BAD len(spectra_check) 0\n",
      "len(source_list) 53\n"
     ]
    },
    {
     "name": "stderr",
     "output_type": "stream",
     "text": [
      "[INFO - 2022-10-31 03:28:26,108] Finding shots of interest\n",
      "[INFO - 2022-10-31 03:28:32,160] Number of shots of interest: 4\n",
      "[INFO - 2022-10-31 03:28:32,162] Extracting 4 sources\n",
      "[INFO - 2022-10-31 03:28:32,310] Working on shot: 20200818014\n",
      "[INFO - 2022-10-31 03:28:32,359] Working on shot: 20200820011\n",
      "[INFO - 2022-10-31 03:28:32,416] Working on shot: 20210617017\n",
      "[INFO - 2022-10-31 03:28:32,480] Working on shot: 20210618020\n",
      "[INFO - 2022-10-31 03:28:33,574] Extracting 1\n",
      "[INFO - 2022-10-31 03:28:34,049] Extraction of sources completed in 0.03 minutes.\n",
      "[INFO - 2022-10-31 03:28:34,138] Retrieved 1 spectra.\n"
     ]
    },
    {
     "name": "stdout",
     "output_type": "stream",
     "text": [
      "len(spectra_check) 1\n",
      "len(source_list) 54\n"
     ]
    },
    {
     "name": "stderr",
     "output_type": "stream",
     "text": [
      "[INFO - 2022-10-31 03:28:34,441] Finding shots of interest\n",
      "[INFO - 2022-10-31 03:28:40,546] Number of shots of interest: 4\n",
      "[INFO - 2022-10-31 03:28:40,547] Extracting 4 sources\n",
      "[INFO - 2022-10-31 03:28:40,742] Working on shot: 20210611013\n",
      "[INFO - 2022-10-31 03:28:40,757] Working on shot: 20210612014\n",
      "[INFO - 2022-10-31 03:28:40,793] Working on shot: 20210616018\n",
      "[INFO - 2022-10-31 03:28:40,841] Working on shot: 20210708012\n",
      "[INFO - 2022-10-31 03:28:41,946] Extracting 1\n",
      "[INFO - 2022-10-31 03:28:42,357] Extraction of sources completed in 0.03 minutes.\n",
      "[INFO - 2022-10-31 03:28:42,447] Retrieved 1 spectra.\n"
     ]
    },
    {
     "name": "stdout",
     "output_type": "stream",
     "text": [
      "len(spectra_check) 1\n",
      "len(source_list) 55\n"
     ]
    },
    {
     "name": "stderr",
     "output_type": "stream",
     "text": [
      "[INFO - 2022-10-31 03:28:42,919] Finding shots of interest\n",
      "[INFO - 2022-10-31 03:28:48,808] Number of shots of interest: 3\n",
      "[INFO - 2022-10-31 03:28:48,809] Extracting 3 sources\n",
      "[INFO - 2022-10-31 03:28:48,950] Working on shot: 20210709017\n",
      "[INFO - 2022-10-31 03:28:48,994] Working on shot: 20210709018\n",
      "[INFO - 2022-10-31 03:28:49,069] Working on shot: 20210713017\n",
      "[INFO - 2022-10-31 03:28:50,184] Extracting 1\n",
      "[INFO - 2022-10-31 03:28:50,619] Extraction of sources completed in 0.03 minutes.\n",
      "[INFO - 2022-10-31 03:28:50,706] Retrieved 1 spectra.\n"
     ]
    },
    {
     "name": "stdout",
     "output_type": "stream",
     "text": [
      "len(spectra_check) 1\n",
      "len(source_list) 56\n"
     ]
    },
    {
     "name": "stderr",
     "output_type": "stream",
     "text": [
      "[INFO - 2022-10-31 03:28:51,219] Finding shots of interest\n",
      "[INFO - 2022-10-31 03:28:57,473] Number of shots of interest: 5\n",
      "[INFO - 2022-10-31 03:28:57,474] Extracting 5 sources\n",
      "[INFO - 2022-10-31 03:28:57,615] Working on shot: 20210706014\n",
      "[INFO - 2022-10-31 03:28:57,663] Working on shot: 20210709017\n",
      "[INFO - 2022-10-31 03:28:57,709] Working on shot: 20210709018\n",
      "[INFO - 2022-10-31 03:28:57,765] Working on shot: 20210713017\n",
      "[INFO - 2022-10-31 03:28:57,812] Working on shot: 20210728010\n",
      "[INFO - 2022-10-31 03:28:59,242] Extracting 1\n",
      "[INFO - 2022-10-31 03:28:59,611] Extraction of sources completed in 0.03 minutes.\n",
      "[INFO - 2022-10-31 03:28:59,698] Retrieved 1 spectra.\n"
     ]
    },
    {
     "name": "stdout",
     "output_type": "stream",
     "text": [
      "len(spectra_check) 1\n",
      "len(source_list) 57\n"
     ]
    },
    {
     "name": "stderr",
     "output_type": "stream",
     "text": [
      "[INFO - 2022-10-31 03:29:00,006] Finding shots of interest\n",
      "[INFO - 2022-10-31 03:29:06,215] Number of shots of interest: 6\n",
      "[INFO - 2022-10-31 03:29:06,216] Extracting 6 sources\n",
      "[INFO - 2022-10-31 03:29:06,360] Working on shot: 20210518020\n",
      "[INFO - 2022-10-31 03:29:06,403] Working on shot: 20210609015\n",
      "[INFO - 2022-10-31 03:29:06,456] Working on shot: 20210616019\n",
      "[INFO - 2022-10-31 03:29:06,514] Working on shot: 20210705015\n",
      "[INFO - 2022-10-31 03:29:06,580] Working on shot: 20210709019\n",
      "[INFO - 2022-10-31 03:29:06,628] Working on shot: 20210710012\n",
      "[INFO - 2022-10-31 03:29:07,701] Extracting 1\n",
      "[INFO - 2022-10-31 03:29:08,155] Extraction of sources completed in 0.03 minutes.\n",
      "[INFO - 2022-10-31 03:29:08,245] Retrieved 1 spectra.\n"
     ]
    },
    {
     "name": "stdout",
     "output_type": "stream",
     "text": [
      "len(spectra_check) 1\n",
      "len(source_list) 58\n"
     ]
    },
    {
     "name": "stderr",
     "output_type": "stream",
     "text": [
      "[INFO - 2022-10-31 03:29:08,522] Finding shots of interest\n",
      "[INFO - 2022-10-31 03:29:14,602] Number of shots of interest: 6\n",
      "[INFO - 2022-10-31 03:29:14,603] Extracting 6 sources\n",
      "[INFO - 2022-10-31 03:29:14,736] Working on shot: 20210609015\n",
      "[INFO - 2022-10-31 03:29:14,796] Working on shot: 20210616019\n",
      "[INFO - 2022-10-31 03:29:14,839] Working on shot: 20210705015\n",
      "[INFO - 2022-10-31 03:29:14,900] Working on shot: 20210706015\n",
      "[INFO - 2022-10-31 03:29:14,966] Working on shot: 20210709019\n",
      "[INFO - 2022-10-31 03:29:15,022] Working on shot: 20210710013\n",
      "[INFO - 2022-10-31 03:29:16,080] Extracting 1\n",
      "[INFO - 2022-10-31 03:29:16,553] Extraction of sources completed in 0.03 minutes.\n",
      "[INFO - 2022-10-31 03:29:16,642] Retrieved 1 spectra.\n"
     ]
    },
    {
     "name": "stdout",
     "output_type": "stream",
     "text": [
      "len(spectra_check) 1\n",
      "len(source_list) 59\n"
     ]
    },
    {
     "name": "stderr",
     "output_type": "stream",
     "text": [
      "[INFO - 2022-10-31 03:29:16,943] Finding shots of interest\n",
      "[INFO - 2022-10-31 03:29:23,244] Number of shots of interest: 1\n",
      "[INFO - 2022-10-31 03:29:23,245] Extracting 1 sources\n",
      "[INFO - 2022-10-31 03:29:23,389] Working on shot: 20200714015\n",
      "[INFO - 2022-10-31 03:29:24,911] Extraction of sources completed in 0.03 minutes.\n",
      "[INFO - 2022-10-31 03:29:24,987] Retrieved 0 spectra.\n"
     ]
    },
    {
     "name": "stdout",
     "output_type": "stream",
     "text": [
      "BAD LENGTH!\n",
      "BAD len(spectra_check) 0\n",
      "len(source_list) 59\n"
     ]
    },
    {
     "name": "stderr",
     "output_type": "stream",
     "text": [
      "[INFO - 2022-10-31 03:29:25,247] Finding shots of interest\n",
      "[INFO - 2022-10-31 03:29:31,322] Number of shots of interest: 8\n",
      "[INFO - 2022-10-31 03:29:31,323] Extracting 8 sources\n",
      "[INFO - 2022-10-31 03:29:31,503] Working on shot: 20210510026\n",
      "[INFO - 2022-10-31 03:29:31,536] Working on shot: 20210609015\n",
      "[INFO - 2022-10-31 03:29:31,582] Working on shot: 20210612015\n",
      "[INFO - 2022-10-31 03:29:31,655] Working on shot: 20210616019\n",
      "[INFO - 2022-10-31 03:29:31,713] Working on shot: 20210616020\n",
      "[INFO - 2022-10-31 03:29:31,763] Working on shot: 20210616021\n",
      "[INFO - 2022-10-31 03:29:31,853] Working on shot: 20210705015\n",
      "[INFO - 2022-10-31 03:29:31,893] Working on shot: 20210709019\n",
      "[INFO - 2022-10-31 03:29:32,960] Extracting 1\n",
      "[INFO - 2022-10-31 03:29:33,096] Extracting 1\n",
      "[INFO - 2022-10-31 03:29:33,731] Extraction of sources completed in 0.04 minutes.\n",
      "[INFO - 2022-10-31 03:29:33,854] Retrieved 1 spectra.\n"
     ]
    },
    {
     "name": "stdout",
     "output_type": "stream",
     "text": [
      "len(spectra_check) 1\n",
      "len(source_list) 60\n"
     ]
    },
    {
     "name": "stderr",
     "output_type": "stream",
     "text": [
      "[INFO - 2022-10-31 03:29:34,127] Finding shots of interest\n",
      "[INFO - 2022-10-31 03:29:40,506] Number of shots of interest: 5\n",
      "[INFO - 2022-10-31 03:29:40,507] Extracting 5 sources\n",
      "[INFO - 2022-10-31 03:29:40,658] Working on shot: 20200713016\n",
      "[INFO - 2022-10-31 03:29:40,703] Working on shot: 20200713017\n",
      "[INFO - 2022-10-31 03:29:40,746] Working on shot: 20200723001\n",
      "[INFO - 2022-10-31 03:29:40,810] Working on shot: 20200724014\n",
      "[INFO - 2022-10-31 03:29:40,851] Working on shot: 20200812015\n",
      "[INFO - 2022-10-31 03:29:41,856] Extraction of sources completed in 0.02 minutes.\n",
      "[INFO - 2022-10-31 03:29:41,951] Retrieved 0 spectra.\n"
     ]
    },
    {
     "name": "stdout",
     "output_type": "stream",
     "text": [
      "BAD LENGTH!\n",
      "BAD len(spectra_check) 0\n",
      "len(source_list) 60\n"
     ]
    },
    {
     "name": "stderr",
     "output_type": "stream",
     "text": [
      "[INFO - 2022-10-31 03:29:42,254] Finding shots of interest\n",
      "[INFO - 2022-10-31 03:29:48,617] Number of shots of interest: 2\n",
      "[INFO - 2022-10-31 03:29:48,618] Extracting 2 sources\n",
      "[INFO - 2022-10-31 03:29:48,804] Working on shot: 20210706015\n",
      "[INFO - 2022-10-31 03:29:48,827] Working on shot: 20210710013\n",
      "[INFO - 2022-10-31 03:29:49,944] Extraction of sources completed in 0.02 minutes.\n",
      "[INFO - 2022-10-31 03:29:50,028] Retrieved 0 spectra.\n"
     ]
    },
    {
     "name": "stdout",
     "output_type": "stream",
     "text": [
      "BAD LENGTH!\n",
      "BAD len(spectra_check) 0\n",
      "len(source_list) 60\n"
     ]
    },
    {
     "name": "stderr",
     "output_type": "stream",
     "text": [
      "[INFO - 2022-10-31 03:29:50,347] Finding shots of interest\n",
      "[INFO - 2022-10-31 03:29:56,647] Number of shots of interest: 2\n",
      "[INFO - 2022-10-31 03:29:56,649] Extracting 2 sources\n",
      "[INFO - 2022-10-31 03:29:56,796] Working on shot: 20210706015\n",
      "[INFO - 2022-10-31 03:29:56,846] Working on shot: 20210710013\n",
      "[INFO - 2022-10-31 03:29:57,717] Extraction of sources completed in 0.02 minutes.\n",
      "[INFO - 2022-10-31 03:29:57,814] Retrieved 0 spectra.\n"
     ]
    },
    {
     "name": "stdout",
     "output_type": "stream",
     "text": [
      "BAD LENGTH!\n",
      "BAD len(spectra_check) 0\n",
      "len(source_list) 60\n"
     ]
    },
    {
     "name": "stderr",
     "output_type": "stream",
     "text": [
      "[INFO - 2022-10-31 03:29:58,077] Finding shots of interest\n",
      "[INFO - 2022-10-31 03:30:04,169] Number of shots of interest: 8\n",
      "[INFO - 2022-10-31 03:30:04,170] Extracting 8 sources\n",
      "[INFO - 2022-10-31 03:30:04,333] Working on shot: 20200714013\n",
      "[INFO - 2022-10-31 03:30:04,384] Working on shot: 20200714014\n",
      "[INFO - 2022-10-31 03:30:04,423] Working on shot: 20200714015\n",
      "[INFO - 2022-10-31 03:30:04,473] Working on shot: 20200716012\n",
      "[INFO - 2022-10-31 03:30:04,538] Working on shot: 20200716013\n",
      "[INFO - 2022-10-31 03:30:04,641] Working on shot: 20200816012\n",
      "[INFO - 2022-10-31 03:30:04,675] Working on shot: 20200817011\n",
      "[INFO - 2022-10-31 03:30:04,734] Working on shot: 20210827007\n",
      "[INFO - 2022-10-31 03:30:05,617] Extracting 1\n",
      "[INFO - 2022-10-31 03:30:06,109] Extraction of sources completed in 0.03 minutes.\n",
      "[INFO - 2022-10-31 03:30:06,223] Retrieved 1 spectra.\n"
     ]
    },
    {
     "name": "stdout",
     "output_type": "stream",
     "text": [
      "len(spectra_check) 1\n",
      "len(source_list) 61\n"
     ]
    },
    {
     "name": "stderr",
     "output_type": "stream",
     "text": [
      "[INFO - 2022-10-31 03:30:06,934] Finding shots of interest\n",
      "[INFO - 2022-10-31 03:30:12,910] Number of shots of interest: 8\n",
      "[INFO - 2022-10-31 03:30:12,911] Extracting 8 sources\n",
      "[INFO - 2022-10-31 03:30:13,082] Working on shot: 20210510026\n",
      "[INFO - 2022-10-31 03:30:13,116] Working on shot: 20210609015\n",
      "[INFO - 2022-10-31 03:30:13,164] Working on shot: 20210612015\n",
      "[INFO - 2022-10-31 03:30:13,217] Working on shot: 20210616019\n",
      "[INFO - 2022-10-31 03:30:13,285] Working on shot: 20210616020\n",
      "[INFO - 2022-10-31 03:30:13,327] Working on shot: 20210616021\n",
      "[INFO - 2022-10-31 03:30:13,393] Working on shot: 20210705015\n",
      "[INFO - 2022-10-31 03:30:13,459] Working on shot: 20210709019\n",
      "[INFO - 2022-10-31 03:30:14,842] Extracting 1\n",
      "[INFO - 2022-10-31 03:30:14,982] Extracting 1\n",
      "[INFO - 2022-10-31 03:30:15,057] Extracting 1\n",
      "[INFO - 2022-10-31 03:30:15,557] Extraction of sources completed in 0.04 minutes.\n",
      "[INFO - 2022-10-31 03:30:15,670] Retrieved 3 spectra.\n"
     ]
    },
    {
     "name": "stdout",
     "output_type": "stream",
     "text": [
      "BAD LENGTH!\n",
      "BAD len(spectra_check) 3\n",
      "len(source_list) 61\n"
     ]
    },
    {
     "name": "stderr",
     "output_type": "stream",
     "text": [
      "[INFO - 2022-10-31 03:30:15,973] Finding shots of interest\n",
      "[INFO - 2022-10-31 03:30:22,045] Number of shots of interest: 6\n",
      "[INFO - 2022-10-31 03:30:22,046] Extracting 6 sources\n",
      "[INFO - 2022-10-31 03:30:22,208] Working on shot: 20200711014\n",
      "[INFO - 2022-10-31 03:30:22,254] Working on shot: 20200711015\n",
      "[INFO - 2022-10-31 03:30:22,324] Working on shot: 20200813012\n",
      "[INFO - 2022-10-31 03:30:22,364] Working on shot: 20200814012\n",
      "[INFO - 2022-10-31 03:30:22,421] Working on shot: 20200814013\n",
      "[INFO - 2022-10-31 03:30:22,476] Working on shot: 20200814014\n",
      "[INFO - 2022-10-31 03:30:23,374] Extracting 1\n",
      "[INFO - 2022-10-31 03:30:23,528] Extracting 1\n",
      "[INFO - 2022-10-31 03:30:23,875] Extraction of sources completed in 0.03 minutes.\n",
      "[INFO - 2022-10-31 03:30:23,979] Retrieved 2 spectra.\n"
     ]
    },
    {
     "name": "stdout",
     "output_type": "stream",
     "text": [
      "BAD LENGTH!\n",
      "BAD len(spectra_check) 2\n",
      "len(source_list) 61\n"
     ]
    },
    {
     "name": "stderr",
     "output_type": "stream",
     "text": [
      "[INFO - 2022-10-31 03:30:24,254] Finding shots of interest\n",
      "[INFO - 2022-10-31 03:30:30,383] Number of shots of interest: 4\n",
      "[INFO - 2022-10-31 03:30:30,384] Extracting 4 sources\n",
      "[INFO - 2022-10-31 03:30:30,527] Working on shot: 20210616017\n",
      "[INFO - 2022-10-31 03:30:30,574] Working on shot: 20210706012\n",
      "[INFO - 2022-10-31 03:30:30,665] Working on shot: 20210706013\n",
      "[INFO - 2022-10-31 03:30:30,681] Working on shot: 20210708011\n",
      "[INFO - 2022-10-31 03:30:31,796] Extracting 1\n",
      "[INFO - 2022-10-31 03:30:32,237] Extraction of sources completed in 0.03 minutes.\n",
      "[INFO - 2022-10-31 03:30:32,343] Retrieved 1 spectra.\n"
     ]
    },
    {
     "name": "stdout",
     "output_type": "stream",
     "text": [
      "len(spectra_check) 1\n",
      "len(source_list) 62\n"
     ]
    },
    {
     "name": "stderr",
     "output_type": "stream",
     "text": [
      "[INFO - 2022-10-31 03:30:32,607] Finding shots of interest\n",
      "[INFO - 2022-10-31 03:30:38,927] Number of shots of interest: 10\n",
      "[INFO - 2022-10-31 03:30:38,929] Extracting 10 sources\n",
      "[INFO - 2022-10-31 03:30:39,093] Working on shot: 20200714013\n",
      "[INFO - 2022-10-31 03:30:39,143] Working on shot: 20200714014\n",
      "[INFO - 2022-10-31 03:30:39,184] Working on shot: 20200714015\n",
      "[INFO - 2022-10-31 03:30:39,274] Working on shot: 20200716012\n",
      "[INFO - 2022-10-31 03:30:39,300] Working on shot: 20200716013\n",
      "[INFO - 2022-10-31 03:30:39,341] Working on shot: 20200816012\n",
      "[INFO - 2022-10-31 03:30:39,421] Working on shot: 20200817011\n",
      "[INFO - 2022-10-31 03:30:39,438] Working on shot: 20210711014\n",
      "[INFO - 2022-10-31 03:30:39,520] Working on shot: 20210728008\n",
      "[INFO - 2022-10-31 03:30:39,625] Working on shot: 20210827007\n",
      "[INFO - 2022-10-31 03:30:40,807] Extracting 1\n",
      "[INFO - 2022-10-31 03:30:40,860] Extracting 1\n",
      "[INFO - 2022-10-31 03:30:40,866] Extracting 1\n",
      "[INFO - 2022-10-31 03:30:41,450] Extraction of sources completed in 0.04 minutes.\n",
      "[INFO - 2022-10-31 03:30:41,550] Retrieved 3 spectra.\n"
     ]
    },
    {
     "name": "stdout",
     "output_type": "stream",
     "text": [
      "BAD LENGTH!\n",
      "BAD len(spectra_check) 3\n",
      "len(source_list) 62\n"
     ]
    },
    {
     "name": "stderr",
     "output_type": "stream",
     "text": [
      "[INFO - 2022-10-31 03:30:41,873] Finding shots of interest\n",
      "[INFO - 2022-10-31 03:30:47,977] Number of shots of interest: 11\n",
      "[INFO - 2022-10-31 03:30:47,978] Extracting 11 sources\n",
      "[INFO - 2022-10-31 03:30:48,143] Working on shot: 20200713016\n",
      "[INFO - 2022-10-31 03:30:48,203] Working on shot: 20200713017\n",
      "[INFO - 2022-10-31 03:30:48,249] Working on shot: 20200723001\n",
      "[INFO - 2022-10-31 03:30:48,312] Working on shot: 20200724014\n",
      "[INFO - 2022-10-31 03:30:48,370] Working on shot: 20200812015\n",
      "[INFO - 2022-10-31 03:30:48,448] Working on shot: 20200818014\n",
      "[INFO - 2022-10-31 03:30:48,484] Working on shot: 20200820011\n",
      "[INFO - 2022-10-31 03:30:48,522] Working on shot: 20210617017\n",
      "[INFO - 2022-10-31 03:30:48,590] Working on shot: 20210618020\n",
      "[INFO - 2022-10-31 03:30:48,632] Working on shot: 20210706015\n",
      "[INFO - 2022-10-31 03:30:48,702] Working on shot: 20210710013\n",
      "[INFO - 2022-10-31 03:30:50,106] Extracting 1\n",
      "[INFO - 2022-10-31 03:30:50,585] Extraction of sources completed in 0.04 minutes.\n",
      "[INFO - 2022-10-31 03:30:50,678] Retrieved 1 spectra.\n"
     ]
    },
    {
     "name": "stdout",
     "output_type": "stream",
     "text": [
      "len(spectra_check) 1\n",
      "len(source_list) 63\n"
     ]
    },
    {
     "name": "stderr",
     "output_type": "stream",
     "text": [
      "[INFO - 2022-10-31 03:30:51,174] Finding shots of interest\n",
      "[INFO - 2022-10-31 03:30:57,309] Number of shots of interest: 4\n",
      "[INFO - 2022-10-31 03:30:57,311] Extracting 4 sources\n",
      "[INFO - 2022-10-31 03:30:57,520] Working on shot: 20200818014\n",
      "[INFO - 2022-10-31 03:30:57,538] Working on shot: 20200820011\n",
      "[INFO - 2022-10-31 03:30:57,578] Working on shot: 20210617017\n",
      "[INFO - 2022-10-31 03:30:57,613] Working on shot: 20210618020\n",
      "[INFO - 2022-10-31 03:30:58,879] Extraction of sources completed in 0.03 minutes.\n",
      "[INFO - 2022-10-31 03:30:58,958] Retrieved 0 spectra.\n"
     ]
    },
    {
     "name": "stdout",
     "output_type": "stream",
     "text": [
      "BAD LENGTH!\n",
      "BAD len(spectra_check) 0\n",
      "len(source_list) 63\n"
     ]
    },
    {
     "name": "stderr",
     "output_type": "stream",
     "text": [
      "[INFO - 2022-10-31 03:30:59,265] Finding shots of interest\n",
      "[INFO - 2022-10-31 03:31:05,521] Number of shots of interest: 8\n",
      "[INFO - 2022-10-31 03:31:05,522] Extracting 8 sources\n",
      "[INFO - 2022-10-31 03:31:05,698] Working on shot: 20210514007\n",
      "[INFO - 2022-10-31 03:31:05,717] Working on shot: 20210604005\n",
      "[INFO - 2022-10-31 03:31:05,766] Working on shot: 20210605014\n",
      "[INFO - 2022-10-31 03:31:05,821] Working on shot: 20210608013\n",
      "[INFO - 2022-10-31 03:31:05,887] Working on shot: 20210616017\n",
      "[INFO - 2022-10-31 03:31:05,941] Working on shot: 20210706012\n",
      "[INFO - 2022-10-31 03:31:06,007] Working on shot: 20210706013\n",
      "[INFO - 2022-10-31 03:31:06,071] Working on shot: 20210708011\n",
      "[INFO - 2022-10-31 03:31:07,270] Extracting 1\n",
      "[INFO - 2022-10-31 03:31:07,919] Extraction of sources completed in 0.04 minutes.\n",
      "[INFO - 2022-10-31 03:31:08,009] Retrieved 1 spectra.\n"
     ]
    },
    {
     "name": "stdout",
     "output_type": "stream",
     "text": [
      "len(spectra_check) 1\n",
      "len(source_list) 64\n"
     ]
    },
    {
     "name": "stderr",
     "output_type": "stream",
     "text": [
      "[INFO - 2022-10-31 03:31:08,321] Finding shots of interest\n",
      "[INFO - 2022-10-31 03:31:14,291] Number of shots of interest: 4\n",
      "[INFO - 2022-10-31 03:31:14,293] Extracting 4 sources\n",
      "[INFO - 2022-10-31 03:31:14,425] Working on shot: 20200714013\n",
      "[INFO - 2022-10-31 03:31:14,492] Working on shot: 20200714014\n",
      "[INFO - 2022-10-31 03:31:14,538] Working on shot: 20200714015\n",
      "[INFO - 2022-10-31 03:31:14,585] Working on shot: 20200716012\n",
      "[INFO - 2022-10-31 03:31:15,380] Extraction of sources completed in 0.02 minutes.\n",
      "[INFO - 2022-10-31 03:31:15,473] Retrieved 0 spectra.\n"
     ]
    },
    {
     "name": "stdout",
     "output_type": "stream",
     "text": [
      "BAD LENGTH!\n",
      "BAD len(spectra_check) 0\n",
      "len(source_list) 64\n"
     ]
    },
    {
     "name": "stderr",
     "output_type": "stream",
     "text": [
      "[INFO - 2022-10-31 03:31:15,767] Finding shots of interest\n",
      "[INFO - 2022-10-31 03:31:21,962] Number of shots of interest: 6\n",
      "[INFO - 2022-10-31 03:31:21,963] Extracting 6 sources\n",
      "[INFO - 2022-10-31 03:31:22,152] Working on shot: 20200716014\n",
      "[INFO - 2022-10-31 03:31:22,214] Working on shot: 20200812016\n",
      "[INFO - 2022-10-31 03:31:22,308] Working on shot: 20200813010\n",
      "[INFO - 2022-10-31 03:31:22,373] Working on shot: 20200813011\n",
      "[INFO - 2022-10-31 03:31:22,437] Working on shot: 20210706015\n",
      "[INFO - 2022-10-31 03:31:22,514] Working on shot: 20210710013\n",
      "[INFO - 2022-10-31 03:31:23,230] Extracting 1\n",
      "[INFO - 2022-10-31 03:31:23,384] Extracting 1\n",
      "[INFO - 2022-10-31 03:31:23,719] Extraction of sources completed in 0.03 minutes.\n",
      "[INFO - 2022-10-31 03:31:23,826] Retrieved 2 spectra.\n"
     ]
    },
    {
     "name": "stdout",
     "output_type": "stream",
     "text": [
      "BAD LENGTH!\n",
      "BAD len(spectra_check) 2\n",
      "len(source_list) 64\n"
     ]
    },
    {
     "name": "stderr",
     "output_type": "stream",
     "text": [
      "[INFO - 2022-10-31 03:31:24,104] Finding shots of interest\n",
      "[INFO - 2022-10-31 03:31:30,188] Number of shots of interest: 4\n",
      "[INFO - 2022-10-31 03:31:30,190] Extracting 4 sources\n",
      "[INFO - 2022-10-31 03:31:30,323] Working on shot: 20210611013\n",
      "[INFO - 2022-10-31 03:31:30,373] Working on shot: 20210612014\n",
      "[INFO - 2022-10-31 03:31:30,422] Working on shot: 20210616018\n",
      "[INFO - 2022-10-31 03:31:30,483] Working on shot: 20210708012\n",
      "[INFO - 2022-10-31 03:31:31,359] Extracting 1\n",
      "[INFO - 2022-10-31 03:31:31,394] Extracting 1\n",
      "[INFO - 2022-10-31 03:31:31,682] Extraction of sources completed in 0.02 minutes.\n",
      "[INFO - 2022-10-31 03:31:31,796] Retrieved 1 spectra.\n"
     ]
    },
    {
     "name": "stdout",
     "output_type": "stream",
     "text": [
      "len(spectra_check) 1\n",
      "len(source_list) 65\n"
     ]
    },
    {
     "name": "stderr",
     "output_type": "stream",
     "text": [
      "[INFO - 2022-10-31 03:31:32,066] Finding shots of interest\n",
      "[INFO - 2022-10-31 03:31:38,286] Number of shots of interest: 2\n",
      "[INFO - 2022-10-31 03:31:38,287] Extracting 2 sources\n",
      "[INFO - 2022-10-31 03:31:38,434] Working on shot: 20210711014\n",
      "[INFO - 2022-10-31 03:31:38,500] Working on shot: 20210728008\n",
      "[INFO - 2022-10-31 03:31:39,354] Extraction of sources completed in 0.02 minutes.\n",
      "[INFO - 2022-10-31 03:31:39,434] Retrieved 0 spectra.\n"
     ]
    },
    {
     "name": "stdout",
     "output_type": "stream",
     "text": [
      "BAD LENGTH!\n",
      "BAD len(spectra_check) 0\n",
      "len(source_list) 65\n"
     ]
    },
    {
     "name": "stderr",
     "output_type": "stream",
     "text": [
      "[INFO - 2022-10-31 03:31:39,717] Finding shots of interest\n",
      "[INFO - 2022-10-31 03:31:45,757] Number of shots of interest: 2\n",
      "[INFO - 2022-10-31 03:31:45,758] Extracting 2 sources\n",
      "[INFO - 2022-10-31 03:31:45,891] Working on shot: 20210706014\n",
      "[INFO - 2022-10-31 03:31:45,941] Working on shot: 20210728010\n",
      "[INFO - 2022-10-31 03:31:46,687] Extraction of sources completed in 0.01 minutes.\n",
      "[INFO - 2022-10-31 03:31:46,770] Retrieved 0 spectra.\n"
     ]
    },
    {
     "name": "stdout",
     "output_type": "stream",
     "text": [
      "BAD LENGTH!\n",
      "BAD len(spectra_check) 0\n",
      "len(source_list) 65\n"
     ]
    },
    {
     "name": "stderr",
     "output_type": "stream",
     "text": [
      "[INFO - 2022-10-31 03:31:47,025] Finding shots of interest\n",
      "[INFO - 2022-10-31 03:31:53,472] Number of shots of interest: 3\n",
      "[INFO - 2022-10-31 03:31:53,474] Extracting 3 sources\n",
      "[INFO - 2022-10-31 03:31:53,640] Working on shot: 20210709017\n",
      "[INFO - 2022-10-31 03:31:53,743] Working on shot: 20210709018\n",
      "[INFO - 2022-10-31 03:31:53,779] Working on shot: 20210713017\n",
      "[INFO - 2022-10-31 03:31:54,559] Extraction of sources completed in 0.02 minutes.\n",
      "[INFO - 2022-10-31 03:31:54,655] Retrieved 0 spectra.\n"
     ]
    },
    {
     "name": "stdout",
     "output_type": "stream",
     "text": [
      "BAD LENGTH!\n",
      "BAD len(spectra_check) 0\n",
      "len(source_list) 65\n"
     ]
    },
    {
     "name": "stderr",
     "output_type": "stream",
     "text": [
      "[INFO - 2022-10-31 03:31:54,924] Finding shots of interest\n",
      "[INFO - 2022-10-31 03:32:01,049] Number of shots of interest: 11\n",
      "[INFO - 2022-10-31 03:32:01,051] Extracting 11 sources\n",
      "[INFO - 2022-10-31 03:32:01,196] Working on shot: 20200713016\n",
      "[INFO - 2022-10-31 03:32:01,243] Working on shot: 20200713017\n",
      "[INFO - 2022-10-31 03:32:01,296] Working on shot: 20200723001\n",
      "[INFO - 2022-10-31 03:32:01,360] Working on shot: 20200724014\n",
      "[INFO - 2022-10-31 03:32:01,436] Working on shot: 20200812015\n",
      "[INFO - 2022-10-31 03:32:01,466] Working on shot: 20200818014\n",
      "[INFO - 2022-10-31 03:32:01,520] Working on shot: 20200820011\n",
      "[INFO - 2022-10-31 03:32:01,580] Working on shot: 20210617017\n",
      "[INFO - 2022-10-31 03:32:01,634] Working on shot: 20210618020\n",
      "[INFO - 2022-10-31 03:32:01,689] Working on shot: 20210706015\n",
      "[INFO - 2022-10-31 03:32:01,744] Working on shot: 20210710013\n",
      "[INFO - 2022-10-31 03:32:02,741] Extracting 1\n",
      "[INFO - 2022-10-31 03:32:03,143] Extraction of sources completed in 0.03 minutes.\n",
      "[INFO - 2022-10-31 03:32:03,233] Retrieved 1 spectra.\n"
     ]
    },
    {
     "name": "stdout",
     "output_type": "stream",
     "text": [
      "len(spectra_check) 1\n",
      "len(source_list) 66\n"
     ]
    },
    {
     "name": "stderr",
     "output_type": "stream",
     "text": [
      "[INFO - 2022-10-31 03:32:03,695] Finding shots of interest\n",
      "[INFO - 2022-10-31 03:32:10,092] Number of shots of interest: 0\n",
      "[INFO - 2022-10-31 03:32:10,093] Extracting 0 sources\n",
      "[INFO - 2022-10-31 03:32:10,154] Extraction of sources completed in 0.00 minutes.\n",
      "[INFO - 2022-10-31 03:32:10,230] Retrieved 0 spectra.\n"
     ]
    },
    {
     "name": "stdout",
     "output_type": "stream",
     "text": [
      "BAD LENGTH!\n",
      "BAD len(spectra_check) 0\n",
      "len(source_list) 66\n"
     ]
    },
    {
     "name": "stderr",
     "output_type": "stream",
     "text": [
      "[INFO - 2022-10-31 03:32:10,480] Finding shots of interest\n",
      "[INFO - 2022-10-31 03:32:16,335] Number of shots of interest: 8\n",
      "[INFO - 2022-10-31 03:32:16,336] Extracting 8 sources\n",
      "[INFO - 2022-10-31 03:32:16,481] Working on shot: 20210616017\n",
      "[INFO - 2022-10-31 03:32:16,532] Working on shot: 20210706012\n",
      "[INFO - 2022-10-31 03:32:16,584] Working on shot: 20210706013\n",
      "[INFO - 2022-10-31 03:32:16,638] Working on shot: 20210708011\n",
      "[INFO - 2022-10-31 03:32:16,718] Working on shot: 20210711014\n",
      "[INFO - 2022-10-31 03:32:16,776] Working on shot: 20210713016\n",
      "[INFO - 2022-10-31 03:32:16,830] Working on shot: 20210728008\n",
      "[INFO - 2022-10-31 03:32:16,874] Working on shot: 20210728009\n",
      "[INFO - 2022-10-31 03:32:18,480] Extracting 1\n",
      "[INFO - 2022-10-31 03:32:19,100] Extraction of sources completed in 0.04 minutes.\n",
      "[INFO - 2022-10-31 03:32:19,192] Retrieved 1 spectra.\n"
     ]
    },
    {
     "name": "stdout",
     "output_type": "stream",
     "text": [
      "len(spectra_check) 1\n",
      "len(source_list) 67\n"
     ]
    },
    {
     "name": "stderr",
     "output_type": "stream",
     "text": [
      "[INFO - 2022-10-31 03:32:19,464] Finding shots of interest\n",
      "[INFO - 2022-10-31 03:32:25,532] Number of shots of interest: 5\n",
      "[INFO - 2022-10-31 03:32:25,534] Extracting 5 sources\n",
      "[INFO - 2022-10-31 03:32:25,670] Working on shot: 20210604005\n",
      "[INFO - 2022-10-31 03:32:25,733] Working on shot: 20210611013\n",
      "[INFO - 2022-10-31 03:32:25,787] Working on shot: 20210612014\n",
      "[INFO - 2022-10-31 03:32:25,873] Working on shot: 20210616018\n",
      "[INFO - 2022-10-31 03:32:25,942] Working on shot: 20210708012\n",
      "[INFO - 2022-10-31 03:32:26,818] Extracting 1\n",
      "[INFO - 2022-10-31 03:32:27,245] Extraction of sources completed in 0.03 minutes.\n",
      "[INFO - 2022-10-31 03:32:27,335] Retrieved 1 spectra.\n"
     ]
    },
    {
     "name": "stdout",
     "output_type": "stream",
     "text": [
      "len(spectra_check) 1\n",
      "len(source_list) 68\n"
     ]
    },
    {
     "name": "stderr",
     "output_type": "stream",
     "text": [
      "[INFO - 2022-10-31 03:32:27,657] Finding shots of interest\n",
      "[INFO - 2022-10-31 03:32:33,744] Number of shots of interest: 8\n",
      "[INFO - 2022-10-31 03:32:33,746] Extracting 8 sources\n",
      "[INFO - 2022-10-31 03:32:33,893] Working on shot: 20200711014\n",
      "[INFO - 2022-10-31 03:32:33,974] Working on shot: 20200711015\n",
      "[INFO - 2022-10-31 03:32:33,996] Working on shot: 20200712015\n",
      "[INFO - 2022-10-31 03:32:34,052] Working on shot: 20200712016\n",
      "[INFO - 2022-10-31 03:32:34,109] Working on shot: 20200712017\n",
      "[INFO - 2022-10-31 03:32:34,161] Working on shot: 20200712018\n",
      "[INFO - 2022-10-31 03:32:34,209] Working on shot: 20200713014\n",
      "[INFO - 2022-10-31 03:32:34,265] Working on shot: 20200713015\n",
      "[INFO - 2022-10-31 03:32:35,273] Extracting 1\n",
      "[INFO - 2022-10-31 03:32:35,439] Extracting 1\n",
      "[INFO - 2022-10-31 03:32:35,828] Extraction of sources completed in 0.03 minutes.\n",
      "[INFO - 2022-10-31 03:32:35,921] Retrieved 2 spectra.\n"
     ]
    },
    {
     "name": "stdout",
     "output_type": "stream",
     "text": [
      "BAD LENGTH!\n",
      "BAD len(spectra_check) 2\n",
      "len(source_list) 68\n"
     ]
    },
    {
     "name": "stderr",
     "output_type": "stream",
     "text": [
      "[INFO - 2022-10-31 03:32:36,242] Finding shots of interest\n",
      "[INFO - 2022-10-31 03:32:42,779] Number of shots of interest: 5\n",
      "[INFO - 2022-10-31 03:32:42,780] Extracting 5 sources\n",
      "[INFO - 2022-10-31 03:32:42,920] Working on shot: 20210609015\n",
      "[INFO - 2022-10-31 03:32:42,962] Working on shot: 20210616019\n",
      "[INFO - 2022-10-31 03:32:43,035] Working on shot: 20210705015\n",
      "[INFO - 2022-10-31 03:32:43,090] Working on shot: 20210709019\n",
      "[INFO - 2022-10-31 03:32:43,140] Working on shot: 20210710013\n",
      "[INFO - 2022-10-31 03:32:44,297] Extracting 1\n",
      "[INFO - 2022-10-31 03:32:44,715] Extraction of sources completed in 0.03 minutes.\n",
      "[INFO - 2022-10-31 03:32:44,803] Retrieved 1 spectra.\n"
     ]
    },
    {
     "name": "stdout",
     "output_type": "stream",
     "text": [
      "len(spectra_check) 1\n",
      "len(source_list) 69\n"
     ]
    },
    {
     "name": "stderr",
     "output_type": "stream",
     "text": [
      "[INFO - 2022-10-31 03:32:45,094] Finding shots of interest\n",
      "[INFO - 2022-10-31 03:32:51,529] Number of shots of interest: 6\n",
      "[INFO - 2022-10-31 03:32:51,530] Extracting 6 sources\n",
      "[INFO - 2022-10-31 03:32:51,676] Working on shot: 20210609015\n",
      "[INFO - 2022-10-31 03:32:51,730] Working on shot: 20210616019\n",
      "[INFO - 2022-10-31 03:32:51,778] Working on shot: 20210705015\n",
      "[INFO - 2022-10-31 03:32:51,838] Working on shot: 20210706015\n",
      "[INFO - 2022-10-31 03:32:51,888] Working on shot: 20210709019\n",
      "[INFO - 2022-10-31 03:32:51,936] Working on shot: 20210710013\n",
      "[INFO - 2022-10-31 03:32:52,845] Extracting 1\n",
      "[INFO - 2022-10-31 03:32:53,210] Extraction of sources completed in 0.03 minutes.\n",
      "[INFO - 2022-10-31 03:32:53,302] Retrieved 1 spectra.\n"
     ]
    },
    {
     "name": "stdout",
     "output_type": "stream",
     "text": [
      "len(spectra_check) 1\n",
      "len(source_list) 70\n"
     ]
    },
    {
     "name": "stderr",
     "output_type": "stream",
     "text": [
      "[INFO - 2022-10-31 03:32:53,609] Finding shots of interest\n",
      "[INFO - 2022-10-31 03:32:59,846] Number of shots of interest: 4\n",
      "[INFO - 2022-10-31 03:32:59,848] Extracting 4 sources\n",
      "[INFO - 2022-10-31 03:32:59,986] Working on shot: 20210518020\n",
      "[INFO - 2022-10-31 03:33:00,032] Working on shot: 20210614017\n",
      "[INFO - 2022-10-31 03:33:00,087] Working on shot: 20210617016\n",
      "[INFO - 2022-10-31 03:33:00,143] Working on shot: 20210710012\n",
      "[INFO - 2022-10-31 03:33:01,078] Extraction of sources completed in 0.02 minutes.\n",
      "[INFO - 2022-10-31 03:33:01,156] Retrieved 0 spectra.\n"
     ]
    },
    {
     "name": "stdout",
     "output_type": "stream",
     "text": [
      "BAD LENGTH!\n",
      "BAD len(spectra_check) 0\n",
      "len(source_list) 70\n"
     ]
    },
    {
     "name": "stderr",
     "output_type": "stream",
     "text": [
      "[INFO - 2022-10-31 03:33:01,420] Finding shots of interest\n",
      "[INFO - 2022-10-31 03:33:07,589] Number of shots of interest: 4\n",
      "[INFO - 2022-10-31 03:33:07,591] Extracting 4 sources\n",
      "[INFO - 2022-10-31 03:33:07,728] Working on shot: 20210611013\n",
      "[INFO - 2022-10-31 03:33:07,782] Working on shot: 20210612014\n",
      "[INFO - 2022-10-31 03:33:07,836] Working on shot: 20210616018\n",
      "[INFO - 2022-10-31 03:33:07,900] Working on shot: 20210708012\n",
      "[INFO - 2022-10-31 03:33:08,687] Extraction of sources completed in 0.02 minutes.\n",
      "[INFO - 2022-10-31 03:33:08,770] Retrieved 0 spectra.\n"
     ]
    },
    {
     "name": "stdout",
     "output_type": "stream",
     "text": [
      "BAD LENGTH!\n",
      "BAD len(spectra_check) 0\n",
      "len(source_list) 70\n"
     ]
    },
    {
     "name": "stderr",
     "output_type": "stream",
     "text": [
      "[INFO - 2022-10-31 03:33:09,030] Finding shots of interest\n",
      "[INFO - 2022-10-31 03:33:15,005] Number of shots of interest: 6\n",
      "[INFO - 2022-10-31 03:33:15,006] Extracting 6 sources\n",
      "[INFO - 2022-10-31 03:33:15,146] Working on shot: 20210616017\n",
      "[INFO - 2022-10-31 03:33:15,200] Working on shot: 20210706012\n",
      "[INFO - 2022-10-31 03:33:15,251] Working on shot: 20210706013\n",
      "[INFO - 2022-10-31 03:33:15,302] Working on shot: 20210708011\n",
      "[INFO - 2022-10-31 03:33:15,377] Working on shot: 20210711014\n",
      "[INFO - 2022-10-31 03:33:15,413] Working on shot: 20210728008\n",
      "[INFO - 2022-10-31 03:33:16,356] Extracting 1\n",
      "[INFO - 2022-10-31 03:33:16,744] Extraction of sources completed in 0.03 minutes.\n",
      "[INFO - 2022-10-31 03:33:16,831] Retrieved 1 spectra.\n"
     ]
    },
    {
     "name": "stdout",
     "output_type": "stream",
     "text": [
      "len(spectra_check) 1\n",
      "len(source_list) 71\n"
     ]
    },
    {
     "name": "stderr",
     "output_type": "stream",
     "text": [
      "[INFO - 2022-10-31 03:33:17,148] Finding shots of interest\n",
      "[INFO - 2022-10-31 03:33:23,251] Number of shots of interest: 2\n",
      "[INFO - 2022-10-31 03:33:23,252] Extracting 2 sources\n",
      "[INFO - 2022-10-31 03:33:23,394] Working on shot: 20200522023\n",
      "[INFO - 2022-10-31 03:33:23,437] Working on shot: 20200522025\n",
      "[INFO - 2022-10-31 03:33:24,199] Extraction of sources completed in 0.01 minutes.\n",
      "[INFO - 2022-10-31 03:33:24,279] Retrieved 0 spectra.\n"
     ]
    },
    {
     "name": "stdout",
     "output_type": "stream",
     "text": [
      "BAD LENGTH!\n",
      "BAD len(spectra_check) 0\n",
      "len(source_list) 71\n"
     ]
    },
    {
     "name": "stderr",
     "output_type": "stream",
     "text": [
      "[INFO - 2022-10-31 03:33:24,539] Finding shots of interest\n",
      "[INFO - 2022-10-31 03:33:30,988] Number of shots of interest: 4\n",
      "[INFO - 2022-10-31 03:33:30,990] Extracting 4 sources\n",
      "[INFO - 2022-10-31 03:33:31,132] Working on shot: 20210518020\n",
      "[INFO - 2022-10-31 03:33:31,184] Working on shot: 20210614017\n",
      "[INFO - 2022-10-31 03:33:31,239] Working on shot: 20210617016\n",
      "[INFO - 2022-10-31 03:33:31,309] Working on shot: 20210710012\n",
      "[INFO - 2022-10-31 03:33:32,408] Extracting 1\n",
      "[INFO - 2022-10-31 03:33:32,840] Extraction of sources completed in 0.03 minutes.\n",
      "[INFO - 2022-10-31 03:33:32,931] Retrieved 1 spectra.\n"
     ]
    },
    {
     "name": "stdout",
     "output_type": "stream",
     "text": [
      "len(spectra_check) 1\n",
      "len(source_list) 72\n"
     ]
    },
    {
     "name": "stderr",
     "output_type": "stream",
     "text": [
      "[INFO - 2022-10-31 03:33:33,198] Finding shots of interest\n",
      "[INFO - 2022-10-31 03:33:39,416] Number of shots of interest: 4\n",
      "[INFO - 2022-10-31 03:33:39,418] Extracting 4 sources\n",
      "[INFO - 2022-10-31 03:33:39,559] Working on shot: 20210609015\n",
      "[INFO - 2022-10-31 03:33:39,631] Working on shot: 20210616019\n",
      "[INFO - 2022-10-31 03:33:39,667] Working on shot: 20210705015\n",
      "[INFO - 2022-10-31 03:33:39,719] Working on shot: 20210709019\n",
      "[INFO - 2022-10-31 03:33:40,944] Extracting 1\n",
      "[INFO - 2022-10-31 03:33:41,426] Extraction of sources completed in 0.03 minutes.\n",
      "[INFO - 2022-10-31 03:33:41,519] Retrieved 1 spectra.\n"
     ]
    },
    {
     "name": "stdout",
     "output_type": "stream",
     "text": [
      "len(spectra_check) 1\n",
      "len(source_list) 73\n"
     ]
    },
    {
     "name": "stderr",
     "output_type": "stream",
     "text": [
      "[INFO - 2022-10-31 03:33:41,806] Finding shots of interest\n",
      "[INFO - 2022-10-31 03:33:48,153] Number of shots of interest: 4\n",
      "[INFO - 2022-10-31 03:33:48,154] Extracting 4 sources\n",
      "[INFO - 2022-10-31 03:33:48,301] Working on shot: 20210518020\n",
      "[INFO - 2022-10-31 03:33:48,341] Working on shot: 20210614017\n",
      "[INFO - 2022-10-31 03:33:48,403] Working on shot: 20210617016\n",
      "[INFO - 2022-10-31 03:33:48,454] Working on shot: 20210710012\n",
      "[INFO - 2022-10-31 03:33:50,138] Extracting 1\n",
      "[INFO - 2022-10-31 03:33:50,890] Extraction of sources completed in 0.04 minutes.\n",
      "[INFO - 2022-10-31 03:33:50,976] Retrieved 1 spectra.\n"
     ]
    },
    {
     "name": "stdout",
     "output_type": "stream",
     "text": [
      "len(spectra_check) 1\n",
      "len(source_list) 74\n"
     ]
    },
    {
     "name": "stderr",
     "output_type": "stream",
     "text": [
      "[INFO - 2022-10-31 03:33:51,249] Finding shots of interest\n",
      "[INFO - 2022-10-31 03:33:57,377] Number of shots of interest: 4\n",
      "[INFO - 2022-10-31 03:33:57,378] Extracting 4 sources\n",
      "[INFO - 2022-10-31 03:33:57,536] Working on shot: 20200711014\n",
      "[INFO - 2022-10-31 03:33:57,609] Working on shot: 20200711015\n",
      "[INFO - 2022-10-31 03:33:57,649] Working on shot: 20200712016\n",
      "[INFO - 2022-10-31 03:33:57,685] Working on shot: 20200712017\n",
      "[INFO - 2022-10-31 03:33:58,735] Extraction of sources completed in 0.02 minutes.\n",
      "[INFO - 2022-10-31 03:33:58,814] Retrieved 0 spectra.\n"
     ]
    },
    {
     "name": "stdout",
     "output_type": "stream",
     "text": [
      "BAD LENGTH!\n",
      "BAD len(spectra_check) 0\n",
      "len(source_list) 74\n"
     ]
    },
    {
     "name": "stderr",
     "output_type": "stream",
     "text": [
      "[INFO - 2022-10-31 03:33:59,099] Finding shots of interest\n",
      "[INFO - 2022-10-31 03:34:05,301] Number of shots of interest: 4\n",
      "[INFO - 2022-10-31 03:34:05,302] Extracting 4 sources\n",
      "[INFO - 2022-10-31 03:34:05,468] Working on shot: 20210609015\n",
      "[INFO - 2022-10-31 03:34:05,512] Working on shot: 20210616019\n",
      "[INFO - 2022-10-31 03:34:05,563] Working on shot: 20210705015\n",
      "[INFO - 2022-10-31 03:34:05,611] Working on shot: 20210709019\n",
      "[INFO - 2022-10-31 03:34:07,078] Extracting 1\n",
      "[INFO - 2022-10-31 03:34:07,586] Extraction of sources completed in 0.04 minutes.\n",
      "[INFO - 2022-10-31 03:34:07,674] Retrieved 1 spectra.\n"
     ]
    },
    {
     "name": "stdout",
     "output_type": "stream",
     "text": [
      "len(spectra_check) 1\n",
      "len(source_list) 75\n"
     ]
    },
    {
     "name": "stderr",
     "output_type": "stream",
     "text": [
      "[INFO - 2022-10-31 03:34:07,942] Finding shots of interest\n",
      "[INFO - 2022-10-31 03:34:14,015] Number of shots of interest: 6\n",
      "[INFO - 2022-10-31 03:34:14,016] Extracting 6 sources\n",
      "[INFO - 2022-10-31 03:34:14,210] Working on shot: 20210611013\n",
      "[INFO - 2022-10-31 03:34:14,241] Working on shot: 20210612014\n",
      "[INFO - 2022-10-31 03:34:14,284] Working on shot: 20210616018\n",
      "[INFO - 2022-10-31 03:34:14,332] Working on shot: 20210708012\n",
      "[INFO - 2022-10-31 03:34:14,371] Working on shot: 20210713016\n",
      "[INFO - 2022-10-31 03:34:14,435] Working on shot: 20210728009\n",
      "[INFO - 2022-10-31 03:34:15,302] Extraction of sources completed in 0.02 minutes.\n",
      "[INFO - 2022-10-31 03:34:15,382] Retrieved 0 spectra.\n"
     ]
    },
    {
     "name": "stdout",
     "output_type": "stream",
     "text": [
      "BAD LENGTH!\n",
      "BAD len(spectra_check) 0\n",
      "len(source_list) 75\n"
     ]
    },
    {
     "name": "stderr",
     "output_type": "stream",
     "text": [
      "[INFO - 2022-10-31 03:34:15,677] Finding shots of interest\n",
      "[INFO - 2022-10-31 03:34:21,931] Number of shots of interest: 1\n",
      "[INFO - 2022-10-31 03:34:21,932] Extracting 1 sources\n",
      "[INFO - 2022-10-31 03:34:22,132] Working on shot: 20210510026\n",
      "[INFO - 2022-10-31 03:34:23,224] Extraction of sources completed in 0.02 minutes.\n",
      "[INFO - 2022-10-31 03:34:23,312] Retrieved 0 spectra.\n"
     ]
    },
    {
     "name": "stdout",
     "output_type": "stream",
     "text": [
      "BAD LENGTH!\n",
      "BAD len(spectra_check) 0\n",
      "len(source_list) 75\n"
     ]
    },
    {
     "name": "stderr",
     "output_type": "stream",
     "text": [
      "[INFO - 2022-10-31 03:34:23,700] Finding shots of interest\n",
      "[INFO - 2022-10-31 03:34:30,114] Number of shots of interest: 4\n",
      "[INFO - 2022-10-31 03:34:30,115] Extracting 4 sources\n",
      "[INFO - 2022-10-31 03:34:30,286] Working on shot: 20210518020\n",
      "[INFO - 2022-10-31 03:34:30,352] Working on shot: 20210614017\n",
      "[INFO - 2022-10-31 03:34:30,433] Working on shot: 20210617016\n",
      "[INFO - 2022-10-31 03:34:30,489] Working on shot: 20210710012\n",
      "[INFO - 2022-10-31 03:34:31,773] Extracting 1\n",
      "[INFO - 2022-10-31 03:34:32,395] Extraction of sources completed in 0.04 minutes.\n",
      "[INFO - 2022-10-31 03:34:32,486] Retrieved 1 spectra.\n"
     ]
    },
    {
     "name": "stdout",
     "output_type": "stream",
     "text": [
      "len(spectra_check) 1\n",
      "len(source_list) 76\n"
     ]
    },
    {
     "name": "stderr",
     "output_type": "stream",
     "text": [
      "[INFO - 2022-10-31 03:34:32,774] Finding shots of interest\n",
      "[INFO - 2022-10-31 03:34:38,890] Number of shots of interest: 4\n",
      "[INFO - 2022-10-31 03:34:38,892] Extracting 4 sources\n",
      "[INFO - 2022-10-31 03:34:39,034] Working on shot: 20210514007\n",
      "[INFO - 2022-10-31 03:34:39,077] Working on shot: 20210604005\n",
      "[INFO - 2022-10-31 03:34:39,147] Working on shot: 20210605014\n",
      "[INFO - 2022-10-31 03:34:39,218] Working on shot: 20210608013\n",
      "[INFO - 2022-10-31 03:34:40,578] Extracting 1\n",
      "[INFO - 2022-10-31 03:34:40,983] Extraction of sources completed in 0.03 minutes.\n",
      "[INFO - 2022-10-31 03:34:41,072] Retrieved 1 spectra.\n"
     ]
    },
    {
     "name": "stdout",
     "output_type": "stream",
     "text": [
      "len(spectra_check) 1\n",
      "len(source_list) 77\n"
     ]
    },
    {
     "name": "stderr",
     "output_type": "stream",
     "text": [
      "[INFO - 2022-10-31 03:34:41,540] Finding shots of interest\n",
      "[INFO - 2022-10-31 03:34:47,618] Number of shots of interest: 3\n",
      "[INFO - 2022-10-31 03:34:47,620] Extracting 3 sources\n",
      "[INFO - 2022-10-31 03:34:47,758] Working on shot: 20210709017\n",
      "[INFO - 2022-10-31 03:34:47,807] Working on shot: 20210709018\n",
      "[INFO - 2022-10-31 03:34:47,892] Working on shot: 20210713017\n",
      "[INFO - 2022-10-31 03:34:48,947] Extracting 1\n",
      "[INFO - 2022-10-31 03:34:49,021] Extracting 1\n",
      "[INFO - 2022-10-31 03:34:49,398] Extraction of sources completed in 0.03 minutes.\n",
      "[INFO - 2022-10-31 03:34:49,491] Retrieved 2 spectra.\n"
     ]
    },
    {
     "name": "stdout",
     "output_type": "stream",
     "text": [
      "BAD LENGTH!\n",
      "BAD len(spectra_check) 2\n",
      "len(source_list) 77\n"
     ]
    },
    {
     "name": "stderr",
     "output_type": "stream",
     "text": [
      "[INFO - 2022-10-31 03:34:49,781] Finding shots of interest\n",
      "[INFO - 2022-10-31 03:34:55,897] Number of shots of interest: 8\n",
      "[INFO - 2022-10-31 03:34:55,898] Extracting 8 sources\n",
      "[INFO - 2022-10-31 03:34:56,033] Working on shot: 20210510026\n",
      "[INFO - 2022-10-31 03:34:56,088] Working on shot: 20210609015\n",
      "[INFO - 2022-10-31 03:34:56,156] Working on shot: 20210612015\n",
      "[INFO - 2022-10-31 03:34:56,226] Working on shot: 20210616019\n",
      "[INFO - 2022-10-31 03:34:56,304] Working on shot: 20210616020\n",
      "[INFO - 2022-10-31 03:34:56,359] Working on shot: 20210616021\n",
      "[INFO - 2022-10-31 03:34:56,450] Working on shot: 20210705015\n",
      "[INFO - 2022-10-31 03:34:56,506] Working on shot: 20210709019\n",
      "[INFO - 2022-10-31 03:34:57,685] Extracting 1\n",
      "[INFO - 2022-10-31 03:34:58,014] Extraction of sources completed in 0.03 minutes.\n",
      "[INFO - 2022-10-31 03:34:58,100] Retrieved 1 spectra.\n"
     ]
    },
    {
     "name": "stdout",
     "output_type": "stream",
     "text": [
      "len(spectra_check) 1\n",
      "len(source_list) 78\n"
     ]
    },
    {
     "name": "stderr",
     "output_type": "stream",
     "text": [
      "[INFO - 2022-10-31 03:34:58,394] Finding shots of interest\n",
      "[INFO - 2022-10-31 03:35:04,657] Number of shots of interest: 8\n",
      "[INFO - 2022-10-31 03:35:04,658] Extracting 8 sources\n",
      "[INFO - 2022-10-31 03:35:04,793] Working on shot: 20200716013\n",
      "[INFO - 2022-10-31 03:35:04,884] Working on shot: 20200815012\n",
      "[INFO - 2022-10-31 03:35:04,973] Working on shot: 20200815013\n",
      "[INFO - 2022-10-31 03:35:04,996] Working on shot: 20200815014\n",
      "[INFO - 2022-10-31 03:35:05,049] Working on shot: 20200816011\n",
      "[INFO - 2022-10-31 03:35:05,102] Working on shot: 20200816012\n",
      "[INFO - 2022-10-31 03:35:05,157] Working on shot: 20200817011\n",
      "[INFO - 2022-10-31 03:35:05,207] Working on shot: 20210827007\n",
      "[INFO - 2022-10-31 03:35:06,310] Extracting 1\n",
      "[INFO - 2022-10-31 03:35:06,457] Extracting 1\n",
      "[INFO - 2022-10-31 03:35:06,814] Extraction of sources completed in 0.03 minutes.\n",
      "[INFO - 2022-10-31 03:35:06,906] Retrieved 2 spectra.\n"
     ]
    },
    {
     "name": "stdout",
     "output_type": "stream",
     "text": [
      "BAD LENGTH!\n",
      "BAD len(spectra_check) 2\n",
      "len(source_list) 78\n"
     ]
    },
    {
     "name": "stderr",
     "output_type": "stream",
     "text": [
      "[INFO - 2022-10-31 03:35:07,190] Finding shots of interest\n",
      "[INFO - 2022-10-31 03:35:13,376] Number of shots of interest: 0\n",
      "[INFO - 2022-10-31 03:35:13,378] Extracting 0 sources\n",
      "[INFO - 2022-10-31 03:35:13,446] Extraction of sources completed in 0.00 minutes.\n",
      "[INFO - 2022-10-31 03:35:13,524] Retrieved 0 spectra.\n"
     ]
    },
    {
     "name": "stdout",
     "output_type": "stream",
     "text": [
      "BAD LENGTH!\n",
      "BAD len(spectra_check) 0\n",
      "len(source_list) 78\n"
     ]
    },
    {
     "name": "stderr",
     "output_type": "stream",
     "text": [
      "[INFO - 2022-10-31 03:35:13,784] Finding shots of interest\n",
      "[INFO - 2022-10-31 03:35:20,002] Number of shots of interest: 4\n",
      "[INFO - 2022-10-31 03:35:20,003] Extracting 4 sources\n",
      "[INFO - 2022-10-31 03:35:20,152] Working on shot: 20210510026\n",
      "[INFO - 2022-10-31 03:35:20,211] Working on shot: 20210612015\n",
      "[INFO - 2022-10-31 03:35:20,251] Working on shot: 20210616020\n",
      "[INFO - 2022-10-31 03:35:20,317] Working on shot: 20210616021\n",
      "[INFO - 2022-10-31 03:35:21,521] Extraction of sources completed in 0.02 minutes.\n",
      "[INFO - 2022-10-31 03:35:21,612] Retrieved 0 spectra.\n"
     ]
    },
    {
     "name": "stdout",
     "output_type": "stream",
     "text": [
      "BAD LENGTH!\n",
      "BAD len(spectra_check) 0\n",
      "len(source_list) 78\n"
     ]
    },
    {
     "name": "stderr",
     "output_type": "stream",
     "text": [
      "[INFO - 2022-10-31 03:35:21,874] Finding shots of interest\n",
      "[INFO - 2022-10-31 03:35:27,901] Number of shots of interest: 7\n",
      "[INFO - 2022-10-31 03:35:27,903] Extracting 7 sources\n",
      "[INFO - 2022-10-31 03:35:28,047] Working on shot: 20210609015\n",
      "[INFO - 2022-10-31 03:35:28,124] Working on shot: 20210616019\n",
      "[INFO - 2022-10-31 03:35:28,148] Working on shot: 20210616020\n",
      "[INFO - 2022-10-31 03:35:28,204] Working on shot: 20210705015\n",
      "[INFO - 2022-10-31 03:35:28,254] Working on shot: 20210706015\n",
      "[INFO - 2022-10-31 03:35:28,321] Working on shot: 20210709019\n",
      "[INFO - 2022-10-31 03:35:28,376] Working on shot: 20210710013\n",
      "[INFO - 2022-10-31 03:35:29,653] Extracting 1\n",
      "[INFO - 2022-10-31 03:35:30,104] Extraction of sources completed in 0.04 minutes.\n",
      "[INFO - 2022-10-31 03:35:30,195] Retrieved 1 spectra.\n"
     ]
    },
    {
     "name": "stdout",
     "output_type": "stream",
     "text": [
      "len(spectra_check) 1\n",
      "len(source_list) 79\n"
     ]
    },
    {
     "name": "stderr",
     "output_type": "stream",
     "text": [
      "[INFO - 2022-10-31 03:35:30,669] Finding shots of interest\n",
      "[INFO - 2022-10-31 03:35:36,761] Number of shots of interest: 0\n",
      "[INFO - 2022-10-31 03:35:36,762] Extracting 0 sources\n",
      "[INFO - 2022-10-31 03:35:36,827] Extraction of sources completed in 0.00 minutes.\n",
      "[INFO - 2022-10-31 03:35:36,906] Retrieved 0 spectra.\n"
     ]
    },
    {
     "name": "stdout",
     "output_type": "stream",
     "text": [
      "BAD LENGTH!\n",
      "BAD len(spectra_check) 0\n",
      "len(source_list) 79\n"
     ]
    },
    {
     "name": "stderr",
     "output_type": "stream",
     "text": [
      "[INFO - 2022-10-31 03:35:37,175] Finding shots of interest\n",
      "[INFO - 2022-10-31 03:35:43,315] Number of shots of interest: 4\n",
      "[INFO - 2022-10-31 03:35:43,316] Extracting 4 sources\n",
      "[INFO - 2022-10-31 03:35:43,461] Working on shot: 20210609015\n",
      "[INFO - 2022-10-31 03:35:43,513] Working on shot: 20210616019\n",
      "[INFO - 2022-10-31 03:35:43,582] Working on shot: 20210705015\n",
      "[INFO - 2022-10-31 03:35:43,621] Working on shot: 20210709019\n",
      "[INFO - 2022-10-31 03:35:44,741] Extracting 1\n",
      "[INFO - 2022-10-31 03:35:45,146] Extraction of sources completed in 0.03 minutes.\n",
      "[INFO - 2022-10-31 03:35:45,236] Retrieved 1 spectra.\n"
     ]
    },
    {
     "name": "stdout",
     "output_type": "stream",
     "text": [
      "len(spectra_check) 1\n",
      "len(source_list) 80\n"
     ]
    },
    {
     "name": "stderr",
     "output_type": "stream",
     "text": [
      "[INFO - 2022-10-31 03:35:45,492] Finding shots of interest\n",
      "[INFO - 2022-10-31 03:35:51,982] Number of shots of interest: 4\n",
      "[INFO - 2022-10-31 03:35:51,984] Extracting 4 sources\n",
      "[INFO - 2022-10-31 03:35:52,123] Working on shot: 20210706014\n",
      "[INFO - 2022-10-31 03:35:52,181] Working on shot: 20210709017\n",
      "[INFO - 2022-10-31 03:35:52,221] Working on shot: 20210709018\n",
      "[INFO - 2022-10-31 03:35:52,300] Working on shot: 20210713017\n",
      "[INFO - 2022-10-31 03:35:53,368] Extracting 1\n",
      "[INFO - 2022-10-31 03:35:53,715] Extraction of sources completed in 0.03 minutes.\n",
      "[INFO - 2022-10-31 03:35:53,805] Retrieved 1 spectra.\n"
     ]
    },
    {
     "name": "stdout",
     "output_type": "stream",
     "text": [
      "len(spectra_check) 1\n",
      "len(source_list) 81\n"
     ]
    },
    {
     "name": "stderr",
     "output_type": "stream",
     "text": [
      "[INFO - 2022-10-31 03:35:54,066] Finding shots of interest\n",
      "[INFO - 2022-10-31 03:35:59,908] Number of shots of interest: 4\n",
      "[INFO - 2022-10-31 03:35:59,909] Extracting 4 sources\n",
      "[INFO - 2022-10-31 03:36:00,074] Working on shot: 20210514007\n",
      "[INFO - 2022-10-31 03:36:00,095] Working on shot: 20210604005\n",
      "[INFO - 2022-10-31 03:36:00,142] Working on shot: 20210605014\n",
      "[INFO - 2022-10-31 03:36:00,195] Working on shot: 20210608013\n",
      "[INFO - 2022-10-31 03:36:00,997] Extraction of sources completed in 0.02 minutes.\n",
      "[INFO - 2022-10-31 03:36:01,087] Retrieved 0 spectra.\n"
     ]
    },
    {
     "name": "stdout",
     "output_type": "stream",
     "text": [
      "BAD LENGTH!\n",
      "BAD len(spectra_check) 0\n",
      "len(source_list) 81\n"
     ]
    },
    {
     "name": "stderr",
     "output_type": "stream",
     "text": [
      "[INFO - 2022-10-31 03:36:01,338] Finding shots of interest\n",
      "[INFO - 2022-10-31 03:36:07,297] Number of shots of interest: 11\n",
      "[INFO - 2022-10-31 03:36:07,299] Extracting 11 sources\n",
      "[INFO - 2022-10-31 03:36:07,441] Working on shot: 20200713016\n",
      "[INFO - 2022-10-31 03:36:07,486] Working on shot: 20200713017\n",
      "[INFO - 2022-10-31 03:36:07,540] Working on shot: 20200723001\n",
      "[INFO - 2022-10-31 03:36:07,592] Working on shot: 20200724014\n",
      "[INFO - 2022-10-31 03:36:07,645] Working on shot: 20200812015\n",
      "[INFO - 2022-10-31 03:36:07,709] Working on shot: 20200818014\n",
      "[INFO - 2022-10-31 03:36:07,782] Working on shot: 20200820011\n",
      "[INFO - 2022-10-31 03:36:07,799] Working on shot: 20210617017\n",
      "[INFO - 2022-10-31 03:36:07,854] Working on shot: 20210618020\n",
      "[INFO - 2022-10-31 03:36:07,902] Working on shot: 20210706015\n",
      "[INFO - 2022-10-31 03:36:07,955] Working on shot: 20210710013\n",
      "[INFO - 2022-10-31 03:36:08,934] Extraction of sources completed in 0.03 minutes.\n",
      "[INFO - 2022-10-31 03:36:09,027] Retrieved 0 spectra.\n"
     ]
    },
    {
     "name": "stdout",
     "output_type": "stream",
     "text": [
      "BAD LENGTH!\n",
      "BAD len(spectra_check) 0\n",
      "len(source_list) 81\n"
     ]
    },
    {
     "name": "stderr",
     "output_type": "stream",
     "text": [
      "[INFO - 2022-10-31 03:36:09,462] Finding shots of interest\n",
      "[INFO - 2022-10-31 03:36:15,684] Number of shots of interest: 7\n",
      "[INFO - 2022-10-31 03:36:15,686] Extracting 7 sources\n",
      "[INFO - 2022-10-31 03:36:15,848] Working on shot: 20210611013\n",
      "[INFO - 2022-10-31 03:36:15,883] Working on shot: 20210612014\n",
      "[INFO - 2022-10-31 03:36:15,936] Working on shot: 20210616018\n",
      "[INFO - 2022-10-31 03:36:15,991] Working on shot: 20210708012\n",
      "[INFO - 2022-10-31 03:36:16,046] Working on shot: 20210709017\n",
      "[INFO - 2022-10-31 03:36:16,096] Working on shot: 20210709018\n",
      "[INFO - 2022-10-31 03:36:16,148] Working on shot: 20210713017\n",
      "[INFO - 2022-10-31 03:36:17,106] Extracting 1\n",
      "[INFO - 2022-10-31 03:36:17,563] Extraction of sources completed in 0.03 minutes.\n",
      "[INFO - 2022-10-31 03:36:17,660] Retrieved 1 spectra.\n"
     ]
    },
    {
     "name": "stdout",
     "output_type": "stream",
     "text": [
      "len(spectra_check) 1\n",
      "len(source_list) 82\n"
     ]
    },
    {
     "name": "stderr",
     "output_type": "stream",
     "text": [
      "[INFO - 2022-10-31 03:36:17,936] Finding shots of interest\n",
      "[INFO - 2022-10-31 03:36:24,218] Number of shots of interest: 2\n",
      "[INFO - 2022-10-31 03:36:24,219] Extracting 2 sources\n",
      "[INFO - 2022-10-31 03:36:24,355] Working on shot: 20210706014\n",
      "[INFO - 2022-10-31 03:36:24,402] Working on shot: 20210728010\n",
      "[INFO - 2022-10-31 03:36:25,164] Extraction of sources completed in 0.01 minutes.\n",
      "[INFO - 2022-10-31 03:36:25,256] Retrieved 0 spectra.\n"
     ]
    },
    {
     "name": "stdout",
     "output_type": "stream",
     "text": [
      "BAD LENGTH!\n",
      "BAD len(spectra_check) 0\n",
      "len(source_list) 82\n"
     ]
    },
    {
     "name": "stderr",
     "output_type": "stream",
     "text": [
      "[INFO - 2022-10-31 03:36:25,513] Finding shots of interest\n",
      "[INFO - 2022-10-31 03:36:31,407] Number of shots of interest: 2\n",
      "[INFO - 2022-10-31 03:36:31,408] Extracting 2 sources\n",
      "[INFO - 2022-10-31 03:36:31,543] Working on shot: 20210510026\n",
      "[INFO - 2022-10-31 03:36:31,593] Working on shot: 20210616019\n",
      "[INFO - 2022-10-31 03:36:32,472] Extraction of sources completed in 0.02 minutes.\n",
      "[INFO - 2022-10-31 03:36:32,562] Retrieved 0 spectra.\n"
     ]
    },
    {
     "name": "stdout",
     "output_type": "stream",
     "text": [
      "BAD LENGTH!\n",
      "BAD len(spectra_check) 0\n",
      "len(source_list) 82\n"
     ]
    },
    {
     "name": "stderr",
     "output_type": "stream",
     "text": [
      "[INFO - 2022-10-31 03:36:32,840] Finding shots of interest\n",
      "[INFO - 2022-10-31 03:36:39,109] Number of shots of interest: 4\n",
      "[INFO - 2022-10-31 03:36:39,110] Extracting 4 sources\n",
      "[INFO - 2022-10-31 03:36:39,249] Working on shot: 20200522023\n",
      "[INFO - 2022-10-31 03:36:39,329] Working on shot: 20200522024\n",
      "[INFO - 2022-10-31 03:36:39,350] Working on shot: 20200522025\n",
      "[INFO - 2022-10-31 03:36:39,416] Working on shot: 20200522026\n",
      "[INFO - 2022-10-31 03:36:40,351] Extraction of sources completed in 0.02 minutes.\n",
      "[INFO - 2022-10-31 03:36:40,430] Retrieved 0 spectra.\n"
     ]
    },
    {
     "name": "stdout",
     "output_type": "stream",
     "text": [
      "BAD LENGTH!\n",
      "BAD len(spectra_check) 0\n",
      "len(source_list) 82\n"
     ]
    },
    {
     "name": "stderr",
     "output_type": "stream",
     "text": [
      "[INFO - 2022-10-31 03:36:40,694] Finding shots of interest\n",
      "[INFO - 2022-10-31 03:36:46,760] Number of shots of interest: 0\n",
      "[INFO - 2022-10-31 03:36:46,761] Extracting 0 sources\n",
      "[INFO - 2022-10-31 03:36:46,819] Extraction of sources completed in 0.00 minutes.\n",
      "[INFO - 2022-10-31 03:36:46,896] Retrieved 0 spectra.\n"
     ]
    },
    {
     "name": "stdout",
     "output_type": "stream",
     "text": [
      "BAD LENGTH!\n",
      "BAD len(spectra_check) 0\n",
      "len(source_list) 82\n"
     ]
    },
    {
     "name": "stderr",
     "output_type": "stream",
     "text": [
      "[INFO - 2022-10-31 03:36:47,164] Finding shots of interest\n",
      "[INFO - 2022-10-31 03:36:53,511] Number of shots of interest: 0\n",
      "[INFO - 2022-10-31 03:36:53,513] Extracting 0 sources\n",
      "[INFO - 2022-10-31 03:36:53,574] Extraction of sources completed in 0.00 minutes.\n",
      "[INFO - 2022-10-31 03:36:53,653] Retrieved 0 spectra.\n"
     ]
    },
    {
     "name": "stdout",
     "output_type": "stream",
     "text": [
      "BAD LENGTH!\n",
      "BAD len(spectra_check) 0\n",
      "len(source_list) 82\n"
     ]
    },
    {
     "name": "stderr",
     "output_type": "stream",
     "text": [
      "[INFO - 2022-10-31 03:36:53,910] Finding shots of interest\n",
      "[INFO - 2022-10-31 03:37:00,066] Number of shots of interest: 11\n",
      "[INFO - 2022-10-31 03:37:00,068] Extracting 11 sources\n",
      "[INFO - 2022-10-31 03:37:00,204] Working on shot: 20200713016\n",
      "[INFO - 2022-10-31 03:37:00,248] Working on shot: 20200713017\n",
      "[INFO - 2022-10-31 03:37:00,302] Working on shot: 20200723001\n",
      "[INFO - 2022-10-31 03:37:00,349] Working on shot: 20200724014\n",
      "[INFO - 2022-10-31 03:37:00,404] Working on shot: 20200812015\n",
      "[INFO - 2022-10-31 03:37:00,456] Working on shot: 20200818014\n",
      "[INFO - 2022-10-31 03:37:00,512] Working on shot: 20200820011\n",
      "[INFO - 2022-10-31 03:37:00,564] Working on shot: 20210617017\n",
      "[INFO - 2022-10-31 03:37:00,612] Working on shot: 20210618020\n",
      "[INFO - 2022-10-31 03:37:00,670] Working on shot: 20210706015\n",
      "[INFO - 2022-10-31 03:37:00,725] Working on shot: 20210710013\n",
      "[INFO - 2022-10-31 03:37:01,691] Extracting 1\n",
      "[INFO - 2022-10-31 03:37:01,715] Extracting 1\n",
      "[INFO - 2022-10-31 03:37:01,901] Extracting 1\n",
      "[INFO - 2022-10-31 03:37:02,258] Extraction of sources completed in 0.04 minutes.\n",
      "[INFO - 2022-10-31 03:37:02,358] Retrieved 3 spectra.\n"
     ]
    },
    {
     "name": "stdout",
     "output_type": "stream",
     "text": [
      "BAD LENGTH!\n",
      "BAD len(spectra_check) 3\n",
      "len(source_list) 82\n"
     ]
    },
    {
     "name": "stderr",
     "output_type": "stream",
     "text": [
      "[INFO - 2022-10-31 03:37:02,622] Finding shots of interest\n",
      "[INFO - 2022-10-31 03:37:08,992] Number of shots of interest: 8\n",
      "[INFO - 2022-10-31 03:37:08,993] Extracting 8 sources\n",
      "[INFO - 2022-10-31 03:37:09,141] Working on shot: 20200818014\n",
      "[INFO - 2022-10-31 03:37:09,184] Working on shot: 20200820011\n",
      "[INFO - 2022-10-31 03:37:09,238] Working on shot: 20210610022\n",
      "[INFO - 2022-10-31 03:37:09,295] Working on shot: 20210611015\n",
      "[INFO - 2022-10-31 03:37:09,341] Working on shot: 20210612016\n",
      "[INFO - 2022-10-31 03:37:09,416] Working on shot: 20210614018\n",
      "[INFO - 2022-10-31 03:37:09,492] Working on shot: 20210617017\n",
      "[INFO - 2022-10-31 03:37:09,549] Working on shot: 20210618020\n",
      "[INFO - 2022-10-31 03:37:13,074] Extracting 1\n",
      "[INFO - 2022-10-31 03:37:13,517] Extraction of sources completed in 0.07 minutes.\n",
      "[INFO - 2022-10-31 03:37:13,611] Retrieved 1 spectra.\n"
     ]
    },
    {
     "name": "stdout",
     "output_type": "stream",
     "text": [
      "len(spectra_check) 1\n",
      "len(source_list) 83\n"
     ]
    },
    {
     "name": "stderr",
     "output_type": "stream",
     "text": [
      "[INFO - 2022-10-31 03:37:13,860] Finding shots of interest\n",
      "[INFO - 2022-10-31 03:37:19,869] Number of shots of interest: 8\n",
      "[INFO - 2022-10-31 03:37:19,870] Extracting 8 sources\n",
      "[INFO - 2022-10-31 03:37:20,043] Working on shot: 20210517023\n",
      "[INFO - 2022-10-31 03:37:20,069] Working on shot: 20210518019\n",
      "[INFO - 2022-10-31 03:37:20,113] Working on shot: 20210519024\n",
      "[INFO - 2022-10-31 03:37:20,170] Working on shot: 20210604004\n",
      "[INFO - 2022-10-31 03:37:20,224] Working on shot: 20210608012\n",
      "[INFO - 2022-10-31 03:37:20,280] Working on shot: 20210609014\n",
      "[INFO - 2022-10-31 03:37:20,341] Working on shot: 20210611012\n",
      "[INFO - 2022-10-31 03:37:20,395] Working on shot: 20210612013\n",
      "[INFO - 2022-10-31 03:37:21,876] Extracting 1\n",
      "[INFO - 2022-10-31 03:37:22,309] Extracting 1\n",
      "[INFO - 2022-10-31 03:37:22,752] Extraction of sources completed in 0.05 minutes.\n",
      "[INFO - 2022-10-31 03:37:22,844] Retrieved 2 spectra.\n"
     ]
    },
    {
     "name": "stdout",
     "output_type": "stream",
     "text": [
      "BAD LENGTH!\n",
      "BAD len(spectra_check) 2\n",
      "len(source_list) 83\n"
     ]
    },
    {
     "name": "stderr",
     "output_type": "stream",
     "text": [
      "[INFO - 2022-10-31 03:37:23,164] Finding shots of interest\n",
      "[INFO - 2022-10-31 03:37:29,306] Number of shots of interest: 0\n",
      "[INFO - 2022-10-31 03:37:29,308] Extracting 0 sources\n",
      "[INFO - 2022-10-31 03:37:29,371] Extraction of sources completed in 0.00 minutes.\n",
      "[INFO - 2022-10-31 03:37:29,454] Retrieved 0 spectra.\n"
     ]
    },
    {
     "name": "stdout",
     "output_type": "stream",
     "text": [
      "BAD LENGTH!\n",
      "BAD len(spectra_check) 0\n",
      "len(source_list) 83\n"
     ]
    },
    {
     "name": "stderr",
     "output_type": "stream",
     "text": [
      "[INFO - 2022-10-31 03:37:29,715] Finding shots of interest\n",
      "[INFO - 2022-10-31 03:37:36,295] Number of shots of interest: 5\n",
      "[INFO - 2022-10-31 03:37:36,296] Extracting 5 sources\n",
      "[INFO - 2022-10-31 03:37:36,468] Working on shot: 20210616017\n",
      "[INFO - 2022-10-31 03:37:36,533] Working on shot: 20210706012\n",
      "[INFO - 2022-10-31 03:37:36,618] Working on shot: 20210706013\n",
      "[INFO - 2022-10-31 03:37:36,675] Working on shot: 20210708011\n",
      "[INFO - 2022-10-31 03:37:36,793] Working on shot: 20210728009\n",
      "[INFO - 2022-10-31 03:37:37,512] Extracting 1\n",
      "[INFO - 2022-10-31 03:37:37,904] Extraction of sources completed in 0.03 minutes.\n",
      "[INFO - 2022-10-31 03:37:37,989] Retrieved 1 spectra.\n"
     ]
    },
    {
     "name": "stdout",
     "output_type": "stream",
     "text": [
      "len(spectra_check) 1\n",
      "len(source_list) 84\n"
     ]
    },
    {
     "name": "stderr",
     "output_type": "stream",
     "text": [
      "[INFO - 2022-10-31 03:37:38,255] Finding shots of interest\n",
      "[INFO - 2022-10-31 03:37:44,383] Number of shots of interest: 5\n",
      "[INFO - 2022-10-31 03:37:44,385] Extracting 5 sources\n",
      "[INFO - 2022-10-31 03:37:44,541] Working on shot: 20210706014\n",
      "[INFO - 2022-10-31 03:37:44,600] Working on shot: 20210709017\n",
      "[INFO - 2022-10-31 03:37:44,644] Working on shot: 20210709018\n",
      "[INFO - 2022-10-31 03:37:44,726] Working on shot: 20210713017\n",
      "[INFO - 2022-10-31 03:37:44,785] Working on shot: 20210728010\n",
      "[INFO - 2022-10-31 03:37:45,726] Extracting 1\n",
      "[INFO - 2022-10-31 03:37:46,088] Extraction of sources completed in 0.03 minutes.\n",
      "[INFO - 2022-10-31 03:37:46,175] Retrieved 0 spectra.\n"
     ]
    },
    {
     "name": "stdout",
     "output_type": "stream",
     "text": [
      "BAD LENGTH!\n",
      "BAD len(spectra_check) 0\n",
      "len(source_list) 84\n"
     ]
    },
    {
     "name": "stderr",
     "output_type": "stream",
     "text": [
      "[INFO - 2022-10-31 03:37:46,462] Finding shots of interest\n",
      "[INFO - 2022-10-31 03:37:52,819] Number of shots of interest: 7\n",
      "[INFO - 2022-10-31 03:37:52,821] Extracting 7 sources\n",
      "[INFO - 2022-10-31 03:37:52,955] Working on shot: 20210518020\n",
      "[INFO - 2022-10-31 03:37:53,002] Working on shot: 20210609015\n",
      "[INFO - 2022-10-31 03:37:53,054] Working on shot: 20210614017\n",
      "[INFO - 2022-10-31 03:37:53,132] Working on shot: 20210616019\n",
      "[INFO - 2022-10-31 03:37:53,177] Working on shot: 20210705015\n",
      "[INFO - 2022-10-31 03:37:53,241] Working on shot: 20210709019\n",
      "[INFO - 2022-10-31 03:37:53,286] Working on shot: 20210710012\n",
      "[INFO - 2022-10-31 03:37:54,166] Extraction of sources completed in 0.02 minutes.\n",
      "[INFO - 2022-10-31 03:37:54,254] Retrieved 0 spectra.\n"
     ]
    },
    {
     "name": "stdout",
     "output_type": "stream",
     "text": [
      "BAD LENGTH!\n",
      "BAD len(spectra_check) 0\n",
      "len(source_list) 84\n"
     ]
    },
    {
     "name": "stderr",
     "output_type": "stream",
     "text": [
      "[INFO - 2022-10-31 03:37:54,521] Finding shots of interest\n",
      "[INFO - 2022-10-31 03:38:00,636] Number of shots of interest: 8\n",
      "[INFO - 2022-10-31 03:38:00,637] Extracting 8 sources\n",
      "[INFO - 2022-10-31 03:38:00,771] Working on shot: 20200522023\n",
      "[INFO - 2022-10-31 03:38:00,824] Working on shot: 20200522024\n",
      "[INFO - 2022-10-31 03:38:00,898] Working on shot: 20200522025\n",
      "[INFO - 2022-10-31 03:38:00,925] Working on shot: 20200522026\n",
      "[INFO - 2022-10-31 03:38:00,983] Working on shot: 20200716014\n",
      "[INFO - 2022-10-31 03:38:01,030] Working on shot: 20200812016\n",
      "[INFO - 2022-10-31 03:38:01,082] Working on shot: 20200813010\n",
      "[INFO - 2022-10-31 03:38:01,138] Working on shot: 20200813011\n",
      "[INFO - 2022-10-31 03:38:02,394] Extracting 1\n",
      "[INFO - 2022-10-31 03:38:02,828] Extraction of sources completed in 0.04 minutes.\n",
      "[INFO - 2022-10-31 03:38:02,930] Retrieved 1 spectra.\n"
     ]
    },
    {
     "name": "stdout",
     "output_type": "stream",
     "text": [
      "len(spectra_check) 1\n",
      "len(source_list) 85\n"
     ]
    },
    {
     "name": "stderr",
     "output_type": "stream",
     "text": [
      "[INFO - 2022-10-31 03:38:03,205] Finding shots of interest\n",
      "[INFO - 2022-10-31 03:38:09,482] Number of shots of interest: 0\n",
      "[INFO - 2022-10-31 03:38:09,483] Extracting 0 sources\n",
      "[INFO - 2022-10-31 03:38:09,548] Extraction of sources completed in 0.00 minutes.\n",
      "[INFO - 2022-10-31 03:38:09,643] Retrieved 0 spectra.\n"
     ]
    },
    {
     "name": "stdout",
     "output_type": "stream",
     "text": [
      "BAD LENGTH!\n",
      "BAD len(spectra_check) 0\n",
      "len(source_list) 85\n"
     ]
    },
    {
     "name": "stderr",
     "output_type": "stream",
     "text": [
      "[INFO - 2022-10-31 03:38:09,937] Finding shots of interest\n",
      "[INFO - 2022-10-31 03:38:16,037] Number of shots of interest: 12\n",
      "[INFO - 2022-10-31 03:38:16,038] Extracting 12 sources\n",
      "[INFO - 2022-10-31 03:38:16,181] Working on shot: 20200818014\n",
      "[INFO - 2022-10-31 03:38:16,253] Working on shot: 20200820011\n",
      "[INFO - 2022-10-31 03:38:16,299] Working on shot: 20210510026\n",
      "[INFO - 2022-10-31 03:38:16,349] Working on shot: 20210609015\n",
      "[INFO - 2022-10-31 03:38:16,413] Working on shot: 20210612015\n",
      "[INFO - 2022-10-31 03:38:16,472] Working on shot: 20210616019\n",
      "[INFO - 2022-10-31 03:38:16,532] Working on shot: 20210616020\n",
      "[INFO - 2022-10-31 03:38:16,589] Working on shot: 20210616021\n",
      "[INFO - 2022-10-31 03:38:16,666] Working on shot: 20210705015\n",
      "[INFO - 2022-10-31 03:38:16,715] Working on shot: 20210706015\n",
      "[INFO - 2022-10-31 03:38:16,786] Working on shot: 20210709019\n",
      "[INFO - 2022-10-31 03:38:16,858] Working on shot: 20210710013\n",
      "[INFO - 2022-10-31 03:38:17,752] Extracting 1\n",
      "[INFO - 2022-10-31 03:38:18,152] Extraction of sources completed in 0.03 minutes.\n",
      "[INFO - 2022-10-31 03:38:18,243] Retrieved 1 spectra.\n"
     ]
    },
    {
     "name": "stdout",
     "output_type": "stream",
     "text": [
      "len(spectra_check) 1\n",
      "len(source_list) 86\n"
     ]
    },
    {
     "name": "stderr",
     "output_type": "stream",
     "text": [
      "[INFO - 2022-10-31 03:38:18,519] Finding shots of interest\n",
      "[INFO - 2022-10-31 03:38:24,570] Number of shots of interest: 0\n",
      "[INFO - 2022-10-31 03:38:24,571] Extracting 0 sources\n",
      "[INFO - 2022-10-31 03:38:24,636] Extraction of sources completed in 0.00 minutes.\n",
      "[INFO - 2022-10-31 03:38:24,740] Retrieved 0 spectra.\n"
     ]
    },
    {
     "name": "stdout",
     "output_type": "stream",
     "text": [
      "BAD LENGTH!\n",
      "BAD len(spectra_check) 0\n",
      "len(source_list) 86\n"
     ]
    },
    {
     "name": "stderr",
     "output_type": "stream",
     "text": [
      "[INFO - 2022-10-31 03:38:25,182] Finding shots of interest\n",
      "[INFO - 2022-10-31 03:38:31,124] Number of shots of interest: 8\n",
      "[INFO - 2022-10-31 03:38:31,126] Extracting 8 sources\n",
      "[INFO - 2022-10-31 03:38:31,296] Working on shot: 20200712015\n",
      "[INFO - 2022-10-31 03:38:31,336] Working on shot: 20200712018\n",
      "[INFO - 2022-10-31 03:38:31,382] Working on shot: 20200713014\n",
      "[INFO - 2022-10-31 03:38:31,446] Working on shot: 20200713015\n",
      "[INFO - 2022-10-31 03:38:31,491] Working on shot: 20200815012\n",
      "[INFO - 2022-10-31 03:38:31,544] Working on shot: 20200815013\n",
      "[INFO - 2022-10-31 03:38:31,629] Working on shot: 20200815014\n",
      "[INFO - 2022-10-31 03:38:31,668] Working on shot: 20200816011\n",
      "[INFO - 2022-10-31 03:38:32,808] Extracting 1\n",
      "[INFO - 2022-10-31 03:38:33,368] Extraction of sources completed in 0.04 minutes.\n",
      "[INFO - 2022-10-31 03:38:33,454] Retrieved 1 spectra.\n"
     ]
    },
    {
     "name": "stdout",
     "output_type": "stream",
     "text": [
      "len(spectra_check) 1\n",
      "len(source_list) 87\n"
     ]
    },
    {
     "name": "stderr",
     "output_type": "stream",
     "text": [
      "[INFO - 2022-10-31 03:38:33,721] Finding shots of interest\n",
      "[INFO - 2022-10-31 03:38:39,792] Number of shots of interest: 4\n",
      "[INFO - 2022-10-31 03:38:39,793] Extracting 4 sources\n",
      "[INFO - 2022-10-31 03:38:39,941] Working on shot: 20210706014\n",
      "[INFO - 2022-10-31 03:38:40,000] Working on shot: 20210709017\n",
      "[INFO - 2022-10-31 03:38:40,086] Working on shot: 20210713017\n",
      "[INFO - 2022-10-31 03:38:40,136] Working on shot: 20210728010\n",
      "[INFO - 2022-10-31 03:38:41,460] Extracting 1\n",
      "[INFO - 2022-10-31 03:38:41,921] Extraction of sources completed in 0.03 minutes.\n",
      "[INFO - 2022-10-31 03:38:42,012] Retrieved 1 spectra.\n"
     ]
    },
    {
     "name": "stdout",
     "output_type": "stream",
     "text": [
      "len(spectra_check) 1\n",
      "len(source_list) 88\n"
     ]
    },
    {
     "name": "stderr",
     "output_type": "stream",
     "text": [
      "[INFO - 2022-10-31 03:38:42,297] Finding shots of interest\n",
      "[INFO - 2022-10-31 03:38:48,209] Number of shots of interest: 1\n",
      "[INFO - 2022-10-31 03:38:48,210] Extracting 1 sources\n",
      "[INFO - 2022-10-31 03:38:48,384] Working on shot: 20210711014\n",
      "[INFO - 2022-10-31 03:38:49,264] Extraction of sources completed in 0.02 minutes.\n",
      "[INFO - 2022-10-31 03:38:49,343] Retrieved 0 spectra.\n"
     ]
    },
    {
     "name": "stdout",
     "output_type": "stream",
     "text": [
      "BAD LENGTH!\n",
      "BAD len(spectra_check) 0\n",
      "len(source_list) 88\n"
     ]
    },
    {
     "name": "stderr",
     "output_type": "stream",
     "text": [
      "[INFO - 2022-10-31 03:38:49,624] Finding shots of interest\n",
      "[INFO - 2022-10-31 03:38:55,963] Number of shots of interest: 5\n",
      "[INFO - 2022-10-31 03:38:55,964] Extracting 5 sources\n",
      "[INFO - 2022-10-31 03:38:56,122] Working on shot: 20200714013\n",
      "[INFO - 2022-10-31 03:38:56,168] Working on shot: 20200714014\n",
      "[INFO - 2022-10-31 03:38:56,215] Working on shot: 20200714015\n",
      "[INFO - 2022-10-31 03:38:56,283] Working on shot: 20200716012\n",
      "[INFO - 2022-10-31 03:38:56,329] Working on shot: 20210827007\n",
      "[INFO - 2022-10-31 03:38:57,652] Extracting 1\n",
      "[INFO - 2022-10-31 03:38:57,959] Extracting 1\n",
      "[INFO - 2022-10-31 03:38:58,295] Extraction of sources completed in 0.04 minutes.\n",
      "[INFO - 2022-10-31 03:38:58,387] Retrieved 2 spectra.\n"
     ]
    },
    {
     "name": "stdout",
     "output_type": "stream",
     "text": [
      "BAD LENGTH!\n",
      "BAD len(spectra_check) 2\n",
      "len(source_list) 88\n"
     ]
    },
    {
     "name": "stderr",
     "output_type": "stream",
     "text": [
      "[INFO - 2022-10-31 03:38:58,670] Finding shots of interest\n",
      "[INFO - 2022-10-31 03:39:04,764] Number of shots of interest: 4\n",
      "[INFO - 2022-10-31 03:39:04,766] Extracting 4 sources\n",
      "[INFO - 2022-10-31 03:39:04,918] Working on shot: 20210611013\n",
      "[INFO - 2022-10-31 03:39:04,950] Working on shot: 20210612014\n",
      "[INFO - 2022-10-31 03:39:05,012] Working on shot: 20210616018\n",
      "[INFO - 2022-10-31 03:39:05,054] Working on shot: 20210708012\n",
      "[INFO - 2022-10-31 03:39:05,949] Extraction of sources completed in 0.02 minutes.\n",
      "[INFO - 2022-10-31 03:39:06,029] Retrieved 0 spectra.\n"
     ]
    },
    {
     "name": "stdout",
     "output_type": "stream",
     "text": [
      "BAD LENGTH!\n",
      "BAD len(spectra_check) 0\n",
      "len(source_list) 88\n"
     ]
    },
    {
     "name": "stderr",
     "output_type": "stream",
     "text": [
      "[INFO - 2022-10-31 03:39:06,296] Finding shots of interest\n",
      "[INFO - 2022-10-31 03:39:12,207] Number of shots of interest: 5\n",
      "[INFO - 2022-10-31 03:39:12,209] Extracting 5 sources\n",
      "[INFO - 2022-10-31 03:39:12,345] Working on shot: 20210706014\n",
      "[INFO - 2022-10-31 03:39:12,412] Working on shot: 20210709017\n",
      "[INFO - 2022-10-31 03:39:12,467] Working on shot: 20210709018\n",
      "[INFO - 2022-10-31 03:39:12,529] Working on shot: 20210713017\n",
      "[INFO - 2022-10-31 03:39:12,569] Working on shot: 20210728010\n",
      "[INFO - 2022-10-31 03:39:13,636] Extracting 1\n",
      "[INFO - 2022-10-31 03:39:14,194] Extraction of sources completed in 0.03 minutes.\n",
      "[INFO - 2022-10-31 03:39:14,282] Retrieved 1 spectra.\n"
     ]
    },
    {
     "name": "stdout",
     "output_type": "stream",
     "text": [
      "len(spectra_check) 1\n",
      "len(source_list) 89\n"
     ]
    },
    {
     "name": "stderr",
     "output_type": "stream",
     "text": [
      "[INFO - 2022-10-31 03:39:14,554] Finding shots of interest\n",
      "[INFO - 2022-10-31 03:39:21,067] Number of shots of interest: 7\n",
      "[INFO - 2022-10-31 03:39:21,068] Extracting 7 sources\n",
      "[INFO - 2022-10-31 03:39:21,213] Working on shot: 20210611013\n",
      "[INFO - 2022-10-31 03:39:21,261] Working on shot: 20210612014\n",
      "[INFO - 2022-10-31 03:39:21,335] Working on shot: 20210616018\n",
      "[INFO - 2022-10-31 03:39:21,380] Working on shot: 20210708012\n",
      "[INFO - 2022-10-31 03:39:21,484] Working on shot: 20210709017\n",
      "[INFO - 2022-10-31 03:39:21,490] Working on shot: 20210709018\n",
      "[INFO - 2022-10-31 03:39:21,555] Working on shot: 20210713017\n",
      "[INFO - 2022-10-31 03:39:23,077] Extracting 1\n",
      "[INFO - 2022-10-31 03:39:23,528] Extraction of sources completed in 0.04 minutes.\n",
      "[INFO - 2022-10-31 03:39:23,620] Retrieved 1 spectra.\n"
     ]
    },
    {
     "name": "stdout",
     "output_type": "stream",
     "text": [
      "len(spectra_check) 1\n",
      "len(source_list) 90\n"
     ]
    },
    {
     "name": "stderr",
     "output_type": "stream",
     "text": [
      "[INFO - 2022-10-31 03:39:23,916] Finding shots of interest\n",
      "[INFO - 2022-10-31 03:39:29,897] Number of shots of interest: 9\n",
      "[INFO - 2022-10-31 03:39:29,898] Extracting 9 sources\n",
      "[INFO - 2022-10-31 03:39:30,060] Working on shot: 20200713016\n",
      "[INFO - 2022-10-31 03:39:30,111] Working on shot: 20200713017\n",
      "[INFO - 2022-10-31 03:39:30,159] Working on shot: 20200716014\n",
      "[INFO - 2022-10-31 03:39:30,221] Working on shot: 20200723001\n",
      "[INFO - 2022-10-31 03:39:30,271] Working on shot: 20200724014\n",
      "[INFO - 2022-10-31 03:39:30,332] Working on shot: 20200812015\n",
      "[INFO - 2022-10-31 03:39:30,378] Working on shot: 20200812016\n",
      "[INFO - 2022-10-31 03:39:30,442] Working on shot: 20200813010\n",
      "[INFO - 2022-10-31 03:39:30,497] Working on shot: 20200813011\n",
      "[INFO - 2022-10-31 03:39:31,762] Extracting 1\n",
      "[INFO - 2022-10-31 03:39:31,811] Extracting 1\n",
      "[INFO - 2022-10-31 03:39:32,519] Extraction of sources completed in 0.04 minutes.\n",
      "[INFO - 2022-10-31 03:39:32,607] Retrieved 1 spectra.\n"
     ]
    },
    {
     "name": "stdout",
     "output_type": "stream",
     "text": [
      "len(spectra_check) 1\n",
      "len(source_list) 91\n"
     ]
    },
    {
     "name": "stderr",
     "output_type": "stream",
     "text": [
      "[INFO - 2022-10-31 03:39:32,874] Finding shots of interest\n",
      "[INFO - 2022-10-31 03:39:38,999] Number of shots of interest: 11\n",
      "[INFO - 2022-10-31 03:39:39,000] Extracting 11 sources\n",
      "[INFO - 2022-10-31 03:39:39,148] Working on shot: 20200713016\n",
      "[INFO - 2022-10-31 03:39:39,198] Working on shot: 20200713017\n",
      "[INFO - 2022-10-31 03:39:39,246] Working on shot: 20200716014\n",
      "[INFO - 2022-10-31 03:39:39,296] Working on shot: 20200723001\n",
      "[INFO - 2022-10-31 03:39:39,351] Working on shot: 20200724014\n",
      "[INFO - 2022-10-31 03:39:39,403] Working on shot: 20200812015\n",
      "[INFO - 2022-10-31 03:39:39,461] Working on shot: 20200812016\n",
      "[INFO - 2022-10-31 03:39:39,512] Working on shot: 20200813010\n",
      "[INFO - 2022-10-31 03:39:39,557] Working on shot: 20200813011\n",
      "[INFO - 2022-10-31 03:39:39,611] Working on shot: 20210706015\n",
      "[INFO - 2022-10-31 03:39:39,676] Working on shot: 20210710013\n",
      "[INFO - 2022-10-31 03:39:40,642] Extracting 1\n",
      "[INFO - 2022-10-31 03:39:41,108] Extraction of sources completed in 0.03 minutes.\n",
      "[INFO - 2022-10-31 03:39:41,200] Retrieved 1 spectra.\n"
     ]
    },
    {
     "name": "stdout",
     "output_type": "stream",
     "text": [
      "len(spectra_check) 1\n",
      "len(source_list) 92\n"
     ]
    },
    {
     "name": "stderr",
     "output_type": "stream",
     "text": [
      "[INFO - 2022-10-31 03:39:41,495] Finding shots of interest\n",
      "[INFO - 2022-10-31 03:39:47,590] Number of shots of interest: 2\n",
      "[INFO - 2022-10-31 03:39:47,591] Extracting 2 sources\n",
      "[INFO - 2022-10-31 03:39:47,767] Working on shot: 20210713016\n",
      "[INFO - 2022-10-31 03:39:47,800] Working on shot: 20210728009\n",
      "[INFO - 2022-10-31 03:39:49,182] Extraction of sources completed in 0.03 minutes.\n",
      "[INFO - 2022-10-31 03:39:49,267] Retrieved 0 spectra.\n"
     ]
    },
    {
     "name": "stdout",
     "output_type": "stream",
     "text": [
      "BAD LENGTH!\n",
      "BAD len(spectra_check) 0\n",
      "len(source_list) 92\n"
     ]
    },
    {
     "name": "stderr",
     "output_type": "stream",
     "text": [
      "[INFO - 2022-10-31 03:39:49,725] Finding shots of interest\n",
      "[INFO - 2022-10-31 03:39:55,891] Number of shots of interest: 2\n",
      "[INFO - 2022-10-31 03:39:55,892] Extracting 2 sources\n",
      "[INFO - 2022-10-31 03:39:56,032] Working on shot: 20210706015\n",
      "[INFO - 2022-10-31 03:39:56,075] Working on shot: 20210710013\n",
      "[INFO - 2022-10-31 03:39:56,820] Extraction of sources completed in 0.01 minutes.\n",
      "[INFO - 2022-10-31 03:39:56,898] Retrieved 0 spectra.\n"
     ]
    },
    {
     "name": "stdout",
     "output_type": "stream",
     "text": [
      "BAD LENGTH!\n",
      "BAD len(spectra_check) 0\n",
      "len(source_list) 92\n"
     ]
    },
    {
     "name": "stderr",
     "output_type": "stream",
     "text": [
      "[INFO - 2022-10-31 03:39:57,205] Finding shots of interest\n",
      "[INFO - 2022-10-31 03:40:03,390] Number of shots of interest: 5\n",
      "[INFO - 2022-10-31 03:40:03,391] Extracting 5 sources\n",
      "[INFO - 2022-10-31 03:40:03,568] Working on shot: 20210709017\n",
      "[INFO - 2022-10-31 03:40:03,602] Working on shot: 20210709018\n",
      "[INFO - 2022-10-31 03:40:03,628] Working on shot: 20210713016\n",
      "[INFO - 2022-10-31 03:40:03,708] Working on shot: 20210713017\n",
      "[INFO - 2022-10-31 03:40:03,742] Working on shot: 20210728009\n",
      "[INFO - 2022-10-31 03:40:04,936] Extracting 1\n",
      "[INFO - 2022-10-31 03:40:05,430] Extraction of sources completed in 0.03 minutes.\n",
      "[INFO - 2022-10-31 03:40:05,523] Retrieved 1 spectra.\n"
     ]
    },
    {
     "name": "stdout",
     "output_type": "stream",
     "text": [
      "len(spectra_check) 1\n",
      "len(source_list) 93\n"
     ]
    },
    {
     "name": "stderr",
     "output_type": "stream",
     "text": [
      "[INFO - 2022-10-31 03:40:05,803] Finding shots of interest\n",
      "[INFO - 2022-10-31 03:40:11,963] Number of shots of interest: 8\n",
      "[INFO - 2022-10-31 03:40:11,964] Extracting 8 sources\n",
      "[INFO - 2022-10-31 03:40:12,124] Working on shot: 20210518020\n",
      "[INFO - 2022-10-31 03:40:12,151] Working on shot: 20210609015\n",
      "[INFO - 2022-10-31 03:40:12,196] Working on shot: 20210614017\n",
      "[INFO - 2022-10-31 03:40:12,254] Working on shot: 20210616019\n",
      "[INFO - 2022-10-31 03:40:12,304] Working on shot: 20210617016\n",
      "[INFO - 2022-10-31 03:40:12,353] Working on shot: 20210705015\n",
      "[INFO - 2022-10-31 03:40:12,409] Working on shot: 20210709019\n",
      "[INFO - 2022-10-31 03:40:12,462] Working on shot: 20210710012\n",
      "[INFO - 2022-10-31 03:40:13,341] Extracting 1\n",
      "[INFO - 2022-10-31 03:40:13,814] Extraction of sources completed in 0.03 minutes.\n",
      "[INFO - 2022-10-31 03:40:13,920] Retrieved 1 spectra.\n"
     ]
    },
    {
     "name": "stdout",
     "output_type": "stream",
     "text": [
      "len(spectra_check) 1\n",
      "len(source_list) 94\n"
     ]
    },
    {
     "name": "stderr",
     "output_type": "stream",
     "text": [
      "[INFO - 2022-10-31 03:40:14,171] Finding shots of interest\n",
      "[INFO - 2022-10-31 03:40:20,378] Number of shots of interest: 4\n",
      "[INFO - 2022-10-31 03:40:20,379] Extracting 4 sources\n",
      "[INFO - 2022-10-31 03:40:20,546] Working on shot: 20210611013\n",
      "[INFO - 2022-10-31 03:40:20,619] Working on shot: 20210612014\n",
      "[INFO - 2022-10-31 03:40:20,684] Working on shot: 20210616018\n",
      "[INFO - 2022-10-31 03:40:20,738] Working on shot: 20210708012\n",
      "[INFO - 2022-10-31 03:40:21,815] Extracting 1\n",
      "[INFO - 2022-10-31 03:40:22,302] Extraction of sources completed in 0.03 minutes.\n",
      "[INFO - 2022-10-31 03:40:22,389] Retrieved 1 spectra.\n"
     ]
    },
    {
     "name": "stdout",
     "output_type": "stream",
     "text": [
      "len(spectra_check) 1\n",
      "len(source_list) 95\n"
     ]
    },
    {
     "name": "stderr",
     "output_type": "stream",
     "text": [
      "[INFO - 2022-10-31 03:40:22,650] Finding shots of interest\n",
      "[INFO - 2022-10-31 03:40:28,727] Number of shots of interest: 9\n",
      "[INFO - 2022-10-31 03:40:28,728] Extracting 9 sources\n",
      "[INFO - 2022-10-31 03:40:28,866] Working on shot: 20210514007\n",
      "[INFO - 2022-10-31 03:40:28,919] Working on shot: 20210604005\n",
      "[INFO - 2022-10-31 03:40:28,973] Working on shot: 20210605014\n",
      "[INFO - 2022-10-31 03:40:29,026] Working on shot: 20210608012\n",
      "[INFO - 2022-10-31 03:40:29,075] Working on shot: 20210608013\n",
      "[INFO - 2022-10-31 03:40:29,132] Working on shot: 20210616017\n",
      "[INFO - 2022-10-31 03:40:29,188] Working on shot: 20210706012\n",
      "[INFO - 2022-10-31 03:40:29,234] Working on shot: 20210706013\n",
      "[INFO - 2022-10-31 03:40:29,294] Working on shot: 20210708011\n",
      "[INFO - 2022-10-31 03:40:29,915] Extracting 1\n",
      "[INFO - 2022-10-31 03:40:30,177] Extracting 1\n",
      "[INFO - 2022-10-31 03:40:30,248] Extracting 1\n",
      "[INFO - 2022-10-31 03:40:30,542] Extracting 1\n",
      "[INFO - 2022-10-31 03:40:30,888] Extraction of sources completed in 0.03 minutes.\n",
      "[INFO - 2022-10-31 03:40:30,987] Retrieved 4 spectra.\n"
     ]
    },
    {
     "name": "stdout",
     "output_type": "stream",
     "text": [
      "BAD LENGTH!\n",
      "BAD len(spectra_check) 4\n",
      "len(source_list) 95\n"
     ]
    },
    {
     "name": "stderr",
     "output_type": "stream",
     "text": [
      "[INFO - 2022-10-31 03:40:31,249] Finding shots of interest\n",
      "[INFO - 2022-10-31 03:40:37,544] Number of shots of interest: 2\n",
      "[INFO - 2022-10-31 03:40:37,546] Extracting 2 sources\n",
      "[INFO - 2022-10-31 03:40:37,693] Working on shot: 20210713016\n",
      "[INFO - 2022-10-31 03:40:37,734] Working on shot: 20210728009\n",
      "[INFO - 2022-10-31 03:40:38,574] Extraction of sources completed in 0.02 minutes.\n",
      "[INFO - 2022-10-31 03:40:38,669] Retrieved 0 spectra.\n"
     ]
    },
    {
     "name": "stdout",
     "output_type": "stream",
     "text": [
      "BAD LENGTH!\n",
      "BAD len(spectra_check) 0\n",
      "len(source_list) 95\n"
     ]
    },
    {
     "name": "stderr",
     "output_type": "stream",
     "text": [
      "[INFO - 2022-10-31 03:40:38,923] Finding shots of interest\n",
      "[INFO - 2022-10-31 03:40:44,813] Number of shots of interest: 10\n",
      "[INFO - 2022-10-31 03:40:44,814] Extracting 10 sources\n",
      "[INFO - 2022-10-31 03:40:44,954] Working on shot: 20210510026\n",
      "[INFO - 2022-10-31 03:40:45,006] Working on shot: 20210609015\n",
      "[INFO - 2022-10-31 03:40:45,054] Working on shot: 20210612015\n",
      "[INFO - 2022-10-31 03:40:45,108] Working on shot: 20210616019\n",
      "[INFO - 2022-10-31 03:40:45,176] Working on shot: 20210616020\n",
      "[INFO - 2022-10-31 03:40:45,245] Working on shot: 20210616021\n",
      "[INFO - 2022-10-31 03:40:45,306] Working on shot: 20210705015\n",
      "[INFO - 2022-10-31 03:40:45,360] Working on shot: 20210706015\n",
      "[INFO - 2022-10-31 03:40:45,410] Working on shot: 20210709019\n",
      "[INFO - 2022-10-31 03:40:45,469] Working on shot: 20210710013\n",
      "[INFO - 2022-10-31 03:40:46,252] Extracting 1\n",
      "[INFO - 2022-10-31 03:40:46,761] Extraction of sources completed in 0.03 minutes.\n",
      "[INFO - 2022-10-31 03:40:46,852] Retrieved 1 spectra.\n"
     ]
    },
    {
     "name": "stdout",
     "output_type": "stream",
     "text": [
      "len(spectra_check) 1\n",
      "len(source_list) 96\n"
     ]
    },
    {
     "name": "stderr",
     "output_type": "stream",
     "text": [
      "[INFO - 2022-10-31 03:40:47,112] Finding shots of interest\n",
      "[INFO - 2022-10-31 03:40:53,351] Number of shots of interest: 4\n",
      "[INFO - 2022-10-31 03:40:53,353] Extracting 4 sources\n",
      "[INFO - 2022-10-31 03:40:53,540] Working on shot: 20210611013\n",
      "[INFO - 2022-10-31 03:40:53,581] Working on shot: 20210612014\n",
      "[INFO - 2022-10-31 03:40:53,638] Working on shot: 20210616018\n",
      "[INFO - 2022-10-31 03:40:53,701] Working on shot: 20210708012\n",
      "[INFO - 2022-10-31 03:40:54,777] Extracting 1\n",
      "[INFO - 2022-10-31 03:40:54,877] Extracting 1\n",
      "[INFO - 2022-10-31 03:40:55,320] Extraction of sources completed in 0.03 minutes.\n",
      "[INFO - 2022-10-31 03:40:55,412] Retrieved 2 spectra.\n"
     ]
    },
    {
     "name": "stdout",
     "output_type": "stream",
     "text": [
      "BAD LENGTH!\n",
      "BAD len(spectra_check) 2\n",
      "len(source_list) 96\n"
     ]
    },
    {
     "name": "stderr",
     "output_type": "stream",
     "text": [
      "[INFO - 2022-10-31 03:40:55,685] Finding shots of interest\n",
      "[INFO - 2022-10-31 03:41:01,973] Number of shots of interest: 7\n",
      "[INFO - 2022-10-31 03:41:01,975] Extracting 7 sources\n",
      "[INFO - 2022-10-31 03:41:02,129] Working on shot: 20210611013\n",
      "[INFO - 2022-10-31 03:41:02,175] Working on shot: 20210612014\n",
      "[INFO - 2022-10-31 03:41:02,222] Working on shot: 20210616018\n",
      "[INFO - 2022-10-31 03:41:02,315] Working on shot: 20210708012\n",
      "[INFO - 2022-10-31 03:41:02,372] Working on shot: 20210709017\n",
      "[INFO - 2022-10-31 03:41:02,432] Working on shot: 20210709018\n",
      "[INFO - 2022-10-31 03:41:02,466] Working on shot: 20210713017\n",
      "[INFO - 2022-10-31 03:41:03,718] Extracting 1\n",
      "[INFO - 2022-10-31 03:41:04,207] Extraction of sources completed in 0.04 minutes.\n",
      "[INFO - 2022-10-31 03:41:04,294] Retrieved 1 spectra.\n"
     ]
    },
    {
     "name": "stdout",
     "output_type": "stream",
     "text": [
      "len(spectra_check) 1\n",
      "len(source_list) 97\n"
     ]
    },
    {
     "name": "stderr",
     "output_type": "stream",
     "text": [
      "[INFO - 2022-10-31 03:41:04,767] Finding shots of interest\n",
      "[INFO - 2022-10-31 03:41:11,039] Number of shots of interest: 6\n",
      "[INFO - 2022-10-31 03:41:11,041] Extracting 6 sources\n",
      "[INFO - 2022-10-31 03:41:11,181] Working on shot: 20210514007\n",
      "[INFO - 2022-10-31 03:41:11,231] Working on shot: 20210518019\n",
      "[INFO - 2022-10-31 03:41:11,288] Working on shot: 20210604004\n",
      "[INFO - 2022-10-31 03:41:11,335] Working on shot: 20210604005\n",
      "[INFO - 2022-10-31 03:41:11,387] Working on shot: 20210605014\n",
      "[INFO - 2022-10-31 03:41:11,437] Working on shot: 20210608013\n",
      "[INFO - 2022-10-31 03:41:12,145] Extracting 1\n",
      "[INFO - 2022-10-31 03:41:12,428] Extracting 1\n",
      "[INFO - 2022-10-31 03:41:12,765] Extraction of sources completed in 0.03 minutes.\n",
      "[INFO - 2022-10-31 03:41:12,857] Retrieved 2 spectra.\n"
     ]
    },
    {
     "name": "stdout",
     "output_type": "stream",
     "text": [
      "BAD LENGTH!\n",
      "BAD len(spectra_check) 2\n",
      "len(source_list) 97\n"
     ]
    },
    {
     "name": "stderr",
     "output_type": "stream",
     "text": [
      "[INFO - 2022-10-31 03:41:13,112] Finding shots of interest\n",
      "[INFO - 2022-10-31 03:41:19,025] Number of shots of interest: 8\n",
      "[INFO - 2022-10-31 03:41:19,027] Extracting 8 sources\n",
      "[INFO - 2022-10-31 03:41:19,163] Working on shot: 20200716013\n",
      "[INFO - 2022-10-31 03:41:19,213] Working on shot: 20200815012\n",
      "[INFO - 2022-10-31 03:41:19,266] Working on shot: 20200815013\n",
      "[INFO - 2022-10-31 03:41:19,319] Working on shot: 20200815014\n",
      "[INFO - 2022-10-31 03:41:19,372] Working on shot: 20200816011\n",
      "[INFO - 2022-10-31 03:41:19,420] Working on shot: 20200816012\n",
      "[INFO - 2022-10-31 03:41:19,476] Working on shot: 20200817011\n",
      "[INFO - 2022-10-31 03:41:19,529] Working on shot: 20210827007\n",
      "[INFO - 2022-10-31 03:41:20,494] Extracting 1\n",
      "[INFO - 2022-10-31 03:41:20,981] Extraction of sources completed in 0.03 minutes.\n",
      "[INFO - 2022-10-31 03:41:21,067] Retrieved 1 spectra.\n"
     ]
    },
    {
     "name": "stdout",
     "output_type": "stream",
     "text": [
      "len(spectra_check) 1\n",
      "len(source_list) 98\n"
     ]
    },
    {
     "name": "stderr",
     "output_type": "stream",
     "text": [
      "[INFO - 2022-10-31 03:41:21,336] Finding shots of interest\n",
      "[INFO - 2022-10-31 03:41:27,558] Number of shots of interest: 2\n",
      "[INFO - 2022-10-31 03:41:27,559] Extracting 2 sources\n",
      "[INFO - 2022-10-31 03:41:27,691] Working on shot: 20210711014\n",
      "[INFO - 2022-10-31 03:41:27,742] Working on shot: 20210728008\n",
      "[INFO - 2022-10-31 03:41:28,754] Extraction of sources completed in 0.02 minutes.\n",
      "[INFO - 2022-10-31 03:41:28,834] Retrieved 0 spectra.\n"
     ]
    },
    {
     "name": "stdout",
     "output_type": "stream",
     "text": [
      "BAD LENGTH!\n",
      "BAD len(spectra_check) 0\n",
      "len(source_list) 98\n"
     ]
    },
    {
     "name": "stderr",
     "output_type": "stream",
     "text": [
      "[INFO - 2022-10-31 03:41:29,288] Finding shots of interest\n",
      "[INFO - 2022-10-31 03:41:35,333] Number of shots of interest: 8\n",
      "[INFO - 2022-10-31 03:41:35,335] Extracting 8 sources\n",
      "[INFO - 2022-10-31 03:41:35,494] Working on shot: 20200712015\n",
      "[INFO - 2022-10-31 03:41:35,514] Working on shot: 20200712018\n",
      "[INFO - 2022-10-31 03:41:35,575] Working on shot: 20200713014\n",
      "[INFO - 2022-10-31 03:41:35,627] Working on shot: 20200713015\n",
      "[INFO - 2022-10-31 03:41:35,686] Working on shot: 20200815012\n",
      "[INFO - 2022-10-31 03:41:35,746] Working on shot: 20200815013\n",
      "[INFO - 2022-10-31 03:41:35,800] Working on shot: 20200815014\n",
      "[INFO - 2022-10-31 03:41:35,852] Working on shot: 20200816011\n",
      "[INFO - 2022-10-31 03:41:36,611] Extracting 1\n",
      "[INFO - 2022-10-31 03:41:36,894] Extracting 1\n",
      "[INFO - 2022-10-31 03:41:37,349] Extraction of sources completed in 0.03 minutes.\n",
      "[INFO - 2022-10-31 03:41:37,458] Retrieved 2 spectra.\n"
     ]
    },
    {
     "name": "stdout",
     "output_type": "stream",
     "text": [
      "BAD LENGTH!\n",
      "BAD len(spectra_check) 2\n",
      "len(source_list) 98\n"
     ]
    },
    {
     "name": "stderr",
     "output_type": "stream",
     "text": [
      "[INFO - 2022-10-31 03:41:37,732] Finding shots of interest\n",
      "[INFO - 2022-10-31 03:41:43,970] Number of shots of interest: 15\n",
      "[INFO - 2022-10-31 03:41:43,971] Extracting 15 sources\n",
      "[INFO - 2022-10-31 03:41:44,106] Working on shot: 20210514007\n",
      "[INFO - 2022-10-31 03:41:44,193] Working on shot: 20210518019\n",
      "[INFO - 2022-10-31 03:41:44,222] Working on shot: 20210519024\n",
      "[INFO - 2022-10-31 03:41:44,268] Working on shot: 20210604004\n",
      "[INFO - 2022-10-31 03:41:44,315] Working on shot: 20210604005\n",
      "[INFO - 2022-10-31 03:41:44,367] Working on shot: 20210605014\n",
      "[INFO - 2022-10-31 03:41:44,420] Working on shot: 20210608012\n",
      "[INFO - 2022-10-31 03:41:44,470] Working on shot: 20210608013\n",
      "[INFO - 2022-10-31 03:41:44,530] Working on shot: 20210609014\n",
      "[INFO - 2022-10-31 03:41:44,626] Working on shot: 20210611012\n",
      "[INFO - 2022-10-31 03:41:44,732] Working on shot: 20210612013\n",
      "[INFO - 2022-10-31 03:41:44,779] Working on shot: 20210616017\n",
      "[INFO - 2022-10-31 03:41:44,829] Working on shot: 20210706012\n",
      "[INFO - 2022-10-31 03:41:44,907] Working on shot: 20210706013\n",
      "[INFO - 2022-10-31 03:41:44,957] Working on shot: 20210708011\n",
      "[INFO - 2022-10-31 03:41:45,955] Extracting 1\n",
      "[INFO - 2022-10-31 03:41:46,518] Extraction of sources completed in 0.04 minutes.\n",
      "[INFO - 2022-10-31 03:41:46,609] Retrieved 1 spectra.\n"
     ]
    },
    {
     "name": "stdout",
     "output_type": "stream",
     "text": [
      "len(spectra_check) 1\n",
      "len(source_list) 99\n"
     ]
    },
    {
     "name": "stderr",
     "output_type": "stream",
     "text": [
      "[INFO - 2022-10-31 03:41:46,876] Finding shots of interest\n",
      "[INFO - 2022-10-31 03:41:53,348] Number of shots of interest: 5\n",
      "[INFO - 2022-10-31 03:41:53,349] Extracting 5 sources\n",
      "[INFO - 2022-10-31 03:41:53,516] Working on shot: 20210706014\n",
      "[INFO - 2022-10-31 03:41:53,555] Working on shot: 20210709017\n",
      "[INFO - 2022-10-31 03:41:53,600] Working on shot: 20210709018\n",
      "[INFO - 2022-10-31 03:41:53,638] Working on shot: 20210713017\n",
      "[INFO - 2022-10-31 03:41:53,698] Working on shot: 20210728010\n",
      "[INFO - 2022-10-31 03:41:54,723] Extracting 1\n",
      "[INFO - 2022-10-31 03:41:55,208] Extraction of sources completed in 0.03 minutes.\n",
      "[INFO - 2022-10-31 03:41:55,297] Retrieved 1 spectra.\n"
     ]
    },
    {
     "name": "stdout",
     "output_type": "stream",
     "text": [
      "len(spectra_check) 1\n",
      "len(source_list) 100\n"
     ]
    }
   ],
   "source": [
    "samples_amount = 100\n",
    "noise_sample_100 = Noise_Sampling(samples_amount)"
   ]
  },
  {
   "cell_type": "markdown",
   "id": "33f00880",
   "metadata": {},
   "source": [
    "### Run this to save the noise sample to a file (so no need to run the above code multiple times since it can be very slow!"
   ]
  },
  {
   "cell_type": "code",
   "execution_count": 14,
   "id": "aab85aa7",
   "metadata": {},
   "outputs": [],
   "source": [
    "#np.save(f\"noise_sample_{samples_amount}\",noise_sample_100)\n",
    "#x = np.load(\"noise_sample_100.npy\", allow_pickle = True)"
   ]
  },
  {
   "cell_type": "markdown",
   "id": "bd8d0be7",
   "metadata": {},
   "source": [
    "Extract one by one, if len of spectra table = 0, try different coordinate.\n",
    "\n",
    "Parallel computing maybe?\n",
    "\n",
    "Save generated spectra somewhere!!!"
   ]
  },
  {
   "cell_type": "markdown",
   "id": "30a3f4f4",
   "metadata": {},
   "source": [
    "## NOTES"
   ]
  },
  {
   "cell_type": "markdown",
   "id": "3330499d",
   "metadata": {},
   "source": [
    "Start with detection. One approach was fits file with coordinates. \n",
    "\n",
    "Or \n",
    "\n",
    "Use this but expand upon it. Find RA and DEC of each shot. And randomly extract.\n",
    "\n",
    "    delta ra and delta dec. Double check if is there a source there. \n",
    "    \n",
    "For noise sample, no need to run through valentina's code. Only focus on High-z after filtering through Valentina's code."
   ]
  },
  {
   "cell_type": "markdown",
   "id": "a3a0dae8",
   "metadata": {},
   "source": [
    "Once we have noise sample.\n",
    "\n",
    "Run through valentina's code. Hopefully it detects them all as high-z. Cause neither low-z or star.\n",
    "\n",
    "Two skycoords. Check coordinates to see if HETDEX detection is there. Compare minimum separation. If the difference is smaller than 3 arcseconds. Then there is a source there, so do not extract there."
   ]
  },
  {
   "cell_type": "markdown",
   "id": "9994f19b",
   "metadata": {},
   "source": [
    "<hr/>"
   ]
  },
  {
   "cell_type": "markdown",
   "id": "94b1a78f",
   "metadata": {},
   "source": [
    "# CODE BELOW THIS IS TO GET HIGH-CONFIDENCE HIGH-Z SAMPLE"
   ]
  },
  {
   "cell_type": "code",
   "execution_count": null,
   "id": "2ffa45db",
   "metadata": {},
   "outputs": [],
   "source": []
  }
 ],
 "metadata": {
  "kernelspec": {
   "display_name": "Python 3 (ipykernel)",
   "language": "python",
   "name": "python3"
  },
  "language_info": {
   "codemirror_mode": {
    "name": "ipython",
    "version": 3
   },
   "file_extension": ".py",
   "mimetype": "text/x-python",
   "name": "python",
   "nbconvert_exporter": "python",
   "pygments_lexer": "ipython3",
   "version": "3.10.5"
  }
 },
 "nbformat": 4,
 "nbformat_minor": 5
}
