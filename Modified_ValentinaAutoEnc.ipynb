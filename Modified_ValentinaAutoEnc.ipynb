{
 "cells": [
  {
   "cell_type": "code",
   "execution_count": 1,
   "id": "0621b97f",
   "metadata": {},
   "outputs": [
    {
     "name": "stderr",
     "output_type": "stream",
     "text": [
      "2022-11-11 07:14:11.785600: I tensorflow/core/platform/cpu_feature_guard.cc:193] This TensorFlow binary is optimized with oneAPI Deep Neural Network Library (oneDNN) to use the following CPU instructions in performance-critical operations:  AVX2 FMA\n",
      "To enable them in other operations, rebuild TensorFlow with the appropriate compiler flags.\n",
      "2022-11-11 07:14:11.951060: W tensorflow/stream_executor/platform/default/dso_loader.cc:64] Could not load dynamic library 'libcudart.so.11.0'; dlerror: libcudart.so.11.0: cannot open shared object file: No such file or directory\n",
      "2022-11-11 07:14:11.951089: I tensorflow/stream_executor/cuda/cudart_stub.cc:29] Ignore above cudart dlerror if you do not have a GPU set up on your machine.\n",
      "2022-11-11 07:14:11.992437: E tensorflow/stream_executor/cuda/cuda_blas.cc:2981] Unable to register cuBLAS factory: Attempting to register factory for plugin cuBLAS when one has already been registered\n",
      "2022-11-11 07:14:12.801228: W tensorflow/stream_executor/platform/default/dso_loader.cc:64] Could not load dynamic library 'libnvinfer.so.7'; dlerror: libnvinfer.so.7: cannot open shared object file: No such file or directory\n",
      "2022-11-11 07:14:12.801367: W tensorflow/stream_executor/platform/default/dso_loader.cc:64] Could not load dynamic library 'libnvinfer_plugin.so.7'; dlerror: libnvinfer_plugin.so.7: cannot open shared object file: No such file or directory\n",
      "2022-11-11 07:14:12.801382: W tensorflow/compiler/tf2tensorrt/utils/py_utils.cc:38] TF-TRT Warning: Cannot dlopen some TensorRT libraries. If you would like to use Nvidia GPU with TensorRT, please make sure the missing libraries mentioned above are installed properly.\n"
     ]
    }
   ],
   "source": [
    "import matplotlib.pyplot as plt\n",
    "import numpy as np\n",
    "import pandas as pd\n",
    "import tensorflow as tf\n",
    "import os \n",
    "\n",
    "# Imports added from modifying the original code\n",
    "import random\n",
    "from astropy.io import fits\n",
    "from astropy.coordinates import SkyCoord\n",
    "import astropy.units as u\n",
    "from astropy.table import Table, Column, join\n",
    "from hetdex_tools.get_spec import get_spectra"
   ]
  },
  {
   "cell_type": "markdown",
   "id": "9f1188f3",
   "metadata": {},
   "source": [
    "Keras is a deep learning API written in Python, running on top of ther machine learning platform TensorFlow. Keras was developed with a focus on enabling fast experimentation.\n",
    "\n",
    "So Keras is a high-level neural network library that runs on top of TensorFlow. Keras is more user friendly because it's built in Python."
   ]
  },
  {
   "cell_type": "code",
   "execution_count": 2,
   "id": "63c7e7b3",
   "metadata": {},
   "outputs": [],
   "source": [
    "from tensorflow.keras import layers, losses\n",
    "from tensorflow.keras.models import Model\n",
    "from tensorflow.keras.callbacks import History "
   ]
  },
  {
   "cell_type": "markdown",
   "id": "e805fe91",
   "metadata": {},
   "source": [
    "Comments and notes by me (Nick D) :) just to help me understand what's going on.\n",
    "\n",
    "Callbacks: A callback is an object that can perform actions at various stages of training (e.g. at the start or end of an epoch, before or after a single batch, etc)\n",
    "\n",
    "Callbacks can be used to:\n",
    "   * Monitor metrics by writing TensorBoard logs\n",
    "   * Periodically save model to disk drive\n",
    "   * Do early stopping\n",
    "   * Get internal states and stats during training\n",
    "   * and more!"
   ]
  },
  {
   "cell_type": "code",
   "execution_count": 3,
   "id": "085044a4",
   "metadata": {},
   "outputs": [],
   "source": [
    "# This is creating a 'History' callback object. This object keeps track of the accuracy, loss and other training metrics\n",
    "# for each epoch in the memory.\n",
    "# Not 100% sure, but it seems like this is what allows the code to make plots later on.\n",
    "history = History()"
   ]
  },
  {
   "cell_type": "code",
   "execution_count": 4,
   "id": "d2bd6f9b",
   "metadata": {},
   "outputs": [],
   "source": [
    "# Not entirely sure what the number means. But I'm assuming it's purely a naming convention and does not\n",
    "# mean anything specific.\n",
    "training_index = \"31_cut\""
   ]
  },
  {
   "cell_type": "markdown",
   "id": "52656d86",
   "metadata": {},
   "source": [
    "### Opening HDR3 Catalog and converting it into a Df"
   ]
  },
  {
   "cell_type": "code",
   "execution_count": 5,
   "id": "c08d082d",
   "metadata": {},
   "outputs": [],
   "source": [
    "# Opening HDR3 detections catalog and converting it into a pandas DF\n",
    "# HDR3 is detections HETDEX found\n",
    "# Using HDR3 NEP and not H20 NEP because we can make SN cuts!\n",
    "HDR_source_cat = fits.open('/home/jovyan/Hobby-Eberly-Telesco/hdr3/catalogs/source_catalog_3.0.1.fits', memmap = True)\n",
    "HDR3_data = HDR_source_cat[1].data\n",
    "HDR3_DF = pd.DataFrame(HDR3_data, columns=HDR3_data.columns.names)\n",
    "\n",
    "# Columns we will then take from the entire data set (it was huge so we needed to determine what we wanted to look at specifically).\n",
    "# As the name suggests, these are the ones that are useful to us!\n",
    "useful_hdr3_cols = ['source_id', 'detectid',  'selected_det', 'ra_mean', 'dec_mean', 'fwhm', 'shotid', 'field',  'ra', 'dec', 'wave', 'wave_err', 'flux', 'flux_err', 'sn', 'sn_err', 'chi2', 'chi2_err',\n",
    "'linewidth', 'linewidth_err', 'plya_classification', 'z_hetdex', 'z_hetdex_conf', 'combined_plae']\n",
    "\n",
    "# From the original DFs, taking the useful columns\n",
    "reduced_hdr3_df = HDR3_DF.loc[:, useful_hdr3_cols]"
   ]
  },
  {
   "cell_type": "markdown",
   "id": "7ccbb5b2",
   "metadata": {},
   "source": [
    "### Filtering data"
   ]
  },
  {
   "cell_type": "code",
   "execution_count": 6,
   "id": "7f35cdc2",
   "metadata": {},
   "outputs": [],
   "source": [
    "# Removing data from before 2017 because it isn't good (not useful to us)\n",
    "# No need to do this for H20 NEP\n",
    "removed_bad_shots_hdr3_df = reduced_hdr3_df[reduced_hdr3_df.shotid.values >= 20180000000]\n",
    "\n",
    "# This will give high confidence detections. Something we would want to do also. What is sn threshold that Valentina's code is having trouble with.\n",
    "# Reason why, we want high-confidence Lya. If we are very confident sn and another filter, then that's what we consider high-conf lya.\n",
    "# Once noise and high-confidence sample. We can start exanping on valentina's code and do our own stuff\n",
    "hdr3_signal_to_noise_interval = removed_bad_shots_hdr3_df[removed_bad_shots_hdr3_df['sn'] > 6]\n",
    "\n",
    "\n",
    "# Now I just take the sources stricly in the NEP field\n",
    "hdr3_nep = hdr3_signal_to_noise_interval[hdr3_signal_to_noise_interval['field'] == 'nep']"
   ]
  },
  {
   "cell_type": "markdown",
   "id": "0d5ff09a",
   "metadata": {},
   "source": [
    "Making skycoord object for hdr3 ra and dec"
   ]
  },
  {
   "cell_type": "code",
   "execution_count": 7,
   "id": "1214e69b",
   "metadata": {},
   "outputs": [],
   "source": [
    "hdr3_skycoords = SkyCoord(hdr3_nep['ra'] * u.deg, hdr3_nep['dec'] * u.deg)"
   ]
  },
  {
   "cell_type": "markdown",
   "id": "5a8c8db2",
   "metadata": {},
   "source": [
    "# QUESTIONS:\n",
    "1. Would I have to check for duplicates before extracting? [x]\n",
    "    - Repeated observations in same spot is okay, exactly same detection not.\n",
    "        - Use wavelength to check, if its within a couple angstroms of each other.\n",
    "        - Could use detectID as well.\n",
    "\n",
    "2. Do I care about spec_err for now? For now, no. [x]\n",
    "\n",
    "3. How big should my random sample be? []\n",
    "- 1000\n",
    "\n",
    "4. Should I check for Nan values or can I trust get_spectra wouldn't give me something like that? There's code in Valentina's files to check for Nan but they don't run well with my sample [x]\n",
    "- Good sanity check to do.\n",
    "\n",
    "5. My approach is to basically do exactly everything she did, but with my sample. Is that the right way to go? Or should I edit some stuff along the way. Like do I make cuts like she did? [x]\n",
    "\n",
    "\n",
    "# To DO:\n",
    "\n",
    "1. Fix the shape of how my samples are. Right now instead of it being like 100 rows and a lot of columns it's just (100 rows) and then when you index it's lots of columns. Strange!\n",
    "\n",
    "    - LOOK INTO numpy reshape!\n",
    "\n",
    "    - Once fixed ^ move forward!\n",
    "    \n",
    "    \n",
    "   - numpy isnan or another numpy nan function!"
   ]
  },
  {
   "cell_type": "markdown",
   "id": "df071e67",
   "metadata": {},
   "source": [
    "### Extracts a random sample of sources in NEP. TAKES A LONG TIME. SKIP IF DONT HAVE TIME (have a saved version below)"
   ]
  },
  {
   "cell_type": "code",
   "execution_count": null,
   "id": "de68cdc9",
   "metadata": {
    "scrolled": true
   },
   "outputs": [],
   "source": [
    "random_nep_LS = []\n",
    "\n",
    "# make it 1000\n",
    "samples_amount = 100\n",
    "\n",
    "for i in range(samples_amount):\n",
    "    #pick a random coordinate from the skycoord object\n",
    "    random_coord = hdr3_skycoords[random.randint(0, hdr3_skycoords.size)]\n",
    "    # extract spectra at this random coordinate and append to list, can't append to np array because of \n",
    "    # data type issues will convert to array after loop!\n",
    "    extraction = get_spectra(random_coord)\n",
    "    random_nep_LS.append(np.squeeze(extraction['spec'].value))\n",
    "    \n",
    "random_nep_spectra = np.array(random_nep_LS)"
   ]
  },
  {
   "cell_type": "code",
   "execution_count": null,
   "id": "2ad25495",
   "metadata": {},
   "outputs": [],
   "source": [
    "#np.save(f\"random_nep_sample_{samples_amount}\", random_nep_spectra)"
   ]
  },
  {
   "cell_type": "markdown",
   "id": "4e720c9c",
   "metadata": {},
   "source": [
    "Current problem: working on getting the array to a normal shape!\n",
    "\n",
    "FIGURED IT OUT! Just need to use np.squeeze."
   ]
  },
  {
   "cell_type": "code",
   "execution_count": 23,
   "id": "48bdf9af",
   "metadata": {},
   "outputs": [],
   "source": [
    "# Loading in spectra samples\n",
    "star_spec = np.load(\"/home/jovyan/work/stampede2/Nick_Capstone_Project/Valentina_samples/star_spec_reduced.npy\") \n",
    "agn_spec = np.load(\"/home/jovyan/work/stampede2/Nick_Capstone_Project/Valentina_samples/all_agn_no_duplicates.npy\")\n",
    "lowz_spec = np.load(\"/home/jovyan/work/stampede2/Nick_Capstone_Project/Valentina_samples/lowz_no_duplicates.npy\")\n",
    "gal_spec = np.load(\"/home/jovyan/work/stampede2/Nick_Capstone_Project/Valentina_samples/gal_sample.npy\")"
   ]
  },
  {
   "cell_type": "code",
   "execution_count": 25,
   "id": "f94b7886",
   "metadata": {},
   "outputs": [
    {
     "data": {
      "text/plain": [
       "(1046, 1036)"
      ]
     },
     "execution_count": 25,
     "metadata": {},
     "output_type": "execute_result"
    }
   ],
   "source": [
    "lowz_spec.shape"
   ]
  },
  {
   "cell_type": "code",
   "execution_count": 19,
   "id": "1ceb5ef8",
   "metadata": {},
   "outputs": [
    {
     "data": {
      "text/plain": [
       "(48580, 1036)"
      ]
     },
     "execution_count": 19,
     "metadata": {},
     "output_type": "execute_result"
    }
   ],
   "source": [
    "star_spec.shape"
   ]
  },
  {
   "cell_type": "code",
   "execution_count": 10,
   "id": "d4037f31",
   "metadata": {},
   "outputs": [],
   "source": [
    "# Loading in spectra sample\n",
    "# The allow pickle part uses the pickle module which is not secure against maliciously constructed data\n",
    "# Don't allow pickle if you don't trust the source, I do so it doesn't matter to me\n",
    "# I have to do the allow_pickle = True for the code to not give me an error anyway xD\n",
    "NEP_spec = np.load(\"random_nep_sample_100.npy\", allow_pickle = True)"
   ]
  },
  {
   "cell_type": "code",
   "execution_count": 20,
   "id": "432d3b13",
   "metadata": {},
   "outputs": [
    {
     "data": {
      "text/plain": [
       "array([[1.e-05, 1.e-05, 1.e-05, ..., 1.e-05, 1.e-05, 1.e-05],\n",
       "       [1.e-05, 1.e-05, 1.e-05, ..., 1.e-05, 1.e-05, 1.e-05],\n",
       "       [1.e-05, 1.e-05, 1.e-05, ..., 1.e-05, 1.e-05, 1.e-05],\n",
       "       ...,\n",
       "       [1.e-05, 1.e-05, 1.e-05, ..., 1.e-05, 1.e-05, 1.e-05],\n",
       "       [1.e-05, 1.e-05, 1.e-05, ..., 1.e-05, 1.e-05, 1.e-05],\n",
       "       [1.e-05, 1.e-05, 1.e-05, ..., 1.e-05, 1.e-05, 1.e-05]])"
      ]
     },
     "execution_count": 20,
     "metadata": {},
     "output_type": "execute_result"
    }
   ],
   "source": [
    "agn_spec"
   ]
  },
  {
   "cell_type": "code",
   "execution_count": 12,
   "id": "fba19d95",
   "metadata": {},
   "outputs": [
    {
     "data": {
      "text/plain": [
       "array([array([ 9.07855501,  9.07913544,  9.07970425, ..., 14.32231376,\n",
       "              14.32247893, 14.32264229])                              ,\n",
       "       array([0.34457016, 0.34474193, 0.3449128 , ..., 0.62208756, 0.62205755,\n",
       "              0.62202781])                                                    ,\n",
       "       array([[0.96457583, 0.96396224, 0.9633459 , ..., 1.10606205, 1.10609389,\n",
       "               1.10612532],\n",
       "              [5.81014892, 5.80936567, 5.80857551, ..., 5.12000739, 5.1198799 ,\n",
       "               5.11975362]])                                                   ,\n",
       "       array([[80.51525665, 80.31588671, 80.04700063, ..., 72.97852403,\n",
       "               72.96503124, 72.95167888],\n",
       "              [49.39000522, 49.41100746, 49.43189237, ..., 62.21856434,\n",
       "               62.22131635, 62.22403898]])                             ,\n",
       "       array([[-0.10021422, -0.10039396, -0.10057328, ...,  0.41514248,\n",
       "                0.41512052,  0.41509877],\n",
       "              [ 0.29053362,  0.29008124,  0.28962848, ...,  0.51942802,\n",
       "                0.51942049,  0.51941302]])                             ,\n",
       "       array([2.28655498, 2.28631254, 2.2860667 , ..., 3.75466482, 3.75458534,\n",
       "              3.75450658])                                                    ,\n",
       "       array([1.73665061, 1.73575876, 1.73486331, ..., 2.03577898, 2.03562255,\n",
       "              2.03546766])                                                    ,\n",
       "       array([[-0.97319341, -0.97362593, -0.97405665, ...,  4.34837447,\n",
       "                4.34763252,  4.34690942],\n",
       "              [ 1.37221298,  1.37186712,  1.37151805, ...,  5.88293005,\n",
       "                5.88239682,  5.88186881]])                             ,\n",
       "       array([[0.05585061, 0.05606623, 0.05630252, ..., 4.10048139, 4.10052356,\n",
       "               4.10056513],\n",
       "              [0.07317918, 0.07240639, 0.07163367, ..., 4.07708976, 4.07709594,\n",
       "               4.07710188]])                                                   ,\n",
       "       array([[  12.12771587,   12.14811052,   12.16846319, ...,   19.97514324,\n",
       "                 19.97769401,   19.98021833],\n",
       "              [1107.15321778, 1104.49897254, 1101.85915095, ...,  690.73924391,\n",
       "                690.55447853,  690.37166693]])                                 ,\n",
       "       array([[ 5.35683575,  5.35704467,  5.35723012, ..., 20.81162868,\n",
       "               20.81136729, 20.81110704],\n",
       "              [ 4.0058285 ,  4.00556998,  4.00529884, ..., 21.63479014,\n",
       "               21.63428655, 21.63378737]])                             ,\n",
       "       array([ 9.51085243,  9.49674104,  9.48261402, ..., 57.17745483,\n",
       "              57.17400918, 57.17059555])                              ,\n",
       "       array([3.50672086, 3.50835971, 3.50997928, ..., 5.45944989, 5.45940721,\n",
       "              5.45936462])                                                    ,\n",
       "       array([-0.22710819, -0.22814498, -0.2291792 , ...,  0.33927387,\n",
       "               0.33924128,  0.339209  ])                              ,\n",
       "       array([ 0.01182652,  0.01224368,  0.01266035, ..., -0.19389056,\n",
       "              -0.1938737 , -0.19385701])                              ,\n",
       "       array([15.73332106, 15.74085086, 15.74831754, ..., 19.58685152,\n",
       "              19.5890182 , 19.59116263])                              ,\n",
       "       array([-0.47918355, -0.47985125, -0.4805161 , ...,  0.08307943,\n",
       "               0.0830789 ,  0.08307836])                              ,\n",
       "       array([3.73489533, 3.7358999 , 3.73689744, ..., 8.08419355, 8.08428297,\n",
       "              8.08437133])                                                    ,\n",
       "       array([0.49165041, 0.49164345, 0.4916343 , ..., 2.97551166, 2.97597543,\n",
       "              2.97643436])                                                    ,\n",
       "       array([ 8.33797511,  8.34499995,  8.35200388, ..., 17.79928343,\n",
       "              17.80117771, 17.80305245])                              ,\n",
       "       array([[2.36301138, 2.36360426, 2.36419104, ..., 0.42820598, 0.42819758,\n",
       "               0.42818925],\n",
       "              [0.36391478, 0.36448076, 0.36505521, ..., 0.81958465, 0.81957741,\n",
       "               0.81957023]])                                                   ,\n",
       "       array([[0.76470354, 0.76650786, 0.76830934, ..., 0.80462159, 0.80464814,\n",
       "               0.8046744 ],\n",
       "              [0.90490951, 0.90730041, 0.90968942, ..., 0.83186729, 0.83166901,\n",
       "               0.83147276],\n",
       "              [2.61861846, 2.62387442, 2.62912717, ..., 3.1240556 , 3.12419312,\n",
       "               3.12432913]])                                                   ,\n",
       "       array([[19.42082896, 19.36841445, 19.31631599, ...,  2.16723461,\n",
       "                2.1665468 ,  2.16586634],\n",
       "              [-0.22356399, -0.22240301, -0.22124228, ...,  0.32999782,\n",
       "                0.32999188,  0.32998597]])                             ,\n",
       "       array([[ 2.05650466,  2.05482393,  2.05315316, ..., 23.10226877,\n",
       "               23.10072323, 23.09919266],\n",
       "              [ 5.15798578,  5.15725797,  5.15652094, ..., 28.0097933 ,\n",
       "               28.00899815, 28.00820964]])                             ,\n",
       "       array([[ 1.08994318,  1.08930682,  1.08866852, ...,  0.97881594,\n",
       "                0.97882292,  0.97882979],\n",
       "              [-3.77150332, -3.77072035, -3.7699372 , ...,  1.69544886,\n",
       "                1.69545902,  1.69546902],\n",
       "              [ 1.32651552,  1.32761806,  1.32871159, ...,  1.36329644,\n",
       "                1.36331338,  1.36333007]])                             ,\n",
       "       array([0.83505877, 0.83418065, 0.83330082, ..., 1.61277575, 1.6127693 ,\n",
       "              1.61276286])                                                    ,\n",
       "       array([[1.60379122, 1.60471451, 1.60563162, ..., 2.78318543, 2.78330075,\n",
       "               2.78341481],\n",
       "              [0.72045272, 0.72064683, 0.72075717, ..., 2.33289885, 2.33292992,\n",
       "               2.33296056]])                                                   ,\n",
       "       array([ 439.2248595 ,  439.10714758,  438.98762876, ..., 1205.2844544 ,\n",
       "              1205.34656919, 1205.4084684 ])                                  ,\n",
       "       array([[0.77899909, 0.77842157, 0.77784167, ..., 0.69638372, 0.69641935,\n",
       "               0.69645461],\n",
       "              [0.19983544, 0.19863882, 0.1974544 , ..., 0.49744727, 0.49747937,\n",
       "               0.49751113]])                                                   ,\n",
       "       array([11.0662535 , 11.0793141 , 11.0923457 , ..., 82.93120155,\n",
       "              82.9418003 , 82.95229025])                              ,\n",
       "       array([0.63844708, 0.63835913, 0.63823263, ..., 0.44371725, 0.44373612,\n",
       "              0.44375477])                                                    ,\n",
       "       array([-0.31895759, -0.31867439, -0.31839049, ...,  0.29395249,\n",
       "               0.29394289,  0.29393338])                              ,\n",
       "       array([[0.16249716, 0.16382223, 0.16514585, ..., 0.43645133, 0.4364556 ,\n",
       "               0.4364598 ],\n",
       "              [0.38494931, 0.38543413, 0.3859178 , ..., 0.21812211, 0.21813994,\n",
       "               0.21815758]])                                                   ,\n",
       "       array([2.18507066, 2.18548126, 2.18588659, ..., 4.39401478, 4.39462941,\n",
       "              4.39523775])                                                    ,\n",
       "       array([0.54251816, 0.54274575, 0.54297063, ..., 0.1170739 , 0.11709011,\n",
       "              0.11710615])                                                    ,\n",
       "       array([44.00745872, 44.0110614 , 44.01475948, ..., 79.58352677,\n",
       "              79.58447235, 79.58540669])                              ,\n",
       "       array([0.82842495, 0.82873675, 0.82904541, ..., 0.47258238, 0.47258573,\n",
       "              0.47258903])                                                    ,\n",
       "       array([-0.31406176, -0.31458096, -0.31509869, ...,  0.17647677,\n",
       "               0.176483  ,  0.17648915])                              ,\n",
       "       array([22.36450161, 22.35948136, 22.35438079, ..., 31.6069226 ,\n",
       "              31.6061666 , 31.60541618])                              ,\n",
       "       array([[-0.6117918 , -0.61223664, -0.61268007, ...,  0.47986327,\n",
       "                0.4799111 ,  0.47995844],\n",
       "              [-7.32683041, -7.31879013, -7.31076552, ...,  3.53590754,\n",
       "                3.53524876,  3.53459684]])                             ,\n",
       "       array([[4.42841278, 4.42776741, 4.42711428, ..., 4.79824867, 4.79799255,\n",
       "               4.79773891],\n",
       "              [0.90619122, 0.90611076, 0.90602694, ..., 1.76206398, 1.76205308,\n",
       "               1.76204222]])                                                   ,\n",
       "       array([[0.67261652, 0.67291269, 0.67320541, ..., 3.7019048 , 3.702534  ,\n",
       "               3.7031568 ],\n",
       "              [1.28564732, 1.28696508, 1.28827905, ..., 9.53470537, 9.53507438,\n",
       "               9.53543948]])                                                   ,\n",
       "       array([ 5.22138296,  5.2169168 ,  5.21243749, ..., 41.58803679,\n",
       "              41.58258857, 41.57719328])                              ,\n",
       "       array([1.38641916, 1.38616576, 1.38590915, ..., 1.75376936, 1.75378158,\n",
       "              1.75379361])                                                    ,\n",
       "       array([0.36147975, 0.36271079, 0.36394077, ..., 0.39776145, 0.3977701 ,\n",
       "              0.39777908])                                                    ,\n",
       "       array([ 0.8027501 ,  0.80152797,  0.80030517, ..., 10.77495656,\n",
       "              10.77365434, 10.77236506])                              ,\n",
       "       array([-0.70667871, -0.70515161, -0.70369969, ...,  0.16847847,\n",
       "               0.16851284,  0.16854686])                              ,\n",
       "       array([ 4.73740379,  4.73812759,  4.73884398, ..., 16.72247268,\n",
       "              16.72239181, 16.72231146])                              ,\n",
       "       array([0.43483884, 0.43497034, 0.43510078, ..., 0.3571334 , 0.35715832,\n",
       "              0.35718298])                                                    ,\n",
       "       array([ 6.72708055,  6.72565497,  6.72421774, ..., 24.96400998,\n",
       "              24.96192244, 24.95985521])                              ,\n",
       "       array([0.38696821, 0.38684298, 0.38671631, ..., 0.31442473, 0.3144426 ,\n",
       "              0.31446027])                                                    ,\n",
       "       array([2.25057618, 2.25104379, 2.25150729, ..., 1.19437629, 1.19433975,\n",
       "              1.19430355])                                                    ,\n",
       "       array([11.64231526, 11.64393146, 11.64529486, ..., 20.14988723,\n",
       "              20.15070745, 20.15151887])                              ,\n",
       "       array([[0.80708862, 0.80653315, 0.805976  , ..., 0.75229226, 0.75231328,\n",
       "               0.75233407],\n",
       "              [0.51367402, 0.51358349, 0.51349154, ..., 0.28487519, 0.28487077,\n",
       "               0.28486646]])                                                   ,\n",
       "       array([6.80551444, 6.80872739, 6.81192265, ..., 7.64230561, 7.64272579,\n",
       "              7.64314153])                                                    ,\n",
       "       array([28.80972938, 28.82795789, 28.84614552, ..., 39.20817189,\n",
       "              39.21082254, 39.21344611])                              ,\n",
       "       array([ 2.25740586,  2.25645854,  2.25550613, ..., 16.63373891,\n",
       "              16.63418257, 16.63462121])                              ,\n",
       "       array([1.34486186, 1.34362459, 1.34238407, ..., 0.27962793, 0.27956354,\n",
       "              0.27949979])                                                    ,\n",
       "       array([ 4.79423411,  4.78720584,  4.78016448, ..., 45.80519193,\n",
       "              45.79447536, 45.78386383])                              ,\n",
       "       array([-0.18635685, -0.18677176, -0.18718467, ..., -0.04437084,\n",
       "              -0.04437147, -0.0443721 ])                              ,\n",
       "       array([[160.59026296, 160.13421655, 159.68097462, ...,  32.94873034,\n",
       "                32.94694607,  32.94517824],\n",
       "              [ 10.48970624,  10.49851216,  10.50729083, ...,  11.2403792 ,\n",
       "                11.24105387,  11.24172153]])                               ,\n",
       "       array([[286.71709611, 286.63138864, 286.54549223, ..., 221.52814939,\n",
       "               221.53268908, 221.53718154],\n",
       "              [ 40.84291112,  40.85811333,  40.87321042, ...,  66.77253397,\n",
       "                66.77387618,  66.77520248]])                               ,\n",
       "       array([0.71619937, 0.71648322, 0.71676366, ..., 0.94161009, 0.9416697 ,\n",
       "              0.94172868])                                                    ,\n",
       "       array([[  8.47978737,   8.4878941 ,   8.49596999, ...,  27.30130597,\n",
       "                27.30315015,  27.30497506],\n",
       "              [ 53.37876198,  53.40963287,  53.4404345 , ..., 154.93192812,\n",
       "               154.94240487, 154.95277464],\n",
       "              [  6.12667087,   6.12150245,   6.11634411, ...,  11.36045045,\n",
       "                11.36071907,  11.36099842]])                               ,\n",
       "       array([ 1.83129471,  1.83372843,  1.83615632, ..., 13.88187442,\n",
       "              13.88309048, 13.88429379])                              ,\n",
       "       array([-2.92777901, -2.92773638, -2.92768632, ...,  0.20821059,\n",
       "               0.20818591,  0.20816147])                              ,\n",
       "       array([ 4.60221083,  4.6044192 ,  4.60661802, ..., 20.29591648,\n",
       "              20.2963768 , 20.29677542])                              ,\n",
       "       array([ 6.63305481,  6.63460553,  6.63614063, ..., 20.09954671,\n",
       "              20.09986259, 20.10017462])                              ,\n",
       "       array([ 3.6705047 ,  3.67380725,  3.67702227, ..., 21.10644783,\n",
       "              21.10946834, 21.11245784])                              ,\n",
       "       array([10.05568635, 10.04998635, 10.04426332, ..., 34.70642227,\n",
       "              34.70340504, 34.70041704])                              ,\n",
       "       array([-0.09668025, -0.09603468, -0.09547051, ...,  0.40150301,\n",
       "               0.40151585,  0.40152856])                              ,\n",
       "       array([-0.09737187, -0.09950364, -0.10163298, ...,  0.56176844,\n",
       "               0.56169133,  0.56161497])                              ,\n",
       "       array([[0.87411173, 0.87323759, 0.87236222, ..., 0.8293435 , 0.82931598,\n",
       "               0.82928871],\n",
       "              [1.97747195, 1.97699304, 1.97651021, ..., 0.81550594, 0.81548099,\n",
       "               0.81545626]])                                                   ,\n",
       "       array([[ 0.33816921,  0.33859931,  0.33902795, ...,  0.55804721,\n",
       "                0.55809522,  0.55814272],\n",
       "              [28.02598567, 28.08765857, 28.1493077 , ..., 11.28416308,\n",
       "               11.28380325, 11.28344695],\n",
       "              [ 0.55612957,  0.55693587,  0.55774052, ...,  0.68345826,\n",
       "                0.68348503,  0.68351152]])                             ,\n",
       "       array([0.71333027, 0.71404675, 0.71496786, ..., 2.94827922, 2.94833543,\n",
       "              2.94839099])                                                    ,\n",
       "       array([ 7.88228518,  7.8814587 ,  7.88074284, ..., 37.73405693,\n",
       "              37.73156569, 37.72909828])                              ,\n",
       "       array([[ 4.27504498,  4.27604457,  4.27703349, ...,  3.35841602,\n",
       "                3.35913683,  3.35985069],\n",
       "              [ 4.2187877 ,  4.22325115,  4.22771181, ..., 12.94114943,\n",
       "               12.94250859, 12.94385394]])                             ,\n",
       "       array([ 5.28353742,  5.28618334,  5.28881672, ..., 31.79329008,\n",
       "              31.79518605, 31.79706207])                              ,\n",
       "       array([[0.7003994 , 0.6992487 , 0.69810148, ..., 1.72108261, 1.72127165,\n",
       "               1.72145878],\n",
       "              [1.5241254 , 1.5250978 , 1.52606562, ..., 1.35032928, 1.35035347,\n",
       "               1.35037737]])                                                   ,\n",
       "       array([[0.49899522, 0.49888202, 0.49876716, ..., 0.70672859, 0.7067287 ,\n",
       "               0.7067288 ],\n",
       "              [1.37954646, 1.37994471, 1.38033981, ..., 0.56923325, 0.56924618,\n",
       "               0.56925896]])                                                   ,\n",
       "       array([0.92760969, 0.92734173, 0.92707154, ..., 0.08357139, 0.08357231,\n",
       "              0.08357322])                                                    ,\n",
       "       array([0.18673402, 0.1862635 , 0.18579273, ..., 0.00068197, 0.00067867,\n",
       "              0.00067541])                                                    ,\n",
       "       array([3.74623146, 3.74955479, 3.75298495, ..., 3.6395087 , 3.63970489,\n",
       "              3.63989905])                                                    ,\n",
       "       array([27.05655931, 27.09153674, 27.12638904, ..., 65.25257078,\n",
       "              65.26617675, 65.27964344])                              ,\n",
       "       array([3.60710486, 3.60809843, 3.60908513, ..., 2.55376306, 2.55374731,\n",
       "              2.55373167])                                                    ,\n",
       "       array([-1.78936688, -1.78860681, -1.78784538, ...,  1.18910241,\n",
       "               1.18911427,  1.189126  ])                              ,\n",
       "       array([[50.13532622, 50.1435979 , 50.15178811, ..., 65.16287738,\n",
       "               65.1637778 , 65.1646682 ],\n",
       "              [21.59694775, 21.5940012 , 21.59095894, ..., 25.60839725,\n",
       "               25.60826723, 25.6081378 ]])                             ,\n",
       "       array([[1.63560543, 1.63725228, 1.63889603, ..., 3.1215011 , 3.12169547,\n",
       "               3.12188786],\n",
       "              [1.77949972, 1.77717306, 1.77484641, ..., 1.00435145, 1.00440402,\n",
       "               1.00445605]])                                                   ,\n",
       "       array([[ 3.73786158,  3.73828306,  3.73869869, ...,  4.37349298,\n",
       "                4.37347121,  4.37344958],\n",
       "              [ 0.37751411,  0.37590843,  0.37430747, ...,  8.65528311,\n",
       "                8.65543473,  8.65558483],\n",
       "              [33.58548277, 33.51297441, 33.44080062, ...,  1.01478288,\n",
       "                1.01454567,  1.01431096]])                             ,\n",
       "       array([2.46767561, 2.46734299, 2.46700785, ..., 0.66976897, 0.66972669,\n",
       "              0.66968483])                                                    ,\n",
       "       array([[0.60228923, 0.6026973 , 0.6030942 , ..., 0.5495136 , 0.54950507,\n",
       "               0.54949661],\n",
       "              [1.53643115, 1.53626926, 1.53610216, ..., 0.60058111, 0.60058605,\n",
       "               0.60059091]])                                                   ,\n",
       "       array([-0.87021762, -0.86993596, -0.86965322, ...,  0.08969434,\n",
       "               0.08969953,  0.08970467])                              ,\n",
       "       array([1.15538317, 1.1558503 , 1.156313  , ..., 1.54346414, 1.54343969,\n",
       "              1.54341543])                                                    ,\n",
       "       array([-0.34218099, -0.34281833, -0.34345523, ...,  0.185372  ,\n",
       "               0.18539764,  0.18542301])                              ,\n",
       "       array([0.00932822, 0.01001476, 0.0107007 , ..., 0.52493658, 0.52493985,\n",
       "              0.52494307])                                                    ,\n",
       "       array([1.72343653, 1.72358827, 1.72372531, ..., 1.05184613, 1.05186987,\n",
       "              1.05189335])                                                    ,\n",
       "       array([ 4.51916701,  4.52736945,  4.53555689, ..., 11.0225621 ,\n",
       "              11.02387524, 11.02517482])                              ,\n",
       "       array([1.36025381, 1.36069486, 1.36113174, ..., 1.63134889, 1.63148649,\n",
       "              1.63162266])                                                    ,\n",
       "       array([ 4.71645567,  4.71728329,  4.71810138, ..., 14.38114986,\n",
       "              14.38110542, 14.38106108])                              ,\n",
       "       array([ 0.65539794,  0.65519176,  0.65498399, ..., -0.06024903,\n",
       "              -0.0602344 , -0.06021991])                              ],\n",
       "      dtype=object)"
      ]
     },
     "execution_count": 12,
     "metadata": {},
     "output_type": "execute_result"
    }
   ],
   "source": [
    "NEP_spec"
   ]
  },
  {
   "cell_type": "code",
   "execution_count": 21,
   "id": "e1fcae8e",
   "metadata": {},
   "outputs": [
    {
     "data": {
      "text/plain": [
       "(555, 1036)"
      ]
     },
     "execution_count": 21,
     "metadata": {},
     "output_type": "execute_result"
    }
   ],
   "source": [
    "agn_spec.shape"
   ]
  },
  {
   "cell_type": "code",
   "execution_count": 27,
   "id": "346105b3",
   "metadata": {},
   "outputs": [
    {
     "data": {
      "text/plain": [
       "(100,)"
      ]
     },
     "execution_count": 27,
     "metadata": {},
     "output_type": "execute_result"
    }
   ],
   "source": [
    "NEP_spec.shape"
   ]
  },
  {
   "cell_type": "code",
   "execution_count": null,
   "id": "5fd0cf65",
   "metadata": {},
   "outputs": [],
   "source": [
    "# This function checks for nan values.\n",
    "# Interestingly enough, when you do nan != nan, you get True. Becuase NaN is unequal with anything.\n",
    "# But with numbers, you'll get false.\n",
    "def isNaN(num):\n",
    "    return num != num"
   ]
  },
  {
   "cell_type": "code",
   "execution_count": null,
   "id": "a73500a3",
   "metadata": {},
   "outputs": [],
   "source": [
    "# If there are any values in the imports that are 'nan' (Not a Number) we remove them.\n",
    "# Go through each value in matrix and check if NaN\n",
    "def remove_nan(file):\n",
    "    for i in range(0,len(file)):\n",
    "        for j in range(0,len(file[i])):\n",
    "            if isNaN(file[i][j]):\n",
    "\n",
    "                # if value is nan, make the value equal to 0.0001\n",
    "                # I'm assuming this was to avoid errors\n",
    "                file[i][j]=0.00001\n",
    "\n",
    "remove_nan(star_spec)\n",
    "remove_nan(agn_spec)\n",
    "remove_nan(lowz_spec)\n",
    "remove_nan(gal_spec)\n",
    "# Adding NEP files to the remove NaN function calls\n",
    "#remove_nan(NEP_spec)"
   ]
  },
  {
   "cell_type": "code",
   "execution_count": null,
   "id": "d73c832f",
   "metadata": {},
   "outputs": [],
   "source": [
    "# random.seed(2) will make the random numbers predictable, so random numbers, but the same random numbers from the same set/seed\n",
    "# so I'll get the same random numbers everytime, until I change the seed\n",
    "np.random.seed(2)\n",
    "# random.shuffle will shuffle the values in an array or list. Like shuffling a deck of cards\n",
    "np.random.shuffle(star_spec)"
   ]
  },
  {
   "cell_type": "markdown",
   "id": "7b0fcf7c",
   "metadata": {},
   "source": [
    "Tying to split between testing and training belo. scikit learning has something to make randomize data set and training sets."
   ]
  },
  {
   "cell_type": "code",
   "execution_count": null,
   "id": "dd5bfa3f",
   "metadata": {},
   "outputs": [],
   "source": [
    "# concatenate just joins arrays\n",
    "all_images = np.concatenate((star_spec[::90],agn_spec,lowz_spec,gal_spec))\n",
    "# making a training set\n",
    "train_images = np.concatenate((star_spec[::90][:433],agn_spec[:444],lowz_spec[:837],gal_spec[:254]))\n",
    "#train_images = agn_spec[:433]\n",
    "#np.random.shuffle(train_images)"
   ]
  },
  {
   "cell_type": "code",
   "execution_count": null,
   "id": "0ab0902b",
   "metadata": {},
   "outputs": [],
   "source": [
    "# not sure what these val_images are, it seems to be the opposite half of the train_images.\n",
    "val_images = np.concatenate((star_spec[::90][433:],agn_spec[444:],lowz_spec[837:],gal_spec[254:]))\n",
    "#val_images = agn_spec[433:]\n",
    "#np.random.shuffle(val_images)"
   ]
  },
  {
   "cell_type": "code",
   "execution_count": null,
   "id": "f6db6f9c",
   "metadata": {},
   "outputs": [],
   "source": [
    "# This function will normalize the data.\n",
    "# The idea is, there is such a large range of sources so it may be simpler for the algorithm to recognize sources\n",
    "# if they are between 0 and 1.\n",
    "# Dividing by the largest number preserves the information but scales it down.\n",
    "# If we don't do this the sources could go from a very large number to a small one, which makes it harder for the algorithm\n",
    "def Norm(data):\n",
    "    new_data = []\n",
    "    for spec in data:\n",
    "        #print('spec_before', spec)\n",
    "        spec = spec/spec.max()\n",
    "        #print('spec_after', spec)\n",
    "        #print('spec.max', spec.max())\n",
    "        new_data.append(spec)\n",
    "    return np.array(new_data)"
   ]
  },
  {
   "cell_type": "code",
   "execution_count": null,
   "id": "25ef7e1f",
   "metadata": {},
   "outputs": [],
   "source": [
    "# Normalizing both data sets\n",
    "train_images = Norm(train_images)\n",
    "val_images = Norm(val_images)"
   ]
  },
  {
   "cell_type": "code",
   "execution_count": null,
   "id": "5c794651",
   "metadata": {},
   "outputs": [],
   "source": [
    "# Making cuts of the image sets and then normalizing them.\n",
    "train_cut = train_images[:,88:1002]\n",
    "val_cut = val_images[:,88:1002]\n",
    "train_cut = Norm(train_cut)\n",
    "val_cut = Norm(val_cut)"
   ]
  },
  {
   "cell_type": "code",
   "execution_count": null,
   "id": "09b19cb2",
   "metadata": {},
   "outputs": [],
   "source": [
    "latent_dim = 30\n",
    "act = 'sigmoid'"
   ]
  },
  {
   "cell_type": "code",
   "execution_count": null,
   "id": "1edd60ae",
   "metadata": {},
   "outputs": [],
   "source": [
    "class Autoencoder(Model):\n",
    "def __init__(self, latent_dim):\n",
    "    super(Autoencoder, self).__init__()\n",
    "    self.latent_dim = latent_dim   \n",
    "    self.encoder = tf.keras.Sequential([\n",
    "      #layers.InputLayer(input_shape=(1036)),\n",
    "      layers.Dense(436, activation=act,name=\"e1\"),\n",
    "      #layers.Dropout(0.3),\n",
    "      #layers.Dense(136, activation=act, name ='e2'),\n",
    "      #BatchNormalization(),\n",
    "      layers.Dropout(0.3),\n",
    "      layers.Dense(latent_dim, activation=None, name = \"e3\"),\n",
    "    ])\n",
    "    self.decoder = tf.keras.Sequential([\n",
    "      #layers.InputLayer(input_shape=(latent_dim,)),\n",
    "      #layers.Dense(136, activation=act,name = \"d1\"),\n",
    "      layers.Dense(436, activation=act,name = \"d2\"),\n",
    "      #BatchNormalization(),\n",
    "      layers.Dense(914, activation=None,name = \"d3\")\n",
    "    ])#914 for cut. 1036 for all\n",
    "\n",
    "def call(self, x):\n",
    "    encoded = self.encoder(x)\n",
    "    decoded = self.decoder(encoded)\n",
    "    return decoded"
   ]
  },
  {
   "cell_type": "code",
   "execution_count": null,
   "id": "21a658af",
   "metadata": {},
   "outputs": [],
   "source": [
    "autoencoder = Autoencoder(latent_dim)\n",
    "#autoencoder.build(input_shape=np.shape(train_images))\n",
    "epoch = 500"
   ]
  },
  {
   "cell_type": "code",
   "execution_count": null,
   "id": "f969bd6a",
   "metadata": {},
   "outputs": [],
   "source": [
    "adg = tf.keras.optimizers.Adagrad(\n",
    "    learning_rate=0.01)"
   ]
  },
  {
   "cell_type": "code",
   "execution_count": null,
   "id": "275f5419",
   "metadata": {},
   "outputs": [],
   "source": [
    "adam = tf.keras.optimizers.Adam(\n",
    "    learning_rate=0.0005)"
   ]
  },
  {
   "cell_type": "code",
   "execution_count": null,
   "id": "b5573692",
   "metadata": {},
   "outputs": [],
   "source": [
    "def loss1(y_true, y_pred):\n",
    "    y_pred = tf.convert_to_tensor(y_pred)\n",
    "    y_true = tf.cast(y_true, y_pred.dtype)\n",
    "    d = tf.reduce_mean(tf.math.square(y_pred - y_true), axis=-1)\n",
    "    #tf.print(d, [d], \"Inside loss function\")\n",
    "    #tf.print(d.shape)\n",
    "    return d\n",
    "\n",
    "autoencoder.compile(optimizer=adam, loss=loss1)#es.MeanSquaredError())\n",
    "\n",
    "try:\n",
    "    os.mkdir(f\"models/training{training_index}\")\n",
    "    checkpoint_path = f\"models/training{training_index}/cp_{training_index}.ckpt\"\n",
    "    checkpoint_dir = os.path.dirname(checkpoint_path)\n",
    "except:\n",
    "    checkpoint_path = f\"models/training{training_index}/cp_{training_index}.ckpt\"\n",
    "    checkpoint_dir = os.path.dirname(checkpoint_path)"
   ]
  },
  {
   "cell_type": "code",
   "execution_count": null,
   "id": "e458d6ee",
   "metadata": {
    "scrolled": true
   },
   "outputs": [],
   "source": [
    "# Create a callback that saves the model's weights\n",
    "cp_callback = tf.keras.callbacks.ModelCheckpoint(filepath=checkpoint_path,\n",
    "                                                 save_weights_only=True,\n",
    "                                                 verbose=1)\n",
    "#autoencoder.summary()\n",
    "#autoencoder.fit(train_images, train_images,\n",
    " #               epochs=10,\n",
    "  #              shuffle=True,\n",
    "   #             validation_data=(val_images,val_images))\n",
    "hist = autoencoder.fit(train_cut, train_cut,\n",
    "                epochs=epoch,\n",
    "                shuffle=True,\n",
    "                validation_data=(val_cut,val_cut),\n",
    "                callbacks=[cp_callback])\n"
   ]
  },
  {
   "cell_type": "code",
   "execution_count": null,
   "id": "7b415d9f",
   "metadata": {},
   "outputs": [],
   "source": [
    "plt.figure()\n",
    "x = np.linspace(1,epoch+1,epoch)\n",
    "plt.plot(x,hist.history[\"loss\"],label=\"loss\")\n",
    "plt.plot(x,hist.history[\"val_loss\"],label=\"val loss\")\n",
    "plt.legend()\n",
    "plt.savefig(f'Graphs/loss_{training_index}.png')\n",
    "print(np.shape(train_images))\n",
    "\n",
    "encoded_imgs = autoencoder.encoder(train_cut).numpy()\n",
    "decoded_imgs = autoencoder.decoder(encoded_imgs).numpy()\n",
    "np.save(f\"encoded_{training_index}\",encoded_imgs)\n",
    "np.save(f\"decoded_{training_index}\",decoded_imgs)\n",
    "\n",
    "encoded_val = autoencoder.encoder(val_cut).numpy()\n",
    "np.save(f\"encoded_val_{training_index}\",encoded_val)"
   ]
  },
  {
   "cell_type": "code",
   "execution_count": null,
   "id": "82b73022",
   "metadata": {},
   "outputs": [],
   "source": [
    "np.load(\"encoded_31_cut.npy\")"
   ]
  },
  {
   "cell_type": "code",
   "execution_count": null,
   "id": "1bae5bdd",
   "metadata": {},
   "outputs": [],
   "source": [
    "plt.figure()\n",
    "plt.plot(train_cut[4])\n",
    "plt.savefig(\"OG.png\")\n",
    "plt.figure()\n",
    "plt.plot(decoded_imgs[4])\n",
    "plt.savefig(\"RECON.png\")\n",
    "print(hist.history[\"val_loss\"][-1])"
   ]
  },
  {
   "cell_type": "code",
   "execution_count": null,
   "id": "458fb812",
   "metadata": {},
   "outputs": [],
   "source": []
  }
 ],
 "metadata": {
  "kernelspec": {
   "display_name": "Python 3 (ipykernel)",
   "language": "python",
   "name": "python3"
  },
  "language_info": {
   "codemirror_mode": {
    "name": "ipython",
    "version": 3
   },
   "file_extension": ".py",
   "mimetype": "text/x-python",
   "name": "python",
   "nbconvert_exporter": "python",
   "pygments_lexer": "ipython3",
   "version": "3.10.5"
  }
 },
 "nbformat": 4,
 "nbformat_minor": 5
}
