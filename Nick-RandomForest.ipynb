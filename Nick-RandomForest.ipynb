{
 "cells": [
  {
   "cell_type": "markdown",
   "id": "5a1d282d",
   "metadata": {},
   "source": [
    "Why exactly is it helpful for an algorithm to be able to classify high-z sources from their spectra?\n",
    "Ultimately science goal to use high-z to constrain cosmological parameters. How accurately we can constrain depends on . The better we can measure Ly-a the better the cosmological parameters. Increasing data volume. Finding high-z in an automated way, for HETDEX goals. \n"
   ]
  },
  {
   "cell_type": "markdown",
   "id": "1a079dec",
   "metadata": {},
   "source": [
    "# Questions 03/29/23:\n",
    "\n",
    "* What do I do with spec_err?\n",
    "\n",
    "    - Divide the original spectrum over spec_err to try and cancel out noise.\n",
    "\n",
    "* Do I have to standard scale the noise too? Can I just standard scale the highz?\n",
    "\n",
    "    - For the sake of consistency, should use it on both.\n",
    "    \n",
    "# Notes 03/29/23:\n",
    "\n",
    "## Things to do:\n",
    "    * Get a plot of the three normal high-z, spec err, and divided (do this for false positives and false negatives)\n",
    "        - create a function (define ax.plot), takes in high-z spec and spec err and then gives us three plots.\n",
    "        - ax.plot can pass and return into functions.\n",
    "    * Visually inspect the classifications.\n",
    "    \n",
    "    Get x and y for spectra plots\n",
    "    \n",
    "## Presentation\n",
    "\n",
    "    - They are interesting sources\n",
    "    - Lyman Alpha cna be used to retrace reionzation, periond of unknown universe time. Can use lyman alpha to retrace back in time.\n",
    "    - High redshift cause that is when reionization occurs."
   ]
  },
  {
   "cell_type": "markdown",
   "id": "1a3fb159",
   "metadata": {},
   "source": [
    "http://ned.ipac.caltech.edu/level5/March19/Baron/Baron2.html"
   ]
  },
  {
   "cell_type": "code",
   "execution_count": 1,
   "id": "5f786fa6",
   "metadata": {},
   "outputs": [],
   "source": [
    "import numpy as np\n",
    "import matplotlib.pyplot as plt\n",
    "import pandas as pd\n",
    "import seaborn as sns # statistical data visualization\n",
    "\n",
    "from sklearn.model_selection import train_test_split\n",
    "from sklearn.model_selection import cross_val_score\n",
    "from sklearn.ensemble import RandomForestClassifier\n",
    "from sklearn import metrics \n",
    "#from sklearn.metrics import mean_squared_error\n",
    "#from sklearn.metrics import accuracy_score, confusion_matrix, classification_report"
   ]
  },
  {
   "cell_type": "code",
   "execution_count": 2,
   "id": "fdf17295",
   "metadata": {},
   "outputs": [],
   "source": [
    "# Using this to be able to plot spectra. For some reason Jupyter won't let me plot spectra without this\n",
    "%matplotlib inline"
   ]
  },
  {
   "cell_type": "code",
   "execution_count": 3,
   "id": "e1fbda46",
   "metadata": {},
   "outputs": [],
   "source": [
    "# loading in the decoded sources I got from inputting random encoded sources into t-sne.\n",
    "# These will be our testing sample\n",
    "random_highz_sources = np.load(\"highz_sources.npy\")"
   ]
  },
  {
   "cell_type": "code",
   "execution_count": 4,
   "id": "71008210",
   "metadata": {},
   "outputs": [],
   "source": [
    "# loading in my high confidence high z sources.\n",
    "high_confidence_highz_spectra_sn7 = np.load(\"high_confidence_highz_sn7_10000.npy\", allow_pickle = True)\n",
    "high_confidence_highz_spec_err_sn7 = np.load(\"high_confidence_highz_spec_err_sn7_10000.npy\", allow_pickle = True)"
   ]
  },
  {
   "cell_type": "code",
   "execution_count": 6,
   "id": "90e4fc51",
   "metadata": {},
   "outputs": [],
   "source": [
    "num_sources = high_confidence_highz_spectra_sn7.shape[0]\n",
    "confidence_over_spec_err_LS = [[0] * 1 for i in range(num_sources)]\n",
    "\n",
    "counter = 0\n",
    "\n",
    "while counter < num_sources:\n",
    "    confidence_over_spec_err_LS[counter] = \\\n",
    "    high_confidence_highz_spectra_sn7[counter] / high_confidence_highz_spec_err_sn7[counter]\n",
    "    \n",
    "    counter += 1\n",
    "\n",
    "high_confidence_over_specc_err = np.array(confidence_over_spec_err_LS)"
   ]
  },
  {
   "cell_type": "code",
   "execution_count": 69,
   "id": "71f51de2",
   "metadata": {},
   "outputs": [
    {
     "data": {
      "text/plain": [
       "[<matplotlib.lines.Line2D at 0x7f548ab0d7b0>]"
      ]
     },
     "execution_count": 69,
     "metadata": {},
     "output_type": "execute_result"
    },
    {
     "data": {
      "image/png": "[encoded data removed]",
      "text/plain": [
       "<Figure size 432x288 with 1 Axes>"
      ]
     },
     "metadata": {},
     "output_type": "display_data"
    }
   ],
   "source": [
    "plt.plot(high_confidence_highz_spectra_sn7[4])"
   ]
  },
  {
   "cell_type": "code",
   "execution_count": 7,
   "id": "46075b11",
   "metadata": {},
   "outputs": [
    {
     "data": {
      "text/plain": [
       "array([[ 0.04695294,  0.04675316,  0.04655362, ..., -0.00777815,\n",
       "        -0.0077656 , -0.00775317],\n",
       "       [ 0.08787109,  0.08846727,  0.08906277, ..., -0.01376338,\n",
       "        -0.01375975, -0.01375615],\n",
       "       [ 0.15204245,  0.15184985,  0.1516571 , ...,  0.17291209,\n",
       "         0.17289903,  0.1728861 ],\n",
       "       ...,\n",
       "       [-0.01316075, -0.01289412, -0.01262773, ..., -0.00574126,\n",
       "        -0.00573692, -0.00573262],\n",
       "       [ 0.13947346,  0.13961765,  0.13975854, ...,  0.01996182,\n",
       "         0.01996436,  0.01996688],\n",
       "       [ 0.06376241,  0.06358678,  0.06341113, ...,  0.09281802,\n",
       "         0.09281972,  0.0928214 ]])"
      ]
     },
     "execution_count": 7,
     "metadata": {},
     "output_type": "execute_result"
    }
   ],
   "source": [
    "high_confidence_over_specc_err"
   ]
  },
  {
   "cell_type": "code",
   "execution_count": 8,
   "id": "7394d750",
   "metadata": {},
   "outputs": [],
   "source": [
    "# loading in the noise sample.\n",
    "noise_sample = np.load(\"noise_sample_10000.npy\", allow_pickle = True)"
   ]
  },
  {
   "cell_type": "markdown",
   "id": "cec9711c",
   "metadata": {},
   "source": [
    "## Random-Forest classification"
   ]
  },
  {
   "cell_type": "markdown",
   "id": "966bbbec",
   "metadata": {},
   "source": [
    "https://levelup.gitconnected.com/random-forest-regression-209c0f354c84#:~:text=Random%20Forest%20Regression%20is%20a%20supervised%20learning%20algorithm%20that%20uses,prediction%20than%20a%20single%20model."
   ]
  },
  {
   "cell_type": "markdown",
   "id": "0d99ac7e",
   "metadata": {},
   "source": [
    "https://www.datacamp.com/tutorial/random-forests-classifier-python"
   ]
  },
  {
   "cell_type": "markdown",
   "id": "36234ad6",
   "metadata": {},
   "source": [
    "## According to internet, issues with overfitting! Possibly need more data.\n",
    "\n",
    "https://stackoverflow.com/questions/62445343/randomforestregressor-in-sklearn-giving-negative-scores"
   ]
  },
  {
   "cell_type": "code",
   "execution_count": 9,
   "id": "324e1909",
   "metadata": {},
   "outputs": [],
   "source": [
    "#twodspectra = np.concatenate((sliced_highz, sliced_noise))\n",
    "#twodspectra = np.concatenate((high_confidence_highz_spectra_sn7, noise_sample))\n",
    "twodspectra = np.concatenate((high_confidence_over_specc_err, noise_sample))\n",
    "#twodspectra = np.concatenate((normalized_highz, normalized_noise))\n",
    "#twodspectra = np.concatenate((stdscaler_highz, stdscaler_noise))"
   ]
  },
  {
   "cell_type": "code",
   "execution_count": 10,
   "id": "a7389e0f",
   "metadata": {},
   "outputs": [],
   "source": [
    "highz_classification = np.ones(10000)\n",
    "noise_classification = np.zeros(10000)\n",
    "\n",
    "merge_classification = np.append(highz_classification, noise_classification)"
   ]
  },
  {
   "cell_type": "markdown",
   "id": "e586935a",
   "metadata": {},
   "source": [
    "### Make my own labels:\n",
    "https://towardsdatascience.com/labeling-data-with-pandas-9e573ce59c42"
   ]
  },
  {
   "cell_type": "code",
   "execution_count": 11,
   "id": "649755d3",
   "metadata": {},
   "outputs": [],
   "source": [
    "X = twodspectra\n",
    "y = merge_classification"
   ]
  },
  {
   "cell_type": "code",
   "execution_count": 12,
   "id": "e103d0f7",
   "metadata": {},
   "outputs": [],
   "source": [
    "# Splitting arrays or matrices into random train and test subsets\n",
    "from sklearn.model_selection import train_test_split\n",
    "# i.e. 70 % training dataset and 30 % test datasets\n",
    "X_train, X_test, y_train, y_test = train_test_split(X, y, test_size = 0.30, random_state = 42)"
   ]
  },
  {
   "cell_type": "markdown",
   "id": "9bf378fb",
   "metadata": {},
   "source": [
    "Before applying any scaling transformations it is very important to split your data into a train set and a test set. If you start scaling before, your training (and test) data might end up scaled around a mean value (see below) that is not actually the mean of the train or test data, and go past the whole reason why you’re scaling in the first place."
   ]
  },
  {
   "cell_type": "code",
   "execution_count": 13,
   "id": "d2c19b83",
   "metadata": {},
   "outputs": [],
   "source": [
    "# importing random forest classifier from assemble module\n",
    "from sklearn.ensemble import RandomForestClassifier"
   ]
  },
  {
   "cell_type": "markdown",
   "id": "599395a0",
   "metadata": {},
   "source": [
    "### Note on number of estimators/trees\n",
    "- The more trees you have the more accurate the model will be, however it only helps a certain amount. I started with 100 estimators (and no changing of any parameters) and got an accuracy of around ~67-69%, I then increased to 500 estimators and got ~70-71% and then I went to 1000 estimators and it stayed the same as with 500 estimators. I even went to 10,000 and it stayed the same (might have even gone lower) as with 1000 estimators. Also takes awhile to run with 10,000. If anything 500 might have better accuracy."
   ]
  },
  {
   "cell_type": "code",
   "execution_count": 14,
   "id": "e68af283",
   "metadata": {},
   "outputs": [],
   "source": [
    "# creating a RF classifier\n",
    "rfc = RandomForestClassifier(n_estimators = 700, random_state = 42)  "
   ]
  },
  {
   "cell_type": "code",
   "execution_count": 15,
   "id": "f0e28d23",
   "metadata": {},
   "outputs": [
    {
     "data": {
      "text/html": [
       "<style>#sk-container-id-1 {color: black;background-color: white;}#sk-container-id-1 pre{padding: 0;}#sk-container-id-1 div.sk-toggleable {background-color: white;}#sk-container-id-1 label.sk-toggleable__label {cursor: pointer;display: block;width: 100%;margin-bottom: 0;padding: 0.3em;box-sizing: border-box;text-align: center;}#sk-container-id-1 label.sk-toggleable__label-arrow:before {content: \"▸\";float: left;margin-right: 0.25em;color: #696969;}#sk-container-id-1 label.sk-toggleable__label-arrow:hover:before {color: black;}#sk-container-id-1 div.sk-estimator:hover label.sk-toggleable__label-arrow:before {color: black;}#sk-container-id-1 div.sk-toggleable__content {max-height: 0;max-width: 0;overflow: hidden;text-align: left;background-color: #f0f8ff;}#sk-container-id-1 div.sk-toggleable__content pre {margin: 0.2em;color: black;border-radius: 0.25em;background-color: #f0f8ff;}#sk-container-id-1 input.sk-toggleable__control:checked~div.sk-toggleable__content {max-height: 200px;max-width: 100%;overflow: auto;}#sk-container-id-1 input.sk-toggleable__control:checked~label.sk-toggleable__label-arrow:before {content: \"▾\";}#sk-container-id-1 div.sk-estimator input.sk-toggleable__control:checked~label.sk-toggleable__label {background-color: #d4ebff;}#sk-container-id-1 div.sk-label input.sk-toggleable__control:checked~label.sk-toggleable__label {background-color: #d4ebff;}#sk-container-id-1 input.sk-hidden--visually {border: 0;clip: rect(1px 1px 1px 1px);clip: rect(1px, 1px, 1px, 1px);height: 1px;margin: -1px;overflow: hidden;padding: 0;position: absolute;width: 1px;}#sk-container-id-1 div.sk-estimator {font-family: monospace;background-color: #f0f8ff;border: 1px dotted black;border-radius: 0.25em;box-sizing: border-box;margin-bottom: 0.5em;}#sk-container-id-1 div.sk-estimator:hover {background-color: #d4ebff;}#sk-container-id-1 div.sk-parallel-item::after {content: \"\";width: 100%;border-bottom: 1px solid gray;flex-grow: 1;}#sk-container-id-1 div.sk-label:hover label.sk-toggleable__label {background-color: #d4ebff;}#sk-container-id-1 div.sk-serial::before {content: \"\";position: absolute;border-left: 1px solid gray;box-sizing: border-box;top: 0;bottom: 0;left: 50%;z-index: 0;}#sk-container-id-1 div.sk-serial {display: flex;flex-direction: column;align-items: center;background-color: white;padding-right: 0.2em;padding-left: 0.2em;position: relative;}#sk-container-id-1 div.sk-item {position: relative;z-index: 1;}#sk-container-id-1 div.sk-parallel {display: flex;align-items: stretch;justify-content: center;background-color: white;position: relative;}#sk-container-id-1 div.sk-item::before, #sk-container-id-1 div.sk-parallel-item::before {content: \"\";position: absolute;border-left: 1px solid gray;box-sizing: border-box;top: 0;bottom: 0;left: 50%;z-index: -1;}#sk-container-id-1 div.sk-parallel-item {display: flex;flex-direction: column;z-index: 1;position: relative;background-color: white;}#sk-container-id-1 div.sk-parallel-item:first-child::after {align-self: flex-end;width: 50%;}#sk-container-id-1 div.sk-parallel-item:last-child::after {align-self: flex-start;width: 50%;}#sk-container-id-1 div.sk-parallel-item:only-child::after {width: 0;}#sk-container-id-1 div.sk-dashed-wrapped {border: 1px dashed gray;margin: 0 0.4em 0.5em 0.4em;box-sizing: border-box;padding-bottom: 0.4em;background-color: white;}#sk-container-id-1 div.sk-label label {font-family: monospace;font-weight: bold;display: inline-block;line-height: 1.2em;}#sk-container-id-1 div.sk-label-container {text-align: center;}#sk-container-id-1 div.sk-container {/* jupyter's `normalize.less` sets `[hidden] { display: none; }` but bootstrap.min.css set `[hidden] { display: none !important; }` so we also need the `!important` here to be able to override the default hidden behavior on the sphinx rendered scikit-learn.org. See: https://github.com/scikit-learn/scikit-learn/issues/21755 */display: inline-block !important;position: relative;}#sk-container-id-1 div.sk-text-repr-fallback {display: none;}</style><div id=\"sk-container-id-1\" class=\"sk-top-container\"><div class=\"sk-text-repr-fallback\"><pre>RandomForestClassifier(n_estimators=700, random_state=42)</pre><b>In a Jupyter environment, please rerun this cell to show the HTML representation or trust the notebook. <br />On GitHub, the HTML representation is unable to render, please try loading this page with nbviewer.org.</b></div><div class=\"sk-container\" hidden><div class=\"sk-item\"><div class=\"sk-estimator sk-toggleable\"><input class=\"sk-toggleable__control sk-hidden--visually\" id=\"sk-estimator-id-1\" type=\"checkbox\" checked><label for=\"sk-estimator-id-1\" class=\"sk-toggleable__label sk-toggleable__label-arrow\">RandomForestClassifier</label><div class=\"sk-toggleable__content\"><pre>RandomForestClassifier(n_estimators=700, random_state=42)</pre></div></div></div></div></div>"
      ],
      "text/plain": [
       "RandomForestClassifier(n_estimators=700, random_state=42)"
      ]
     },
     "execution_count": 15,
     "metadata": {},
     "output_type": "execute_result"
    }
   ],
   "source": [
    "# Training the model on the training dataset\n",
    "# fit function is used to train the model using the training sets as parameters\n",
    "rfc.fit(X_train, y_train)"
   ]
  },
  {
   "cell_type": "code",
   "execution_count": 16,
   "id": "fae3e3f7",
   "metadata": {},
   "outputs": [],
   "source": [
    "# performing predictions on the test dataset\n",
    "y_pred = rfc.predict(X_test)"
   ]
  },
  {
   "cell_type": "code",
   "execution_count": 17,
   "id": "36c8f69c",
   "metadata": {
    "scrolled": true
   },
   "outputs": [
    {
     "name": "stdout",
     "output_type": "stream",
     "text": [
      "Accuracy: 0.9855\n",
      "Precision: 0.9819078947368421\n",
      "Recall: 0.9893934371892609\n"
     ]
    }
   ],
   "source": [
    "print(\"Accuracy:\", metrics.accuracy_score(y_test, y_pred))\n",
    "print(\"Precision:\", metrics.precision_score(y_test, y_pred))\n",
    "print(\"Recall:\", metrics.recall_score(y_test, y_pred))"
   ]
  },
  {
   "cell_type": "code",
   "execution_count": 18,
   "id": "e72b24d9",
   "metadata": {},
   "outputs": [],
   "source": [
    "# View confusion matrix for test data and predictions\n",
    "#metrics.confusion_matrix(y_test, y_pred)"
   ]
  },
  {
   "cell_type": "code",
   "execution_count": 19,
   "id": "3f2679f5",
   "metadata": {},
   "outputs": [],
   "source": [
    "tn, fp, fn, tp = metrics.confusion_matrix(y_test, y_pred, normalize = 'true').ravel()"
   ]
  },
  {
   "cell_type": "code",
   "execution_count": 20,
   "id": "1a386b4e",
   "metadata": {},
   "outputs": [
    {
     "data": {
      "text/plain": [
       "(0.9815621857190747,\n",
       " 0.01843781428092524,\n",
       " 0.010606562810739144,\n",
       " 0.9893934371892609)"
      ]
     },
     "execution_count": 20,
     "metadata": {},
     "output_type": "execute_result"
    }
   ],
   "source": [
    "(tn, fp, fn, tp)"
   ]
  },
  {
   "cell_type": "code",
   "execution_count": 21,
   "id": "7cce06c2",
   "metadata": {},
   "outputs": [
    {
     "data": {
      "image/png": "[encoded data removed]",
      "text/plain": [
       "<Figure size 1152x504 with 2 Axes>"
      ]
     },
     "metadata": {
      "needs_background": "light"
     },
     "output_type": "display_data"
    }
   ],
   "source": [
    "# Get and reshape confusion matrix data\n",
    "matrix = metrics.confusion_matrix(y_test, y_pred)\n",
    "matrix = matrix.astype('float') / matrix.sum(axis=1)[:, np.newaxis]\n",
    "\n",
    "# Build the plot\n",
    "plt.figure(figsize=(16,7))\n",
    "sns.set(font_scale=1.4)\n",
    "sns.heatmap(matrix, annot=True, annot_kws={'size':15},\n",
    "            cmap=plt.cm.Greens, linewidths=0.2)\n",
    "\n",
    "# Add labels to the plot\n",
    "class_names = ['Noise', 'High-z']\n",
    "tick_marks = np.arange(len(class_names)) + 0.5\n",
    "tick_marks2 = tick_marks\n",
    "plt.xticks(tick_marks, class_names)\n",
    "plt.yticks(tick_marks2, class_names, rotation= 0)\n",
    "plt.xlabel('Predicted label')\n",
    "plt.ylabel('True label')\n",
    "plt.title('Confusion Matrix for Random Forest Model')\n",
    "plt.show()"
   ]
  },
  {
   "cell_type": "code",
   "execution_count": 143,
   "id": "5e5fc530",
   "metadata": {},
   "outputs": [],
   "source": [
    "false_positive = X_test[(y_test == 0) & (y_pred == 1)]  # predicted high-z but actually noise\n",
    "false_negative = X_test[(y_test == 1) & (y_pred == 0)]  # predicted noise but actually high-z\n",
    "\n",
    "true_positive = X_test[(y_test == 1) & (y_pred == 1)] # predicted high-z and actually high-z\n",
    "true_negative = X_test[(y_test == 0) & (y_pred == 0)] # predicted noise and actually noise"
   ]
  },
  {
   "cell_type": "code",
   "execution_count": 30,
   "id": "0fc50d5d",
   "metadata": {},
   "outputs": [],
   "source": [
    "from ipywidgets import interact, interactive, fixed, interact_manual\n",
    "import ipywidgets as widgets"
   ]
  },
  {
   "cell_type": "code",
   "execution_count": 159,
   "id": "b6e1249d",
   "metadata": {
    "scrolled": true
   },
   "outputs": [
    {
     "data": {
      "application/vnd.jupyter.widget-view+json": {
       "model_id": "013b23e7036f4491b32936a005e51c35",
       "version_major": 2,
       "version_minor": 0
      },
      "text/plain": [
       "interactive(children=(IntSlider(value=15, description='n', max=31), Output()), _dom_classes=('widget-interact'…"
      ]
     },
     "metadata": {},
     "output_type": "display_data"
    }
   ],
   "source": [
    "def false_neg_check(n):\n",
    "    #x = np.linspace(0, 100)\n",
    "    y = false_negative[n]\n",
    "    fig, (ax1, ax2) = plt.subplots(nrows = 1, ncols = 2, figsize=(10, 4));\n",
    "    ax1.plot(y)\n",
    "    ax2.plot(y)\n",
    "    plt.show()\n",
    "    \n",
    "widgets.interact(false_neg_check, n=(0, false_negative.shape[0] - 1));"
   ]
  },
  {
   "cell_type": "code",
   "execution_count": 155,
   "id": "e0ef23b8",
   "metadata": {},
   "outputs": [
    {
     "data": {
      "application/vnd.jupyter.widget-view+json": {
       "model_id": "fa47ede4bc394968bc1259e6daebe6dd",
       "version_major": 2,
       "version_minor": 0
      },
      "text/plain": [
       "interactive(children=(IntSlider(value=27, description='n', max=54), Output()), _dom_classes=('widget-interact'…"
      ]
     },
     "metadata": {},
     "output_type": "display_data"
    }
   ],
   "source": [
    "def false_pos_check(n):\n",
    "    #x = np.linspace(0, 100)\n",
    "    y = false_positive[n]\n",
    "    fig, ax = plt.subplots(nrows = 1, ncols = 1);\n",
    "    ax.plot(y)\n",
    "    plt.show()\n",
    "    \n",
    "widgets.interact(false_pos_check, n=(0, false_positive.shape[0] - 1));"
   ]
  },
  {
   "cell_type": "code",
   "execution_count": 144,
   "id": "db66fc24",
   "metadata": {},
   "outputs": [
    {
     "data": {
      "application/vnd.jupyter.widget-view+json": {
       "model_id": "e8c7da7b65734589b46d1e9be5db870a",
       "version_major": 2,
       "version_minor": 0
      },
      "text/plain": [
       "interactive(children=(IntSlider(value=1492, description='n', max=2984), Output()), _dom_classes=('widget-inter…"
      ]
     },
     "metadata": {},
     "output_type": "display_data"
    }
   ],
   "source": [
    "def true_pos_check(n):\n",
    "    #x = np.linspace(0, 100)\n",
    "    y = true_positive[n]\n",
    "    fig, ax = plt.subplots(nrows = 1, ncols = 1);\n",
    "    ax.plot(y)\n",
    "    plt.show()\n",
    "    \n",
    "widgets.interact(true_pos_check, n=(0, true_positive.shape[0] - 1));"
   ]
  },
  {
   "cell_type": "markdown",
   "id": "7e5a93e7",
   "metadata": {},
   "source": [
    "### Data set with sn > 7 and check if there's a difference to give us less false positives\n",
    "### Warm start\n",
    "### sklearn standard scaler (OR ANOTHER OPTION)\n",
    "### cross correlation\n",
    "### RandomParameterSearch\n",
    "### Pass in the signal to noise spectrum (spec_err)"
   ]
  },
  {
   "cell_type": "code",
   "execution_count": null,
   "id": "56f02230",
   "metadata": {},
   "outputs": [],
   "source": [
    "a = np.arange(10)\n",
    "print(a[a <= 2]) # Will only capture elements <= 2 and ignore others"
   ]
  },
  {
   "cell_type": "code",
   "execution_count": null,
   "id": "4d2a8c16",
   "metadata": {},
   "outputs": [],
   "source": [
    "# metrics are used to find accuracy or error \n",
    "print()\n",
    "  \n",
    "# using metrics module for accuracy calculation\n",
    "print(\"ACCURACY OF THE MODEL: \", metrics.accuracy_score(y_test, y_pred))"
   ]
  },
  {
   "cell_type": "code",
   "execution_count": null,
   "id": "e5c6bf67",
   "metadata": {},
   "outputs": [],
   "source": [
    "from sklearn.model_selection import GridSearchCV"
   ]
  },
  {
   "cell_type": "code",
   "execution_count": null,
   "id": "fd24cafd",
   "metadata": {},
   "outputs": [],
   "source": [
    "param_grid = { \n",
    "    'n_estimators': [500, 700, 1000],\n",
    "    'max_features': ['sqrt', 'log2'],\n",
    "    'max_depth' : [None, 100, 1000],\n",
    "    'criterion' :['gini', 'entropy']\n",
    "}"
   ]
  },
  {
   "cell_type": "code",
   "execution_count": null,
   "id": "b9c332f4",
   "metadata": {},
   "outputs": [],
   "source": [
    "CV_rfc = GridSearchCV(estimator=RandomForestClassifier(), param_grid=param_grid, scoring = 'accuracy', cv= 5)\n",
    "CV_rfc.fit(X_train, y_train)"
   ]
  },
  {
   "cell_type": "code",
   "execution_count": null,
   "id": "f51dc982",
   "metadata": {},
   "outputs": [],
   "source": [
    "CV_rfc.best_params_"
   ]
  },
  {
   "cell_type": "code",
   "execution_count": null,
   "id": "c1d80b93",
   "metadata": {},
   "outputs": [],
   "source": [
    "# creating a RF classifier\n",
    "rfc2 = RandomForestClassifier(n_estimators = 700, criterion = 'gini', \\\n",
    "                              max_features = 'sqrt', random_state = 42)  "
   ]
  },
  {
   "cell_type": "code",
   "execution_count": null,
   "id": "a0955dc9",
   "metadata": {},
   "outputs": [],
   "source": [
    "rfc2.fit(X_train, y_train)"
   ]
  },
  {
   "cell_type": "code",
   "execution_count": null,
   "id": "8dfe762e",
   "metadata": {},
   "outputs": [],
   "source": [
    "y_pred = rfc2.predict(X_test)"
   ]
  },
  {
   "cell_type": "code",
   "execution_count": null,
   "id": "bb977735",
   "metadata": {},
   "outputs": [],
   "source": [
    "print(\"Accuracy:\", metrics.accuracy_score(y_test, y_pred))\n",
    "print(\"Precision:\", metrics.precision_score(y_test, y_pred))\n",
    "print(\"Recall:\", metrics.recall_score(y_test, y_pred))"
   ]
  },
  {
   "cell_type": "code",
   "execution_count": null,
   "id": "36fa4515",
   "metadata": {},
   "outputs": [],
   "source": [
    "# metrics are used to find accuracy or error\n",
    "from sklearn import metrics  \n",
    "print()\n",
    "  \n",
    "# using metrics module for accuracy calculation\n",
    "print(\"ACCURACY OF THE MODEL: \", metrics.accuracy_score(y_test, y_pred))"
   ]
  },
  {
   "cell_type": "code",
   "execution_count": null,
   "id": "30b89804",
   "metadata": {
    "scrolled": true
   },
   "outputs": [],
   "source": [
    "clf.predict(X_test[0].reshape(1, -1))"
   ]
  },
  {
   "cell_type": "code",
   "execution_count": null,
   "id": "fdd21012",
   "metadata": {},
   "outputs": [],
   "source": [
    "clf.predict(X_test[1].reshape(1, -1))"
   ]
  },
  {
   "cell_type": "code",
   "execution_count": null,
   "id": "ca465123",
   "metadata": {},
   "outputs": [],
   "source": [
    "y_test[0]"
   ]
  },
  {
   "cell_type": "code",
   "execution_count": null,
   "id": "05c21296",
   "metadata": {},
   "outputs": [],
   "source": [
    "y_test[1]"
   ]
  },
  {
   "cell_type": "code",
   "execution_count": null,
   "id": "c1a4ec49",
   "metadata": {},
   "outputs": [],
   "source": [
    "plt.plot(X_test[0])"
   ]
  },
  {
   "cell_type": "code",
   "execution_count": null,
   "id": "0b1facb7",
   "metadata": {},
   "outputs": [],
   "source": [
    "plt.plot(X_test[1])"
   ]
  },
  {
   "cell_type": "markdown",
   "id": "37b15532",
   "metadata": {},
   "source": [
    "Idk how much this would help but i recall that certain algorithms do better when the data is normalized. Maybe we can try implementing that and see how it does.\n",
    "I think sklearn has some standard scaler that normalizes the data in a way to be used for ML purposes\n",
    "white_check_mark\n",
    "eyes\n",
    "raised_hands\n",
    "\n",
    "\n",
    "\n",
    "\n",
    "\n",
    "11:14\n",
    "We can also look into the documentations and see what parameters we think has a big impact on the classification\n",
    "11:15\n",
    "and tweak those one at a time to see which has the biggest impact"
   ]
  },
  {
   "cell_type": "code",
   "execution_count": null,
   "id": "3c394ff6",
   "metadata": {},
   "outputs": [],
   "source": [
    "from sklearn import tree\n",
    "import dtreeviz # will be used for tree visualization"
   ]
  },
  {
   "cell_type": "code",
   "execution_count": null,
   "id": "96f433f2",
   "metadata": {},
   "outputs": [],
   "source": [
    "plt.figure(figsize=(20,20))\n",
    "_ = tree.plot_tree(clf.estimators_[0], feature_names=X, filled=True)"
   ]
  },
  {
   "cell_type": "code",
   "execution_count": null,
   "id": "aa54fd48",
   "metadata": {},
   "outputs": [],
   "source": [
    "rf = RandomForestClassifier(n_estimators=100, max_depth=3)\n",
    "rf.fit(X, y)"
   ]
  },
  {
   "cell_type": "code",
   "execution_count": null,
   "id": "6432b0d1",
   "metadata": {
    "scrolled": true
   },
   "outputs": [],
   "source": [
    "plt.figure(figsize=(18,18))\n",
    "_ = tree.plot_tree(rf.estimators_[0], feature_names=X, filled=True, fontsize = 10)"
   ]
  },
  {
   "cell_type": "code",
   "execution_count": null,
   "id": "5760486a",
   "metadata": {},
   "outputs": [],
   "source": [
    "viz = dtreeviz.model(rf.estimators_[0], X, y, feature_names=X, target_name=\"Target\")"
   ]
  },
  {
   "cell_type": "code",
   "execution_count": null,
   "id": "bc288dce",
   "metadata": {},
   "outputs": [],
   "source": [
    "viz.view() "
   ]
  },
  {
   "cell_type": "code",
   "execution_count": null,
   "id": "efb1b28b",
   "metadata": {},
   "outputs": [],
   "source": [
    "from sklearn.tree import plot_tree\n",
    "\n",
    "fig = plt.figure(figsize=(15, 10))\n",
    "plot_tree(rf.estimators_[0],\n",
    "          class_names=[\"highz\", \"noise\"], \n",
    "          filled=True, impurity=True, \n",
    "          rounded=True)"
   ]
  },
  {
   "cell_type": "code",
   "execution_count": null,
   "id": "54ac72a6",
   "metadata": {},
   "outputs": [],
   "source": [
    "plt.plot(X[42])"
   ]
  },
  {
   "cell_type": "code",
   "execution_count": null,
   "id": "906fb776",
   "metadata": {},
   "outputs": [],
   "source": [
    "plt.plot(X[984])"
   ]
  },
  {
   "cell_type": "markdown",
   "id": "f33b0d51",
   "metadata": {},
   "source": [
    "## Plotting\n",
    "https://garg-mohit851.medium.com/random-forest-visualization-3f76cdf6456f \n",
    "\n",
    "https://builtin.com/data-science/random-forest-python-deep-dive\n",
    "\n",
    "https://vitalflux.com/random-forest-classifier-python-code-example/\n",
    "\n",
    "https://stackabuse.com/random-forest-algorithm-with-python-and-scikit-learn/"
   ]
  },
  {
   "cell_type": "markdown",
   "id": "dcba489a",
   "metadata": {},
   "source": [
    "#GRIDSEARCHCV\n",
    "https://scikit-learn.org/stable/modules/generated/sklearn.model_selection.GridSearchCV.html"
   ]
  },
  {
   "cell_type": "markdown",
   "id": "0f862d2e",
   "metadata": {},
   "source": [
    "# Different models"
   ]
  },
  {
   "cell_type": "code",
   "execution_count": null,
   "id": "88dad438",
   "metadata": {},
   "outputs": [],
   "source": [
    "from sklearn.svm import SVC\n",
    "svc = SVC()\n",
    "svc.fit(X_train, y_train)\n",
    "y_pred = svc.predict(X_test)\n",
    "print(\"Accuracy:\", metrics.accuracy_score(y_test, y_pred))\n",
    "print(\"Precision:\", metrics.precision_score(y_test, y_pred))\n",
    "print(\"Recall:\", metrics.recall_score(y_test, y_pred))"
   ]
  },
  {
   "cell_type": "code",
   "execution_count": null,
   "id": "83e0f85b",
   "metadata": {},
   "outputs": [],
   "source": [
    "from sklearn.neighbors import KNeighborsClassifier\n",
    "knn = KNeighborsClassifier()\n",
    "knn.fit(X_train, y_train)\n",
    "y_pred = knn.predict(X_test)\n",
    "print(\"Accuracy:\", metrics.accuracy_score(y_test, y_pred))\n",
    "print(\"Precision:\", metrics.precision_score(y_test, y_pred))\n",
    "print(\"Recall:\", metrics.recall_score(y_test, y_pred))"
   ]
  },
  {
   "cell_type": "code",
   "execution_count": null,
   "id": "d237d908",
   "metadata": {},
   "outputs": [],
   "source": [
    "from sklearn.naive_bayes import GaussianNB\n",
    "gnb = GaussianNB()\n",
    "gnb.fit(X_train, y_train)\n",
    "y_pred = gnb.predict(X_test)\n",
    "print(\"Accuracy:\", metrics.accuracy_score(y_test, y_pred))\n",
    "print(\"Precision:\", metrics.precision_score(y_test, y_pred))\n",
    "print(\"Recall:\", metrics.recall_score(y_test, y_pred))"
   ]
  },
  {
   "cell_type": "code",
   "execution_count": null,
   "id": "44c1808e",
   "metadata": {},
   "outputs": [],
   "source": [
    "from sklearn.ensemble import RandomForestClassifier\n",
    "rfc = RandomForestClassifier()\n",
    "rfc.fit(X_train, y_train)\n",
    "y_pred = rfc.predict(X_test)\n",
    "print(\"Accuracy:\", metrics.accuracy_score(y_test, y_pred))\n",
    "print(\"Precision:\", metrics.precision_score(y_test, y_pred))\n",
    "print(\"Recall:\", metrics.recall_score(y_test, y_pred))"
   ]
  },
  {
   "cell_type": "markdown",
   "id": "8a6762f0",
   "metadata": {},
   "source": [
    "# Article for data prep\n",
    "https://www.analyticsvidhya.com/blog/2021/06/4-ways-to-handle-insufficient-data-in-machine-learning/"
   ]
  },
  {
   "cell_type": "markdown",
   "id": "70344dd9",
   "metadata": {},
   "source": [
    "### 03/01/23\n",
    "\n",
    "https://towardsdatascience.com/feature-engineering-for-machine-learning-3a5e293a5114\n",
    "https://www.keboola.com/blog/random-forest-regression#:~:text=If%20you%20want%20to%20increase,the%20maximum%20number%20of%20features.\n",
    "https://www.kaggle.com/questions-and-answers/261231\n",
    "https://www.kdnuggets.com/2018/12/feature-engineering-explained.html#:~:text=Feature%20Engineering%20Example%3A%20Continuous%20data,some%20object%20on%20the%20map.\n",
    "https://www.analyticsvidhya.com/blog/2021/06/4-ways-to-handle-insufficient-data-in-machine-learning/\n",
    "https://opg.optica.org/ol/fulltext.cfm?uri=ol-44-23-5864&id=423702\n",
    "https://opg.optica.org/view_article.cfm?pdfKey=eb0ab124-2dbd-48bc-a1ae9c5771f8fea1_423702\n",
    "https://www.nature.com/articles/s41467-021-21481-0\n",
    "https://www.aanda.org/articles/aa/full_html/2016/07/aa28660-16/aa28660-16.html\n",
    "https://towardsdatascience.com/top-machine-learning-algorithms-for-classification-2197870ff501"
   ]
  },
  {
   "cell_type": "code",
   "execution_count": null,
   "id": "3d984e79",
   "metadata": {},
   "outputs": [],
   "source": []
  }
 ],
 "metadata": {
  "kernelspec": {
   "display_name": "Python 3 (ipykernel)",
   "language": "python",
   "name": "python3"
  },
  "language_info": {
   "codemirror_mode": {
    "name": "ipython",
    "version": 3
   },
   "file_extension": ".py",
   "mimetype": "text/x-python",
   "name": "python",
   "nbconvert_exporter": "python",
   "pygments_lexer": "ipython3",
   "version": "3.10.5"
  }
 },
 "nbformat": 4,
 "nbformat_minor": 5
}
