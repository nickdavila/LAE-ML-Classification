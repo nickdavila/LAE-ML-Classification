{
 "cells": [
  {
   "cell_type": "markdown",
   "id": "1a079dec",
   "metadata": {},
   "source": [
    "# Notes:\n",
    "\n",
    "Maybe normalize data? Look into it! Could standardized spectrum. Test!\n",
    "\n",
    "Maybe change pLya to 9?\n",
    "\n",
    "Get more spectra from any field for training purposes. Data.\n"
   ]
  },
  {
   "cell_type": "markdown",
   "id": "1a3fb159",
   "metadata": {},
   "source": [
    "http://ned.ipac.caltech.edu/level5/March19/Baron/Baron2.html"
   ]
  },
  {
   "cell_type": "code",
<<<<<<< Updated upstream
   "execution_count": 1,
=======
   "execution_count": 45,
>>>>>>> Stashed changes
   "id": "5f786fa6",
   "metadata": {},
   "outputs": [],
   "source": [
    "import numpy as np\n",
    "import matplotlib.pyplot as plt\n",
    "import pandas as pd\n",
    "import seaborn as sns # statistical data visualization\n",
    "\n",
    "from sklearn.model_selection import train_test_split\n",
    "from sklearn.model_selection import cross_val_score\n",
    "from sklearn.ensemble import RandomForestClassifier\n",
    "from sklearn import metrics \n",
    "#from sklearn.metrics import mean_squared_error\n",
    "#from sklearn.metrics import accuracy_score, confusion_matrix, classification_report"
   ]
  },
  {
   "cell_type": "code",
<<<<<<< Updated upstream
   "execution_count": 2,
=======
   "execution_count": 46,
>>>>>>> Stashed changes
   "id": "fdf17295",
   "metadata": {},
   "outputs": [],
   "source": [
    "# Using this to be able to plot spectra. For some reason Jupyter won't let me plot spectra without this\n",
    "%matplotlib inline"
   ]
  },
  {
   "cell_type": "markdown",
   "id": "4b90c35c",
   "metadata": {},
   "source": [
    "## Create our own labels:\n",
    "    - Random empty spot as noise\n",
    "    \n",
    "## Use entire spectrum and not encoded.\n",
    "\n",
    "* Extracted entire noise spectrum. \n",
    "\n",
    "* Combine the high confidence and noise array. Here are the labels for it. "
   ]
  },
  {
   "cell_type": "markdown",
   "id": "a9395eb3",
   "metadata": {},
   "source": [
    "### Ultimately, we want the ML algorithm to be able to pick out high-z sources from noise!"
   ]
  },
  {
   "cell_type": "code",
   "execution_count": 3,
   "id": "e1fbda46",
   "metadata": {},
   "outputs": [],
   "source": [
    "# loading in the decoded sources I got from inputting random encoded sources into t-sne.\n",
    "# These will be our testing sample\n",
    "random_highz_sources = np.load(\"highz_sources.npy\")"
   ]
  },
  {
   "cell_type": "code",
   "execution_count": 4,
   "id": "71008210",
   "metadata": {},
   "outputs": [],
   "source": [
    "# loading in my high confidence high z sources.\n",
    "high_confidence_highz_spectra = np.load(\"high_confidence_highz_10000.npy\", allow_pickle = True)"
   ]
  },
  {
   "cell_type": "code",
   "execution_count": 5,
   "id": "7394d750",
   "metadata": {},
   "outputs": [],
   "source": [
    "# loading in the noise sample.\n",
    "noise_sample = np.load(\"noise_sample_10000.npy\", allow_pickle = True)"
   ]
  },
  {
   "cell_type": "code",
   "execution_count": 6,
   "id": "44e843d3",
   "metadata": {},
   "outputs": [
    {
     "data": {
      "text/plain": [
       "(10000, 1036)"
      ]
     },
     "execution_count": 6,
     "metadata": {},
     "output_type": "execute_result"
    }
   ],
   "source": [
    "high_confidence_highz_spectra.shape"
   ]
  },
  {
   "cell_type": "code",
   "execution_count": 7,
   "id": "173067ab",
   "metadata": {},
   "outputs": [
    {
     "data": {
      "text/plain": [
       "[<matplotlib.lines.Line2D at 0x7f9481ddee00>]"
      ]
     },
     "execution_count": 7,
     "metadata": {},
     "output_type": "execute_result"
    },
    {
     "data": {
      "image/png": "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\n",
      "text/plain": [
       "<Figure size 432x288 with 1 Axes>"
      ]
     },
     "metadata": {
      "needs_background": "light"
     },
     "output_type": "display_data"
    }
   ],
   "source": [
    "plt.plot(high_confidence_highz_spectra[6])"
   ]
  },
  {
   "cell_type": "code",
   "execution_count": 8,
   "id": "f5674773",
   "metadata": {},
   "outputs": [
    {
     "data": {
      "text/plain": [
       "(10000, 1036)"
      ]
     },
     "execution_count": 8,
     "metadata": {},
     "output_type": "execute_result"
    }
   ],
   "source": [
    "noise_sample.shape"
   ]
  },
  {
   "cell_type": "code",
   "execution_count": null,
   "id": "3f7bef8b",
   "metadata": {},
   "outputs": [],
   "source": [
    "from sklearn import preprocessing"
   ]
  },
  {
   "cell_type": "code",
   "execution_count": null,
   "id": "faf83ffa",
   "metadata": {},
   "outputs": [],
   "source": [
    "normalized_highz = preprocessing.normalize(high_confidence_highz_spectra)"
   ]
  },
  {
   "cell_type": "code",
   "execution_count": null,
   "id": "cef6afda",
   "metadata": {},
   "outputs": [],
   "source": [
    "normalized_noise = preprocessing.normalize(noise_sample)"
   ]
  },
  {
   "cell_type": "markdown",
   "id": "cec9711c",
   "metadata": {},
   "source": [
    "## Random-Forest classification"
   ]
  },
  {
   "cell_type": "markdown",
   "id": "966bbbec",
   "metadata": {},
   "source": [
    "https://levelup.gitconnected.com/random-forest-regression-209c0f354c84#:~:text=Random%20Forest%20Regression%20is%20a%20supervised%20learning%20algorithm%20that%20uses,prediction%20than%20a%20single%20model."
   ]
  },
  {
   "cell_type": "markdown",
   "id": "0d99ac7e",
   "metadata": {},
   "source": [
    "https://www.datacamp.com/tutorial/random-forests-classifier-python"
   ]
  },
  {
   "cell_type": "markdown",
   "id": "36234ad6",
   "metadata": {},
   "source": [
    "## According to internet, issues with overfitting! Possibly need more data.\n",
    "\n",
    "https://stackoverflow.com/questions/62445343/randomforestregressor-in-sklearn-giving-negative-scores"
   ]
  },
  {
   "cell_type": "code",
   "execution_count": 9,
   "id": "324e1909",
   "metadata": {},
   "outputs": [],
   "source": [
    "twodspectra = np.concatenate((high_confidence_highz_spectra, noise_sample))\n",
    "#twodspectra = np.concatenate((normalized_highz, normalized_noise))"
   ]
  },
  {
   "cell_type": "code",
   "execution_count": 10,
   "id": "a7389e0f",
   "metadata": {},
   "outputs": [],
   "source": [
    "highz_classification = np.ones(10000)\n",
    "noise_classification = np.zeros(10000)\n",
    "\n",
    "merge_classification = np.append(highz_classification, noise_classification)"
   ]
  },
  {
   "cell_type": "markdown",
   "id": "e586935a",
   "metadata": {},
   "source": [
    "### Make my own labels:\n",
    "https://towardsdatascience.com/labeling-data-with-pandas-9e573ce59c42"
   ]
  },
  {
   "cell_type": "code",
   "execution_count": 11,
   "id": "649755d3",
   "metadata": {},
   "outputs": [],
   "source": [
    "X = twodspectra\n",
    "y = merge_classification"
   ]
  },
  {
   "cell_type": "code",
<<<<<<< Updated upstream
   "execution_count": 12,
=======
   "execution_count": 47,
>>>>>>> Stashed changes
   "id": "e103d0f7",
   "metadata": {},
   "outputs": [],
   "source": [
    "# Splitting arrays or matrices into random train and test subsets\n",
    "from sklearn.model_selection import train_test_split\n",
    "# i.e. 70 % training dataset and 30 % test datasets\n",
    "X_train, X_test, y_train, y_test = train_test_split(X, y, test_size = 0.30, random_state = 42, stratify = y)"
   ]
  },
  {
   "cell_type": "code",
<<<<<<< Updated upstream
   "execution_count": 13,
=======
   "execution_count": 48,
>>>>>>> Stashed changes
   "id": "d2c19b83",
   "metadata": {},
   "outputs": [],
   "source": [
    "# importing random forest classifier from assemble module\n",
    "from sklearn.ensemble import RandomForestClassifier"
   ]
  },
  {
   "cell_type": "markdown",
   "id": "599395a0",
   "metadata": {},
   "source": [
    "### Note on number of estimators/trees\n",
    "- The more trees you have the more accurate the model will be, however it only helps a certain amount. I started with 100 estimators (and no changing of any parameters) and got an accuracy of around ~67-69%, I then increased to 500 estimators and got ~70-71% and then I went to 1000 estimators and it stayed the same as with 500 estimators. I even went to 10,000 and it stayed the same (might have even gone lower) as with 1000 estimators. Also takes awhile to run with 10,000. If anything 500 might have better accuracy."
   ]
  },
  {
   "cell_type": "code",
<<<<<<< Updated upstream
   "execution_count": 14,
=======
   "execution_count": 49,
>>>>>>> Stashed changes
   "id": "e68af283",
   "metadata": {},
   "outputs": [],
   "source": [
    "# creating a RF classifier\n",
    "rfc = RandomForestClassifier(n_estimators = 700, random_state = 42)  "
   ]
  },
  {
   "cell_type": "code",
<<<<<<< Updated upstream
   "execution_count": 15,
=======
   "execution_count": 50,
>>>>>>> Stashed changes
   "id": "f0e28d23",
   "metadata": {},
   "outputs": [
    {
     "data": {
      "text/html": [
<<<<<<< Updated upstream
       "<style>#sk-container-id-1 {color: black;background-color: white;}#sk-container-id-1 pre{padding: 0;}#sk-container-id-1 div.sk-toggleable {background-color: white;}#sk-container-id-1 label.sk-toggleable__label {cursor: pointer;display: block;width: 100%;margin-bottom: 0;padding: 0.3em;box-sizing: border-box;text-align: center;}#sk-container-id-1 label.sk-toggleable__label-arrow:before {content: \"▸\";float: left;margin-right: 0.25em;color: #696969;}#sk-container-id-1 label.sk-toggleable__label-arrow:hover:before {color: black;}#sk-container-id-1 div.sk-estimator:hover label.sk-toggleable__label-arrow:before {color: black;}#sk-container-id-1 div.sk-toggleable__content {max-height: 0;max-width: 0;overflow: hidden;text-align: left;background-color: #f0f8ff;}#sk-container-id-1 div.sk-toggleable__content pre {margin: 0.2em;color: black;border-radius: 0.25em;background-color: #f0f8ff;}#sk-container-id-1 input.sk-toggleable__control:checked~div.sk-toggleable__content {max-height: 200px;max-width: 100%;overflow: auto;}#sk-container-id-1 input.sk-toggleable__control:checked~label.sk-toggleable__label-arrow:before {content: \"▾\";}#sk-container-id-1 div.sk-estimator input.sk-toggleable__control:checked~label.sk-toggleable__label {background-color: #d4ebff;}#sk-container-id-1 div.sk-label input.sk-toggleable__control:checked~label.sk-toggleable__label {background-color: #d4ebff;}#sk-container-id-1 input.sk-hidden--visually {border: 0;clip: rect(1px 1px 1px 1px);clip: rect(1px, 1px, 1px, 1px);height: 1px;margin: -1px;overflow: hidden;padding: 0;position: absolute;width: 1px;}#sk-container-id-1 div.sk-estimator {font-family: monospace;background-color: #f0f8ff;border: 1px dotted black;border-radius: 0.25em;box-sizing: border-box;margin-bottom: 0.5em;}#sk-container-id-1 div.sk-estimator:hover {background-color: #d4ebff;}#sk-container-id-1 div.sk-parallel-item::after {content: \"\";width: 100%;border-bottom: 1px solid gray;flex-grow: 1;}#sk-container-id-1 div.sk-label:hover label.sk-toggleable__label {background-color: #d4ebff;}#sk-container-id-1 div.sk-serial::before {content: \"\";position: absolute;border-left: 1px solid gray;box-sizing: border-box;top: 0;bottom: 0;left: 50%;z-index: 0;}#sk-container-id-1 div.sk-serial {display: flex;flex-direction: column;align-items: center;background-color: white;padding-right: 0.2em;padding-left: 0.2em;position: relative;}#sk-container-id-1 div.sk-item {position: relative;z-index: 1;}#sk-container-id-1 div.sk-parallel {display: flex;align-items: stretch;justify-content: center;background-color: white;position: relative;}#sk-container-id-1 div.sk-item::before, #sk-container-id-1 div.sk-parallel-item::before {content: \"\";position: absolute;border-left: 1px solid gray;box-sizing: border-box;top: 0;bottom: 0;left: 50%;z-index: -1;}#sk-container-id-1 div.sk-parallel-item {display: flex;flex-direction: column;z-index: 1;position: relative;background-color: white;}#sk-container-id-1 div.sk-parallel-item:first-child::after {align-self: flex-end;width: 50%;}#sk-container-id-1 div.sk-parallel-item:last-child::after {align-self: flex-start;width: 50%;}#sk-container-id-1 div.sk-parallel-item:only-child::after {width: 0;}#sk-container-id-1 div.sk-dashed-wrapped {border: 1px dashed gray;margin: 0 0.4em 0.5em 0.4em;box-sizing: border-box;padding-bottom: 0.4em;background-color: white;}#sk-container-id-1 div.sk-label label {font-family: monospace;font-weight: bold;display: inline-block;line-height: 1.2em;}#sk-container-id-1 div.sk-label-container {text-align: center;}#sk-container-id-1 div.sk-container {/* jupyter's `normalize.less` sets `[hidden] { display: none; }` but bootstrap.min.css set `[hidden] { display: none !important; }` so we also need the `!important` here to be able to override the default hidden behavior on the sphinx rendered scikit-learn.org. See: https://github.com/scikit-learn/scikit-learn/issues/21755 */display: inline-block !important;position: relative;}#sk-container-id-1 div.sk-text-repr-fallback {display: none;}</style><div id=\"sk-container-id-1\" class=\"sk-top-container\"><div class=\"sk-text-repr-fallback\"><pre>RandomForestClassifier(n_estimators=700, random_state=42)</pre><b>In a Jupyter environment, please rerun this cell to show the HTML representation or trust the notebook. <br />On GitHub, the HTML representation is unable to render, please try loading this page with nbviewer.org.</b></div><div class=\"sk-container\" hidden><div class=\"sk-item\"><div class=\"sk-estimator sk-toggleable\"><input class=\"sk-toggleable__control sk-hidden--visually\" id=\"sk-estimator-id-1\" type=\"checkbox\" checked><label for=\"sk-estimator-id-1\" class=\"sk-toggleable__label sk-toggleable__label-arrow\">RandomForestClassifier</label><div class=\"sk-toggleable__content\"><pre>RandomForestClassifier(n_estimators=700, random_state=42)</pre></div></div></div></div></div>"
=======
       "<style>#sk-container-id-7 {color: black;background-color: white;}#sk-container-id-7 pre{padding: 0;}#sk-container-id-7 div.sk-toggleable {background-color: white;}#sk-container-id-7 label.sk-toggleable__label {cursor: pointer;display: block;width: 100%;margin-bottom: 0;padding: 0.3em;box-sizing: border-box;text-align: center;}#sk-container-id-7 label.sk-toggleable__label-arrow:before {content: \"▸\";float: left;margin-right: 0.25em;color: #696969;}#sk-container-id-7 label.sk-toggleable__label-arrow:hover:before {color: black;}#sk-container-id-7 div.sk-estimator:hover label.sk-toggleable__label-arrow:before {color: black;}#sk-container-id-7 div.sk-toggleable__content {max-height: 0;max-width: 0;overflow: hidden;text-align: left;background-color: #f0f8ff;}#sk-container-id-7 div.sk-toggleable__content pre {margin: 0.2em;color: black;border-radius: 0.25em;background-color: #f0f8ff;}#sk-container-id-7 input.sk-toggleable__control:checked~div.sk-toggleable__content {max-height: 200px;max-width: 100%;overflow: auto;}#sk-container-id-7 input.sk-toggleable__control:checked~label.sk-toggleable__label-arrow:before {content: \"▾\";}#sk-container-id-7 div.sk-estimator input.sk-toggleable__control:checked~label.sk-toggleable__label {background-color: #d4ebff;}#sk-container-id-7 div.sk-label input.sk-toggleable__control:checked~label.sk-toggleable__label {background-color: #d4ebff;}#sk-container-id-7 input.sk-hidden--visually {border: 0;clip: rect(1px 1px 1px 1px);clip: rect(1px, 1px, 1px, 1px);height: 1px;margin: -1px;overflow: hidden;padding: 0;position: absolute;width: 1px;}#sk-container-id-7 div.sk-estimator {font-family: monospace;background-color: #f0f8ff;border: 1px dotted black;border-radius: 0.25em;box-sizing: border-box;margin-bottom: 0.5em;}#sk-container-id-7 div.sk-estimator:hover {background-color: #d4ebff;}#sk-container-id-7 div.sk-parallel-item::after {content: \"\";width: 100%;border-bottom: 1px solid gray;flex-grow: 1;}#sk-container-id-7 div.sk-label:hover label.sk-toggleable__label {background-color: #d4ebff;}#sk-container-id-7 div.sk-serial::before {content: \"\";position: absolute;border-left: 1px solid gray;box-sizing: border-box;top: 0;bottom: 0;left: 50%;z-index: 0;}#sk-container-id-7 div.sk-serial {display: flex;flex-direction: column;align-items: center;background-color: white;padding-right: 0.2em;padding-left: 0.2em;position: relative;}#sk-container-id-7 div.sk-item {position: relative;z-index: 1;}#sk-container-id-7 div.sk-parallel {display: flex;align-items: stretch;justify-content: center;background-color: white;position: relative;}#sk-container-id-7 div.sk-item::before, #sk-container-id-7 div.sk-parallel-item::before {content: \"\";position: absolute;border-left: 1px solid gray;box-sizing: border-box;top: 0;bottom: 0;left: 50%;z-index: -1;}#sk-container-id-7 div.sk-parallel-item {display: flex;flex-direction: column;z-index: 1;position: relative;background-color: white;}#sk-container-id-7 div.sk-parallel-item:first-child::after {align-self: flex-end;width: 50%;}#sk-container-id-7 div.sk-parallel-item:last-child::after {align-self: flex-start;width: 50%;}#sk-container-id-7 div.sk-parallel-item:only-child::after {width: 0;}#sk-container-id-7 div.sk-dashed-wrapped {border: 1px dashed gray;margin: 0 0.4em 0.5em 0.4em;box-sizing: border-box;padding-bottom: 0.4em;background-color: white;}#sk-container-id-7 div.sk-label label {font-family: monospace;font-weight: bold;display: inline-block;line-height: 1.2em;}#sk-container-id-7 div.sk-label-container {text-align: center;}#sk-container-id-7 div.sk-container {/* jupyter's `normalize.less` sets `[hidden] { display: none; }` but bootstrap.min.css set `[hidden] { display: none !important; }` so we also need the `!important` here to be able to override the default hidden behavior on the sphinx rendered scikit-learn.org. See: https://github.com/scikit-learn/scikit-learn/issues/21755 */display: inline-block !important;position: relative;}#sk-container-id-7 div.sk-text-repr-fallback {display: none;}</style><div id=\"sk-container-id-7\" class=\"sk-top-container\"><div class=\"sk-text-repr-fallback\"><pre>RandomForestClassifier(n_estimators=700, random_state=42)</pre><b>In a Jupyter environment, please rerun this cell to show the HTML representation or trust the notebook. <br />On GitHub, the HTML representation is unable to render, please try loading this page with nbviewer.org.</b></div><div class=\"sk-container\" hidden><div class=\"sk-item\"><div class=\"sk-estimator sk-toggleable\"><input class=\"sk-toggleable__control sk-hidden--visually\" id=\"sk-estimator-id-11\" type=\"checkbox\" checked><label for=\"sk-estimator-id-11\" class=\"sk-toggleable__label sk-toggleable__label-arrow\">RandomForestClassifier</label><div class=\"sk-toggleable__content\"><pre>RandomForestClassifier(n_estimators=700, random_state=42)</pre></div></div></div></div></div>"
>>>>>>> Stashed changes
      ],
      "text/plain": [
       "RandomForestClassifier(n_estimators=700, random_state=42)"
      ]
     },
<<<<<<< Updated upstream
     "execution_count": 15,
=======
     "execution_count": 50,
>>>>>>> Stashed changes
     "metadata": {},
     "output_type": "execute_result"
    }
   ],
   "source": [
    "# Training the model on the training dataset\n",
    "# fit function is used to train the model using the training sets as parameters\n",
    "rfc.fit(X_train, y_train)"
   ]
  },
  {
   "cell_type": "code",
<<<<<<< Updated upstream
   "execution_count": 21,
=======
   "execution_count": 51,
>>>>>>> Stashed changes
   "id": "fae3e3f7",
   "metadata": {},
   "outputs": [],
   "source": [
    "# performing predictions on the test dataset\n",
    "y_pred = rfc.predict(X_test)"
   ]
  },
  {
   "cell_type": "code",
<<<<<<< Updated upstream
   "execution_count": 22,
=======
   "execution_count": 52,
>>>>>>> Stashed changes
   "id": "36c8f69c",
   "metadata": {
    "scrolled": true
   },
   "outputs": [
    {
     "name": "stdout",
     "output_type": "stream",
     "text": [
<<<<<<< Updated upstream
      "Accuracy: 0.8008333333333333\n",
      "Precision: 0.8606492478226445\n",
      "Recall: 0.7205833609545906\n"
=======
      "Accuracy: 0.7953333333333333\n",
      "Precision: 0.8527070063694268\n",
      "Recall: 0.714\n"
>>>>>>> Stashed changes
     ]
    }
   ],
   "source": [
    "print(\"Accuracy:\", metrics.accuracy_score(y_test, y_pred))\n",
    "print(\"Precision:\", metrics.precision_score(y_test, y_pred))\n",
    "print(\"Recall:\", metrics.recall_score(y_test, y_pred))"
   ]
  },
  {
   "cell_type": "code",
<<<<<<< Updated upstream
=======
   "execution_count": 55,
   "id": "e72b24d9",
   "metadata": {},
   "outputs": [
    {
     "data": {
      "text/plain": [
       "array([[2630,  370],\n",
       "       [ 858, 2142]])"
      ]
     },
     "execution_count": 55,
     "metadata": {},
     "output_type": "execute_result"
    }
   ],
   "source": [
    "# View confusion matrix for test data and predictions\n",
    "#metrics.confusion_matrix(y_test, y_pred)"
   ]
  },
  {
   "cell_type": "code",
   "execution_count": 67,
   "id": "3f2679f5",
   "metadata": {},
   "outputs": [],
   "source": [
    "tn, fp, fn, tp = metrics.confusion_matrix(y_test, y_pred, normalize = 'true').ravel()"
   ]
  },
  {
   "cell_type": "code",
   "execution_count": 68,
   "id": "1a386b4e",
   "metadata": {},
   "outputs": [
    {
     "data": {
      "text/plain": [
       "(0.8766666666666667, 0.12333333333333334, 0.286, 0.714)"
      ]
     },
     "execution_count": 68,
     "metadata": {},
     "output_type": "execute_result"
    }
   ],
   "source": [
    "(tn, fp, fn, tp)"
   ]
  },
  {
   "cell_type": "code",
   "execution_count": 72,
   "id": "7cce06c2",
   "metadata": {},
   "outputs": [
    {
     "data": {
      "image/png": "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\n",
      "text/plain": [
       "<Figure size 1152x504 with 2 Axes>"
      ]
     },
     "metadata": {},
     "output_type": "display_data"
    }
   ],
   "source": [
    "# Get and reshape confusion matrix data\n",
    "matrix = metrics.confusion_matrix(y_test, y_pred)\n",
    "matrix = matrix.astype('float') / matrix.sum(axis=1)[:, np.newaxis]\n",
    "\n",
    "# Build the plot\n",
    "plt.figure(figsize=(16,7))\n",
    "sns.set(font_scale=1.4)\n",
    "sns.heatmap(matrix, annot=True, annot_kws={'size':10},\n",
    "            cmap=plt.cm.Greens, linewidths=0.2)\n",
    "\n",
    "# Add labels to the plot\n",
    "#class_names = ['Spruce/Fir', 'Lodgepole Pine']\n",
    "tick_marks = 2\n",
    "tick_marks2 = tick_marks + 0.5\n",
    "# plt.xticks(tick_marks)\n",
    "# plt.yticks(tick_marks2)\n",
    "plt.xlabel('Predicted label')\n",
    "plt.ylabel('True label')\n",
    "plt.title('Confusion Matrix for Random Forest Model')\n",
    "plt.show()"
   ]
  },
  {
   "cell_type": "code",
>>>>>>> Stashed changes
   "execution_count": 20,
   "id": "4d2a8c16",
   "metadata": {},
   "outputs": [
    {
     "name": "stdout",
     "output_type": "stream",
     "text": [
      "\n",
      "ACCURACY OF THE MODEL:  0.8008333333333333\n"
     ]
    }
   ],
   "source": [
    "# metrics are used to find accuracy or error \n",
    "print()\n",
    "  \n",
    "# using metrics module for accuracy calculation\n",
    "print(\"ACCURACY OF THE MODEL: \", metrics.accuracy_score(y_test, y_pred))"
   ]
  },
  {
   "cell_type": "code",
   "execution_count": 23,
   "id": "e5c6bf67",
   "metadata": {},
   "outputs": [],
   "source": [
    "from sklearn.model_selection import GridSearchCV"
   ]
  },
  {
   "cell_type": "code",
   "execution_count": 31,
   "id": "fd24cafd",
   "metadata": {},
   "outputs": [],
   "source": [
    "param_grid = { \n",
    "    'n_estimators': [2000, 5000, 10000],\n",
    "    'max_features': ['sqrt', 'log2'],\n",
    "    'max_depth' : [None, 100, 1000],\n",
    "    'criterion' :['gini', 'entropy']\n",
    "}"
   ]
  },
  {
   "cell_type": "code",
   "execution_count": null,
   "id": "b9c332f4",
   "metadata": {},
   "outputs": [],
   "source": [
    "CV_rfc = GridSearchCV(estimator=RandomForestClassifier(), param_grid=param_grid, scoring = 'accuracy', cv= 5)\n",
    "CV_rfc.fit(X_train, y_train)"
   ]
  },
  {
   "cell_type": "code",
   "execution_count": 36,
   "id": "f51dc982",
   "metadata": {},
   "outputs": [
    {
     "data": {
      "text/plain": [
       "{'criterion': 'gini',\n",
       " 'max_depth': None,\n",
       " 'max_features': 'sqrt',\n",
       " 'n_estimators': 10000}"
      ]
     },
     "execution_count": 36,
     "metadata": {},
     "output_type": "execute_result"
    }
   ],
   "source": [
    "CV_rfc.best_params_"
   ]
  },
  {
   "cell_type": "code",
<<<<<<< Updated upstream
   "execution_count": 37,
   "id": "4fffca60",
=======
   "execution_count": 41,
   "id": "c1d80b93",
>>>>>>> Stashed changes
   "metadata": {},
   "outputs": [],
   "source": [
    "# creating a RF classifier\n",
<<<<<<< Updated upstream
    "rfc2 = RandomForestClassifier(n_estimators = 10000, criterion = 'gini', max_depth = None, \\\n",
=======
    "rfc2 = RandomForestClassifier(n_estimators = 1000, criterion = 'gini', max_depth = None, \\\n",
>>>>>>> Stashed changes
    "                              max_features = 'sqrt', random_state = 42)  "
   ]
  },
  {
   "cell_type": "code",
<<<<<<< Updated upstream
   "execution_count": 38,
=======
   "execution_count": 42,
>>>>>>> Stashed changes
   "id": "a0955dc9",
   "metadata": {},
   "outputs": [
    {
     "data": {
      "text/html": [
<<<<<<< Updated upstream
       "<style>#sk-container-id-5 {color: black;background-color: white;}#sk-container-id-5 pre{padding: 0;}#sk-container-id-5 div.sk-toggleable {background-color: white;}#sk-container-id-5 label.sk-toggleable__label {cursor: pointer;display: block;width: 100%;margin-bottom: 0;padding: 0.3em;box-sizing: border-box;text-align: center;}#sk-container-id-5 label.sk-toggleable__label-arrow:before {content: \"▸\";float: left;margin-right: 0.25em;color: #696969;}#sk-container-id-5 label.sk-toggleable__label-arrow:hover:before {color: black;}#sk-container-id-5 div.sk-estimator:hover label.sk-toggleable__label-arrow:before {color: black;}#sk-container-id-5 div.sk-toggleable__content {max-height: 0;max-width: 0;overflow: hidden;text-align: left;background-color: #f0f8ff;}#sk-container-id-5 div.sk-toggleable__content pre {margin: 0.2em;color: black;border-radius: 0.25em;background-color: #f0f8ff;}#sk-container-id-5 input.sk-toggleable__control:checked~div.sk-toggleable__content {max-height: 200px;max-width: 100%;overflow: auto;}#sk-container-id-5 input.sk-toggleable__control:checked~label.sk-toggleable__label-arrow:before {content: \"▾\";}#sk-container-id-5 div.sk-estimator input.sk-toggleable__control:checked~label.sk-toggleable__label {background-color: #d4ebff;}#sk-container-id-5 div.sk-label input.sk-toggleable__control:checked~label.sk-toggleable__label {background-color: #d4ebff;}#sk-container-id-5 input.sk-hidden--visually {border: 0;clip: rect(1px 1px 1px 1px);clip: rect(1px, 1px, 1px, 1px);height: 1px;margin: -1px;overflow: hidden;padding: 0;position: absolute;width: 1px;}#sk-container-id-5 div.sk-estimator {font-family: monospace;background-color: #f0f8ff;border: 1px dotted black;border-radius: 0.25em;box-sizing: border-box;margin-bottom: 0.5em;}#sk-container-id-5 div.sk-estimator:hover {background-color: #d4ebff;}#sk-container-id-5 div.sk-parallel-item::after {content: \"\";width: 100%;border-bottom: 1px solid gray;flex-grow: 1;}#sk-container-id-5 div.sk-label:hover label.sk-toggleable__label {background-color: #d4ebff;}#sk-container-id-5 div.sk-serial::before {content: \"\";position: absolute;border-left: 1px solid gray;box-sizing: border-box;top: 0;bottom: 0;left: 50%;z-index: 0;}#sk-container-id-5 div.sk-serial {display: flex;flex-direction: column;align-items: center;background-color: white;padding-right: 0.2em;padding-left: 0.2em;position: relative;}#sk-container-id-5 div.sk-item {position: relative;z-index: 1;}#sk-container-id-5 div.sk-parallel {display: flex;align-items: stretch;justify-content: center;background-color: white;position: relative;}#sk-container-id-5 div.sk-item::before, #sk-container-id-5 div.sk-parallel-item::before {content: \"\";position: absolute;border-left: 1px solid gray;box-sizing: border-box;top: 0;bottom: 0;left: 50%;z-index: -1;}#sk-container-id-5 div.sk-parallel-item {display: flex;flex-direction: column;z-index: 1;position: relative;background-color: white;}#sk-container-id-5 div.sk-parallel-item:first-child::after {align-self: flex-end;width: 50%;}#sk-container-id-5 div.sk-parallel-item:last-child::after {align-self: flex-start;width: 50%;}#sk-container-id-5 div.sk-parallel-item:only-child::after {width: 0;}#sk-container-id-5 div.sk-dashed-wrapped {border: 1px dashed gray;margin: 0 0.4em 0.5em 0.4em;box-sizing: border-box;padding-bottom: 0.4em;background-color: white;}#sk-container-id-5 div.sk-label label {font-family: monospace;font-weight: bold;display: inline-block;line-height: 1.2em;}#sk-container-id-5 div.sk-label-container {text-align: center;}#sk-container-id-5 div.sk-container {/* jupyter's `normalize.less` sets `[hidden] { display: none; }` but bootstrap.min.css set `[hidden] { display: none !important; }` so we also need the `!important` here to be able to override the default hidden behavior on the sphinx rendered scikit-learn.org. See: https://github.com/scikit-learn/scikit-learn/issues/21755 */display: inline-block !important;position: relative;}#sk-container-id-5 div.sk-text-repr-fallback {display: none;}</style><div id=\"sk-container-id-5\" class=\"sk-top-container\"><div class=\"sk-text-repr-fallback\"><pre>RandomForestClassifier(n_estimators=10000, random_state=42)</pre><b>In a Jupyter environment, please rerun this cell to show the HTML representation or trust the notebook. <br />On GitHub, the HTML representation is unable to render, please try loading this page with nbviewer.org.</b></div><div class=\"sk-container\" hidden><div class=\"sk-item\"><div class=\"sk-estimator sk-toggleable\"><input class=\"sk-toggleable__control sk-hidden--visually\" id=\"sk-estimator-id-9\" type=\"checkbox\" checked><label for=\"sk-estimator-id-9\" class=\"sk-toggleable__label sk-toggleable__label-arrow\">RandomForestClassifier</label><div class=\"sk-toggleable__content\"><pre>RandomForestClassifier(n_estimators=10000, random_state=42)</pre></div></div></div></div></div>"
      ],
      "text/plain": [
       "RandomForestClassifier(n_estimators=10000, random_state=42)"
      ]
     },
     "execution_count": 38,
=======
       "<style>#sk-container-id-6 {color: black;background-color: white;}#sk-container-id-6 pre{padding: 0;}#sk-container-id-6 div.sk-toggleable {background-color: white;}#sk-container-id-6 label.sk-toggleable__label {cursor: pointer;display: block;width: 100%;margin-bottom: 0;padding: 0.3em;box-sizing: border-box;text-align: center;}#sk-container-id-6 label.sk-toggleable__label-arrow:before {content: \"▸\";float: left;margin-right: 0.25em;color: #696969;}#sk-container-id-6 label.sk-toggleable__label-arrow:hover:before {color: black;}#sk-container-id-6 div.sk-estimator:hover label.sk-toggleable__label-arrow:before {color: black;}#sk-container-id-6 div.sk-toggleable__content {max-height: 0;max-width: 0;overflow: hidden;text-align: left;background-color: #f0f8ff;}#sk-container-id-6 div.sk-toggleable__content pre {margin: 0.2em;color: black;border-radius: 0.25em;background-color: #f0f8ff;}#sk-container-id-6 input.sk-toggleable__control:checked~div.sk-toggleable__content {max-height: 200px;max-width: 100%;overflow: auto;}#sk-container-id-6 input.sk-toggleable__control:checked~label.sk-toggleable__label-arrow:before {content: \"▾\";}#sk-container-id-6 div.sk-estimator input.sk-toggleable__control:checked~label.sk-toggleable__label {background-color: #d4ebff;}#sk-container-id-6 div.sk-label input.sk-toggleable__control:checked~label.sk-toggleable__label {background-color: #d4ebff;}#sk-container-id-6 input.sk-hidden--visually {border: 0;clip: rect(1px 1px 1px 1px);clip: rect(1px, 1px, 1px, 1px);height: 1px;margin: -1px;overflow: hidden;padding: 0;position: absolute;width: 1px;}#sk-container-id-6 div.sk-estimator {font-family: monospace;background-color: #f0f8ff;border: 1px dotted black;border-radius: 0.25em;box-sizing: border-box;margin-bottom: 0.5em;}#sk-container-id-6 div.sk-estimator:hover {background-color: #d4ebff;}#sk-container-id-6 div.sk-parallel-item::after {content: \"\";width: 100%;border-bottom: 1px solid gray;flex-grow: 1;}#sk-container-id-6 div.sk-label:hover label.sk-toggleable__label {background-color: #d4ebff;}#sk-container-id-6 div.sk-serial::before {content: \"\";position: absolute;border-left: 1px solid gray;box-sizing: border-box;top: 0;bottom: 0;left: 50%;z-index: 0;}#sk-container-id-6 div.sk-serial {display: flex;flex-direction: column;align-items: center;background-color: white;padding-right: 0.2em;padding-left: 0.2em;position: relative;}#sk-container-id-6 div.sk-item {position: relative;z-index: 1;}#sk-container-id-6 div.sk-parallel {display: flex;align-items: stretch;justify-content: center;background-color: white;position: relative;}#sk-container-id-6 div.sk-item::before, #sk-container-id-6 div.sk-parallel-item::before {content: \"\";position: absolute;border-left: 1px solid gray;box-sizing: border-box;top: 0;bottom: 0;left: 50%;z-index: -1;}#sk-container-id-6 div.sk-parallel-item {display: flex;flex-direction: column;z-index: 1;position: relative;background-color: white;}#sk-container-id-6 div.sk-parallel-item:first-child::after {align-self: flex-end;width: 50%;}#sk-container-id-6 div.sk-parallel-item:last-child::after {align-self: flex-start;width: 50%;}#sk-container-id-6 div.sk-parallel-item:only-child::after {width: 0;}#sk-container-id-6 div.sk-dashed-wrapped {border: 1px dashed gray;margin: 0 0.4em 0.5em 0.4em;box-sizing: border-box;padding-bottom: 0.4em;background-color: white;}#sk-container-id-6 div.sk-label label {font-family: monospace;font-weight: bold;display: inline-block;line-height: 1.2em;}#sk-container-id-6 div.sk-label-container {text-align: center;}#sk-container-id-6 div.sk-container {/* jupyter's `normalize.less` sets `[hidden] { display: none; }` but bootstrap.min.css set `[hidden] { display: none !important; }` so we also need the `!important` here to be able to override the default hidden behavior on the sphinx rendered scikit-learn.org. See: https://github.com/scikit-learn/scikit-learn/issues/21755 */display: inline-block !important;position: relative;}#sk-container-id-6 div.sk-text-repr-fallback {display: none;}</style><div id=\"sk-container-id-6\" class=\"sk-top-container\"><div class=\"sk-text-repr-fallback\"><pre>RandomForestClassifier(n_estimators=1000, random_state=42)</pre><b>In a Jupyter environment, please rerun this cell to show the HTML representation or trust the notebook. <br />On GitHub, the HTML representation is unable to render, please try loading this page with nbviewer.org.</b></div><div class=\"sk-container\" hidden><div class=\"sk-item\"><div class=\"sk-estimator sk-toggleable\"><input class=\"sk-toggleable__control sk-hidden--visually\" id=\"sk-estimator-id-10\" type=\"checkbox\" checked><label for=\"sk-estimator-id-10\" class=\"sk-toggleable__label sk-toggleable__label-arrow\">RandomForestClassifier</label><div class=\"sk-toggleable__content\"><pre>RandomForestClassifier(n_estimators=1000, random_state=42)</pre></div></div></div></div></div>"
      ],
      "text/plain": [
       "RandomForestClassifier(n_estimators=1000, random_state=42)"
      ]
     },
     "execution_count": 42,
>>>>>>> Stashed changes
     "metadata": {},
     "output_type": "execute_result"
    }
   ],
   "source": [
    "rfc2.fit(X_train, y_train)"
   ]
  },
  {
   "cell_type": "code",
<<<<<<< Updated upstream
   "execution_count": 39,
=======
   "execution_count": 43,
>>>>>>> Stashed changes
   "id": "8dfe762e",
   "metadata": {},
   "outputs": [],
   "source": [
    "y_pred = rfc2.predict(X_test)"
   ]
  },
  {
   "cell_type": "code",
<<<<<<< Updated upstream
   "execution_count": 40,
=======
   "execution_count": 44,
>>>>>>> Stashed changes
   "id": "bb977735",
   "metadata": {},
   "outputs": [
    {
     "name": "stdout",
     "output_type": "stream",
     "text": [
<<<<<<< Updated upstream
      "Accuracy: 0.803\n",
      "Precision: 0.8642318380309647\n",
      "Recall: 0.7215777262180975\n"
=======
      "Accuracy: 0.8003333333333333\n",
      "Precision: 0.8622062923138192\n",
      "Recall: 0.7176002651640703\n"
>>>>>>> Stashed changes
     ]
    }
   ],
   "source": [
    "print(\"Accuracy:\", metrics.accuracy_score(y_test, y_pred))\n",
    "print(\"Precision:\", metrics.precision_score(y_test, y_pred))\n",
    "print(\"Recall:\", metrics.recall_score(y_test, y_pred))"
   ]
  },
  {
   "cell_type": "code",
   "execution_count": null,
   "id": "36fa4515",
   "metadata": {},
   "outputs": [],
   "source": [
    "# metrics are used to find accuracy or error\n",
    "from sklearn import metrics  \n",
    "print()\n",
    "  \n",
    "# using metrics module for accuracy calculation\n",
    "print(\"ACCURACY OF THE MODEL: \", metrics.accuracy_score(y_test, y_pred))"
   ]
  },
  {
   "cell_type": "code",
   "execution_count": null,
   "id": "30b89804",
   "metadata": {
    "scrolled": true
   },
   "outputs": [],
   "source": [
    "clf.predict(X_test[0].reshape(1, -1))"
   ]
  },
  {
   "cell_type": "code",
   "execution_count": null,
   "id": "fdd21012",
   "metadata": {},
   "outputs": [],
   "source": [
    "clf.predict(X_test[1].reshape(1, -1))"
   ]
  },
  {
   "cell_type": "code",
   "execution_count": null,
   "id": "ca465123",
   "metadata": {},
   "outputs": [],
   "source": [
    "y_test[0]"
   ]
  },
  {
   "cell_type": "code",
   "execution_count": null,
   "id": "05c21296",
   "metadata": {},
   "outputs": [],
   "source": [
    "y_test[1]"
   ]
  },
  {
   "cell_type": "code",
   "execution_count": null,
   "id": "c1a4ec49",
   "metadata": {},
   "outputs": [],
   "source": [
    "plt.plot(X_test[0])"
   ]
  },
  {
   "cell_type": "code",
   "execution_count": null,
   "id": "0b1facb7",
   "metadata": {},
   "outputs": [],
   "source": [
    "plt.plot(X_test[1])"
   ]
  },
  {
   "cell_type": "markdown",
   "id": "37b15532",
   "metadata": {},
   "source": [
    "Idk how much this would help but i recall that certain algorithms do better when the data is normalized. Maybe we can try implementing that and see how it does.\n",
    "I think sklearn has some standard scaler that normalizes the data in a way to be used for ML purposes\n",
    "white_check_mark\n",
    "eyes\n",
    "raised_hands\n",
    "\n",
    "\n",
    "\n",
    "\n",
    "\n",
    "11:14\n",
    "We can also look into the documentations and see what parameters we think has a big impact on the classification\n",
    "11:15\n",
    "and tweak those one at a time to see which has the biggest impact"
   ]
  },
  {
   "cell_type": "code",
   "execution_count": null,
   "id": "3c394ff6",
   "metadata": {},
   "outputs": [],
   "source": [
    "from sklearn import tree\n",
    "import dtreeviz # will be used for tree visualization"
   ]
  },
  {
   "cell_type": "code",
   "execution_count": null,
   "id": "96f433f2",
   "metadata": {},
   "outputs": [],
   "source": [
    "plt.figure(figsize=(20,20))\n",
    "_ = tree.plot_tree(clf.estimators_[0], feature_names=X, filled=True)"
   ]
  },
  {
   "cell_type": "code",
   "execution_count": null,
   "id": "aa54fd48",
   "metadata": {},
   "outputs": [],
   "source": [
    "rf = RandomForestClassifier(n_estimators=100, max_depth=3)\n",
    "rf.fit(X, y)"
   ]
  },
  {
   "cell_type": "code",
   "execution_count": null,
   "id": "6432b0d1",
   "metadata": {
    "scrolled": true
   },
   "outputs": [],
   "source": [
    "plt.figure(figsize=(18,18))\n",
    "_ = tree.plot_tree(rf.estimators_[0], feature_names=X, filled=True, fontsize = 10)"
   ]
  },
  {
   "cell_type": "code",
   "execution_count": null,
   "id": "5760486a",
   "metadata": {},
   "outputs": [],
   "source": [
    "viz = dtreeviz.model(rf.estimators_[0], X, y, feature_names=X, target_name=\"Target\")"
   ]
  },
  {
   "cell_type": "code",
   "execution_count": null,
   "id": "bc288dce",
   "metadata": {},
   "outputs": [],
   "source": [
    "viz.view() "
   ]
  },
  {
   "cell_type": "code",
   "execution_count": null,
   "id": "efb1b28b",
   "metadata": {},
   "outputs": [],
   "source": [
    "from sklearn.tree import plot_tree\n",
    "\n",
    "fig = plt.figure(figsize=(15, 10))\n",
    "plot_tree(rf.estimators_[0],\n",
    "          class_names=[\"highz\", \"noise\"], \n",
    "          filled=True, impurity=True, \n",
    "          rounded=True)"
   ]
  },
  {
   "cell_type": "code",
   "execution_count": null,
   "id": "54ac72a6",
   "metadata": {},
   "outputs": [],
   "source": [
    "plt.plot(X[42])"
   ]
  },
  {
   "cell_type": "code",
   "execution_count": null,
   "id": "906fb776",
   "metadata": {},
   "outputs": [],
   "source": [
    "plt.plot(X[984])"
   ]
  },
  {
   "cell_type": "markdown",
   "id": "f33b0d51",
   "metadata": {},
   "source": [
    "## Plotting\n",
    "https://garg-mohit851.medium.com/random-forest-visualization-3f76cdf6456f \n",
    "\n",
    "https://builtin.com/data-science/random-forest-python-deep-dive\n",
    "\n",
    "https://vitalflux.com/random-forest-classifier-python-code-example/\n",
    "\n",
    "https://stackabuse.com/random-forest-algorithm-with-python-and-scikit-learn/"
   ]
  },
  {
   "cell_type": "markdown",
   "id": "dcba489a",
   "metadata": {},
   "source": [
    "#GRIDSEARCHCV\n",
    "https://scikit-learn.org/stable/modules/generated/sklearn.model_selection.GridSearchCV.html"
   ]
  },
  {
   "cell_type": "markdown",
   "id": "0f862d2e",
   "metadata": {},
   "source": [
    "# Different models"
   ]
  },
  {
   "cell_type": "code",
<<<<<<< Updated upstream
   "execution_count": null,
   "id": "88dad438",
   "metadata": {},
   "outputs": [],
=======
   "execution_count": 69,
   "id": "88dad438",
   "metadata": {},
   "outputs": [
    {
     "name": "stdout",
     "output_type": "stream",
     "text": [
      "Accuracy: 0.516\n",
      "Precision: 0.5081521739130435\n",
      "Recall: 0.9973333333333333\n"
     ]
    }
   ],
>>>>>>> Stashed changes
   "source": [
    "from sklearn.svm import SVC\n",
    "svc = SVC()\n",
    "svc.fit(X_train, y_train)\n",
    "y_pred = svc.predict(X_test)\n",
    "print(\"Accuracy:\", metrics.accuracy_score(y_test, y_pred))\n",
    "print(\"Precision:\", metrics.precision_score(y_test, y_pred))\n",
    "print(\"Recall:\", metrics.recall_score(y_test, y_pred))"
   ]
  },
  {
   "cell_type": "code",
<<<<<<< Updated upstream
   "execution_count": null,
   "id": "83e0f85b",
   "metadata": {},
   "outputs": [],
=======
   "execution_count": 70,
   "id": "83e0f85b",
   "metadata": {},
   "outputs": [
    {
     "name": "stdout",
     "output_type": "stream",
     "text": [
      "Accuracy: 0.5543333333333333\n",
      "Precision: 0.6299840510366826\n",
      "Recall: 0.2633333333333333\n"
     ]
    }
   ],
>>>>>>> Stashed changes
   "source": [
    "from sklearn.neighbors import KNeighborsClassifier\n",
    "knn = KNeighborsClassifier()\n",
    "knn.fit(X_train, y_train)\n",
    "y_pred = knn.predict(X_test)\n",
    "print(\"Accuracy:\", metrics.accuracy_score(y_test, y_pred))\n",
    "print(\"Precision:\", metrics.precision_score(y_test, y_pred))\n",
    "print(\"Recall:\", metrics.recall_score(y_test, y_pred))"
   ]
  },
  {
   "cell_type": "code",
<<<<<<< Updated upstream
   "execution_count": null,
   "id": "d237d908",
   "metadata": {},
   "outputs": [],
=======
   "execution_count": 71,
   "id": "d237d908",
   "metadata": {},
   "outputs": [
    {
     "name": "stdout",
     "output_type": "stream",
     "text": [
      "Accuracy: 0.5261666666666667\n",
      "Precision: 0.5135977827819158\n",
      "Recall: 0.9883333333333333\n"
     ]
    }
   ],
>>>>>>> Stashed changes
   "source": [
    "from sklearn.naive_bayes import GaussianNB\n",
    "gnb = GaussianNB()\n",
    "gnb.fit(X_train, y_train)\n",
    "y_pred = gnb.predict(X_test)\n",
    "print(\"Accuracy:\", metrics.accuracy_score(y_test, y_pred))\n",
    "print(\"Precision:\", metrics.precision_score(y_test, y_pred))\n",
    "print(\"Recall:\", metrics.recall_score(y_test, y_pred))"
   ]
  },
  {
   "cell_type": "code",
   "execution_count": null,
   "id": "44c1808e",
   "metadata": {},
   "outputs": [],
   "source": [
    "from sklearn.ensemble import RandomForestClassifier\n",
    "rfc = RandomForestClassifier()\n",
    "rfc.fit(X_train, y_train)\n",
    "y_pred = rfc.predict(X_test)\n",
    "print(\"Accuracy:\", metrics.accuracy_score(y_test, y_pred))\n",
    "print(\"Precision:\", metrics.precision_score(y_test, y_pred))\n",
    "print(\"Recall:\", metrics.recall_score(y_test, y_pred))"
   ]
  },
  {
   "cell_type": "markdown",
   "id": "8a6762f0",
   "metadata": {},
   "source": [
    "# Article for data prep\n",
    "https://www.analyticsvidhya.com/blog/2021/06/4-ways-to-handle-insufficient-data-in-machine-learning/"
   ]
  },
  {
   "cell_type": "markdown",
   "id": "70344dd9",
   "metadata": {},
   "source": [
    "### 03/01/23\n",
    "\n",
    "https://towardsdatascience.com/feature-engineering-for-machine-learning-3a5e293a5114\n",
    "https://www.keboola.com/blog/random-forest-regression#:~:text=If%20you%20want%20to%20increase,the%20maximum%20number%20of%20features.\n",
    "https://www.kaggle.com/questions-and-answers/261231\n",
    "https://www.kdnuggets.com/2018/12/feature-engineering-explained.html#:~:text=Feature%20Engineering%20Example%3A%20Continuous%20data,some%20object%20on%20the%20map.\n",
    "https://www.analyticsvidhya.com/blog/2021/06/4-ways-to-handle-insufficient-data-in-machine-learning/\n",
    "https://opg.optica.org/ol/fulltext.cfm?uri=ol-44-23-5864&id=423702\n",
    "https://opg.optica.org/view_article.cfm?pdfKey=eb0ab124-2dbd-48bc-a1ae9c5771f8fea1_423702\n",
    "https://www.nature.com/articles/s41467-021-21481-0\n",
    "https://www.aanda.org/articles/aa/full_html/2016/07/aa28660-16/aa28660-16.html\n",
    "https://towardsdatascience.com/top-machine-learning-algorithms-for-classification-2197870ff501"
   ]
  }
 ],
 "metadata": {
  "kernelspec": {
   "display_name": "Python 3 (ipykernel)",
   "language": "python",
   "name": "python3"
  },
  "language_info": {
   "codemirror_mode": {
    "name": "ipython",
    "version": 3
   },
   "file_extension": ".py",
   "mimetype": "text/x-python",
   "name": "python",
   "nbconvert_exporter": "python",
   "pygments_lexer": "ipython3",
   "version": "3.10.5"
  }
 },
 "nbformat": 4,
 "nbformat_minor": 5
}
