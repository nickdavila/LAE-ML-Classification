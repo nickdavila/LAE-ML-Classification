{
 "cells": [
  {
   "cell_type": "markdown",
   "id": "1a3fb159",
   "metadata": {},
   "source": [
    "http://ned.ipac.caltech.edu/level5/March19/Baron/Baron2.html"
   ]
  },
  {
   "cell_type": "code",
   "execution_count": null,
   "id": "5f786fa6",
   "metadata": {},
   "outputs": [],
   "source": [
    "import numpy as np\n",
    "import matplotlib.pyplot as plt\n",
    "import pandas as pd\n",
    "import seaborn as sns # statistical data visualization\n",
    "\n",
    "from sklearn.model_selection import train_test_split\n",
    "from sklearn.model_selection import cross_val_score\n",
    "from sklearn.ensemble import RandomForestClassifier\n",
    "from sklearn.metrics import mean_squared_error"
   ]
  },
  {
   "cell_type": "code",
   "execution_count": 2,
   "id": "fdf17295",
   "metadata": {},
   "outputs": [],
   "source": [
    "# Using this to be able to plot spectra. For some reason Jupyter won't let me plot spectra without this\n",
    "%matplotlib inline"
   ]
  },
  {
   "cell_type": "markdown",
   "id": "4b90c35c",
   "metadata": {},
   "source": [
    "## Create our own labels:\n",
    "    - Random empty spot as noise\n",
    "    \n",
    "## Use entire spectrum and not encoded.\n",
    "\n",
    "* Extracted entire noise spectrum. \n",
    "\n",
    "* Combine the high confidence and noise array. Here are the labels for it. "
   ]
  },
  {
   "cell_type": "markdown",
   "id": "a9395eb3",
   "metadata": {},
   "source": [
    "### Ultimately, we want the ML algorithm to be able to pick out high-z sources from noise!"
   ]
  },
  {
   "cell_type": "code",
   "execution_count": 3,
   "id": "e1fbda46",
   "metadata": {},
   "outputs": [],
   "source": [
    "# loading in the decoded sources I got from inputting random encoded sources into t-sne.\n",
    "# These will be our testing sample\n",
    "random_highz_sources = np.load(\"highz_sources.npy\")"
   ]
  },
  {
   "cell_type": "code",
   "execution_count": 4,
   "id": "71008210",
   "metadata": {},
   "outputs": [],
   "source": [
    "# loading in my high confidence high z sources.\n",
    "high_confidence_highz_spectra = np.load(\"high_confidence_highz_1000.npy\", allow_pickle = True)"
   ]
  },
  {
   "cell_type": "code",
   "execution_count": 5,
   "id": "7394d750",
   "metadata": {},
   "outputs": [],
   "source": [
    "# loading in the noise sample.\n",
    "noise_sample = np.load(\"noise_sample_1000.npy\", allow_pickle = True)"
   ]
  },
  {
   "cell_type": "code",
   "execution_count": 35,
   "id": "3de9aeca",
   "metadata": {},
   "outputs": [
    {
     "data": {
      "text/plain": [
       "array([[-0.27453507, -0.27376958, -0.27300397, ...,  0.05124273,\n",
       "         0.05123827,  0.05123386],\n",
       "       [ 0.107195  ,  0.10851217,  0.10982789, ...,  0.14232644,\n",
       "         0.14230387,  0.14228151],\n",
       "       [-0.06730778, -0.06700857, -0.06670939, ..., -0.06052472,\n",
       "        -0.06053803, -0.06055122],\n",
       "       ...,\n",
       "       [-0.55389851, -0.55327332, -0.5526465 , ...,  0.04016945,\n",
       "         0.04015587,  0.04014242],\n",
       "       [ 0.19034464,  0.18940234,  0.18845793, ...,  0.48314523,\n",
       "         0.48315916,  0.48317293],\n",
       "       [ 1.20482559,  1.20504015,  1.2052516 , ...,  0.24669444,\n",
       "         0.2467046 ,  0.24671464]])"
      ]
     },
     "execution_count": 35,
     "metadata": {},
     "output_type": "execute_result"
    }
   ],
   "source": [
    "noise_sample"
   ]
  },
  {
   "cell_type": "code",
   "execution_count": 6,
   "id": "69397520",
   "metadata": {},
   "outputs": [
    {
     "data": {
      "text/html": [
       "<div>\n",
       "<style scoped>\n",
       "    .dataframe tbody tr th:only-of-type {\n",
       "        vertical-align: middle;\n",
       "    }\n",
       "\n",
       "    .dataframe tbody tr th {\n",
       "        vertical-align: top;\n",
       "    }\n",
       "\n",
       "    .dataframe thead th {\n",
       "        text-align: right;\n",
       "    }\n",
       "</style>\n",
       "<table border=\"1\" class=\"dataframe\">\n",
       "  <thead>\n",
       "    <tr style=\"text-align: right;\">\n",
       "      <th></th>\n",
       "      <th>1</th>\n",
       "      <th>2</th>\n",
       "    </tr>\n",
       "  </thead>\n",
       "  <tbody>\n",
       "    <tr>\n",
       "      <th>0</th>\n",
       "      <td>[-0.2745350651090622, -0.2737695754367118, -0....</td>\n",
       "      <td>[0.41081295627938086, 0.41056771447626034, 0.4...</td>\n",
       "    </tr>\n",
       "    <tr>\n",
       "      <th>1</th>\n",
       "      <td>[0.10719499983231176, 0.10851217425876615, 0.1...</td>\n",
       "      <td>[1.2038720574260438, 1.2035965089283491, 1.203...</td>\n",
       "    </tr>\n",
       "    <tr>\n",
       "      <th>2</th>\n",
       "      <td>[-0.06730778183374654, -0.06700857341262742, -...</td>\n",
       "      <td>[-0.3846966864195164, -0.383299771206096, -0.3...</td>\n",
       "    </tr>\n",
       "    <tr>\n",
       "      <th>3</th>\n",
       "      <td>[0.26524069710086234, 0.2641567780718815, 0.26...</td>\n",
       "      <td>[0.30983761383520153, 0.3103446243530814, 0.31...</td>\n",
       "    </tr>\n",
       "    <tr>\n",
       "      <th>4</th>\n",
       "      <td>[0.22173403554036744, 0.22058522042018333, 0.2...</td>\n",
       "      <td>[0.9560510273906166, 0.9591930732620303, 0.962...</td>\n",
       "    </tr>\n",
       "    <tr>\n",
       "      <th>...</th>\n",
       "      <td>...</td>\n",
       "      <td>...</td>\n",
       "    </tr>\n",
       "    <tr>\n",
       "      <th>995</th>\n",
       "      <td>[-0.9745579263840072, -0.9743290107782245, -0....</td>\n",
       "      <td>[0.03439495327132092, 0.03404298865517989, 0.0...</td>\n",
       "    </tr>\n",
       "    <tr>\n",
       "      <th>996</th>\n",
       "      <td>[0.651170647027954, 0.6509386707244421, 0.6507...</td>\n",
       "      <td>[0.026277668678197825, 0.02663091187239326, 0....</td>\n",
       "    </tr>\n",
       "    <tr>\n",
       "      <th>997</th>\n",
       "      <td>[-0.5538985072952052, -0.5532733222073725, -0....</td>\n",
       "      <td>[-0.3130105874134315, -0.31306856269327893, -0...</td>\n",
       "    </tr>\n",
       "    <tr>\n",
       "      <th>998</th>\n",
       "      <td>[0.19034463588101694, 0.1894023417498457, 0.18...</td>\n",
       "      <td>[1.001519775442492, 1.001469975314998, 1.00141...</td>\n",
       "    </tr>\n",
       "    <tr>\n",
       "      <th>999</th>\n",
       "      <td>[1.2048255937911, 1.2050401491698752, 1.205251...</td>\n",
       "      <td>[-0.17162231379271262, -0.1709112045033402, -0...</td>\n",
       "    </tr>\n",
       "  </tbody>\n",
       "</table>\n",
       "<p>1000 rows × 2 columns</p>\n",
       "</div>"
      ],
      "text/plain": [
       "                                                     1  \\\n",
       "0    [-0.2745350651090622, -0.2737695754367118, -0....   \n",
       "1    [0.10719499983231176, 0.10851217425876615, 0.1...   \n",
       "2    [-0.06730778183374654, -0.06700857341262742, -...   \n",
       "3    [0.26524069710086234, 0.2641567780718815, 0.26...   \n",
       "4    [0.22173403554036744, 0.22058522042018333, 0.2...   \n",
       "..                                                 ...   \n",
       "995  [-0.9745579263840072, -0.9743290107782245, -0....   \n",
       "996  [0.651170647027954, 0.6509386707244421, 0.6507...   \n",
       "997  [-0.5538985072952052, -0.5532733222073725, -0....   \n",
       "998  [0.19034463588101694, 0.1894023417498457, 0.18...   \n",
       "999  [1.2048255937911, 1.2050401491698752, 1.205251...   \n",
       "\n",
       "                                                     2  \n",
       "0    [0.41081295627938086, 0.41056771447626034, 0.4...  \n",
       "1    [1.2038720574260438, 1.2035965089283491, 1.203...  \n",
       "2    [-0.3846966864195164, -0.383299771206096, -0.3...  \n",
       "3    [0.30983761383520153, 0.3103446243530814, 0.31...  \n",
       "4    [0.9560510273906166, 0.9591930732620303, 0.962...  \n",
       "..                                                 ...  \n",
       "995  [0.03439495327132092, 0.03404298865517989, 0.0...  \n",
       "996  [0.026277668678197825, 0.02663091187239326, 0....  \n",
       "997  [-0.3130105874134315, -0.31306856269327893, -0...  \n",
       "998  [1.001519775442492, 1.001469975314998, 1.00141...  \n",
       "999  [-0.17162231379271262, -0.1709112045033402, -0...  \n",
       "\n",
       "[1000 rows x 2 columns]"
      ]
     },
     "execution_count": 6,
     "metadata": {},
     "output_type": "execute_result"
    }
   ],
   "source": [
    "df = pd.DataFrame(columns=[1, 2])\n",
    "#df[1] = df[1].astype(object)\n",
    "for i in range(1000):\n",
    "    df.loc[i, 1] = noise_sample[i]\n",
    "    df.loc[i, 2] = high_confidence_highz_spectra[i]\n",
    "df"
   ]
  },
  {
   "cell_type": "code",
   "execution_count": 7,
   "id": "0780da68",
   "metadata": {},
   "outputs": [],
   "source": [
    "df.columns = [\"noise\", \"confident-highz\"]"
   ]
  },
  {
   "cell_type": "code",
   "execution_count": 8,
   "id": "9b7175f0",
   "metadata": {},
   "outputs": [
    {
     "data": {
      "text/plain": [
       "0      [0.41081295627938086, 0.41056771447626034, 0.4...\n",
       "1      [1.2038720574260438, 1.2035965089283491, 1.203...\n",
       "2      [-0.3846966864195164, -0.383299771206096, -0.3...\n",
       "3      [0.30983761383520153, 0.3103446243530814, 0.31...\n",
       "4      [0.9560510273906166, 0.9591930732620303, 0.962...\n",
       "                             ...                        \n",
       "995    [0.03439495327132092, 0.03404298865517989, 0.0...\n",
       "996    [0.026277668678197825, 0.02663091187239326, 0....\n",
       "997    [-0.3130105874134315, -0.31306856269327893, -0...\n",
       "998    [1.001519775442492, 1.001469975314998, 1.00141...\n",
       "999    [-0.17162231379271262, -0.1709112045033402, -0...\n",
       "Name: confident-highz, Length: 1000, dtype: object"
      ]
     },
     "execution_count": 8,
     "metadata": {},
     "output_type": "execute_result"
    }
   ],
   "source": [
    "df['confident-highz']"
   ]
  },
  {
   "cell_type": "markdown",
   "id": "cec9711c",
   "metadata": {},
   "source": [
    "## Random-Forest classification"
   ]
  },
  {
   "cell_type": "markdown",
   "id": "966bbbec",
   "metadata": {},
   "source": [
    "https://levelup.gitconnected.com/random-forest-regression-209c0f354c84#:~:text=Random%20Forest%20Regression%20is%20a%20supervised%20learning%20algorithm%20that%20uses,prediction%20than%20a%20single%20model."
   ]
  },
  {
   "cell_type": "markdown",
   "id": "0d99ac7e",
   "metadata": {},
   "source": [
    "https://www.datacamp.com/tutorial/random-forests-classifier-python"
   ]
  },
  {
   "cell_type": "markdown",
   "id": "36234ad6",
   "metadata": {},
   "source": [
    "## According to internet, issues with overfitting! Possibly need more data.\n",
    "\n",
    "https://stackoverflow.com/questions/62445343/randomforestregressor-in-sklearn-giving-negative-scores"
   ]
  },
  {
   "cell_type": "code",
   "execution_count": 9,
   "id": "a33bf471",
   "metadata": {},
   "outputs": [],
   "source": [
    "from sklearn.model_selection import train_test_split\n",
    "\n",
    "from sklearn.preprocessing import KBinsDiscretizer"
   ]
  },
  {
   "cell_type": "code",
   "execution_count": 10,
   "id": "ab23fc15",
   "metadata": {},
   "outputs": [],
   "source": [
    "X = df['noise']"
   ]
  },
  {
   "cell_type": "code",
   "execution_count": 11,
   "id": "8b9cbe59",
   "metadata": {},
   "outputs": [],
   "source": [
    "y= df['confident-highz']"
   ]
  },
  {
   "cell_type": "code",
   "execution_count": 31,
   "id": "fac3d3ed",
   "metadata": {
    "scrolled": true
   },
   "outputs": [
    {
     "name": "stderr",
     "output_type": "stream",
     "text": [
      "/opt/conda/lib/python3.10/site-packages/sklearn/preprocessing/_discretization.py:209: FutureWarning: In version 1.3 onwards, subsample=2e5 will be used by default. Set subsample explicitly to silence this warning in the mean time. Set subsample=None to disable subsampling explicitly.\n",
      "  warnings.warn(\n"
     ]
    }
   ],
   "source": [
    "kbins = KBinsDiscretizer(n_bins=10, strategy='quantile', encode='ordinal')\n",
    "noise_bin = kbins.fit_transform(noise_sample.reshape(-1,1))"
   ]
  },
  {
   "cell_type": "code",
   "execution_count": 32,
   "id": "434cf4f9",
   "metadata": {},
   "outputs": [],
   "source": [
    "from collections import Counter\n",
    "import matplotlib.pyplot as plt\n",
    "\n",
    "def plot_bins(values):\n",
    "    \"\"\"visualizes the number of observations in each bin\"\"\"\n",
    "    \n",
    "    counter = Counter(values)\n",
    "    plt.bar(counter.keys(), counter.values())\n",
    "    plt.xlabel('Bins')\n",
    "    plt.ylabel('Frequency')\n",
    "    plt.show() \n",
    "\n",
    "def show_bins(bins):\n",
    "    \"\"\"Shows the ranges of values the bins comprises\"\"\"\n",
    "    \n",
    "    for i in range(len(bins)-1):\n",
    "        print(f'Bin {i}: {str(bins[i])} -> {str(bins[i+1])}')"
   ]
  },
  {
   "cell_type": "code",
   "execution_count": 33,
   "id": "d9f797ce",
   "metadata": {},
   "outputs": [
    {
     "data": {
      "text/plain": [
       "array([[2.],\n",
       "       [2.],\n",
       "       [2.],\n",
       "       ...,\n",
       "       [6.],\n",
       "       [6.],\n",
       "       [6.]])"
      ]
     },
     "execution_count": 33,
     "metadata": {},
     "output_type": "execute_result"
    }
   ],
   "source": [
    "noise_bin"
   ]
  },
  {
   "cell_type": "code",
   "execution_count": 34,
   "id": "de568d4c",
   "metadata": {},
   "outputs": [
    {
     "data": {
      "image/png": "[encoded data removed]",
      "text/plain": [
       "<Figure size 432x288 with 1 Axes>"
      ]
     },
     "metadata": {
      "needs_background": "light"
     },
     "output_type": "display_data"
    },
    {
     "name": "stdout",
     "output_type": "stream",
     "text": [
      "Bin 0: -210.52702673917548 -> -0.5532736962864887\n",
      "Bin 1: -0.5532736962864887 -> -0.2956439361122232\n",
      "Bin 2: -0.2956439361122232 -> -0.14532832866331538\n",
      "Bin 3: -0.14532832866331538 -> -0.026835846421775732\n",
      "Bin 4: -0.026835846421775732 -> 0.07573919613454325\n",
      "Bin 5: 0.07573919613454325 -> 0.1883924669279068\n",
      "Bin 6: 0.1883924669279068 -> 0.31919964235508774\n",
      "Bin 7: 0.31919964235508774 -> 0.501722691907399\n",
      "Bin 8: 0.501722691907399 -> 0.8672402521552904\n",
      "Bin 9: 0.8672402521552904 -> 5430.736787879883\n"
     ]
    }
   ],
   "source": [
    "# show results\n",
    "plot_bins(Counter(list(noise_bin.flatten())))\n",
    "show_bins(kbins.bin_edges_[0])"
   ]
  },
  {
   "cell_type": "markdown",
   "id": "e586935a",
   "metadata": {},
   "source": [
    "### Make my own labels:\n",
    "https://towardsdatascience.com/labeling-data-with-pandas-9e573ce59c42"
   ]
  },
  {
   "cell_type": "code",
   "execution_count": null,
   "id": "e103d0f7",
   "metadata": {},
   "outputs": [],
   "source": []
  }
 ],
 "metadata": {
  "kernelspec": {
   "display_name": "Python 3 (ipykernel)",
   "language": "python",
   "name": "python3"
  },
  "language_info": {
   "codemirror_mode": {
    "name": "ipython",
    "version": 3
   },
   "file_extension": ".py",
   "mimetype": "text/x-python",
   "name": "python",
   "nbconvert_exporter": "python",
   "pygments_lexer": "ipython3",
   "version": "3.10.5"
  }
 },
 "nbformat": 4,
 "nbformat_minor": 5
}
