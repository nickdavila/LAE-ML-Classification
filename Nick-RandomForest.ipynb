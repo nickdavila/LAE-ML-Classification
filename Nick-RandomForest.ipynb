{
 "cells": [
  {
   "cell_type": "markdown",
   "id": "1a3fb159",
   "metadata": {},
   "source": [
    "http://ned.ipac.caltech.edu/level5/March19/Baron/Baron2.html"
   ]
  },
  {
   "cell_type": "code",
   "execution_count": null,
   "id": "5f786fa6",
   "metadata": {},
   "outputs": [],
   "source": [
    "import numpy as np\n",
    "import matplotlib.pyplot as plt\n",
    "import pandas as pd\n",
    "import seaborn as sns # statistical data visualization\n",
    "\n",
    "from sklearn.model_selection import train_test_split\n",
    "from sklearn.model_selection import cross_val_score\n",
    "from sklearn.ensemble import RandomForestClassifier\n",
    "from sklearn.metrics import mean_squared_error"
   ]
  },
  {
   "cell_type": "code",
   "execution_count": 2,
   "id": "fdf17295",
   "metadata": {},
   "outputs": [],
   "source": [
    "# Using this to be able to plot spectra. For some reason Jupyter won't let me plot spectra without this\n",
    "%matplotlib inline"
   ]
  },
  {
   "cell_type": "markdown",
   "id": "4b90c35c",
   "metadata": {},
   "source": [
    "## Create our own labels:\n",
    "    - Random empty spot as noise\n",
    "    \n",
    "## Use entire spectrum and not encoded.\n",
    "\n",
    "* Extracted entire noise spectrum. \n",
    "\n",
    "* Combine the high confidence and noise array. Here are the labels for it. "
   ]
  },
  {
   "cell_type": "markdown",
   "id": "a9395eb3",
   "metadata": {},
   "source": [
    "### Ultimately, we want the ML algorithm to be able to pick out high-z sources from noise!"
   ]
  },
  {
   "cell_type": "code",
   "execution_count": 3,
   "id": "e1fbda46",
   "metadata": {},
   "outputs": [],
   "source": [
    "# loading in the decoded sources I got from inputting random encoded sources into t-sne.\n",
    "# These will be our testing sample\n",
    "random_highz_sources = np.load(\"highz_sources.npy\")"
   ]
  },
  {
   "cell_type": "code",
   "execution_count": 4,
   "id": "71008210",
   "metadata": {},
   "outputs": [],
   "source": [
    "# loading in my high confidence high z sources.\n",
    "high_confidence_highz_spectra = np.load(\"high_confidence_highz_1000.npy\", allow_pickle = True)"
   ]
  },
  {
   "cell_type": "code",
   "execution_count": 5,
   "id": "7394d750",
   "metadata": {},
   "outputs": [],
   "source": [
    "# loading in the noise sample.\n",
    "noise_sample = np.load(\"noise_sample_1000.npy\", allow_pickle = True)"
   ]
  },
  {
   "cell_type": "code",
   "execution_count": 35,
   "id": "3de9aeca",
   "metadata": {},
   "outputs": [
    {
     "data": {
      "text/plain": [
       "array([[-0.27453507, -0.27376958, -0.27300397, ...,  0.05124273,\n",
       "         0.05123827,  0.05123386],\n",
       "       [ 0.107195  ,  0.10851217,  0.10982789, ...,  0.14232644,\n",
       "         0.14230387,  0.14228151],\n",
       "       [-0.06730778, -0.06700857, -0.06670939, ..., -0.06052472,\n",
       "        -0.06053803, -0.06055122],\n",
       "       ...,\n",
       "       [-0.55389851, -0.55327332, -0.5526465 , ...,  0.04016945,\n",
       "         0.04015587,  0.04014242],\n",
       "       [ 0.19034464,  0.18940234,  0.18845793, ...,  0.48314523,\n",
       "         0.48315916,  0.48317293],\n",
       "       [ 1.20482559,  1.20504015,  1.2052516 , ...,  0.24669444,\n",
       "         0.2467046 ,  0.24671464]])"
      ]
     },
     "execution_count": 35,
     "metadata": {},
     "output_type": "execute_result"
    }
   ],
   "source": [
    "noise_sample"
   ]
  },
  {
   "cell_type": "code",
   "execution_count": 6,
   "id": "69397520",
   "metadata": {},
   "outputs": [
    {
     "data": {
      "text/html": [
       "<div>\n",
       "<style scoped>\n",
       "    .dataframe tbody tr th:only-of-type {\n",
       "        vertical-align: middle;\n",
       "    }\n",
       "\n",
       "    .dataframe tbody tr th {\n",
       "        vertical-align: top;\n",
       "    }\n",
       "\n",
       "    .dataframe thead th {\n",
       "        text-align: right;\n",
       "    }\n",
       "</style>\n",
       "<table border=\"1\" class=\"dataframe\">\n",
       "  <thead>\n",
       "    <tr style=\"text-align: right;\">\n",
       "      <th></th>\n",
       "      <th>1</th>\n",
       "      <th>2</th>\n",
       "    </tr>\n",
       "  </thead>\n",
       "  <tbody>\n",
       "    <tr>\n",
       "      <th>0</th>\n",
       "      <td>[-0.2745350651090622, -0.2737695754367118, -0....</td>\n",
       "      <td>[0.41081295627938086, 0.41056771447626034, 0.4...</td>\n",
       "    </tr>\n",
       "    <tr>\n",
       "      <th>1</th>\n",
       "      <td>[0.10719499983231176, 0.10851217425876615, 0.1...</td>\n",
       "      <td>[1.2038720574260438, 1.2035965089283491, 1.203...</td>\n",
       "    </tr>\n",
       "    <tr>\n",
       "      <th>2</th>\n",
       "      <td>[-0.06730778183374654, -0.06700857341262742, -...</td>\n",
       "      <td>[-0.3846966864195164, -0.383299771206096, -0.3...</td>\n",
       "    </tr>\n",
       "    <tr>\n",
       "      <th>3</th>\n",
       "      <td>[0.26524069710086234, 0.2641567780718815, 0.26...</td>\n",
       "      <td>[0.30983761383520153, 0.3103446243530814, 0.31...</td>\n",
       "    </tr>\n",
       "    <tr>\n",
       "      <th>4</th>\n",
       "      <td>[0.22173403554036744, 0.22058522042018333, 0.2...</td>\n",
       "      <td>[0.9560510273906166, 0.9591930732620303, 0.962...</td>\n",
       "    </tr>\n",
       "    <tr>\n",
       "      <th>...</th>\n",
       "      <td>...</td>\n",
       "      <td>...</td>\n",
       "    </tr>\n",
       "    <tr>\n",
       "      <th>995</th>\n",
       "      <td>[-0.9745579263840072, -0.9743290107782245, -0....</td>\n",
       "      <td>[0.03439495327132092, 0.03404298865517989, 0.0...</td>\n",
       "    </tr>\n",
       "    <tr>\n",
       "      <th>996</th>\n",
       "      <td>[0.651170647027954, 0.6509386707244421, 0.6507...</td>\n",
       "      <td>[0.026277668678197825, 0.02663091187239326, 0....</td>\n",
       "    </tr>\n",
       "    <tr>\n",
       "      <th>997</th>\n",
       "      <td>[-0.5538985072952052, -0.5532733222073725, -0....</td>\n",
       "      <td>[-0.3130105874134315, -0.31306856269327893, -0...</td>\n",
       "    </tr>\n",
       "    <tr>\n",
       "      <th>998</th>\n",
       "      <td>[0.19034463588101694, 0.1894023417498457, 0.18...</td>\n",
       "      <td>[1.001519775442492, 1.001469975314998, 1.00141...</td>\n",
       "    </tr>\n",
       "    <tr>\n",
       "      <th>999</th>\n",
       "      <td>[1.2048255937911, 1.2050401491698752, 1.205251...</td>\n",
       "      <td>[-0.17162231379271262, -0.1709112045033402, -0...</td>\n",
       "    </tr>\n",
       "  </tbody>\n",
       "</table>\n",
       "<p>1000 rows × 2 columns</p>\n",
       "</div>"
      ],
      "text/plain": [
       "                                                     1  \\\n",
       "0    [-0.2745350651090622, -0.2737695754367118, -0....   \n",
       "1    [0.10719499983231176, 0.10851217425876615, 0.1...   \n",
       "2    [-0.06730778183374654, -0.06700857341262742, -...   \n",
       "3    [0.26524069710086234, 0.2641567780718815, 0.26...   \n",
       "4    [0.22173403554036744, 0.22058522042018333, 0.2...   \n",
       "..                                                 ...   \n",
       "995  [-0.9745579263840072, -0.9743290107782245, -0....   \n",
       "996  [0.651170647027954, 0.6509386707244421, 0.6507...   \n",
       "997  [-0.5538985072952052, -0.5532733222073725, -0....   \n",
       "998  [0.19034463588101694, 0.1894023417498457, 0.18...   \n",
       "999  [1.2048255937911, 1.2050401491698752, 1.205251...   \n",
       "\n",
       "                                                     2  \n",
       "0    [0.41081295627938086, 0.41056771447626034, 0.4...  \n",
       "1    [1.2038720574260438, 1.2035965089283491, 1.203...  \n",
       "2    [-0.3846966864195164, -0.383299771206096, -0.3...  \n",
       "3    [0.30983761383520153, 0.3103446243530814, 0.31...  \n",
       "4    [0.9560510273906166, 0.9591930732620303, 0.962...  \n",
       "..                                                 ...  \n",
       "995  [0.03439495327132092, 0.03404298865517989, 0.0...  \n",
       "996  [0.026277668678197825, 0.02663091187239326, 0....  \n",
       "997  [-0.3130105874134315, -0.31306856269327893, -0...  \n",
       "998  [1.001519775442492, 1.001469975314998, 1.00141...  \n",
       "999  [-0.17162231379271262, -0.1709112045033402, -0...  \n",
       "\n",
       "[1000 rows x 2 columns]"
      ]
     },
     "execution_count": 6,
     "metadata": {},
     "output_type": "execute_result"
    }
   ],
   "source": [
    "df = pd.DataFrame(columns=[1, 2])\n",
    "#df[1] = df[1].astype(object)\n",
    "for i in range(1000):\n",
    "    df.loc[i, 1] = noise_sample[i]\n",
    "    df.loc[i, 2] = high_confidence_highz_spectra[i]\n",
    "df"
   ]
  },
  {
   "cell_type": "code",
   "execution_count": 7,
   "id": "0780da68",
   "metadata": {},
   "outputs": [],
   "source": [
    "df.columns = [\"noise\", \"confident-highz\"]"
   ]
  },
  {
   "cell_type": "code",
   "execution_count": 8,
   "id": "9b7175f0",
   "metadata": {},
   "outputs": [
    {
     "data": {
      "text/plain": [
       "0      [0.41081295627938086, 0.41056771447626034, 0.4...\n",
       "1      [1.2038720574260438, 1.2035965089283491, 1.203...\n",
       "2      [-0.3846966864195164, -0.383299771206096, -0.3...\n",
       "3      [0.30983761383520153, 0.3103446243530814, 0.31...\n",
       "4      [0.9560510273906166, 0.9591930732620303, 0.962...\n",
       "                             ...                        \n",
       "995    [0.03439495327132092, 0.03404298865517989, 0.0...\n",
       "996    [0.026277668678197825, 0.02663091187239326, 0....\n",
       "997    [-0.3130105874134315, -0.31306856269327893, -0...\n",
       "998    [1.001519775442492, 1.001469975314998, 1.00141...\n",
       "999    [-0.17162231379271262, -0.1709112045033402, -0...\n",
       "Name: confident-highz, Length: 1000, dtype: object"
      ]
     },
     "execution_count": 8,
     "metadata": {},
     "output_type": "execute_result"
    }
   ],
   "source": [
    "df['confident-highz']"
   ]
  },
  {
   "cell_type": "markdown",
   "id": "cec9711c",
   "metadata": {},
   "source": [
    "## Random-Forest classification"
   ]
  },
  {
   "cell_type": "markdown",
   "id": "966bbbec",
   "metadata": {},
   "source": [
    "https://levelup.gitconnected.com/random-forest-regression-209c0f354c84#:~:text=Random%20Forest%20Regression%20is%20a%20supervised%20learning%20algorithm%20that%20uses,prediction%20than%20a%20single%20model."
   ]
  },
  {
   "cell_type": "markdown",
   "id": "0d99ac7e",
   "metadata": {},
   "source": [
    "https://www.datacamp.com/tutorial/random-forests-classifier-python"
   ]
  },
  {
   "cell_type": "markdown",
   "id": "36234ad6",
   "metadata": {},
   "source": [
    "## According to internet, issues with overfitting! Possibly need more data.\n",
    "\n",
    "https://stackoverflow.com/questions/62445343/randomforestregressor-in-sklearn-giving-negative-scores"
   ]
  },
  {
   "cell_type": "code",
   "execution_count": 9,
   "id": "a33bf471",
   "metadata": {},
   "outputs": [],
   "source": [
    "from sklearn.model_selection import train_test_split\n",
    "\n",
    "from sklearn.preprocessing import KBinsDiscretizer"
   ]
  },
  {
   "cell_type": "code",
   "execution_count": 10,
   "id": "ab23fc15",
   "metadata": {},
   "outputs": [],
   "source": [
    "X = df['noise']"
   ]
  },
  {
   "cell_type": "code",
   "execution_count": 11,
   "id": "8b9cbe59",
   "metadata": {},
   "outputs": [],
   "source": [
    "y= df['confident-highz']"
   ]
  },
  {
   "cell_type": "code",
   "execution_count": 55,
   "id": "cbf4a885",
   "metadata": {},
   "outputs": [],
   "source": [
    "twodspectra = np.concatenate((high_confidence_highz_spectra, noise_sample))"
   ]
  },
  {
   "cell_type": "code",
   "execution_count": 43,
   "id": "3d6c4606",
   "metadata": {},
   "outputs": [
    {
     "data": {
      "text/plain": [
       "array([0.41081296, 0.41056771, 0.41032136, ..., 0.41890103, 0.41887913,\n",
       "       0.41885743])"
      ]
     },
     "execution_count": 43,
     "metadata": {},
     "output_type": "execute_result"
    }
   ],
   "source": [
    "high_confidence_highz_spectra[0]"
   ]
  },
  {
   "cell_type": "code",
   "execution_count": 45,
   "id": "a7343c6e",
   "metadata": {},
   "outputs": [
    {
     "data": {
      "text/plain": [
       "array([-0.27453507, -0.27376958, -0.27300397, ...,  0.05124273,\n",
       "        0.05123827,  0.05123386])"
      ]
     },
     "execution_count": 45,
     "metadata": {},
     "output_type": "execute_result"
    }
   ],
   "source": [
    "noise_sample[0]"
   ]
  },
  {
   "cell_type": "code",
   "execution_count": 44,
   "id": "d03b9ca8",
   "metadata": {},
   "outputs": [
    {
     "data": {
      "text/plain": [
       "array([-0.27453507, -0.27376958, -0.27300397, ...,  0.05124273,\n",
       "        0.05123827,  0.05123386])"
      ]
     },
     "execution_count": 44,
     "metadata": {},
     "output_type": "execute_result"
    }
   ],
   "source": [
    "twodspectratest[1000]"
   ]
  },
  {
   "cell_type": "code",
   "execution_count": 49,
   "id": "47b75192",
   "metadata": {},
   "outputs": [],
   "source": [
    "highz_classification = np.ones(1000)\n",
    "noise_classification = np.zeros(1000)\n",
    "\n",
    "merge_classification = np.append(highz_classification, noise_classification)"
   ]
  },
  {
   "cell_type": "code",
   "execution_count": 51,
   "id": "e2673bc2",
   "metadata": {},
   "outputs": [
    {
     "data": {
      "text/plain": [
       "1.0"
      ]
     },
     "execution_count": 51,
     "metadata": {},
     "output_type": "execute_result"
    }
   ],
   "source": [
    "merge_classification[0]"
   ]
  },
  {
   "cell_type": "code",
   "execution_count": 54,
   "id": "9693b4a7",
   "metadata": {},
   "outputs": [
    {
     "data": {
      "text/plain": [
       "0.0"
      ]
     },
     "execution_count": 54,
     "metadata": {},
     "output_type": "execute_result"
    }
   ],
   "source": [
    "merge_classification[1000]"
   ]
  },
  {
   "cell_type": "markdown",
   "id": "e586935a",
   "metadata": {},
   "source": [
    "### Make my own labels:\n",
    "https://towardsdatascience.com/labeling-data-with-pandas-9e573ce59c42"
   ]
  },
  {
   "cell_type": "code",
   "execution_count": 56,
   "id": "108c9a22",
   "metadata": {},
   "outputs": [],
   "source": [
    "X = twodspectra\n",
    "y = merge_classification"
   ]
  },
  {
   "cell_type": "code",
   "execution_count": 57,
   "id": "e103d0f7",
   "metadata": {},
   "outputs": [],
   "source": [
    "# Splitting arrays or matrices into random train and test subsets\n",
    "from sklearn.model_selection import train_test_split\n",
    "# i.e. 70 % training dataset and 30 % test datasets\n",
    "X_train, X_test, y_train, y_test = train_test_split(X, y, test_size = 0.30)"
   ]
  },
  {
   "cell_type": "code",
   "execution_count": 58,
   "id": "8098e091",
   "metadata": {},
   "outputs": [],
   "source": [
    "\n",
    "# importing random forest classifier from assemble module\n",
    "from sklearn.ensemble import RandomForestClassifier"
   ]
  },
  {
   "cell_type": "code",
   "execution_count": 59,
   "id": "f9d2433e",
   "metadata": {},
   "outputs": [],
   "source": [
    "\n",
    "# creating a RF classifier\n",
    "clf = RandomForestClassifier(n_estimators = 100)  "
   ]
  },
  {
   "cell_type": "code",
   "execution_count": 60,
   "id": "b33c9ec0",
   "metadata": {},
   "outputs": [
    {
     "data": {
      "text/html": [
       "<style>#sk-container-id-1 {color: black;background-color: white;}#sk-container-id-1 pre{padding: 0;}#sk-container-id-1 div.sk-toggleable {background-color: white;}#sk-container-id-1 label.sk-toggleable__label {cursor: pointer;display: block;width: 100%;margin-bottom: 0;padding: 0.3em;box-sizing: border-box;text-align: center;}#sk-container-id-1 label.sk-toggleable__label-arrow:before {content: \"▸\";float: left;margin-right: 0.25em;color: #696969;}#sk-container-id-1 label.sk-toggleable__label-arrow:hover:before {color: black;}#sk-container-id-1 div.sk-estimator:hover label.sk-toggleable__label-arrow:before {color: black;}#sk-container-id-1 div.sk-toggleable__content {max-height: 0;max-width: 0;overflow: hidden;text-align: left;background-color: #f0f8ff;}#sk-container-id-1 div.sk-toggleable__content pre {margin: 0.2em;color: black;border-radius: 0.25em;background-color: #f0f8ff;}#sk-container-id-1 input.sk-toggleable__control:checked~div.sk-toggleable__content {max-height: 200px;max-width: 100%;overflow: auto;}#sk-container-id-1 input.sk-toggleable__control:checked~label.sk-toggleable__label-arrow:before {content: \"▾\";}#sk-container-id-1 div.sk-estimator input.sk-toggleable__control:checked~label.sk-toggleable__label {background-color: #d4ebff;}#sk-container-id-1 div.sk-label input.sk-toggleable__control:checked~label.sk-toggleable__label {background-color: #d4ebff;}#sk-container-id-1 input.sk-hidden--visually {border: 0;clip: rect(1px 1px 1px 1px);clip: rect(1px, 1px, 1px, 1px);height: 1px;margin: -1px;overflow: hidden;padding: 0;position: absolute;width: 1px;}#sk-container-id-1 div.sk-estimator {font-family: monospace;background-color: #f0f8ff;border: 1px dotted black;border-radius: 0.25em;box-sizing: border-box;margin-bottom: 0.5em;}#sk-container-id-1 div.sk-estimator:hover {background-color: #d4ebff;}#sk-container-id-1 div.sk-parallel-item::after {content: \"\";width: 100%;border-bottom: 1px solid gray;flex-grow: 1;}#sk-container-id-1 div.sk-label:hover label.sk-toggleable__label {background-color: #d4ebff;}#sk-container-id-1 div.sk-serial::before {content: \"\";position: absolute;border-left: 1px solid gray;box-sizing: border-box;top: 0;bottom: 0;left: 50%;z-index: 0;}#sk-container-id-1 div.sk-serial {display: flex;flex-direction: column;align-items: center;background-color: white;padding-right: 0.2em;padding-left: 0.2em;position: relative;}#sk-container-id-1 div.sk-item {position: relative;z-index: 1;}#sk-container-id-1 div.sk-parallel {display: flex;align-items: stretch;justify-content: center;background-color: white;position: relative;}#sk-container-id-1 div.sk-item::before, #sk-container-id-1 div.sk-parallel-item::before {content: \"\";position: absolute;border-left: 1px solid gray;box-sizing: border-box;top: 0;bottom: 0;left: 50%;z-index: -1;}#sk-container-id-1 div.sk-parallel-item {display: flex;flex-direction: column;z-index: 1;position: relative;background-color: white;}#sk-container-id-1 div.sk-parallel-item:first-child::after {align-self: flex-end;width: 50%;}#sk-container-id-1 div.sk-parallel-item:last-child::after {align-self: flex-start;width: 50%;}#sk-container-id-1 div.sk-parallel-item:only-child::after {width: 0;}#sk-container-id-1 div.sk-dashed-wrapped {border: 1px dashed gray;margin: 0 0.4em 0.5em 0.4em;box-sizing: border-box;padding-bottom: 0.4em;background-color: white;}#sk-container-id-1 div.sk-label label {font-family: monospace;font-weight: bold;display: inline-block;line-height: 1.2em;}#sk-container-id-1 div.sk-label-container {text-align: center;}#sk-container-id-1 div.sk-container {/* jupyter's `normalize.less` sets `[hidden] { display: none; }` but bootstrap.min.css set `[hidden] { display: none !important; }` so we also need the `!important` here to be able to override the default hidden behavior on the sphinx rendered scikit-learn.org. See: https://github.com/scikit-learn/scikit-learn/issues/21755 */display: inline-block !important;position: relative;}#sk-container-id-1 div.sk-text-repr-fallback {display: none;}</style><div id=\"sk-container-id-1\" class=\"sk-top-container\"><div class=\"sk-text-repr-fallback\"><pre>RandomForestClassifier()</pre><b>In a Jupyter environment, please rerun this cell to show the HTML representation or trust the notebook. <br />On GitHub, the HTML representation is unable to render, please try loading this page with nbviewer.org.</b></div><div class=\"sk-container\" hidden><div class=\"sk-item\"><div class=\"sk-estimator sk-toggleable\"><input class=\"sk-toggleable__control sk-hidden--visually\" id=\"sk-estimator-id-1\" type=\"checkbox\" checked><label for=\"sk-estimator-id-1\" class=\"sk-toggleable__label sk-toggleable__label-arrow\">RandomForestClassifier</label><div class=\"sk-toggleable__content\"><pre>RandomForestClassifier()</pre></div></div></div></div></div>"
      ],
      "text/plain": [
       "RandomForestClassifier()"
      ]
     },
     "execution_count": 60,
     "metadata": {},
     "output_type": "execute_result"
    }
   ],
   "source": [
    "# Training the model on the training dataset\n",
    "# fit function is used to train the model using the training sets as parameters\n",
    "clf.fit(X_train, y_train)"
   ]
  },
  {
   "cell_type": "code",
   "execution_count": 61,
   "id": "66c7293c",
   "metadata": {},
   "outputs": [],
   "source": [
    "# performing predictions on the test dataset\n",
    "y_pred = clf.predict(X_test)"
   ]
  },
  {
   "cell_type": "code",
   "execution_count": 62,
   "id": "28b883be",
   "metadata": {},
   "outputs": [
    {
     "name": "stdout",
     "output_type": "stream",
     "text": [
      "\n",
      "ACCURACY OF THE MODEL:  0.6683333333333333\n"
     ]
    }
   ],
   "source": [
    "# metrics are used to find accuracy or error\n",
    "from sklearn import metrics  \n",
    "print()\n",
    "  \n",
    "# using metrics module for accuracy calculation\n",
    "print(\"ACCURACY OF THE MODEL: \", metrics.accuracy_score(y_test, y_pred))"
   ]
  },
  {
   "cell_type": "code",
   "execution_count": 98,
   "id": "68efe537",
   "metadata": {},
   "outputs": [
    {
     "data": {
      "text/plain": [
       "array([0.])"
      ]
     },
     "execution_count": 98,
     "metadata": {},
     "output_type": "execute_result"
    }
   ],
   "source": [
    "clf.predict(X_test[0].reshape(1, -1))"
   ]
  },
  {
   "cell_type": "code",
   "execution_count": 99,
   "id": "c6faae1c",
   "metadata": {},
   "outputs": [
    {
     "data": {
      "text/plain": [
       "array([1.])"
      ]
     },
     "execution_count": 99,
     "metadata": {},
     "output_type": "execute_result"
    }
   ],
   "source": [
    "clf.predict(X_test[1].reshape(1, -1))"
   ]
  },
  {
   "cell_type": "code",
   "execution_count": 100,
   "id": "68461d9a",
   "metadata": {},
   "outputs": [
    {
     "data": {
      "text/plain": [
       "1.0"
      ]
     },
     "execution_count": 100,
     "metadata": {},
     "output_type": "execute_result"
    }
   ],
   "source": [
    "y_test[0]"
   ]
  },
  {
   "cell_type": "code",
   "execution_count": 101,
   "id": "3b32512f",
   "metadata": {},
   "outputs": [
    {
     "data": {
      "text/plain": [
       "0.0"
      ]
     },
     "execution_count": 101,
     "metadata": {},
     "output_type": "execute_result"
    }
   ],
   "source": [
    "y_test[1]"
   ]
  },
  {
   "cell_type": "code",
   "execution_count": 102,
   "id": "0899ff42",
   "metadata": {},
   "outputs": [
    {
     "data": {
      "text/plain": [
       "[<matplotlib.lines.Line2D at 0x7f0dd3298a30>]"
      ]
     },
     "execution_count": 102,
     "metadata": {},
     "output_type": "execute_result"
    },
    {
     "data": {
      "image/png": "[encoded data removed]",
      "text/plain": [
       "<Figure size 432x288 with 1 Axes>"
      ]
     },
     "metadata": {
      "needs_background": "light"
     },
     "output_type": "display_data"
    }
   ],
   "source": [
    "plt.plot(X_test[0])"
   ]
  },
  {
   "cell_type": "code",
   "execution_count": 104,
   "id": "1f21a211",
   "metadata": {},
   "outputs": [
    {
     "data": {
      "text/plain": [
       "[<matplotlib.lines.Line2D at 0x7f0dd3108700>]"
      ]
     },
     "execution_count": 104,
     "metadata": {},
     "output_type": "execute_result"
    },
    {
     "data": {
      "image/png": "[encoded data removed]",
      "text/plain": [
       "<Figure size 432x288 with 1 Axes>"
      ]
     },
     "metadata": {
      "needs_background": "light"
     },
     "output_type": "display_data"
    }
   ],
   "source": [
    "plt.plot(X_test[1])"
   ]
  },
  {
   "cell_type": "markdown",
   "id": "650f7e05",
   "metadata": {},
   "source": [
    "Idk how much this would help but i recall that certain algorithms do better when the data is normalized. Maybe we can try implementing that and see how it does.\n",
    "I think sklearn has some standard scaler that normalizes the data in a way to be used for ML purposes\n",
    "white_check_mark\n",
    "eyes\n",
    "raised_hands\n",
    "\n",
    "\n",
    "\n",
    "\n",
    "\n",
    "11:14\n",
    "We can also look into the documentations and see what parameters we think has a big impact on the classification\n",
    "11:15\n",
    "and tweak those one at a time to see which has the biggest impact"
   ]
  },
  {
   "cell_type": "code",
   "execution_count": null,
   "id": "16673c44",
   "metadata": {},
   "outputs": [],
   "source": []
  }
 ],
 "metadata": {
  "kernelspec": {
   "display_name": "Python 3 (ipykernel)",
   "language": "python",
   "name": "python3"
  },
  "language_info": {
   "codemirror_mode": {
    "name": "ipython",
    "version": 3
   },
   "file_extension": ".py",
   "mimetype": "text/x-python",
   "name": "python",
   "nbconvert_exporter": "python",
   "pygments_lexer": "ipython3",
   "version": "3.10.5"
  }
 },
 "nbformat": 4,
 "nbformat_minor": 5
}
