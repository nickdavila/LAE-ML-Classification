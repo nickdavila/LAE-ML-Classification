{
 "cells": [
  {
   "cell_type": "code",
   "execution_count": 10,
   "id": "48926f5e",
   "metadata": {},
   "outputs": [],
   "source": [
    "# means that my matplotlib graphs will be included in the notebook, next to the code\n",
    "%matplotlib inline\n",
    "\n",
    "import os\n",
    "\n",
    "import math\n",
    "import astropy\n",
    "import random\n",
    "import numpy as np\n",
    "import tables as tb\n",
    "import pandas as pd\n",
    "import matplotlib.pyplot as plt\n",
    "\n",
    "from astropy.table import Table, Column, join\n",
    "from astropy.coordinates import SkyCoord\n",
    "from astropy.io import fits\n",
    "import astropy.units as u\n",
    "\n",
    "from hetdex_tools.get_spec import get_spectra\n",
    "from hetdex_api.config import HDRconfig\n",
    "from hetdex_api.detections import Detections\n",
    "from hetdex_api.elixer_widget_cls import ElixerWidget"
   ]
  },
  {
   "cell_type": "code",
   "execution_count": 2,
   "id": "4b25f138",
   "metadata": {},
   "outputs": [],
   "source": [
    "# not sure why the code below is here, it was in the Detections database and API notebook\n",
    "# https://github.com/HETDEX/hetdex_api/blob/master/notebooks/api-notebooks/03-Detections_Database_and_API.ipynb"
   ]
  },
  {
   "cell_type": "code",
   "execution_count": 3,
   "id": "ce894e85",
   "metadata": {},
   "outputs": [
    {
     "data": {
      "application/javascript": [
       "IPython.OutputArea.prototype._should_scroll = function(lines) {\n",
       "    return false;\n",
       "}\n"
      ],
      "text/plain": [
       "<IPython.core.display.Javascript object>"
      ]
     },
     "metadata": {},
     "output_type": "display_data"
    }
   ],
   "source": [
    "%%javascript\n",
    "IPython.OutputArea.prototype._should_scroll = function(lines) {\n",
    "    return false;\n",
    "}"
   ]
  },
  {
   "cell_type": "markdown",
   "id": "aa88dea4",
   "metadata": {},
   "source": [
    "### Opens the catalogs and turns them into dataframes\n",
    "\n",
    "I like to open both catalogs separately since they are both big (HDR3 especially!)"
   ]
  },
  {
   "cell_type": "code",
   "execution_count": 4,
   "id": "6c27a5c6",
   "metadata": {},
   "outputs": [],
   "source": [
    "# Opening HDR3 detections catalog  ** double check this <-- statement ** and converting it into a pandas DF\n",
    "# HDR3 is detections HETDEX found\n",
    "HDR_source_cat = fits.open('/home/jovyan/Hobby-Eberly-Telesco/hdr3/catalogs/source_catalog_3.0.1.fits', memmap = True)\n",
    "HDR3_data = HDR_source_cat[1].data\n",
    "HDR3_DF = pd.DataFrame(HDR3_data, columns=HDR3_data.columns.names)"
   ]
  },
  {
   "cell_type": "code",
   "execution_count": 5,
   "id": "77c54340",
   "metadata": {},
   "outputs": [],
   "source": [
    "# Opening H20 NEP catalog and converting it into a pandas DF\n",
    "# H20 is stricly photometry sources\n",
    "H20_NEP_catalog = fits.open('H20_NEP_VIRUS_OVERLAP_CAT_10_2021.fits', memmap = True)\n",
    "H20_NEP_data = H20_NEP_catalog[1].data\n",
    "H20_NEP_DF = pd.DataFrame(H20_NEP_data, columns=H20_NEP_data.columns.names)"
   ]
  },
  {
   "cell_type": "code",
   "execution_count": 6,
   "id": "87243526",
   "metadata": {},
   "outputs": [],
   "source": [
    "# Columns we will then take from the entire data set (it was huge so we needed to determine what we wanted to look at specifically).\n",
    "# As the name suggests, these are the ones that are useful to us!\n",
    "useful_hdr3_cols = ['source_id', 'detectid',  'selected_det', 'ra_mean', 'dec_mean', 'fwhm', 'shotid', 'field',  'ra', 'dec', 'wave', 'wave_err', 'flux', 'flux_err', 'sn', 'sn_err', 'chi2', 'chi2_err',\n",
    "'linewidth', 'linewidth_err', 'plya_classification', 'z_hetdex', 'z_hetdex_conf', 'combined_plae']\n",
    "\n",
    "# For now, the only useful columns for us in H20 NEP is RA and DEC.\n",
    "useful_h20nep_cols = ['RA_MODELING', 'DEC_MODELING', 'VALID_SOURCE_MODELING']\n",
    "\n",
    "# From the original DF, taking the useful columns\n",
    "reduced_hdr3_df = HDR3_DF.loc[:, useful_hdr3_cols]\n",
    "reduced_h20nep_df = H20_NEP_DF.loc[:, useful_h20nep_cols]"
   ]
  },
  {
   "cell_type": "markdown",
   "id": "888ba3f0",
   "metadata": {},
   "source": [
    "### Cleaning up the data"
   ]
  },
  {
   "cell_type": "code",
   "execution_count": 11,
   "id": "44649c45",
   "metadata": {},
   "outputs": [],
   "source": [
    "# Removing data from before 2017 because it isn't good (not useful to us)\n",
    "# No need to do this for H20 NEP\n",
    "removed_bad_shots_hdr3_df = reduced_hdr3_df[reduced_hdr3_df.shotid.values >= 20180000000]"
   ]
  },
  {
   "cell_type": "markdown",
   "id": "4fc89194",
   "metadata": {},
   "source": [
    "### Filtering data. For HDR3 we use a signal to noise greater than 6.5 and for H20 NEP we check if the VALID_SOURCE_MODELING is true"
   ]
  },
  {
   "cell_type": "code",
   "execution_count": 12,
   "id": "f9e5f77c",
   "metadata": {},
   "outputs": [],
   "source": [
    "# This will give high confidence detections. Something we would want to do also. What is sn threshold that Valentina's code is having trouble with.\n",
    "# Reason why, we want high-confidence Lya. If we are very confident sn and another filter, then that's what we consider high-conf lya.\n",
    "# Once noise and high-confidence sample. We can start exanping on valentina's code and do our own stuff\n",
    "hdr3_signal_to_noise_interval = removed_bad_shots_hdr3_df[removed_bad_shots_hdr3_df['sn'] > 6.5]\n",
    "\n",
    "# For now, no need to specify a field. But once trained, we want to run this for the NEP field!\n",
    "# The VALID_SOURCE_MODELING column which just tells us that the model was able to converge and get fluxes from the source\n",
    "# False valid source modeling means that the model used to measure the fluxes failed somehow so we cannot use that galaxy reliably\n",
    "# We want the true ones since we know the model was able to find a galaxy and we can use that for \n",
    "# our imaging counterpart identification (ie: to use these galaxy to check if there is a galaxy at our new extraction coordinate)\n",
    "h20_valid_source_check = reduced_h20nep_df[reduced_h20nep_df['VALID_SOURCE_MODELING'] == True]"
   ]
  },
  {
   "cell_type": "markdown",
   "id": "2483d58b",
   "metadata": {},
   "source": [
    "## Making two skycoord objects for both catalogs\n",
    "We do this (instead of directly looking at the dataframes cause when we exract we get fibers from nearby as well. We don't want that."
   ]
  },
  {
   "cell_type": "code",
   "execution_count": 157,
   "id": "5bccbd31",
   "metadata": {},
   "outputs": [],
   "source": [
    "hdr3_skycoord = SkyCoord(hdr3_signal_to_noise_interval['ra'] * u.deg, hdr3_signal_to_noise_interval['dec'] * u.deg)\n",
    "h20_skycoord = SkyCoord(h20_valid_source_check['RA_MODELING'] * u.deg, h20_valid_source_check['DEC_MODELING'] * u.deg)"
   ]
  },
  {
   "cell_type": "code",
   "execution_count": 274,
   "id": "29941aee",
   "metadata": {},
   "outputs": [],
   "source": [
    "# Getting a random coordinate from the h20 catalog. I didn't get from the hdr3 catalog \n",
    "# because the hdr3 one is so much bigger, so it could happen where we dont have imaging overlap\n",
    "random_coord = h20_skycoord[random.randint(0, h20_skycoords.size)]\n",
    "# Creating an offseted skycoord\n",
    "offset_skycoord = random_coord.directional_offset_by(200 * u.arcsec, 200 * u.arcsec)"
   ]
  },
  {
   "cell_type": "code",
   "execution_count": 275,
   "id": "57fb9f6f",
   "metadata": {},
   "outputs": [],
   "source": [
    "# Creating two variables holding the separation of both catalogs, returns angles\n",
    "sep_hdr3 = offset_skycoord.separation(hdr3_skycoord)\n",
    "sep_h20 = offset_skycoord.separation(h20_skycoord)"
   ]
  },
  {
   "cell_type": "code",
   "execution_count": 276,
   "id": "55c2848d",
   "metadata": {},
   "outputs": [],
   "source": [
    "# Checking if the separation is less than 1.2 arcseconds (arbitrary value)\n",
    "check_hdr3 = (sep_hdr3 < 1.2 * u.arcsec)\n",
    "check_h20 = (sep_h20 < 1.2 * u.arcsec)"
   ]
  },
  {
   "cell_type": "code",
   "execution_count": 278,
   "id": "d387dbcc",
   "metadata": {
    "scrolled": true
   },
   "outputs": [
    {
     "name": "stderr",
     "output_type": "stream",
     "text": [
      "[INFO - 2022-10-21 03:27:54,545] Finding shots of interest\n"
     ]
    },
    {
     "name": "stdout",
     "output_type": "stream",
     "text": [
      "extract\n"
     ]
    },
    {
     "name": "stderr",
     "output_type": "stream",
     "text": [
      "[INFO - 2022-10-21 03:28:00,685] Number of shots of interest: 7\n",
      "[INFO - 2022-10-21 03:28:00,687] Extracting 7 sources\n",
      "[INFO - 2022-10-21 03:28:00,857] Working on shot: 20210608013\n",
      "[INFO - 2022-10-21 03:28:00,857] Working on shot: 20210611013\n",
      "[INFO - 2022-10-21 03:28:00,857] Working on shot: 20210616018\n",
      "[INFO - 2022-10-21 03:28:00,858] Working on shot: 20210612014\n",
      "[INFO - 2022-10-21 03:28:00,858] Working on shot: 20210604005\n",
      "[INFO - 2022-10-21 03:28:00,858] Working on shot: 20210514007\n",
      "[INFO - 2022-10-21 03:28:00,869] Working on shot: 20210708012\n",
      "[INFO - 2022-10-21 03:28:01,913] Extracting 1\n",
      "[INFO - 2022-10-21 03:28:02,461] Extraction of sources completed in 0.03 minutes.\n",
      "[INFO - 2022-10-21 03:28:02,509] Retrieved 1 spectra.\n"
     ]
    }
   ],
   "source": [
    "# If there is a true value in any of the checks, we need to find a new source because it means there was a close match\n",
    "if (True in check_hdr3) or (True in check_h20):\n",
    "    print('true')\n",
    "else:\n",
    "    # we extract!!\n",
    "    print('extract')\n",
    "    extraction = get_spectra(offset_skycoord)"
   ]
  },
  {
   "cell_type": "markdown",
   "id": "af3eb6b2",
   "metadata": {},
   "source": [
    "0 means we change offset or another random coordinate\n",
    "\n",
    "1 great! Makes our job easier, we have noise spectrum\n",
    "\n",
    "2 or more, what do we do? Bounce off ideas. \"Weighted stacking\" might be an option! However might not be ideal for comparing to real data."
   ]
  },
  {
   "cell_type": "code",
   "execution_count": 279,
   "id": "7ad0b397",
   "metadata": {
    "scrolled": true
   },
   "outputs": [
    {
     "data": {
      "text/html": [
       "<div><i>Table length=1</i>\n",
       "<table id=\"table139842506424528\" class=\"table-striped table-bordered table-condensed\">\n",
       "<thead><tr><th>ID</th><th>shotid</th><th>wavelength</th><th>spec</th><th>spec_err</th><th>apcor</th><th>flag</th><th>gal_flag</th><th>amp_flag</th><th>meteor_flag</th></tr></thead>\n",
       "<thead><tr><th></th><th></th><th>Angstrom</th><th>1e-17 erg / (Angstrom cm2 s)</th><th>1e-17 erg / (Angstrom cm2 s)</th><th></th><th></th><th></th><th></th><th></th></tr></thead>\n",
       "<thead><tr><th>int64</th><th>int64</th><th>float64[1036]</th><th>float64[1036]</th><th>float64[1036]</th><th>float64[1036]</th><th>int64</th><th>int64</th><th>int64</th><th>int64</th></tr></thead>\n",
       "<tr><td>1</td><td>20210611013</td><td>3470.0 .. 5540.0</td><td>-1.0780397447165955 .. 0.5174640528847851</td><td>5.454460321738501 .. 1.9303348480370321</td><td>0.8050533501696622 .. 0.8708031443982315</td><td>1</td><td>1</td><td>1</td><td>1</td></tr>\n",
       "</table></div>"
      ],
      "text/plain": [
       "<Table length=1>\n",
       "  ID     shotid      wavelength    ... gal_flag amp_flag meteor_flag\n",
       "                      Angstrom     ...                              \n",
       "int64    int64     float64[1036]   ...  int64    int64      int64   \n",
       "----- ----------- ---------------- ... -------- -------- -----------\n",
       "    1 20210611013 3470.0 .. 5540.0 ...        1        1           1"
      ]
     },
     "execution_count": 279,
     "metadata": {},
     "output_type": "execute_result"
    }
   ],
   "source": [
    "extraction"
   ]
  },
  {
   "cell_type": "markdown",
   "id": "f8f5dbab",
   "metadata": {},
   "source": []
  },
  {
   "cell_type": "code",
   "execution_count": 54,
   "id": "a489c592",
   "metadata": {},
   "outputs": [],
   "source": [
    "# picks a random source for us, the 1 means a single random source.\n",
    "# Might need to find a different way of getting a random source, just because I don't think\n",
    "# there's a way to control which source this gets, so it'll always be a different source!\n",
    "# Or just run this once\n",
    "random_source = hdr3_signal_to_noise_interval.sample(n = 1)"
   ]
  },
  {
   "cell_type": "code",
   "execution_count": 55,
   "id": "94234a85",
   "metadata": {},
   "outputs": [
    {
     "data": {
      "text/html": [
       "<div>\n",
       "<style scoped>\n",
       "    .dataframe tbody tr th:only-of-type {\n",
       "        vertical-align: middle;\n",
       "    }\n",
       "\n",
       "    .dataframe tbody tr th {\n",
       "        vertical-align: top;\n",
       "    }\n",
       "\n",
       "    .dataframe thead th {\n",
       "        text-align: right;\n",
       "    }\n",
       "</style>\n",
       "<table border=\"1\" class=\"dataframe\">\n",
       "  <thead>\n",
       "    <tr style=\"text-align: right;\">\n",
       "      <th></th>\n",
       "      <th>source_id</th>\n",
       "      <th>detectid</th>\n",
       "      <th>selected_det</th>\n",
       "      <th>ra_mean</th>\n",
       "      <th>dec_mean</th>\n",
       "      <th>fwhm</th>\n",
       "      <th>shotid</th>\n",
       "      <th>field</th>\n",
       "      <th>ra</th>\n",
       "      <th>dec</th>\n",
       "      <th>...</th>\n",
       "      <th>sn</th>\n",
       "      <th>sn_err</th>\n",
       "      <th>chi2</th>\n",
       "      <th>chi2_err</th>\n",
       "      <th>linewidth</th>\n",
       "      <th>linewidth_err</th>\n",
       "      <th>plya_classification</th>\n",
       "      <th>z_hetdex</th>\n",
       "      <th>z_hetdex_conf</th>\n",
       "      <th>combined_plae</th>\n",
       "    </tr>\n",
       "  </thead>\n",
       "  <tbody>\n",
       "    <tr>\n",
       "      <th>781047</th>\n",
       "      <td>3010000795359</td>\n",
       "      <td>3007753020</td>\n",
       "      <td>True</td>\n",
       "      <td>222.453506</td>\n",
       "      <td>53.972984</td>\n",
       "      <td>1.730452</td>\n",
       "      <td>20200513016</td>\n",
       "      <td>dex-spring</td>\n",
       "      <td>222.453506</td>\n",
       "      <td>53.972984</td>\n",
       "      <td>...</td>\n",
       "      <td>9.15</td>\n",
       "      <td>0.91</td>\n",
       "      <td>1.87</td>\n",
       "      <td>0.22</td>\n",
       "      <td>8.62</td>\n",
       "      <td>1.83</td>\n",
       "      <td>0.519791</td>\n",
       "      <td>-3.066024e-07</td>\n",
       "      <td>0.8</td>\n",
       "      <td>6.703052</td>\n",
       "    </tr>\n",
       "  </tbody>\n",
       "</table>\n",
       "<p>1 rows × 24 columns</p>\n",
       "</div>"
      ],
      "text/plain": [
       "            source_id    detectid  selected_det     ra_mean   dec_mean  \\\n",
       "781047  3010000795359  3007753020          True  222.453506  53.972984   \n",
       "\n",
       "            fwhm       shotid       field          ra        dec  ...    sn  \\\n",
       "781047  1.730452  20200513016  dex-spring  222.453506  53.972984  ...  9.15   \n",
       "\n",
       "        sn_err  chi2  chi2_err  linewidth  linewidth_err  plya_classification  \\\n",
       "781047    0.91  1.87      0.22       8.62           1.83             0.519791   \n",
       "\n",
       "            z_hetdex  z_hetdex_conf  combined_plae  \n",
       "781047 -3.066024e-07            0.8       6.703052  \n",
       "\n",
       "[1 rows x 24 columns]"
      ]
     },
     "execution_count": 55,
     "metadata": {},
     "output_type": "execute_result"
    }
   ],
   "source": [
    "random_source"
   ]
  },
  {
   "cell_type": "code",
   "execution_count": 56,
   "id": "99e57c73",
   "metadata": {},
   "outputs": [],
   "source": [
    "# We are using an offset to try to pick an area where there is no source.\n",
    "# This is a value we are experimenting with, going to go with 20 arcseconds for now\n",
    "offset = 20 * u.arcsec\n",
    "# need to convert to degrees so I can add to the ra and dec in catalog,\n",
    "# the ra and dec in catalog are in degrees\n",
    "offset = offset.to('deg')"
   ]
  },
  {
   "cell_type": "code",
   "execution_count": 57,
   "id": "38f35710",
   "metadata": {},
   "outputs": [],
   "source": [
    "# Applying an offset, then we check if there is a source at the offset!\n",
    "# I'm using random_source.values[0][8] because it's the entire number, instead of a truncated/rounded version\n",
    "delta_ra = random_source.values[0][8] + offset.value\n",
    "delta_dec = random_source.values[0][9] + offset.value"
   ]
  },
  {
   "cell_type": "markdown",
   "id": "fc8f0ae9",
   "metadata": {},
   "source": [
    "### Checking if the delta ra and delta dec are in either of the catalogs"
   ]
  },
  {
   "cell_type": "code",
   "execution_count": 73,
   "id": "05629b8f",
   "metadata": {},
   "outputs": [],
   "source": [
    "# This truth_check df will check if the delta_ra and delta_dec are in the catalog. \n",
    "# If the size of this df is 0, then there is no source in this catalog with those specific ra and dec.\n",
    "truth_check_hdr3 = signal_to_noise_interval[(hdr3_signal_to_noise_interval['ra'] == delta_ra)  \n",
    "                                            & (hdr3_signal_to_noise_interval['dec'] == delta_dec)]\n",
    "\n",
    "# Same logic as above\n",
    "truth_check_h20 = valid_source_check[(h20_valid_source_check['RA_MODELING'] == delta_ra )\n",
    "                                   & (h20_valid_source_check['DEC_MODELING'] == delta_dec)] "
   ]
  },
  {
   "cell_type": "markdown",
   "id": "4bdd09c2",
   "metadata": {},
   "source": [
    "### If the size of both DF's is 0, now we extract!\n",
    "\n",
    "Got a bit confused here with the slack messages. Also, wanted to make sure my previous code was right before continuing.\n",
    "\n",
    "\"You should have two RA and DEC skycoords for every coordinate in both catalogs and compare the new coordinate to these two\"\n"
   ]
  },
  {
   "cell_type": "code",
   "execution_count": 61,
   "id": "9fcb23a5",
   "metadata": {},
   "outputs": [],
   "source": [
    "sky_coords = SkyCoord(delta_ra, delta_dec, frame = 'icrs', unit = 'deg')"
   ]
  },
  {
   "cell_type": "code",
   "execution_count": 62,
   "id": "124ddcd7",
   "metadata": {},
   "outputs": [
    {
     "data": {
      "text/plain": [
       "<SkyCoord (ICRS): (ra, dec) in deg\n",
       "    (222.45906203, 53.97853987)>"
      ]
     },
     "execution_count": 62,
     "metadata": {},
     "output_type": "execute_result"
    }
   ],
   "source": [
    "sky_coords"
   ]
  },
  {
   "cell_type": "markdown",
   "id": "a3df8b20",
   "metadata": {},
   "source": [
    "### Ran multiple times, sometimes get 0 spectra and sometimes 1 or 2, do we want 0?"
   ]
  },
  {
   "cell_type": "code",
   "execution_count": 63,
   "id": "43c17855",
   "metadata": {
    "scrolled": true
   },
   "outputs": [
    {
     "name": "stderr",
     "output_type": "stream",
     "text": [
      "[INFO - 2022-10-14 03:19:25,614] Finding shots of interest\n",
      "[INFO - 2022-10-14 03:19:32,088] Number of shots of interest: 1\n",
      "[INFO - 2022-10-14 03:19:32,090] Extracting 1 sources\n",
      "[INFO - 2022-10-14 03:19:32,292] Working on shot: 20200513016\n",
      "[INFO - 2022-10-14 03:19:36,488] Extraction of sources completed in 0.07 minutes.\n",
      "[INFO - 2022-10-14 03:19:36,590] Retrieved 0 spectra.\n"
     ]
    },
    {
     "data": {
      "text/html": [
       "<div><i>Table length=0</i>\n",
       "<table id=\"table140405717663072\" class=\"table-striped table-bordered table-condensed\">\n",
       "<thead><tr><th>ID</th><th>shotid</th><th>wavelength</th><th>spec</th><th>spec_err</th><th>apcor</th><th>flag</th><th>gal_flag</th><th>amp_flag</th><th>meteor_flag</th></tr></thead>\n",
       "<thead><tr><th></th><th></th><th>Angstrom</th><th>1e-17 erg / (Angstrom cm2 s)</th><th>1e-17 erg / (Angstrom cm2 s)</th><th></th><th></th><th></th><th></th><th></th></tr></thead>\n",
       "<thead><tr><th>float64</th><th>float64</th><th>float64</th><th>float64</th><th>float64</th><th>float64</th><th>int64</th><th>int64</th><th>int64</th><th>int64</th></tr></thead>\n",
       "</table></div>"
      ],
      "text/plain": [
       "<Table length=0>\n",
       "   ID    shotid wavelength ... gal_flag amp_flag meteor_flag\n",
       "                 Angstrom  ...                              \n",
       "float64 float64  float64   ...  int64    int64      int64   \n",
       "------- ------- ---------- ... -------- -------- -----------"
      ]
     },
     "execution_count": 63,
     "metadata": {},
     "output_type": "execute_result"
    }
   ],
   "source": [
    "get_spectra(sky_coords)"
   ]
  },
  {
   "cell_type": "markdown",
   "id": "c07daa51",
   "metadata": {},
   "source": [
    "Once spectrum, check length of table. If 0 no fiber coverage, then need to change things around to get a spectrum. No spectrum means wasn't able to get fiber."
   ]
  },
  {
   "cell_type": "markdown",
   "id": "30a3f4f4",
   "metadata": {},
   "source": [
    "## NOTES"
   ]
  },
  {
   "cell_type": "markdown",
   "id": "33c20ad6",
   "metadata": {},
   "source": [
    "We want no source. This catalog has HETDEX detections one. \n",
    "\n",
    "    Want to make sure:\n",
    "        1.No hetdection detec\n",
    "        \n",
    "        2. No imaging counterpart. Do some cross-matching. Gives us a 0 and THEN we extract. Want to extract in basically empty space. Start with 100. \n",
    "        \n",
    "            Coordinates still. Trying to see if no match with the .fits file."
   ]
  },
  {
   "cell_type": "markdown",
   "id": "3330499d",
   "metadata": {},
   "source": [
    "Start with detection. One approach was fits file with coordinates. \n",
    "\n",
    "Or \n",
    "\n",
    "Use this but expand upon it. Find RA and DEC of each shot. And randomly extract.\n",
    "\n",
    "    delta ra and delta dec. Double check if is there a source there. \n",
    "    \n",
    "For noise sample, no need to run through valentina's code. Only focus on High-z after filtering through Valentina's code."
   ]
  },
  {
   "cell_type": "markdown",
   "id": "a3a0dae8",
   "metadata": {},
   "source": [
    "Once we have noise sample.\n",
    "\n",
    "Run through valentina's code. Hopefully it detects them all as high-z. Cause neither low-z or star.\n",
    "\n",
    "Two skycoords. Check coordinates to see if HETDEX detection is there. Compare minimum separation. If the difference is smaller than 3 arcseconds. Then there is a source there, so do not extract there."
   ]
  }
 ],
 "metadata": {
  "kernelspec": {
   "display_name": "Python 3 (ipykernel)",
   "language": "python",
   "name": "python3"
  },
  "language_info": {
   "codemirror_mode": {
    "name": "ipython",
    "version": 3
   },
   "file_extension": ".py",
   "mimetype": "text/x-python",
   "name": "python",
   "nbconvert_exporter": "python",
   "pygments_lexer": "ipython3",
   "version": "3.10.5"
  }
 },
 "nbformat": 4,
 "nbformat_minor": 5
}
