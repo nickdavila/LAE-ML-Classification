{
 "cells": [
  {
   "cell_type": "code",
   "execution_count": 1,
   "id": "48926f5e",
   "metadata": {},
   "outputs": [],
   "source": [
    "# means that my matplotlib graphs will be included in the notebook, next to the code\n",
    "%matplotlib inline\n",
    "\n",
    "import os\n",
    "\n",
    "import math\n",
    "import astropy\n",
    "import random\n",
    "import numpy as np\n",
    "import tables as tb\n",
    "import pandas as pd\n",
    "import matplotlib.pyplot as plt\n",
    "\n",
    "from astropy.table import Table, Column, join\n",
    "from astropy.coordinates import SkyCoord\n",
    "from astropy.io import fits\n",
    "import astropy.units as u\n",
    "\n",
    "from hetdex_tools.get_spec import get_spectra\n",
    "from hetdex_api.config import HDRconfig\n",
    "from hetdex_api.detections import Detections\n",
    "from hetdex_api.elixer_widget_cls import ElixerWidget"
   ]
  },
  {
   "cell_type": "code",
   "execution_count": 2,
   "id": "4b25f138",
   "metadata": {},
   "outputs": [],
   "source": [
    "# not sure why the code below is here, it was in the Detections database and API notebook\n",
    "# https://github.com/HETDEX/hetdex_api/blob/master/notebooks/api-notebooks/03-Detections_Database_and_API.ipynb"
   ]
  },
  {
   "cell_type": "code",
   "execution_count": 3,
   "id": "ce894e85",
   "metadata": {},
   "outputs": [
    {
     "data": {
      "application/javascript": [
       "IPython.OutputArea.prototype._should_scroll = function(lines) {\n",
       "    return false;\n",
       "}\n"
      ],
      "text/plain": [
       "<IPython.core.display.Javascript object>"
      ]
     },
     "metadata": {},
     "output_type": "display_data"
    }
   ],
   "source": [
    "%%javascript\n",
    "IPython.OutputArea.prototype._should_scroll = function(lines) {\n",
    "    return false;\n",
    "}"
   ]
  },
  {
   "cell_type": "markdown",
   "id": "aa88dea4",
   "metadata": {},
   "source": [
    "### Opens the catalogs and turns them into dataframes\n",
    "\n",
    "I like to open both catalogs separately since they are both big (HDR3 especially!)"
   ]
  },
  {
   "cell_type": "code",
   "execution_count": 4,
   "id": "6c27a5c6",
   "metadata": {},
   "outputs": [],
   "source": [
    "# Opening HDR3 detections catalog  ** double check this <-- statement ** and converting it into a pandas DF\n",
    "# HDR3 is detections HETDEX found\n",
    "HDR_source_cat = fits.open('/home/jovyan/Hobby-Eberly-Telesco/hdr3/catalogs/source_catalog_3.0.1.fits', memmap = True)\n",
    "HDR3_data = HDR_source_cat[1].data\n",
    "HDR3_DF = pd.DataFrame(HDR3_data, columns=HDR3_data.columns.names)"
   ]
  },
  {
   "cell_type": "code",
   "execution_count": 6,
   "id": "77c54340",
   "metadata": {},
   "outputs": [],
   "source": [
    "# Opening H20 NEP catalog and converting it into a pandas DF\n",
    "# H20 is stricly photometry sources\n",
    "H20_NEP_catalog = fits.open('H20_NEP_VIRUS_OVERLAP_CAT_10_2021.fits', memmap = True)\n",
    "H20_NEP_data = H20_NEP_catalog[1].data\n",
    "H20_NEP_DF = pd.DataFrame(H20_NEP_data, columns=H20_NEP_data.columns.names)"
   ]
  },
  {
   "cell_type": "code",
   "execution_count": 7,
   "id": "87243526",
   "metadata": {},
   "outputs": [],
   "source": [
    "# Columns we will then take from the entire data set (it was huge so we needed to determine what we wanted to look at specifically).\n",
    "# As the name suggests, these are the ones that are useful to us!\n",
    "useful_hdr3_cols = ['source_id', 'detectid',  'selected_det', 'ra_mean', 'dec_mean', 'fwhm', 'shotid', 'field',  'ra', 'dec', 'wave', 'wave_err', 'flux', 'flux_err', 'sn', 'sn_err', 'chi2', 'chi2_err',\n",
    "'linewidth', 'linewidth_err', 'plya_classification', 'z_hetdex', 'z_hetdex_conf', 'combined_plae']\n",
    "\n",
    "# For now, the only useful columns for us in H20 NEP is RA and DEC.\n",
    "useful_h20nep_cols = ['RA_MODELING', 'DEC_MODELING', 'VALID_SOURCE_MODELING']\n",
    "\n",
    "# From the original DF, taking the useful columns\n",
    "reduced_hdr3_df = HDR3_DF.loc[:, useful_hdr3_cols]\n",
    "reduced_h20nep_df = H20_NEP_DF.loc[:, useful_h20nep_cols]"
   ]
  },
  {
   "cell_type": "markdown",
   "id": "888ba3f0",
   "metadata": {},
   "source": [
    "### Cleaning up the data"
   ]
  },
  {
   "cell_type": "code",
   "execution_count": 8,
   "id": "44649c45",
   "metadata": {},
   "outputs": [],
   "source": [
    "# Removing data from before 2017 because it isn't good (not useful to us)\n",
    "# No need to do this for H20 NEP\n",
    "removed_bad_shots_hdr3_df = reduced_hdr3_df[reduced_hdr3_df.shotid.values >= 20180000000]"
   ]
  },
  {
   "cell_type": "markdown",
   "id": "4fc89194",
   "metadata": {},
   "source": [
    "### Filtering data. For HDR3 we use a signal to noise greater than 6.5 and for H20 NEP we check if the VALID_SOURCE_MODELING is true"
   ]
  },
  {
   "cell_type": "code",
   "execution_count": 9,
   "id": "f9e5f77c",
   "metadata": {},
   "outputs": [],
   "source": [
    "# This will give high confidence detections. Something we would want to do also. What is sn threshold that Valentina's code is having trouble with.\n",
    "# Reason why, we want high-confidence Lya. If we are very confident sn and another filter, then that's what we consider high-conf lya.\n",
    "# Once noise and high-confidence sample. We can start exanping on valentina's code and do our own stuff\n",
    "hdr3_signal_to_noise_interval = removed_bad_shots_hdr3_df[removed_bad_shots_hdr3_df['sn'] > 6.5]\n",
    "\n",
    "# For now, no need to specify a field. But once trained, we want to run this for the NEP field!\n",
    "# The VALID_SOURCE_MODELING column which just tells us that the model was able to converge and get fluxes from the source\n",
    "# False valid source modeling means that the model used to measure the fluxes failed somehow so we cannot use that galaxy reliably\n",
    "# We want the true ones since we know the model was able to find a galaxy and we can use that for \n",
    "# our imaging counterpart identification (ie: to use these galaxy to check if there is a galaxy at our new extraction coordinate)\n",
    "h20_valid_source_check = reduced_h20nep_df[reduced_h20nep_df['VALID_SOURCE_MODELING'] == True]"
   ]
  },
  {
   "cell_type": "markdown",
   "id": "2483d58b",
   "metadata": {},
   "source": [
    "## Making two skycoord objects for both catalogs\n",
    "We do this (instead of directly looking at the dataframes cause when we exract we get fibers from nearby as well. We don't want that."
   ]
  },
  {
   "cell_type": "code",
   "execution_count": 12,
   "id": "5bccbd31",
   "metadata": {},
   "outputs": [],
   "source": [
    "hdr3_skycoords = SkyCoord(hdr3_signal_to_noise_interval['ra'] * u.deg, hdr3_signal_to_noise_interval['dec'] * u.deg)\n",
    "h20_skycoords = SkyCoord(h20_valid_source_check['RA_MODELING'] * u.deg, h20_valid_source_check['DEC_MODELING'] * u.deg)"
   ]
  },
  {
   "cell_type": "code",
   "execution_count": 18,
   "id": "29941aee",
   "metadata": {},
   "outputs": [],
   "source": [
    "# Getting a random coordinate from the h20 catalog. I didn't get from the hdr3 catalog \n",
    "# because the hdr3 one is so much bigger, so it could happen where we dont have imaging overlap\n",
    "random_coord = h20_skycoords[random.randint(0, h20_skycoords.size)]\n",
    "# Creating an offseted skycoord\n",
    "offset_skycoord = random_coord.directional_offset_by(200 * u.arcsec, 200 * u.arcsec)"
   ]
  },
  {
   "cell_type": "code",
   "execution_count": 19,
   "id": "f43efd6b",
   "metadata": {},
   "outputs": [],
   "source": [
    "# Creating two variables holding the separation of both catalogs, returns angles\n",
    "sep_hdr3 = offset_skycoord.separation(hdr3_skycoord)\n",
    "sep_h20 = offset_skycoord.separation(h20_skycoord)"
   ]
  },
  {
   "cell_type": "code",
   "execution_count": 20,
   "id": "55a03b63",
   "metadata": {},
   "outputs": [],
   "source": [
    "# Checking if the separation is less than 1.2 arcseconds (arbitrary value)\n",
    "check_hdr3 = (sep_hdr3 < 1.2 * u.arcsec)\n",
    "check_h20 = (sep_h20 < 1.2 * u.arcsec)"
   ]
  },
  {
   "cell_type": "code",
   "execution_count": 21,
   "id": "5501f696",
   "metadata": {
    "scrolled": true
   },
   "outputs": [
    {
     "name": "stderr",
     "output_type": "stream",
     "text": [
      "[INFO - 2022-10-21 05:03:47,684] Finding shots of interest\n"
     ]
    },
    {
     "name": "stdout",
     "output_type": "stream",
     "text": [
      "extract\n"
     ]
    },
    {
     "name": "stderr",
     "output_type": "stream",
     "text": [
      "[INFO - 2022-10-21 05:03:53,669] Number of shots of interest: 4\n",
      "[INFO - 2022-10-21 05:03:53,671] Extracting 4 sources\n",
      "[INFO - 2022-10-21 05:03:53,931] Working on shot: 20210611013\n",
      "[INFO - 2022-10-21 05:03:53,931] Working on shot: 20210612014\n",
      "[INFO - 2022-10-21 05:03:53,942] Working on shot: 20210616018\n",
      "[INFO - 2022-10-21 05:03:53,956] Working on shot: 20210708012\n",
      "[INFO - 2022-10-21 05:03:57,668] Extracting 1\n",
      "[INFO - 2022-10-21 05:03:59,067] Extraction of sources completed in 0.09 minutes.\n",
      "[INFO - 2022-10-21 05:03:59,146] Retrieved 1 spectra.\n"
     ]
    }
   ],
   "source": [
    "# If there is a true value in any of the checks, we need to find a new source because it means there was a close match\n",
    "if (True in check_hdr3) or (True in check_h20):\n",
    "    print('need to change source')\n",
    "else:\n",
    "    # we extract!!\n",
    "    print('extract')\n",
    "    extraction = get_spectra(offset_skycoord)"
   ]
  },
  {
   "cell_type": "markdown",
   "id": "e0fa5884",
   "metadata": {},
   "source": [
    "0 means we change offset or another random coordinate\n",
    "\n",
    "1 great! Makes our job easier, we have noise spectrum\n",
    "\n",
    "2 or more, what do we do? Bounce off ideas. \"Weighted stacking\" might be an option! However might not be ideal for comparing to real data."
   ]
  },
  {
   "cell_type": "code",
   "execution_count": 22,
   "id": "513692e5",
   "metadata": {
    "scrolled": true
   },
   "outputs": [
    {
     "data": {
      "text/html": [
       "<div><i>Table length=1</i>\n",
       "<table id=\"table139777972252448\" class=\"table-striped table-bordered table-condensed\">\n",
       "<thead><tr><th>ID</th><th>shotid</th><th>wavelength</th><th>spec</th><th>spec_err</th><th>apcor</th><th>flag</th><th>gal_flag</th><th>amp_flag</th><th>meteor_flag</th></tr></thead>\n",
       "<thead><tr><th></th><th></th><th>Angstrom</th><th>1e-17 erg / (Angstrom cm2 s)</th><th>1e-17 erg / (Angstrom cm2 s)</th><th></th><th></th><th></th><th></th><th></th></tr></thead>\n",
       "<thead><tr><th>int64</th><th>int64</th><th>float64[1036]</th><th>float64[1036]</th><th>float64[1036]</th><th>float64[1036]</th><th>int64</th><th>int64</th><th>int64</th><th>int64</th></tr></thead>\n",
       "<tr><td>1</td><td>20210616018</td><td>3470.0 .. 5540.0</td><td>0.3770250262191068 .. -0.20082867624151654</td><td>6.411295200559231 .. 1.7998494377122174</td><td>0.9283284196964372 .. 0.9335820640672942</td><td>1</td><td>1</td><td>1</td><td>1</td></tr>\n",
       "</table></div>"
      ],
      "text/plain": [
       "<Table length=1>\n",
       "  ID     shotid      wavelength    ... gal_flag amp_flag meteor_flag\n",
       "                      Angstrom     ...                              \n",
       "int64    int64     float64[1036]   ...  int64    int64      int64   \n",
       "----- ----------- ---------------- ... -------- -------- -----------\n",
       "    1 20210616018 3470.0 .. 5540.0 ...        1        1           1"
      ]
     },
     "execution_count": 22,
     "metadata": {},
     "output_type": "execute_result"
    }
   ],
   "source": [
    "extraction"
   ]
  },
  {
   "cell_type": "code",
   "execution_count": 28,
   "id": "b20d76ae",
   "metadata": {},
   "outputs": [
    {
     "data": {
      "text/plain": [
       "(1, 1036)"
      ]
     },
     "execution_count": 28,
     "metadata": {},
     "output_type": "execute_result"
    }
   ],
   "source": [
    "extraction['wavelength'].shape"
   ]
  },
  {
   "cell_type": "code",
   "execution_count": 31,
   "id": "28ba16ac",
   "metadata": {},
   "outputs": [],
   "source": [
    "%matplotlib inline"
   ]
  },
  {
   "cell_type": "code",
   "execution_count": 32,
   "id": "e852e096",
   "metadata": {},
   "outputs": [
    {
     "data": {
      "text/plain": [
       "[<matplotlib.lines.Line2D at 0x7f2051b69e70>]"
      ]
     },
     "execution_count": 32,
     "metadata": {},
     "output_type": "execute_result"
    },
    {
     "data": {
      "image/png": "[encoded data removed]",
      "text/plain": [
       "<Figure size 432x288 with 1 Axes>"
      ]
     },
     "metadata": {
      "needs_background": "light"
     },
     "output_type": "display_data"
    }
   ],
   "source": [
    "plt.plot(extraction['wavelength'][0], extraction['spec'][0])"
   ]
  },
  {
   "cell_type": "markdown",
   "id": "217e26a7",
   "metadata": {},
   "source": [
    "## Question: So now do I just put this in a for loop? What do I do now that I have one noise spectrum?\n",
    "\n",
    "(Function) While loop over 100 random coordinates. Basically repeat this 100 times and then extract. \n",
    "\n",
    "Think about how to save noise spectra. A lot of options (numpy, pandas (empty DF, append spec as a column, and transpose so its all rows))."
   ]
  },
  {
   "cell_type": "markdown",
   "id": "bc04415f",
   "metadata": {},
   "source": [
    "Once spectrum, check length of table. If 0 no fiber coverage, then need to change things around to get a spectrum. No spectrum means wasn't able to get fiber."
   ]
  },
  {
   "cell_type": "markdown",
   "id": "30a3f4f4",
   "metadata": {},
   "source": [
    "## NOTES"
   ]
  },
  {
   "cell_type": "markdown",
   "id": "33c20ad6",
   "metadata": {},
   "source": [
    "We want no source. This catalog has HETDEX detections one. \n",
    "\n",
    "    Want to make sure:\n",
    "        1.No hetdection detec\n",
    "        \n",
    "        2. No imaging counterpart. Do some cross-matching. Gives us a 0 and THEN we extract. Want to extract in basically empty space. Start with 100. \n",
    "        \n",
    "            Coordinates still. Trying to see if no match with the .fits file."
   ]
  },
  {
   "cell_type": "markdown",
   "id": "3330499d",
   "metadata": {},
   "source": [
    "Start with detection. One approach was fits file with coordinates. \n",
    "\n",
    "Or \n",
    "\n",
    "Use this but expand upon it. Find RA and DEC of each shot. And randomly extract.\n",
    "\n",
    "    delta ra and delta dec. Double check if is there a source there. \n",
    "    \n",
    "For noise sample, no need to run through valentina's code. Only focus on High-z after filtering through Valentina's code."
   ]
  },
  {
   "cell_type": "markdown",
   "id": "a3a0dae8",
   "metadata": {},
   "source": [
    "Once we have noise sample.\n",
    "\n",
    "Run through valentina's code. Hopefully it detects them all as high-z. Cause neither low-z or star.\n",
    "\n",
    "Two skycoords. Check coordinates to see if HETDEX detection is there. Compare minimum separation. If the difference is smaller than 3 arcseconds. Then there is a source there, so do not extract there."
   ]
  }
 ],
 "metadata": {
  "kernelspec": {
   "display_name": "Python 3 (ipykernel)",
   "language": "python",
   "name": "python3"
  },
  "language_info": {
   "codemirror_mode": {
    "name": "ipython",
    "version": 3
   },
   "file_extension": ".py",
   "mimetype": "text/x-python",
   "name": "python",
   "nbconvert_exporter": "python",
   "pygments_lexer": "ipython3",
   "version": "3.10.5"
  }
 },
 "nbformat": 4,
 "nbformat_minor": 5
}
