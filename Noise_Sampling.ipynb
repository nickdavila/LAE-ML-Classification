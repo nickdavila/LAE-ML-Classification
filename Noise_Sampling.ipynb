{
 "cells": [
  {
   "cell_type": "code",
   "execution_count": 1,
   "id": "48926f5e",
   "metadata": {},
   "outputs": [],
   "source": [
    "# means that my matplotlib graphs will be included in the notebook, next to the code\n",
    "%matplotlib inline\n",
    "\n",
    "import os\n",
    "\n",
    "import math\n",
    "import astropy\n",
    "import random\n",
    "import numpy as np\n",
    "import tables as tb\n",
    "import pandas as pd\n",
    "import matplotlib.pyplot as plt\n",
    "\n",
    "from astropy.table import Table, Column, join\n",
    "from astropy.coordinates import SkyCoord\n",
    "from astropy.io import fits\n",
    "import astropy.units as u\n",
    "\n",
    "from hetdex_tools.get_spec import get_spectra\n",
    "from hetdex_api.config import HDRconfig\n",
    "from hetdex_api.detections import Detections\n",
    "from hetdex_api.elixer_widget_cls import ElixerWidget"
   ]
  },
  {
   "cell_type": "code",
   "execution_count": 2,
   "id": "4b25f138",
   "metadata": {},
   "outputs": [],
   "source": [
    "# not sure why the code below is here, it was in the Detections database and API notebook\n",
    "# https://github.com/HETDEX/hetdex_api/blob/master/notebooks/api-notebooks/03-Detections_Database_and_API.ipynb"
   ]
  },
  {
   "cell_type": "code",
   "execution_count": 3,
   "id": "ce894e85",
   "metadata": {},
   "outputs": [
    {
     "data": {
      "application/javascript": [
       "IPython.OutputArea.prototype._should_scroll = function(lines) {\n",
       "    return false;\n",
       "}\n"
      ],
      "text/plain": [
       "<IPython.core.display.Javascript object>"
      ]
     },
     "metadata": {},
     "output_type": "display_data"
    }
   ],
   "source": [
    "%%javascript\n",
    "IPython.OutputArea.prototype._should_scroll = function(lines) {\n",
    "    return false;\n",
    "}"
   ]
  },
  {
   "cell_type": "markdown",
   "id": "aa88dea4",
   "metadata": {},
   "source": [
    "### Opens the catalogs and turns them into dataframes\n",
    "\n",
    "I like to open both catalogs separately since they are both big (HDR3 especially!)"
   ]
  },
  {
   "cell_type": "code",
   "execution_count": 4,
   "id": "6c27a5c6",
   "metadata": {},
   "outputs": [],
   "source": [
    "# Opening HDR3 detections catalog and converting it into a pandas DF\n",
    "# HDR3 is detections HETDEX found\n",
    "HDR_source_cat = fits.open('/home/jovyan/Hobby-Eberly-Telesco/hdr3/catalogs/source_catalog_3.0.1.fits', memmap = True)\n",
    "HDR3_data = HDR_source_cat[1].data\n",
    "HDR3_DF = pd.DataFrame(HDR3_data, columns=HDR3_data.columns.names)"
   ]
  },
  {
   "cell_type": "code",
   "execution_count": 5,
   "id": "77c54340",
   "metadata": {},
   "outputs": [],
   "source": [
    "# Opening H20 NEP catalog and converting it into a pandas DF\n",
    "# H20 is stricly photometry sources\n",
    "H20_NEP_catalog = fits.open('H20_NEP_VIRUS_OVERLAP_CAT_10_2021.fits', memmap = True)\n",
    "H20_NEP_data = H20_NEP_catalog[1].data\n",
    "H20_NEP_DF = pd.DataFrame(H20_NEP_data, columns=H20_NEP_data.columns.names)"
   ]
  },
  {
   "cell_type": "code",
   "execution_count": 6,
   "id": "87243526",
   "metadata": {},
   "outputs": [],
   "source": [
    "# Columns we will then take from the entire data set (it was huge so we needed to determine what we wanted to look at specifically).\n",
    "# As the name suggests, these are the ones that are useful to us!\n",
    "useful_hdr3_cols = ['source_id', 'detectid',  'selected_det', 'ra_mean', 'dec_mean', 'fwhm', 'shotid', 'field',  'ra', 'dec', 'wave', 'wave_err', 'flux', 'flux_err', 'sn', 'sn_err', 'chi2', 'chi2_err',\n",
    "'linewidth', 'linewidth_err', 'plya_classification', 'z_hetdex', 'z_hetdex_conf', 'combined_plae']\n",
    "\n",
    "# For now, the only useful columns for us in H20 NEP is RA and DEC.\n",
    "useful_h20nep_cols = ['RA_MODELING', 'DEC_MODELING', 'VALID_SOURCE_MODELING']\n",
    "\n",
    "# From the original DFs, taking the useful columns\n",
    "reduced_hdr3_df = HDR3_DF.loc[:, useful_hdr3_cols]\n",
    "reduced_h20nep_df = H20_NEP_DF.loc[:, useful_h20nep_cols]"
   ]
  },
  {
   "cell_type": "markdown",
   "id": "888ba3f0",
   "metadata": {},
   "source": [
    "### Cleaning up the data"
   ]
  },
  {
   "cell_type": "code",
   "execution_count": 7,
   "id": "44649c45",
   "metadata": {},
   "outputs": [],
   "source": [
    "# Removing data from before 2017 because it isn't good (not useful to us)\n",
    "# No need to do this for H20 NEP\n",
    "removed_bad_shots_hdr3_df = reduced_hdr3_df[reduced_hdr3_df.shotid.values >= 20180000000]"
   ]
  },
  {
   "cell_type": "markdown",
   "id": "4fc89194",
   "metadata": {},
   "source": [
    "### Filtering data. For HDR3 we use a signal to noise greater than 6.5 and for H20 NEP we check if the VALID_SOURCE_MODELING is true"
   ]
  },
  {
   "cell_type": "code",
   "execution_count": 8,
   "id": "f9e5f77c",
   "metadata": {},
   "outputs": [],
   "source": [
    "# This will give high confidence detections. Something we would want to do also. What is sn threshold that Valentina's code is having trouble with.\n",
    "# Reason why, we want high-confidence Lya. If we are very confident sn and another filter, then that's what we consider high-conf lya.\n",
    "# Once noise and high-confidence sample. We can start exanping on valentina's code and do our own stuff\n",
    "hdr3_signal_to_noise_interval = removed_bad_shots_hdr3_df[removed_bad_shots_hdr3_df['sn'] > 6.5]\n",
    "\n",
    "# For now, no need to specify a field. But once trained, we want to run this for the NEP field!\n",
    "# The VALID_SOURCE_MODELING column which just tells us that the model was able to converge and get fluxes from the source\n",
    "# False valid source modeling means that the model used to measure the fluxes failed somehow so we cannot use that galaxy reliably\n",
    "# We want the true ones since we know the model was able to find a galaxy and we can use that for \n",
    "# our imaging counterpart identification (ie: to use these galaxy to check if there is a galaxy at our new extraction coordinate)\n",
    "h20_valid_source_check = reduced_h20nep_df[reduced_h20nep_df['VALID_SOURCE_MODELING'] == True]"
   ]
  },
  {
   "cell_type": "markdown",
   "id": "2483d58b",
   "metadata": {},
   "source": [
    "## Making two skycoord objects for both catalogs\n",
    "We do this instead of directly looking at the dataframes cause when we do and exract we get fibers from nearby as well. We don't want that."
   ]
  },
  {
   "cell_type": "code",
   "execution_count": 9,
   "id": "5bccbd31",
   "metadata": {},
   "outputs": [],
   "source": [
    "hdr3_skycoords = SkyCoord(hdr3_signal_to_noise_interval['ra'] * u.deg, hdr3_signal_to_noise_interval['dec'] * u.deg)\n",
    "h20_skycoords = SkyCoord(h20_valid_source_check['RA_MODELING'] * u.deg, h20_valid_source_check['DEC_MODELING'] * u.deg)"
   ]
  },
  {
   "cell_type": "markdown",
   "id": "c727e0db",
   "metadata": {},
   "source": [
    "## Here I'll probably create a 'Noise_Sampling' function  "
   ]
  },
  {
   "cell_type": "markdown",
   "id": "233f06b3",
   "metadata": {},
   "source": [
    "# QUESTION: Ask for best way to store 100 noise sources, for now just do numpy array"
   ]
  },
  {
   "cell_type": "code",
   "execution_count": 350,
   "id": "29941aee",
   "metadata": {},
   "outputs": [],
   "source": [
    "# Getting a random coordinate from the h20 catalog. I didn't get from the hdr3 catalog \n",
    "# because the hdr3 one is so much bigger, so it could happen where we dont have imaging overlap\n",
    "random_coord = h20_skycoords[random.randint(0, h20_skycoords.size)]\n",
    "# Creating an offseted skycoord (from random one we picked) to hopefully be a noise source\n",
    "offset_skycoord = random_coord.directional_offset_by(200 * u.arcsec, 200 * u.arcsec)"
   ]
  },
  {
   "cell_type": "code",
   "execution_count": 351,
   "id": "f43efd6b",
   "metadata": {},
   "outputs": [],
   "source": [
    "# Creating two variables holding the separation of both catalogs, returns angles\n",
    "sep_hdr3 = offset_skycoord.separation(hdr3_skycoords)\n",
    "sep_h20 = offset_skycoord.separation(h20_skycoords)"
   ]
  },
  {
   "cell_type": "code",
   "execution_count": 352,
   "id": "55a03b63",
   "metadata": {},
   "outputs": [],
   "source": [
    "# Checking if the separation is less than 1.2 arcseconds (arbitrary value)\n",
    "check_hdr3 = (sep_hdr3 < 1.2 * u.arcsec)\n",
    "check_h20 = (sep_h20 < 1.2 * u.arcsec)"
   ]
  },
  {
   "cell_type": "code",
   "execution_count": 362,
   "id": "3353459c",
   "metadata": {},
   "outputs": [],
   "source": [
    "sepboth = (offset_skycoord.separation(hdr3_skycoords), offset_skycoord.separation(h20_skycoords))"
   ]
  },
  {
   "cell_type": "code",
   "execution_count": 363,
   "id": "efe9679a",
   "metadata": {},
   "outputs": [],
   "source": [
    "checksep = sepboth[0] or sepboth[1] < 1.2 * u.arcsec"
   ]
  },
  {
   "cell_type": "code",
   "execution_count": 364,
   "id": "ace649bf",
   "metadata": {},
   "outputs": [
    {
     "name": "stdout",
     "output_type": "stream",
     "text": [
      "extract\n"
     ]
    }
   ],
   "source": [
    "if True in checksep:\n",
    "    print('change')\n",
    "else:\n",
    "    print(\"extract\")"
   ]
  },
  {
   "cell_type": "code",
   "execution_count": 356,
   "id": "5501f696",
   "metadata": {
    "scrolled": true
   },
   "outputs": [
    {
     "name": "stdout",
     "output_type": "stream",
     "text": [
      "need to change source\n"
     ]
    }
   ],
   "source": [
    "# If there is a true value in any of the checks, we need to find a new source because it means there was a close match\n",
    "if (True in check_hdr3) or (True in check_h20):\n",
    "    print('need to change source')\n",
    "else:\n",
    "    # we extract!!\n",
    "    print('extract')\n",
    "    #extraction = get_spectra(offset_skycoord)\n",
    "    offset_skycoord"
   ]
  },
  {
   "cell_type": "code",
   "execution_count": 63,
   "id": "35d3aa81",
   "metadata": {},
   "outputs": [
    {
     "data": {
      "text/plain": [
       "<SkyCoord (ICRS): (ra, dec) in deg\n",
       "    (270.95618973, 67.27747307)>"
      ]
     },
     "execution_count": 63,
     "metadata": {},
     "output_type": "execute_result"
    }
   ],
   "source": [
    "offset_skycoord"
   ]
  },
  {
   "cell_type": "markdown",
   "id": "e0fa5884",
   "metadata": {},
   "source": [
    "0 means we change offset or another random coordinate\n",
    "\n",
    "1 great! Makes our job easier, we have noise spectrum\n",
    "\n",
    "2 or more, what do we do? Bounce off ideas. \"Weighted stacking\" might be an option! However might not be ideal for comparing to real data."
   ]
  },
  {
   "cell_type": "code",
   "execution_count": 16,
   "id": "513692e5",
   "metadata": {
    "scrolled": true
   },
   "outputs": [
    {
     "data": {
      "text/html": [
       "<div><i>Table length=1</i>\n",
       "<table id=\"table139901446784288\" class=\"table-striped table-bordered table-condensed\">\n",
       "<thead><tr><th>ID</th><th>shotid</th><th>wavelength</th><th>spec</th><th>spec_err</th><th>apcor</th><th>flag</th><th>gal_flag</th><th>amp_flag</th><th>meteor_flag</th></tr></thead>\n",
       "<thead><tr><th></th><th></th><th>Angstrom</th><th>1e-17 erg / (Angstrom cm2 s)</th><th>1e-17 erg / (Angstrom cm2 s)</th><th></th><th></th><th></th><th></th><th></th></tr></thead>\n",
       "<thead><tr><th>int64</th><th>int64</th><th>float64[1036]</th><th>float64[1036]</th><th>float64[1036]</th><th>float64[1036]</th><th>int64</th><th>int64</th><th>int64</th><th>int64</th></tr></thead>\n",
       "<tr><td>1</td><td>20210616021</td><td>3470.0 .. 5540.0</td><td>-1.0332901577661509 .. -0.5001153100141618</td><td>6.543976661339851 .. 1.8833140977926013</td><td>0.9179288166985348 .. 0.9323621325512689</td><td>1</td><td>1</td><td>1</td><td>1</td></tr>\n",
       "</table></div>"
      ],
      "text/plain": [
       "<Table length=1>\n",
       "  ID     shotid      wavelength    ... gal_flag amp_flag meteor_flag\n",
       "                      Angstrom     ...                              \n",
       "int64    int64     float64[1036]   ...  int64    int64      int64   \n",
       "----- ----------- ---------------- ... -------- -------- -----------\n",
       "    1 20210616021 3470.0 .. 5540.0 ...        1        1           1"
      ]
     },
     "execution_count": 16,
     "metadata": {},
     "output_type": "execute_result"
    }
   ],
   "source": [
    "extraction"
   ]
  },
  {
   "cell_type": "code",
   "execution_count": 17,
   "id": "b20d76ae",
   "metadata": {},
   "outputs": [
    {
     "data": {
      "text/plain": [
       "(1, 1036)"
      ]
     },
     "execution_count": 17,
     "metadata": {},
     "output_type": "execute_result"
    }
   ],
   "source": [
    "extraction['wavelength'].shape"
   ]
  },
  {
   "cell_type": "code",
   "execution_count": 18,
   "id": "28ba16ac",
   "metadata": {},
   "outputs": [],
   "source": [
    "%matplotlib inline"
   ]
  },
  {
   "cell_type": "code",
   "execution_count": 104,
   "id": "e852e096",
   "metadata": {
    "scrolled": true
   },
   "outputs": [
    {
     "ename": "NameError",
     "evalue": "name 'extraction' is not defined",
     "output_type": "error",
     "traceback": [
      "\u001b[0;31m---------------------------------------------------------------------------\u001b[0m",
      "\u001b[0;31mNameError\u001b[0m                                 Traceback (most recent call last)",
      "Input \u001b[0;32mIn [104]\u001b[0m, in \u001b[0;36m<cell line: 1>\u001b[0;34m()\u001b[0m\n\u001b[0;32m----> 1\u001b[0m plt\u001b[38;5;241m.\u001b[39mplot(\u001b[43mextraction\u001b[49m[\u001b[38;5;124m'\u001b[39m\u001b[38;5;124mwavelength\u001b[39m\u001b[38;5;124m'\u001b[39m][\u001b[38;5;241m0\u001b[39m], extraction[\u001b[38;5;124m'\u001b[39m\u001b[38;5;124mspec\u001b[39m\u001b[38;5;124m'\u001b[39m][\u001b[38;5;241m0\u001b[39m])\n",
      "\u001b[0;31mNameError\u001b[0m: name 'extraction' is not defined"
     ]
    }
   ],
   "source": [
    "plt.plot(extraction['wavelength'][0], extraction['spec'][0])"
   ]
  },
  {
   "cell_type": "markdown",
   "id": "a001356b",
   "metadata": {},
   "source": [
    "## Note: \n",
    "Ran into this bug where if I tried to combine my checks into one tuple or variable everything would pass and I just added all sources."
   ]
  },
  {
   "cell_type": "code",
   "execution_count": 373,
   "id": "66c6fff1",
   "metadata": {},
   "outputs": [],
   "source": [
    "# Input: takes as input a SkyCoord object (ra and dec coordinates)\n",
    "#        an offset to move away from whatever random object's coordinates we get \n",
    "#        a separation_check which will be a number we use to see if an object is far enough away\n",
    "#        and a num_sources which is just how many sources we want to end up with in our noise sample\n",
    "#        any additional skycoord objects needed, in future could implement this to take an array of skycoord objects\n",
    "#        just in case if there's multiple skycoord objects\n",
    "#\n",
    "# Default: by default we take the h20_skycoords object which uses the h20 photometry catalog to make a SkyCoord\n",
    "#          (probably a good idea to clean up and filter data before puttng into function)\n",
    "#          an offset of 200 arcseconds (using Skycoord separation method)\n",
    "#          a separation check of 1.2 arcseconds\n",
    "#          a number of 100 sources outputted\n",
    "#          an additional skycoord for the HDR3 catalog\n",
    "#\n",
    "# Output: returns a numpy array of noise sources\n",
    "def Noise_Sampling(num_sources,\n",
    "    skycoord = h20_skycoords, \n",
    "    offset = 200 * u.arcsec, \n",
    "    separation_check = 1.2 * u.arcsec,\n",
    "    additional_skycoord = hdr3_skycoords):\n",
    "    \n",
    "    # variable to count how many noise sources we have\n",
    "    source_count = 0\n",
    "    \n",
    "    # Creating array to hold all sources to be returned later\n",
    "    source_list = []\n",
    "    \n",
    "    while source_count < num_sources:\n",
    "\n",
    "        #pick a random coordinate from the skycoord object\n",
    "        random_coord = skycoord[random.randint(0, skycoord.size)]\n",
    "\n",
    "        # Creating an offseted skycoord (from random one we picked) to hopefully be a noise source\n",
    "        offset_skycoord = random_coord.directional_offset_by(200 * u.arcsec, 200 * u.arcsec)\n",
    "\n",
    "        # Creating a tuple holding the separation of both catalogs, returns angles\n",
    "        # Could be implemented to take an arbitrary amount of skycoord objects\n",
    "        skycoords_separation = (offset_skycoord.separation(skycoord), offset_skycoord.separation(additional_skycoord))\n",
    "        # Creating two variables holding the separation of both catalogs, returns angles\n",
    "        sep_hdr3 = offset_skycoord.separation(skycoord)\n",
    "        sep_h20 = offset_skycoord.separation(additional_skycoord)\n",
    "\n",
    "        # Checking if the separation is less than 1.2 arcseconds (arbitrary value)\n",
    "        check_separation = skycoords_separation[0] or skycoords_separation[1] < 1.2 * u.arcsec\n",
    "        # Checking if the separation is less than 1.2 arcseconds (arbitrary value)\n",
    "        check_hdr3 = (sep_hdr3 < 1.2 * u.arcsec)\n",
    "        check_h20 = (sep_h20 < 1.2 * u.arcsec)\n",
    "        \n",
    "        # If there is a true value in any of the checks, we need to find a new source because it means there was a close match\n",
    "        if (True in check_hdr3) or (True in check_h20):\n",
    "            print('need to change source')\n",
    "        else:\n",
    "            # we extract!!\n",
    "            print('extract')\n",
    "            #extraction = get_spectra(offset_skycoord)\n",
    "            #offset_skycoord\n",
    "\n",
    "        # If there is a true value in any of the checks, we need to find a new source because it means there was a close match\n",
    "\n",
    "        if True in check_separation:\n",
    "            print('FAKEEEEE need to change source')\n",
    "            continue\n",
    "        else:\n",
    "            #print(check_separation)\n",
    "            # We store the noise source in an array\n",
    "            #print(source_list)\n",
    "            #print(offset_skycoord)\n",
    "            #source_list.append(offset_skycoord)\n",
    "            #print(len(source_list))\n",
    "            #print(source_list)\n",
    "            #extraction = get_spectra(offset_skycoord)\n",
    "            source_count += 1\n",
    "        \n",
    "    return np.array(source_list)"
   ]
  },
  {
   "cell_type": "code",
   "execution_count": 372,
   "id": "1d2aa519",
   "metadata": {
    "scrolled": true
   },
   "outputs": [
    {
     "name": "stdout",
     "output_type": "stream",
     "text": [
      "extract\n",
      "extract\n",
      "extract\n",
      "extract\n",
      "extract\n",
      "extract\n",
      "extract\n",
      "extract\n",
      "extract\n",
      "extract\n",
      "extract\n",
      "extract\n",
      "extract\n",
      "extract\n",
      "extract\n",
      "extract\n",
      "extract\n",
      "extract\n",
      "need to change source\n",
      "extract\n",
      "extract\n",
      "extract\n",
      "extract\n",
      "extract\n",
      "extract\n",
      "extract\n",
      "extract\n",
      "extract\n",
      "extract\n",
      "extract\n",
      "need to change source\n",
      "extract\n",
      "extract\n",
      "need to change source\n",
      "need to change source\n",
      "extract\n",
      "extract\n",
      "extract\n",
      "need to change source\n",
      "extract\n",
      "extract\n",
      "extract\n",
      "extract\n",
      "extract\n",
      "extract\n",
      "extract\n",
      "extract\n",
      "extract\n",
      "extract\n",
      "extract\n",
      "need to change source\n",
      "extract\n",
      "need to change source\n",
      "extract\n",
      "extract\n",
      "extract\n",
      "extract\n",
      "extract\n",
      "extract\n",
      "extract\n",
      "extract\n",
      "extract\n",
      "extract\n",
      "extract\n",
      "extract\n",
      "extract\n",
      "extract\n",
      "need to change source\n",
      "need to change source\n",
      "extract\n",
      "extract\n",
      "extract\n",
      "extract\n",
      "extract\n",
      "extract\n",
      "extract\n",
      "extract\n",
      "extract\n",
      "extract\n",
      "extract\n",
      "need to change source\n",
      "extract\n",
      "extract\n",
      "extract\n",
      "extract\n",
      "extract\n",
      "extract\n",
      "extract\n",
      "extract\n",
      "extract\n",
      "need to change source\n",
      "extract\n",
      "need to change source\n",
      "extract\n",
      "need to change source\n",
      "extract\n",
      "extract\n",
      "extract\n",
      "extract\n",
      "extract\n"
     ]
    }
   ],
   "source": [
    "test = Noise_Sampling(100)"
   ]
  },
  {
   "cell_type": "code",
   "execution_count": 277,
   "id": "96765092",
   "metadata": {},
   "outputs": [
    {
     "data": {
      "text/plain": [
       "array([<SkyCoord (ICRS): (ra, dec) in deg\n",
       "           (269.06752659, 67.06709466)>  ,\n",
       "       <SkyCoord (ICRS): (ra, dec) in deg\n",
       "           (271.44669137, 67.34896796)>  ,\n",
       "       <SkyCoord (ICRS): (ra, dec) in deg\n",
       "           (270.91265439, 67.70498659)>  ,\n",
       "       <SkyCoord (ICRS): (ra, dec) in deg\n",
       "           (271.12798537, 67.30861347)>  ,\n",
       "       <SkyCoord (ICRS): (ra, dec) in deg\n",
       "           (269.96438372, 67.21308457)>  ,\n",
       "       <SkyCoord (ICRS): (ra, dec) in deg\n",
       "           (269.23321892, 67.0463074)>   ,\n",
       "       <SkyCoord (ICRS): (ra, dec) in deg\n",
       "           (268.45116452, 66.94946783)>  ,\n",
       "       <SkyCoord (ICRS): (ra, dec) in deg\n",
       "           (270.76303126, 67.18333442)>  ,\n",
       "       <SkyCoord (ICRS): (ra, dec) in deg\n",
       "           (267.88347933, 67.48395853)>  ,\n",
       "       <SkyCoord (ICRS): (ra, dec) in deg\n",
       "           (271.01939117, 67.21702905)>  ,\n",
       "       <SkyCoord (ICRS): (ra, dec) in deg\n",
       "           (270.97428227, 67.19203271)>  ,\n",
       "       <SkyCoord (ICRS): (ra, dec) in deg\n",
       "           (268.21665683, 66.93517022)>  ,\n",
       "       <SkyCoord (ICRS): (ra, dec) in deg\n",
       "           (271.39982033, 67.12771461)>  ,\n",
       "       <SkyCoord (ICRS): (ra, dec) in deg\n",
       "           (268.57746163, 67.04290706)>  ,\n",
       "       <SkyCoord (ICRS): (ra, dec) in deg\n",
       "           (269.78423137, 67.43414976)>  ,\n",
       "       <SkyCoord (ICRS): (ra, dec) in deg\n",
       "           (270.11822416, 67.63486838)>  ,\n",
       "       <SkyCoord (ICRS): (ra, dec) in deg\n",
       "           (269.20864944, 67.95229366)>  ,\n",
       "       <SkyCoord (ICRS): (ra, dec) in deg\n",
       "           (270.96874769, 67.87610468)>  ,\n",
       "       <SkyCoord (ICRS): (ra, dec) in deg\n",
       "           (269.09960791, 67.97773979)>  ,\n",
       "       <SkyCoord (ICRS): (ra, dec) in deg\n",
       "           (269.12002512, 67.44766433)>  ,\n",
       "       <SkyCoord (ICRS): (ra, dec) in deg\n",
       "           (269.83603736, 67.00941907)>  ,\n",
       "       <SkyCoord (ICRS): (ra, dec) in deg\n",
       "           (270.90328703, 67.72641213)>  ,\n",
       "       <SkyCoord (ICRS): (ra, dec) in deg\n",
       "           (269.37459794, 66.99946212)>  ,\n",
       "       <SkyCoord (ICRS): (ra, dec) in deg\n",
       "           (270.02725474, 67.7130843)>   ,\n",
       "       <SkyCoord (ICRS): (ra, dec) in deg\n",
       "           (267.80205289, 66.97665493)>  ,\n",
       "       <SkyCoord (ICRS): (ra, dec) in deg\n",
       "           (271.6373213, 67.01959666)>   ,\n",
       "       <SkyCoord (ICRS): (ra, dec) in deg\n",
       "           (269.46550587, 67.84439344)>  ,\n",
       "       <SkyCoord (ICRS): (ra, dec) in deg\n",
       "           (270.36399864, 67.79036635)>  ,\n",
       "       <SkyCoord (ICRS): (ra, dec) in deg\n",
       "           (269.90261293, 67.11031372)>  ,\n",
       "       <SkyCoord (ICRS): (ra, dec) in deg\n",
       "           (270.72625256, 66.95411986)>  ,\n",
       "       <SkyCoord (ICRS): (ra, dec) in deg\n",
       "           (269.44800191, 67.06426402)>  ,\n",
       "       <SkyCoord (ICRS): (ra, dec) in deg\n",
       "           (271.10917185, 67.17843507)>  ,\n",
       "       <SkyCoord (ICRS): (ra, dec) in deg\n",
       "           (268.52991328, 67.49965944)>  ,\n",
       "       <SkyCoord (ICRS): (ra, dec) in deg\n",
       "           (268.36740018, 67.56368591)>  ,\n",
       "       <SkyCoord (ICRS): (ra, dec) in deg\n",
       "           (270.98128394, 66.98773958)>  ,\n",
       "       <SkyCoord (ICRS): (ra, dec) in deg\n",
       "           (269.57176361, 67.42280209)>  ,\n",
       "       <SkyCoord (ICRS): (ra, dec) in deg\n",
       "           (270.08740914, 67.62670376)>  ,\n",
       "       <SkyCoord (ICRS): (ra, dec) in deg\n",
       "           (269.35848082, 67.07617492)>  ,\n",
       "       <SkyCoord (ICRS): (ra, dec) in deg\n",
       "           (270.74021224, 67.09915636)>  ,\n",
       "       <SkyCoord (ICRS): (ra, dec) in deg\n",
       "           (267.93237513, 67.34554471)>  ,\n",
       "       <SkyCoord (ICRS): (ra, dec) in deg\n",
       "           (267.99489798, 67.55454341)>  ,\n",
       "       <SkyCoord (ICRS): (ra, dec) in deg\n",
       "           (270.268675, 67.109405)>      ,\n",
       "       <SkyCoord (ICRS): (ra, dec) in deg\n",
       "           (270.12003788, 67.97906545)>  ,\n",
       "       <SkyCoord (ICRS): (ra, dec) in deg\n",
       "           (270.71411032, 67.83176333)>  ,\n",
       "       <SkyCoord (ICRS): (ra, dec) in deg\n",
       "           (267.82043366, 67.49662815)>  ,\n",
       "       <SkyCoord (ICRS): (ra, dec) in deg\n",
       "           (271.19037543, 67.64003995)>  ,\n",
       "       <SkyCoord (ICRS): (ra, dec) in deg\n",
       "           (270.7378159, 66.99498188)>   ,\n",
       "       <SkyCoord (ICRS): (ra, dec) in deg\n",
       "           (269.90570394, 67.40599591)>  ,\n",
       "       <SkyCoord (ICRS): (ra, dec) in deg\n",
       "           (269.13741241, 66.97331753)>  ,\n",
       "       <SkyCoord (ICRS): (ra, dec) in deg\n",
       "           (268.38936067, 67.57062992)>  ,\n",
       "       <SkyCoord (ICRS): (ra, dec) in deg\n",
       "           (269.40231628, 67.24680895)>  ,\n",
       "       <SkyCoord (ICRS): (ra, dec) in deg\n",
       "           (270.82934733, 67.01341895)>  ,\n",
       "       <SkyCoord (ICRS): (ra, dec) in deg\n",
       "           (271.89598838, 67.26756463)>  ,\n",
       "       <SkyCoord (ICRS): (ra, dec) in deg\n",
       "           (269.25307824, 66.95169886)>  ,\n",
       "       <SkyCoord (ICRS): (ra, dec) in deg\n",
       "           (270.8716824, 67.02652768)>   ,\n",
       "       <SkyCoord (ICRS): (ra, dec) in deg\n",
       "           (271.52765508, 67.01798181)>  ,\n",
       "       <SkyCoord (ICRS): (ra, dec) in deg\n",
       "           (270.74905612, 66.89508002)>  ,\n",
       "       <SkyCoord (ICRS): (ra, dec) in deg\n",
       "           (267.89460113, 67.03201066)>  ,\n",
       "       <SkyCoord (ICRS): (ra, dec) in deg\n",
       "           (268.67297179, 67.22822663)>  ,\n",
       "       <SkyCoord (ICRS): (ra, dec) in deg\n",
       "           (270.78725698, 67.02056536)>  ,\n",
       "       <SkyCoord (ICRS): (ra, dec) in deg\n",
       "           (271.00607158, 67.37984015)>  ,\n",
       "       <SkyCoord (ICRS): (ra, dec) in deg\n",
       "           (268.63537923, 67.88055847)>  ,\n",
       "       <SkyCoord (ICRS): (ra, dec) in deg\n",
       "           (268.06417556, 67.45214963)>  ,\n",
       "       <SkyCoord (ICRS): (ra, dec) in deg\n",
       "           (270.03832902, 67.04880129)>  ,\n",
       "       <SkyCoord (ICRS): (ra, dec) in deg\n",
       "           (270.23146015, 67.19908091)>  ,\n",
       "       <SkyCoord (ICRS): (ra, dec) in deg\n",
       "           (271.68593069, 66.90161987)>  ,\n",
       "       <SkyCoord (ICRS): (ra, dec) in deg\n",
       "           (269.10062866, 67.0777475)>   ,\n",
       "       <SkyCoord (ICRS): (ra, dec) in deg\n",
       "           (270.26147651, 67.22503702)>  ,\n",
       "       <SkyCoord (ICRS): (ra, dec) in deg\n",
       "           (270.79885216, 67.27984552)>  ,\n",
       "       <SkyCoord (ICRS): (ra, dec) in deg\n",
       "           (269.5714546, 67.91735807)>   ,\n",
       "       <SkyCoord (ICRS): (ra, dec) in deg\n",
       "           (268.45075758, 67.06727406)>  ,\n",
       "       <SkyCoord (ICRS): (ra, dec) in deg\n",
       "           (269.13465535, 67.11983552)>  ,\n",
       "       <SkyCoord (ICRS): (ra, dec) in deg\n",
       "           (271.46146823, 67.08043518)>  ,\n",
       "       <SkyCoord (ICRS): (ra, dec) in deg\n",
       "           (270.41299218, 67.88849142)>  ,\n",
       "       <SkyCoord (ICRS): (ra, dec) in deg\n",
       "           (267.81025855, 67.5455077)>   ,\n",
       "       <SkyCoord (ICRS): (ra, dec) in deg\n",
       "           (270.50888676, 67.839066)>    ,\n",
       "       <SkyCoord (ICRS): (ra, dec) in deg\n",
       "           (270.75292099, 67.70568958)>  ,\n",
       "       <SkyCoord (ICRS): (ra, dec) in deg\n",
       "           (268.23084461, 67.66897083)>  ,\n",
       "       <SkyCoord (ICRS): (ra, dec) in deg\n",
       "           (271.20758704, 67.29654951)>  ,\n",
       "       <SkyCoord (ICRS): (ra, dec) in deg\n",
       "           (271.15540449, 67.66232802)>  ,\n",
       "       <SkyCoord (ICRS): (ra, dec) in deg\n",
       "           (270.72495133, 67.35560386)>  ,\n",
       "       <SkyCoord (ICRS): (ra, dec) in deg\n",
       "           (269.21074496, 67.40950525)>  ,\n",
       "       <SkyCoord (ICRS): (ra, dec) in deg\n",
       "           (270.64466887, 67.67554253)>  ,\n",
       "       <SkyCoord (ICRS): (ra, dec) in deg\n",
       "           (268.79416628, 67.0162638)>   ,\n",
       "       <SkyCoord (ICRS): (ra, dec) in deg\n",
       "           (267.84204379, 67.67854261)>  ,\n",
       "       <SkyCoord (ICRS): (ra, dec) in deg\n",
       "           (268.68552881, 66.98356322)>  ,\n",
       "       <SkyCoord (ICRS): (ra, dec) in deg\n",
       "           (269.09777018, 67.08673483)>  ,\n",
       "       <SkyCoord (ICRS): (ra, dec) in deg\n",
       "           (268.17400926, 67.52328155)>  ,\n",
       "       <SkyCoord (ICRS): (ra, dec) in deg\n",
       "           (267.97028215, 66.93341104)>  ,\n",
       "       <SkyCoord (ICRS): (ra, dec) in deg\n",
       "           (268.34593888, 67.63422136)>  ,\n",
       "       <SkyCoord (ICRS): (ra, dec) in deg\n",
       "           (268.82580536, 66.91806431)>  ,\n",
       "       <SkyCoord (ICRS): (ra, dec) in deg\n",
       "           (268.1479711, 67.21987571)>   ,\n",
       "       <SkyCoord (ICRS): (ra, dec) in deg\n",
       "           (269.13226937, 67.79494267)>  ,\n",
       "       <SkyCoord (ICRS): (ra, dec) in deg\n",
       "           (270.85172614, 66.92855585)>  ,\n",
       "       <SkyCoord (ICRS): (ra, dec) in deg\n",
       "           (268.52522177, 67.604733)>    ,\n",
       "       <SkyCoord (ICRS): (ra, dec) in deg\n",
       "           (270.26642773, 67.73852104)>  ,\n",
       "       <SkyCoord (ICRS): (ra, dec) in deg\n",
       "           (269.23781428, 66.94964132)>  ,\n",
       "       <SkyCoord (ICRS): (ra, dec) in deg\n",
       "           (268.51870253, 67.40028366)>  ,\n",
       "       <SkyCoord (ICRS): (ra, dec) in deg\n",
       "           (269.15245695, 67.07726956)>  ,\n",
       "       <SkyCoord (ICRS): (ra, dec) in deg\n",
       "           (268.85453186, 67.00352441)>  ], dtype=object)"
      ]
     },
     "execution_count": 277,
     "metadata": {},
     "output_type": "execute_result"
    }
   ],
   "source": [
    "test"
   ]
  },
  {
   "cell_type": "code",
   "execution_count": 52,
   "id": "13ea9d14",
   "metadata": {},
   "outputs": [
    {
     "ename": "NameError",
     "evalue": "name 'hdr3_skycoord' is not defined",
     "output_type": "error",
     "traceback": [
      "\u001b[0;31m---------------------------------------------------------------------------\u001b[0m",
      "\u001b[0;31mNameError\u001b[0m                                 Traceback (most recent call last)",
      "Input \u001b[0;32mIn [52]\u001b[0m, in \u001b[0;36m<cell line: 3>\u001b[0;34m()\u001b[0m\n\u001b[1;32m      4\u001b[0m random_coord \u001b[38;5;241m=\u001b[39m h20_skycoords[random\u001b[38;5;241m.\u001b[39mrandint(\u001b[38;5;241m0\u001b[39m, h20_skycoords\u001b[38;5;241m.\u001b[39msize)]\n\u001b[1;32m      5\u001b[0m offset_skycoord \u001b[38;5;241m=\u001b[39m random_coord\u001b[38;5;241m.\u001b[39mdirectional_offset_by(\u001b[38;5;241m200\u001b[39m \u001b[38;5;241m*\u001b[39m u\u001b[38;5;241m.\u001b[39marcsec, \u001b[38;5;241m200\u001b[39m \u001b[38;5;241m*\u001b[39m u\u001b[38;5;241m.\u001b[39marcsec)\n\u001b[0;32m----> 6\u001b[0m sep_hdr3 \u001b[38;5;241m=\u001b[39m offset_skycoord\u001b[38;5;241m.\u001b[39mseparation(\u001b[43mhdr3_skycoord\u001b[49m)\n\u001b[1;32m      7\u001b[0m sep_h20 \u001b[38;5;241m=\u001b[39m offset_skycoord\u001b[38;5;241m.\u001b[39mseparation(h20_skycoord)\n\u001b[1;32m      9\u001b[0m random_source_count \u001b[38;5;241m+\u001b[39m\u001b[38;5;241m=\u001b[39m\u001b[38;5;241m1\u001b[39m\n",
      "\u001b[0;31mNameError\u001b[0m: name 'hdr3_skycoord' is not defined"
     ]
    }
   ],
   "source": [
    "# counter that will\n",
    "random_source_count = 0\n",
    "while random_source_count < 100:\n",
    "    random_coord = h20_skycoords[random.randint(0, h20_skycoords.size)]\n",
    "    offset_skycoord = random_coord.directional_offset_by(200 * u.arcsec, 200 * u.arcsec)\n",
    "    sep_hdr3 = offset_skycoord.separation(hdr3_skycoord)\n",
    "    sep_h20 = offset_skycoord.separation(h20_skycoord)\n",
    "    \n",
    "    random_source_count +=1"
   ]
  },
  {
   "cell_type": "markdown",
   "id": "217e26a7",
   "metadata": {},
   "source": [
    "## Question: So now do I just put this in a for loop? What do I do now that I have one noise spectrum?\n",
    "\n",
    "(Function) While loop over 100 random coordinates. Basically repeat this 100 times and then extract. \n",
    "\n",
    "Think about how to save noise spectra. A lot of options (numpy, pandas (empty DF, append spec as a column, and transpose so its all rows))."
   ]
  },
  {
   "cell_type": "markdown",
   "id": "bc04415f",
   "metadata": {},
   "source": [
    "Once spectrum, check length of table. If 0 no fiber coverage, then need to change things around to get a spectrum. No spectrum means wasn't able to get fiber."
   ]
  },
  {
   "cell_type": "markdown",
   "id": "30a3f4f4",
   "metadata": {},
   "source": [
    "## NOTES"
   ]
  },
  {
   "cell_type": "markdown",
   "id": "33c20ad6",
   "metadata": {},
   "source": [
    "We want no source. This catalog has HETDEX detections one. \n",
    "\n",
    "    Want to make sure:\n",
    "        1.No hetdection detec\n",
    "        \n",
    "        2. No imaging counterpart. Do some cross-matching. Gives us a 0 and THEN we extract. Want to extract in basically empty space. Start with 100. \n",
    "        \n",
    "            Coordinates still. Trying to see if no match with the .fits file."
   ]
  },
  {
   "cell_type": "markdown",
   "id": "3330499d",
   "metadata": {},
   "source": [
    "Start with detection. One approach was fits file with coordinates. \n",
    "\n",
    "Or \n",
    "\n",
    "Use this but expand upon it. Find RA and DEC of each shot. And randomly extract.\n",
    "\n",
    "    delta ra and delta dec. Double check if is there a source there. \n",
    "    \n",
    "For noise sample, no need to run through valentina's code. Only focus on High-z after filtering through Valentina's code."
   ]
  },
  {
   "cell_type": "markdown",
   "id": "a3a0dae8",
   "metadata": {},
   "source": [
    "Once we have noise sample.\n",
    "\n",
    "Run through valentina's code. Hopefully it detects them all as high-z. Cause neither low-z or star.\n",
    "\n",
    "Two skycoords. Check coordinates to see if HETDEX detection is there. Compare minimum separation. If the difference is smaller than 3 arcseconds. Then there is a source there, so do not extract there."
   ]
  }
 ],
 "metadata": {
  "kernelspec": {
   "display_name": "Python 3 (ipykernel)",
   "language": "python",
   "name": "python3"
  },
  "language_info": {
   "codemirror_mode": {
    "name": "ipython",
    "version": 3
   },
   "file_extension": ".py",
   "mimetype": "text/x-python",
   "name": "python",
   "nbconvert_exporter": "python",
   "pygments_lexer": "ipython3",
   "version": "3.10.5"
  }
 },
 "nbformat": 4,
 "nbformat_minor": 5
}
