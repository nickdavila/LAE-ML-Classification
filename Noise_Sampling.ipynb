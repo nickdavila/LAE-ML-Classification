{
 "cells": [
  {
   "cell_type": "code",
   "execution_count": 22,
   "id": "48926f5e",
   "metadata": {},
   "outputs": [],
   "source": [
    "# means that my matplotlib graphs will be included in the notebook, next to the code\n",
    "%matplotlib inline\n",
    "\n",
    "import os\n",
    "\n",
    "import astropy\n",
    "import random\n",
    "import numpy as np\n",
    "import tables as tb\n",
    "import pandas as pd\n",
    "import matplotlib.pyplot as plt\n",
    "\n",
    "from astropy.table import Table, Column, join\n",
    "from astropy.coordinates import SkyCoord\n",
    "from astropy.io import fits\n",
    "import astropy.units as u\n",
    "\n",
    "from hetdex_api.config import HDRconfig\n",
    "from hetdex_api.detections import Detections\n",
    "from hetdex_api.elixer_widget_cls import ElixerWidget"
   ]
  },
  {
   "cell_type": "code",
   "execution_count": 2,
   "id": "4b25f138",
   "metadata": {},
   "outputs": [],
   "source": [
    "# not sure why the code below is here, it was in the Detections database and API notebook\n",
    "# https://github.com/HETDEX/hetdex_api/blob/master/notebooks/api-notebooks/03-Detections_Database_and_API.ipynb"
   ]
  },
  {
   "cell_type": "code",
   "execution_count": 3,
   "id": "ce894e85",
   "metadata": {},
   "outputs": [
    {
     "data": {
      "application/javascript": [
       "IPython.OutputArea.prototype._should_scroll = function(lines) {\n",
       "    return false;\n",
       "}\n"
      ],
      "text/plain": [
       "<IPython.core.display.Javascript object>"
      ]
     },
     "metadata": {},
     "output_type": "display_data"
    }
   ],
   "source": [
    "%%javascript\n",
    "IPython.OutputArea.prototype._should_scroll = function(lines) {\n",
    "    return false;\n",
    "}"
   ]
  },
  {
   "cell_type": "code",
   "execution_count": 26,
   "id": "4cde6112",
   "metadata": {},
   "outputs": [],
   "source": [
    "# Opening H20 NEP catalog and converting it into a pandas DF\n",
    "H20_NEP_catalog = fits.open('H20_NEP_VIRUS_OVERLAP_CAT_10_2021.fits', memmap = True)\n",
    "H20_NEP_data = H20_NEP_catalog[1].data\n",
    "H20_NEP_DF = pd.DataFrame(H20_NEP_data, columns=HDR3_data.columns.names)"
   ]
  },
  {
   "cell_type": "code",
   "execution_count": 4,
   "id": "6c27a5c6",
   "metadata": {},
   "outputs": [],
   "source": [
    "# Opening HDR3 detections catalog  ** double check this <-- statement ** and converting it into a pandas DF\n",
    "HDR_source_cat = fits.open('/home/jovyan/Hobby-Eberly-Telesco/hdr3/catalogs/source_catalog_3.0.1.fits', memmap = True)\n",
    "#fits.open(filename, memmap = True)\n",
    "HDR3_data = HDR_source_cat[1].data\n",
    "HDR3_DF = pd.DataFrame(HDR3_data, columns=HDR3_data.columns.names)"
   ]
  },
  {
   "cell_type": "code",
   "execution_count": 35,
   "id": "87243526",
   "metadata": {},
   "outputs": [
    {
     "name": "stdout",
     "output_type": "stream",
     "text": [
      "38267280\n",
      "16100448\n"
     ]
    }
   ],
   "source": [
    "# Columns we will then take from the entire data set (it was huge so we needed to determine what we wanted to look at specifically).\n",
    "# As the name suggests, these are the ones that are useful to us!\n",
    "useful_hdr3_cols = ['source_id', 'detectid',  'selected_det', 'ra_mean', 'dec_mean', 'fwhm', 'shotid', 'field',  'ra', 'dec', 'wave', 'wave_err', 'flux', 'flux_err', 'sn', 'sn_err', 'chi2', 'chi2_err',\n",
    "'linewidth', 'linewidth_err', 'plya_classification', 'z_hetdex', 'z_hetdex_conf', 'combined_plae']\n",
    "\n",
    "# From the original DF, taking the useful columns\n",
    "reduced_hdr3_df = HDR3_DF.loc[:, useful_hdr3_cols]\n",
    "reduced_h20nep_df = H20_NEP_DF.loc[:, useful_hdr3_cols]\n",
    "print(reduced_hdr3_df.size)\n",
    "print(reduced_h20nep_df.size)"
   ]
  },
  {
   "cell_type": "code",
   "execution_count": 36,
   "id": "44649c45",
   "metadata": {},
   "outputs": [
    {
     "name": "stdout",
     "output_type": "stream",
     "text": [
      "37544112\n",
      "0\n"
     ]
    }
   ],
   "source": [
    "# Removing data from before 2017 because it isn't good (not useful to us)\n",
    "removed_bad_shots_hdr3_df = reduced_hdr3_df[reduced_hdr3_df.shotid.values >= 20180000000]\n",
    "\n",
    "removed_bad_shots_h20nep_df = reduced_h20nep_df[reduced_h20nep_df.shotid.values >= 20180000000]\n",
    "\n",
    "print(removed_bad_shots_hdr3_df.size)\n",
    "print(removed_bad_shots_h20nep_df.size)"
   ]
  },
  {
   "cell_type": "markdown",
   "id": "3a44ba18",
   "metadata": {},
   "source": [
    "Is this enough to make a noise sample? Do I need to do anything else with the data? Seems too easy but I don't know.\n",
    "\n",
    "We want no source. This catalog has HETDEX detections one. \n",
    "\n",
    "    Want to make sure:\n",
    "        1.No hetdection detec\n",
    "        \n",
    "        2. No imaging counterpart. Do some cross-matching. Gives us a 0 and THEN we extract. Want to extract in basically empty space. Start with 100. \n",
    "        \n",
    "            Coordinates still. Trying to see if no match with the .fits file."
   ]
  },
  {
   "cell_type": "markdown",
   "id": "c9a97cd9",
   "metadata": {},
   "source": [
    "### Question: Do I need to keep this signal to noise filter?\n",
    "\n",
    "\n",
    "Reason why, we want high-confidence Lya. If we are very confident sn and another filter, then that's what we consider high-conf lya.\n",
    "\n",
    "Once noise and high-confidence sample. We can start exanping on valentina's code and do our own stuff"
   ]
  },
  {
   "cell_type": "code",
   "execution_count": 31,
   "id": "f9e5f77c",
   "metadata": {},
   "outputs": [
    {
     "name": "stdout",
     "output_type": "stream",
     "text": [
      "9101040\n"
     ]
    }
   ],
   "source": [
    "# This will give high confidence detections. Something we would want to do also. What is sn threshold that Valentina's code is having trouble with.\n",
    "signal_to_noise_interval = removed_bad_shots_hdr3_df[removed_bad_shots_df['sn'] > 6.5]\n",
    "print(signal_to_noise_interval.size)"
   ]
  },
  {
   "cell_type": "markdown",
   "id": "98fe727e",
   "metadata": {},
   "source": [
    "### Question about 'field' column.\n",
    "\n",
    "Do I need to specify a field? cause it says there are some egs. Not sure if that's in the scope of my project.\n",
    "\n",
    "For now anywhere, but once trained. NEP Field!"
   ]
  },
  {
   "cell_type": "code",
   "execution_count": 8,
   "id": "c51f0d9b",
   "metadata": {
    "scrolled": true
   },
   "outputs": [
    {
     "data": {
      "text/html": [
       "<div>\n",
       "<style scoped>\n",
       "    .dataframe tbody tr th:only-of-type {\n",
       "        vertical-align: middle;\n",
       "    }\n",
       "\n",
       "    .dataframe tbody tr th {\n",
       "        vertical-align: top;\n",
       "    }\n",
       "\n",
       "    .dataframe thead th {\n",
       "        text-align: right;\n",
       "    }\n",
       "</style>\n",
       "<table border=\"1\" class=\"dataframe\">\n",
       "  <thead>\n",
       "    <tr style=\"text-align: right;\">\n",
       "      <th></th>\n",
       "      <th>source_id</th>\n",
       "      <th>detectid</th>\n",
       "      <th>selected_det</th>\n",
       "      <th>ra_mean</th>\n",
       "      <th>dec_mean</th>\n",
       "      <th>fwhm</th>\n",
       "      <th>shotid</th>\n",
       "      <th>field</th>\n",
       "      <th>ra</th>\n",
       "      <th>dec</th>\n",
       "      <th>...</th>\n",
       "      <th>sn</th>\n",
       "      <th>sn_err</th>\n",
       "      <th>chi2</th>\n",
       "      <th>chi2_err</th>\n",
       "      <th>linewidth</th>\n",
       "      <th>linewidth_err</th>\n",
       "      <th>plya_classification</th>\n",
       "      <th>z_hetdex</th>\n",
       "      <th>z_hetdex_conf</th>\n",
       "      <th>combined_plae</th>\n",
       "    </tr>\n",
       "  </thead>\n",
       "  <tbody>\n",
       "    <tr>\n",
       "      <th>25155</th>\n",
       "      <td>3010000025254</td>\n",
       "      <td>3000462158</td>\n",
       "      <td>False</td>\n",
       "      <td>7.868332</td>\n",
       "      <td>0.030342</td>\n",
       "      <td>1.309933</td>\n",
       "      <td>20180104007</td>\n",
       "      <td>dex-fall</td>\n",
       "      <td>7.868559</td>\n",
       "      <td>0.029655</td>\n",
       "      <td>...</td>\n",
       "      <td>6.780000</td>\n",
       "      <td>0.44</td>\n",
       "      <td>1.04</td>\n",
       "      <td>0.22</td>\n",
       "      <td>2.77</td>\n",
       "      <td>0.38</td>\n",
       "      <td>0.001</td>\n",
       "      <td>0.403866</td>\n",
       "      <td>0.900000</td>\n",
       "      <td>0.010113</td>\n",
       "    </tr>\n",
       "    <tr>\n",
       "      <th>25156</th>\n",
       "      <td>3010000025378</td>\n",
       "      <td>3000462159</td>\n",
       "      <td>True</td>\n",
       "      <td>7.871345</td>\n",
       "      <td>0.028024</td>\n",
       "      <td>1.309933</td>\n",
       "      <td>20180104007</td>\n",
       "      <td>dex-fall</td>\n",
       "      <td>7.871345</td>\n",
       "      <td>0.028024</td>\n",
       "      <td>...</td>\n",
       "      <td>7.310000</td>\n",
       "      <td>0.48</td>\n",
       "      <td>1.00</td>\n",
       "      <td>0.22</td>\n",
       "      <td>2.84</td>\n",
       "      <td>0.41</td>\n",
       "      <td>0.001</td>\n",
       "      <td>0.243058</td>\n",
       "      <td>0.232867</td>\n",
       "      <td>0.244185</td>\n",
       "    </tr>\n",
       "    <tr>\n",
       "      <th>25157</th>\n",
       "      <td>3010000025254</td>\n",
       "      <td>3000462160</td>\n",
       "      <td>False</td>\n",
       "      <td>7.868332</td>\n",
       "      <td>0.030342</td>\n",
       "      <td>1.309933</td>\n",
       "      <td>20180104007</td>\n",
       "      <td>dex-fall</td>\n",
       "      <td>7.867933</td>\n",
       "      <td>0.031079</td>\n",
       "      <td>...</td>\n",
       "      <td>6.810000</td>\n",
       "      <td>0.51</td>\n",
       "      <td>0.99</td>\n",
       "      <td>0.22</td>\n",
       "      <td>2.97</td>\n",
       "      <td>0.42</td>\n",
       "      <td>0.001</td>\n",
       "      <td>0.403866</td>\n",
       "      <td>0.900000</td>\n",
       "      <td>0.010610</td>\n",
       "    </tr>\n",
       "    <tr>\n",
       "      <th>25162</th>\n",
       "      <td>3010000025373</td>\n",
       "      <td>3000462181</td>\n",
       "      <td>True</td>\n",
       "      <td>7.876181</td>\n",
       "      <td>0.047542</td>\n",
       "      <td>1.309933</td>\n",
       "      <td>20180104007</td>\n",
       "      <td>dex-fall</td>\n",
       "      <td>7.876181</td>\n",
       "      <td>0.047542</td>\n",
       "      <td>...</td>\n",
       "      <td>9.290000</td>\n",
       "      <td>0.51</td>\n",
       "      <td>1.02</td>\n",
       "      <td>0.22</td>\n",
       "      <td>3.29</td>\n",
       "      <td>0.34</td>\n",
       "      <td>0.001</td>\n",
       "      <td>0.377182</td>\n",
       "      <td>0.800000</td>\n",
       "      <td>0.002744</td>\n",
       "    </tr>\n",
       "    <tr>\n",
       "      <th>25173</th>\n",
       "      <td>3010000025362</td>\n",
       "      <td>3000462281</td>\n",
       "      <td>True</td>\n",
       "      <td>7.946422</td>\n",
       "      <td>0.046738</td>\n",
       "      <td>1.309933</td>\n",
       "      <td>20180104007</td>\n",
       "      <td>dex-fall</td>\n",
       "      <td>7.946422</td>\n",
       "      <td>0.046738</td>\n",
       "      <td>...</td>\n",
       "      <td>17.230000</td>\n",
       "      <td>0.52</td>\n",
       "      <td>0.98</td>\n",
       "      <td>0.22</td>\n",
       "      <td>2.76</td>\n",
       "      <td>0.15</td>\n",
       "      <td>0.001</td>\n",
       "      <td>0.354563</td>\n",
       "      <td>0.232867</td>\n",
       "      <td>0.001408</td>\n",
       "    </tr>\n",
       "    <tr>\n",
       "      <th>...</th>\n",
       "      <td>...</td>\n",
       "      <td>...</td>\n",
       "      <td>...</td>\n",
       "      <td>...</td>\n",
       "      <td>...</td>\n",
       "      <td>...</td>\n",
       "      <td>...</td>\n",
       "      <td>...</td>\n",
       "      <td>...</td>\n",
       "      <td>...</td>\n",
       "      <td>...</td>\n",
       "      <td>...</td>\n",
       "      <td>...</td>\n",
       "      <td>...</td>\n",
       "      <td>...</td>\n",
       "      <td>...</td>\n",
       "      <td>...</td>\n",
       "      <td>...</td>\n",
       "      <td>...</td>\n",
       "      <td>...</td>\n",
       "      <td>...</td>\n",
       "    </tr>\n",
       "    <tr>\n",
       "      <th>1365978</th>\n",
       "      <td>3010001385675</td>\n",
       "      <td>3013842807</td>\n",
       "      <td>True</td>\n",
       "      <td>215.014282</td>\n",
       "      <td>52.901100</td>\n",
       "      <td>1.683606</td>\n",
       "      <td>20220404017</td>\n",
       "      <td>egs</td>\n",
       "      <td>215.014282</td>\n",
       "      <td>52.901100</td>\n",
       "      <td>...</td>\n",
       "      <td>20.700001</td>\n",
       "      <td>0.43</td>\n",
       "      <td>1.03</td>\n",
       "      <td>0.22</td>\n",
       "      <td>3.40</td>\n",
       "      <td>0.19</td>\n",
       "      <td>0.001</td>\n",
       "      <td>0.373095</td>\n",
       "      <td>0.800000</td>\n",
       "      <td>0.001000</td>\n",
       "    </tr>\n",
       "    <tr>\n",
       "      <th>1365999</th>\n",
       "      <td>3010001385656</td>\n",
       "      <td>3013842935</td>\n",
       "      <td>True</td>\n",
       "      <td>214.925995</td>\n",
       "      <td>52.822315</td>\n",
       "      <td>1.683606</td>\n",
       "      <td>20220404017</td>\n",
       "      <td>egs</td>\n",
       "      <td>214.925995</td>\n",
       "      <td>52.822315</td>\n",
       "      <td>...</td>\n",
       "      <td>7.270000</td>\n",
       "      <td>0.53</td>\n",
       "      <td>1.07</td>\n",
       "      <td>0.22</td>\n",
       "      <td>3.05</td>\n",
       "      <td>0.41</td>\n",
       "      <td>0.001</td>\n",
       "      <td>0.369006</td>\n",
       "      <td>0.980000</td>\n",
       "      <td>0.030379</td>\n",
       "    </tr>\n",
       "    <tr>\n",
       "      <th>1366007</th>\n",
       "      <td>3010001385648</td>\n",
       "      <td>3013842979</td>\n",
       "      <td>True</td>\n",
       "      <td>214.790756</td>\n",
       "      <td>52.778305</td>\n",
       "      <td>1.683606</td>\n",
       "      <td>20220404017</td>\n",
       "      <td>egs</td>\n",
       "      <td>214.790756</td>\n",
       "      <td>52.778309</td>\n",
       "      <td>...</td>\n",
       "      <td>11.080000</td>\n",
       "      <td>0.45</td>\n",
       "      <td>1.00</td>\n",
       "      <td>0.23</td>\n",
       "      <td>3.40</td>\n",
       "      <td>0.37</td>\n",
       "      <td>0.001</td>\n",
       "      <td>0.295676</td>\n",
       "      <td>0.980000</td>\n",
       "      <td>0.037425</td>\n",
       "    </tr>\n",
       "    <tr>\n",
       "      <th>1366016</th>\n",
       "      <td>3010001385639</td>\n",
       "      <td>3013843028</td>\n",
       "      <td>True</td>\n",
       "      <td>214.908493</td>\n",
       "      <td>52.784447</td>\n",
       "      <td>1.683606</td>\n",
       "      <td>20220404017</td>\n",
       "      <td>egs</td>\n",
       "      <td>214.908493</td>\n",
       "      <td>52.784447</td>\n",
       "      <td>...</td>\n",
       "      <td>12.300000</td>\n",
       "      <td>0.64</td>\n",
       "      <td>1.34</td>\n",
       "      <td>0.22</td>\n",
       "      <td>3.13</td>\n",
       "      <td>0.16</td>\n",
       "      <td>0.001</td>\n",
       "      <td>0.200016</td>\n",
       "      <td>0.800000</td>\n",
       "      <td>0.009683</td>\n",
       "    </tr>\n",
       "    <tr>\n",
       "      <th>1366017</th>\n",
       "      <td>3010001385638</td>\n",
       "      <td>3013843029</td>\n",
       "      <td>True</td>\n",
       "      <td>214.899429</td>\n",
       "      <td>52.777737</td>\n",
       "      <td>1.683606</td>\n",
       "      <td>20220404017</td>\n",
       "      <td>egs</td>\n",
       "      <td>214.899429</td>\n",
       "      <td>52.777737</td>\n",
       "      <td>...</td>\n",
       "      <td>11.880000</td>\n",
       "      <td>0.56</td>\n",
       "      <td>1.03</td>\n",
       "      <td>0.22</td>\n",
       "      <td>3.75</td>\n",
       "      <td>0.40</td>\n",
       "      <td>0.001</td>\n",
       "      <td>0.346124</td>\n",
       "      <td>0.232867</td>\n",
       "      <td>0.003332</td>\n",
       "    </tr>\n",
       "  </tbody>\n",
       "</table>\n",
       "<p>379210 rows × 24 columns</p>\n",
       "</div>"
      ],
      "text/plain": [
       "             source_id    detectid  selected_det     ra_mean   dec_mean  \\\n",
       "25155    3010000025254  3000462158         False    7.868332   0.030342   \n",
       "25156    3010000025378  3000462159          True    7.871345   0.028024   \n",
       "25157    3010000025254  3000462160         False    7.868332   0.030342   \n",
       "25162    3010000025373  3000462181          True    7.876181   0.047542   \n",
       "25173    3010000025362  3000462281          True    7.946422   0.046738   \n",
       "...                ...         ...           ...         ...        ...   \n",
       "1365978  3010001385675  3013842807          True  215.014282  52.901100   \n",
       "1365999  3010001385656  3013842935          True  214.925995  52.822315   \n",
       "1366007  3010001385648  3013842979          True  214.790756  52.778305   \n",
       "1366016  3010001385639  3013843028          True  214.908493  52.784447   \n",
       "1366017  3010001385638  3013843029          True  214.899429  52.777737   \n",
       "\n",
       "             fwhm       shotid     field          ra        dec  ...  \\\n",
       "25155    1.309933  20180104007  dex-fall    7.868559   0.029655  ...   \n",
       "25156    1.309933  20180104007  dex-fall    7.871345   0.028024  ...   \n",
       "25157    1.309933  20180104007  dex-fall    7.867933   0.031079  ...   \n",
       "25162    1.309933  20180104007  dex-fall    7.876181   0.047542  ...   \n",
       "25173    1.309933  20180104007  dex-fall    7.946422   0.046738  ...   \n",
       "...           ...          ...       ...         ...        ...  ...   \n",
       "1365978  1.683606  20220404017       egs  215.014282  52.901100  ...   \n",
       "1365999  1.683606  20220404017       egs  214.925995  52.822315  ...   \n",
       "1366007  1.683606  20220404017       egs  214.790756  52.778309  ...   \n",
       "1366016  1.683606  20220404017       egs  214.908493  52.784447  ...   \n",
       "1366017  1.683606  20220404017       egs  214.899429  52.777737  ...   \n",
       "\n",
       "                sn  sn_err  chi2  chi2_err  linewidth  linewidth_err  \\\n",
       "25155     6.780000    0.44  1.04      0.22       2.77           0.38   \n",
       "25156     7.310000    0.48  1.00      0.22       2.84           0.41   \n",
       "25157     6.810000    0.51  0.99      0.22       2.97           0.42   \n",
       "25162     9.290000    0.51  1.02      0.22       3.29           0.34   \n",
       "25173    17.230000    0.52  0.98      0.22       2.76           0.15   \n",
       "...            ...     ...   ...       ...        ...            ...   \n",
       "1365978  20.700001    0.43  1.03      0.22       3.40           0.19   \n",
       "1365999   7.270000    0.53  1.07      0.22       3.05           0.41   \n",
       "1366007  11.080000    0.45  1.00      0.23       3.40           0.37   \n",
       "1366016  12.300000    0.64  1.34      0.22       3.13           0.16   \n",
       "1366017  11.880000    0.56  1.03      0.22       3.75           0.40   \n",
       "\n",
       "         plya_classification  z_hetdex  z_hetdex_conf  combined_plae  \n",
       "25155                  0.001  0.403866       0.900000       0.010113  \n",
       "25156                  0.001  0.243058       0.232867       0.244185  \n",
       "25157                  0.001  0.403866       0.900000       0.010610  \n",
       "25162                  0.001  0.377182       0.800000       0.002744  \n",
       "25173                  0.001  0.354563       0.232867       0.001408  \n",
       "...                      ...       ...            ...            ...  \n",
       "1365978                0.001  0.373095       0.800000       0.001000  \n",
       "1365999                0.001  0.369006       0.980000       0.030379  \n",
       "1366007                0.001  0.295676       0.980000       0.037425  \n",
       "1366016                0.001  0.200016       0.800000       0.009683  \n",
       "1366017                0.001  0.346124       0.232867       0.003332  \n",
       "\n",
       "[379210 rows x 24 columns]"
      ]
     },
     "execution_count": 8,
     "metadata": {},
     "output_type": "execute_result"
    }
   ],
   "source": [
    "signal_to_noise_interval"
   ]
  },
  {
   "cell_type": "code",
   "execution_count": 9,
   "id": "a489c592",
   "metadata": {},
   "outputs": [],
   "source": [
    "# picks a random source for us, the 1 means a single random source.\n",
    "# Might need to find a different way of getting a random source, just because I don't think\n",
    "# there's a way to control which source this gets, so it'll always be a different source!\n",
    "# Or just run this once\n",
    "random_source = signal_to_noise_interval.sample(n = 1)"
   ]
  },
  {
   "cell_type": "code",
   "execution_count": 10,
   "id": "99e57c73",
   "metadata": {},
   "outputs": [],
   "source": [
    "# We are using an offset to try to pick an area where there is no source.\n",
    "# This is a value we are experimenting with, going to go with 20 arcseconds for now\n",
    "offset = 20 * u.arcsec\n",
    "# need to convert to degrees so I can add to the ra and dec in catalog,\n",
    "# the ra and dec in catalog are in degrees\n",
    "offset = offset.to('deg')"
   ]
  },
  {
   "cell_type": "code",
   "execution_count": 11,
   "id": "38f35710",
   "metadata": {},
   "outputs": [],
   "source": [
    "# Applying an offset, then we check if there is a source at the offset!\n",
    "\n",
    "delta_ra = random_source['ra'] + offset # I forgot how units work here, are these all in arcseconds?\n",
    "delta_dec = random_source['dec'] + offset # I forgot how units work here, are these all in arcseconds?"
   ]
  },
  {
   "cell_type": "markdown",
   "id": "09e67fd0",
   "metadata": {},
   "source": [
    "## Is a offset of 5 arcseconds a lot? It's a pretty small change\n",
    "Something we can experiment with!"
   ]
  },
  {
   "cell_type": "code",
   "execution_count": 12,
   "id": "36092951",
   "metadata": {},
   "outputs": [
    {
     "data": {
      "text/plain": [
       "817762    223.642654\n",
       "Name: ra, dtype: float32"
      ]
     },
     "execution_count": 12,
     "metadata": {},
     "output_type": "execute_result"
    }
   ],
   "source": [
    "random_source['ra']"
   ]
  },
  {
   "cell_type": "code",
   "execution_count": 13,
   "id": "518be89b",
   "metadata": {},
   "outputs": [
    {
     "data": {
      "text/plain": [
       "223.64821"
      ]
     },
     "execution_count": 13,
     "metadata": {},
     "output_type": "execute_result"
    }
   ],
   "source": [
    "delta_ra.values[0]"
   ]
  },
  {
   "cell_type": "code",
   "execution_count": 14,
   "id": "c6330451",
   "metadata": {},
   "outputs": [
    {
     "data": {
      "text/plain": [
       "817762    53.828892\n",
       "Name: dec, dtype: float32"
      ]
     },
     "execution_count": 14,
     "metadata": {},
     "output_type": "execute_result"
    }
   ],
   "source": [
    "random_source['dec']"
   ]
  },
  {
   "cell_type": "code",
   "execution_count": 15,
   "id": "5d861592",
   "metadata": {},
   "outputs": [
    {
     "data": {
      "text/plain": [
       "53.834446"
      ]
     },
     "execution_count": 15,
     "metadata": {},
     "output_type": "execute_result"
    }
   ],
   "source": [
    "delta_dec.values[0]"
   ]
  },
  {
   "cell_type": "markdown",
   "id": "1ee4f7e4",
   "metadata": {},
   "source": [
    "## Should I make this check an or?\n",
    "Because this is saying, if the ra AND the dec are not in the catalog, then there is no source.\n",
    "\n",
    "But if only one isn't there then it's possible the source isn't in the catalog either right?"
   ]
  },
  {
   "cell_type": "markdown",
   "id": "7a5f1c0a",
   "metadata": {},
   "source": [
    "Here I'm checking if the source in the HDR3 detections catalog? Ask about the catalog name because I think I'm getting mixed up."
   ]
  },
  {
   "cell_type": "code",
   "execution_count": 16,
   "id": "e113ac7f",
   "metadata": {},
   "outputs": [],
   "source": [
    "# This truth_check df will check if the delta_ra and delta_dec are in the catalog. \n",
    "# If the size of this df is 0, then there is no source in this catalog with those specific ra and dec.\n",
    "truth_check_hdr3 = signal_to_noise_interval[(signal_to_noise_interval['ra'] == delta_ra.values[0]) & (signal_to_noise_interval['dec'] == delta_dec.values[0])]"
   ]
  },
  {
   "cell_type": "code",
   "execution_count": 19,
   "id": "ad73e825",
   "metadata": {
    "scrolled": false
   },
   "outputs": [
    {
     "data": {
      "text/html": [
       "<div>\n",
       "<style scoped>\n",
       "    .dataframe tbody tr th:only-of-type {\n",
       "        vertical-align: middle;\n",
       "    }\n",
       "\n",
       "    .dataframe tbody tr th {\n",
       "        vertical-align: top;\n",
       "    }\n",
       "\n",
       "    .dataframe thead th {\n",
       "        text-align: right;\n",
       "    }\n",
       "</style>\n",
       "<table border=\"1\" class=\"dataframe\">\n",
       "  <thead>\n",
       "    <tr style=\"text-align: right;\">\n",
       "      <th></th>\n",
       "      <th>source_id</th>\n",
       "      <th>detectid</th>\n",
       "      <th>selected_det</th>\n",
       "      <th>ra_mean</th>\n",
       "      <th>dec_mean</th>\n",
       "      <th>fwhm</th>\n",
       "      <th>shotid</th>\n",
       "      <th>field</th>\n",
       "      <th>ra</th>\n",
       "      <th>dec</th>\n",
       "      <th>...</th>\n",
       "      <th>sn</th>\n",
       "      <th>sn_err</th>\n",
       "      <th>chi2</th>\n",
       "      <th>chi2_err</th>\n",
       "      <th>linewidth</th>\n",
       "      <th>linewidth_err</th>\n",
       "      <th>plya_classification</th>\n",
       "      <th>z_hetdex</th>\n",
       "      <th>z_hetdex_conf</th>\n",
       "      <th>combined_plae</th>\n",
       "    </tr>\n",
       "  </thead>\n",
       "  <tbody>\n",
       "  </tbody>\n",
       "</table>\n",
       "<p>0 rows × 24 columns</p>\n",
       "</div>"
      ],
      "text/plain": [
       "Empty DataFrame\n",
       "Columns: [source_id, detectid, selected_det, ra_mean, dec_mean, fwhm, shotid, field, ra, dec, wave, wave_err, flux, flux_err, sn, sn_err, chi2, chi2_err, linewidth, linewidth_err, plya_classification, z_hetdex, z_hetdex_conf, combined_plae]\n",
       "Index: []\n",
       "\n",
       "[0 rows x 24 columns]"
      ]
     },
     "execution_count": 19,
     "metadata": {},
     "output_type": "execute_result"
    }
   ],
   "source": [
    "truth_check_hdr3"
   ]
  },
  {
   "cell_type": "code",
   "execution_count": 23,
   "id": "2e0e974d",
   "metadata": {},
   "outputs": [],
   "source": [
    "test = astropy.io.fits.open('H20_NEP_VIRUS_OVERLAP_CAT_10_2021.fits')"
   ]
  },
  {
   "cell_type": "markdown",
   "id": "3330499d",
   "metadata": {},
   "source": [
    "Start with detection. One approach was fits file with coordinates. \n",
    "\n",
    "Or \n",
    "\n",
    "Use this but expand upon it. Find RA and DEC of each shot. And randomly extract.\n",
    "\n",
    "    delta ra and delta dec. Double check if is there a source there. \n",
    "    \n",
    "For noise sample, no need to run through valentina's code. Only focus on High-z after filtering through Valentina's code."
   ]
  },
  {
   "cell_type": "markdown",
   "id": "a3a0dae8",
   "metadata": {},
   "source": [
    "Once we have noise sample.\n",
    "\n",
    "Run through valentina's code. Hopefully it detects them all as high-z. Cause neither low-z or star.\n",
    "\n",
    "Two skycoords. Check coordinates to see if HETDEX detection is there. Compare minimum separation. If the difference is smaller than 3 arcseconds. Then there is a source there, so do not extract there."
   ]
  }
 ],
 "metadata": {
  "kernelspec": {
   "display_name": "Python 3 (ipykernel)",
   "language": "python",
   "name": "python3"
  },
  "language_info": {
   "codemirror_mode": {
    "name": "ipython",
    "version": 3
   },
   "file_extension": ".py",
   "mimetype": "text/x-python",
   "name": "python",
   "nbconvert_exporter": "python",
   "pygments_lexer": "ipython3",
   "version": "3.10.6"
  }
 },
 "nbformat": 4,
 "nbformat_minor": 5
}
