{
 "cells": [
  {
   "cell_type": "code",
   "execution_count": 75,
   "id": "48926f5e",
   "metadata": {},
   "outputs": [],
   "source": [
    "# means that my matplotlib graphs will be included in the notebook, next to the code\n",
    "%matplotlib inline\n",
    "\n",
    "import os\n",
    "\n",
    "import math\n",
    "import astropy\n",
    "import random\n",
    "import numpy as np\n",
    "import tables as tb\n",
    "import pandas as pd\n",
    "import matplotlib.pyplot as plt\n",
    "\n",
    "from astropy.table import Table, Column, join\n",
    "from astropy.coordinates import SkyCoord\n",
    "from astropy.io import fits\n",
    "import astropy.units as u\n",
    "\n",
    "from hetdex_tools.get_spec import get_spectra\n",
    "from hetdex_api.config import HDRconfig\n",
    "from hetdex_api.detections import Detections\n",
    "from hetdex_api.elixer_widget_cls import ElixerWidget"
   ]
  },
  {
   "cell_type": "code",
   "execution_count": 76,
   "id": "4b25f138",
   "metadata": {},
   "outputs": [],
   "source": [
    "# not sure why the code below is here, it was in the Detections database and API notebook\n",
    "# https://github.com/HETDEX/hetdex_api/blob/master/notebooks/api-notebooks/03-Detections_Database_and_API.ipynb"
   ]
  },
  {
   "cell_type": "code",
   "execution_count": 77,
   "id": "ce894e85",
   "metadata": {},
   "outputs": [
    {
     "data": {
      "application/javascript": [
       "IPython.OutputArea.prototype._should_scroll = function(lines) {\n",
       "    return false;\n",
       "}\n"
      ],
      "text/plain": [
       "<IPython.core.display.Javascript object>"
      ]
     },
     "metadata": {},
     "output_type": "display_data"
    }
   ],
   "source": [
    "%%javascript\n",
    "IPython.OutputArea.prototype._should_scroll = function(lines) {\n",
    "    return false;\n",
    "}"
   ]
  },
  {
   "cell_type": "markdown",
   "id": "aa88dea4",
   "metadata": {},
   "source": [
    "### Opens the catalogs and turns them into dataframes\n",
    "\n",
    "I like to open both catalogs separately since they are both big (HDR3 especially!)"
   ]
  },
  {
   "cell_type": "code",
   "execution_count": 4,
   "id": "6c27a5c6",
   "metadata": {},
   "outputs": [],
   "source": [
    "# Opening HDR3 detections catalog and converting it into a pandas DF\n",
    "# HDR3 is detections HETDEX found\n",
    "HDR_source_cat = fits.open('/home/jovyan/Hobby-Eberly-Telesco/hdr3/catalogs/source_catalog_3.0.1.fits', memmap = True)\n",
    "HDR3_data = HDR_source_cat[1].data\n",
    "HDR3_DF = pd.DataFrame(HDR3_data, columns=HDR3_data.columns.names)"
   ]
  },
  {
   "cell_type": "code",
   "execution_count": 5,
   "id": "77c54340",
   "metadata": {},
   "outputs": [],
   "source": [
    "# Opening H20 NEP catalog and converting it into a pandas DF\n",
    "# H20 is stricly photometry sources\n",
    "H20_NEP_catalog = fits.open('H20_NEP_VIRUS_OVERLAP_CAT_10_2021.fits', memmap = True)\n",
    "H20_NEP_data = H20_NEP_catalog[1].data\n",
    "H20_NEP_DF = pd.DataFrame(H20_NEP_data, columns=H20_NEP_data.columns.names)"
   ]
  },
  {
   "cell_type": "code",
   "execution_count": 6,
   "id": "87243526",
   "metadata": {},
   "outputs": [],
   "source": [
    "# Columns we will then take from the entire data set (it was huge so we needed to determine what we wanted to look at specifically).\n",
    "# As the name suggests, these are the ones that are useful to us!\n",
    "useful_hdr3_cols = ['source_id', 'detectid',  'selected_det', 'ra_mean', 'dec_mean', 'fwhm', 'shotid', 'field',  'ra', 'dec', 'wave', 'wave_err', 'flux', 'flux_err', 'sn', 'sn_err', 'chi2', 'chi2_err',\n",
    "'linewidth', 'linewidth_err', 'plya_classification', 'z_hetdex', 'z_hetdex_conf', 'combined_plae']\n",
    "\n",
    "# For now, the only useful columns for us in H20 NEP is RA and DEC.\n",
    "useful_h20nep_cols = ['RA_MODELING', 'DEC_MODELING', 'VALID_SOURCE_MODELING']\n",
    "\n",
    "# From the original DFs, taking the useful columns\n",
    "reduced_hdr3_df = HDR3_DF.loc[:, useful_hdr3_cols]\n",
    "reduced_h20nep_df = H20_NEP_DF.loc[:, useful_h20nep_cols]"
   ]
  },
  {
   "cell_type": "markdown",
   "id": "888ba3f0",
   "metadata": {},
   "source": [
    "### Cleaning up the data"
   ]
  },
  {
   "cell_type": "code",
   "execution_count": 7,
   "id": "44649c45",
   "metadata": {},
   "outputs": [],
   "source": [
    "# Removing data from before 2017 because it isn't good (not useful to us)\n",
    "# No need to do this for H20 NEP\n",
    "removed_bad_shots_hdr3_df = reduced_hdr3_df[reduced_hdr3_df.shotid.values >= 20180000000]"
   ]
  },
  {
   "cell_type": "markdown",
   "id": "4fc89194",
   "metadata": {},
   "source": [
    "### Filtering data. For HDR3 we use a signal to noise greater than 6.5 and for H20 NEP we check if the VALID_SOURCE_MODELING is true"
   ]
  },
  {
   "cell_type": "code",
   "execution_count": 8,
   "id": "f9e5f77c",
   "metadata": {},
   "outputs": [],
   "source": [
    "# This will give high confidence detections. Something we would want to do also. What is sn threshold that Valentina's code is having trouble with.\n",
    "# Reason why, we want high-confidence Lya. If we are very confident sn and another filter, then that's what we consider high-conf lya.\n",
    "# Once noise and high-confidence sample. We can start exanping on valentina's code and do our own stuff\n",
    "hdr3_signal_to_noise_interval = removed_bad_shots_hdr3_df[removed_bad_shots_hdr3_df['sn'] > 6.5]\n",
    "\n",
    "# For now, no need to specify a field. But once trained, we want to run this for the NEP field!\n",
    "# The VALID_SOURCE_MODELING column which just tells us that the model was able to converge and get fluxes from the source\n",
    "# False valid source modeling means that the model used to measure the fluxes failed somehow so we cannot use that galaxy reliably\n",
    "# We want the true ones since we know the model was able to find a galaxy and we can use that for \n",
    "# our imaging counterpart identification (ie: to use these galaxy to check if there is a galaxy at our new extraction coordinate)\n",
    "h20_valid_source_check = reduced_h20nep_df[reduced_h20nep_df['VALID_SOURCE_MODELING'] == True]"
   ]
  },
  {
   "cell_type": "markdown",
   "id": "2483d58b",
   "metadata": {},
   "source": [
    "## Making two skycoord objects for both catalogs\n",
    "We do this instead of directly looking at the dataframes cause when we do and exract we get fibers from nearby as well. We don't want that."
   ]
  },
  {
   "cell_type": "code",
   "execution_count": 9,
   "id": "5bccbd31",
   "metadata": {},
   "outputs": [],
   "source": [
    "hdr3_skycoords = SkyCoord(hdr3_signal_to_noise_interval['ra'] * u.deg, hdr3_signal_to_noise_interval['dec'] * u.deg)\n",
    "h20_skycoords = SkyCoord(h20_valid_source_check['RA_MODELING'] * u.deg, h20_valid_source_check['DEC_MODELING'] * u.deg)"
   ]
  },
  {
   "cell_type": "markdown",
   "id": "c727e0db",
   "metadata": {},
   "source": [
    "## Here I'll probably create a 'Noise_Sampling' function  "
   ]
  },
  {
   "cell_type": "markdown",
   "id": "4016f322",
   "metadata": {},
   "source": [
    "## Note: \n",
    "Ran into this bug where if I tried to combine my checks into one tuple or variable everything would pass and I just added all sources."
   ]
  },
  {
   "cell_type": "markdown",
   "id": "7b46f98f",
   "metadata": {},
   "source": [
    "IF parallel computing: need to re-define function for parallel computing."
   ]
  },
  {
   "cell_type": "code",
   "execution_count": 56,
   "id": "3069f910",
   "metadata": {},
   "outputs": [],
   "source": [
    "# Input: takes as input a SkyCoord object (ra and dec coordinates)\n",
    "#        an offset to move away from whatever random object's coordinates we get \n",
    "#        a separation_check which will be a number we use to see if an object is far enough away\n",
    "#        and a num_sources which is just how many sources we want to end up with in our noise sample\n",
    "#        any additional skycoord objects needed, in future could implement this to take an array of skycoord objects\n",
    "#        just in case if there's multiple skycoord objects\n",
    "#\n",
    "# Default: by default we take the h20_skycoords object which uses the h20 photometry catalog to make a SkyCoord\n",
    "#          (probably a good idea to clean up and filter data before puttng into function)\n",
    "#          an offset of 200 arcseconds (using Skycoord separation method)\n",
    "#          a separation check of 1.2 arcseconds\n",
    "#          a number of 100 sources outputted\n",
    "#          an additional skycoord for the HDR3 catalog\n",
    "#\n",
    "# Output: returns a numpy array of noise sources\n",
    "def Noise_Sampling(num_sources,\n",
    "    skycoord = h20_skycoords, \n",
    "    offset = 200 * u.arcsec, \n",
    "    separation_check = 1.2 * u.arcsec,\n",
    "    additional_skycoord = hdr3_skycoords):\n",
    "    \n",
    "    # variable to count how many noise sources we have\n",
    "    source_count = 0\n",
    "    \n",
    "    # Creating array to hold all sources to be returned later\n",
    "    source_list = []\n",
    "    \n",
    "    while source_count < num_sources:\n",
    "\n",
    "        #pick a random coordinate from the skycoord object\n",
    "        random_coord = skycoord[random.randint(0, skycoord.size)]\n",
    "\n",
    "        # Creating an offseted skycoord (from random one we picked) to hopefully be a noise source\n",
    "        offset_skycoord = random_coord.directional_offset_by(200 * u.arcsec, 200 * u.arcsec)\n",
    "\n",
    "        # Creating a tuple holding the separation of both catalogs, returns angles\n",
    "        # Could be implemented to take an arbitrary amount of skycoord objects\n",
    "        skycoords_separation = (offset_skycoord.separation(skycoord), offset_skycoord.separation(additional_skycoord))\n",
    "        # Creating two variables holding the separation of both catalogs, returns angles\n",
    "        sep_hdr3 = offset_skycoord.separation(skycoord)\n",
    "        sep_h20 = offset_skycoord.separation(additional_skycoord)\n",
    "\n",
    "        # Checking if the separation is less than 1.2 arcseconds (arbitrary value)\n",
    "        check_separation = skycoords_separation[0] or skycoords_separation[1] < 1.2 * u.arcsec\n",
    "        # Checking if the separation is less than 1.2 arcseconds (arbitrary value)\n",
    "        check_hdr3 = (sep_hdr3 < 1.2 * u.arcsec)\n",
    "        check_h20 = (sep_h20 < 1.2 * u.arcsec)\n",
    "        \n",
    "        # If there is a true value in any of the checks, we need to find a new source because it means there was a close match\n",
    "        if (True in check_hdr3) or (True in check_h20):\n",
    "            # need to change source and re-do loop\n",
    "            continue\n",
    "        else:\n",
    "            # we extract!!\n",
    "            source_list.append(offset_skycoord)\n",
    "            source_count += 1\n",
    "        \n",
    "    return np.array(source_list)"
   ]
  },
  {
   "cell_type": "code",
   "execution_count": 60,
   "id": "3bd3b5fa",
   "metadata": {},
   "outputs": [],
   "source": [
    "samples_amount = 10\n",
    "test = Noise_Sampling(samples_amount)"
   ]
  },
  {
   "cell_type": "code",
   "execution_count": 61,
   "id": "6852d9e1",
   "metadata": {},
   "outputs": [
    {
     "data": {
      "text/plain": [
       "numpy.ndarray"
      ]
     },
     "execution_count": 61,
     "metadata": {},
     "output_type": "execute_result"
    }
   ],
   "source": [
    "type(test)"
   ]
  },
  {
   "cell_type": "markdown",
   "id": "a97e2544",
   "metadata": {},
   "source": [
    "# QUESTION: How should I go about extracting once I have my noise sources? Do I even need to extract? If so, it takes a very long time. Should I go in the HETDEX api and find another way?\n",
    "\n",
    "    * Problems:\n",
    "        - Takes very long\n",
    "        - Sometimes would extract 0 spectra, but since doing all at once can't really differentiate (unless don't do all at once)\n",
    "        > Alternatives: Extract before putting in noise sample (need to look into a faster way)"
   ]
  },
  {
   "cell_type": "code",
   "execution_count": 62,
   "id": "290cefa6",
   "metadata": {
    "scrolled": true
   },
   "outputs": [
    {
     "name": "stderr",
     "output_type": "stream",
     "text": [
      "[INFO - 2022-10-28 03:34:01,714] Finding shots of interest\n",
      "[INFO - 2022-10-28 03:34:07,575] Number of shots of interest: 2\n",
      "[INFO - 2022-10-28 03:34:07,576] Extracting 2 sources\n",
      "[INFO - 2022-10-28 03:34:07,725] Working on shot: 20210711014\n",
      "[INFO - 2022-10-28 03:34:07,777] Working on shot: 20210728008\n",
      "[INFO - 2022-10-28 03:34:09,123] Extracting 1\n",
      "[INFO - 2022-10-28 03:34:09,727] Extraction of sources completed in 0.03 minutes.\n",
      "[INFO - 2022-10-28 03:34:09,828] Retrieved 1 spectra.\n",
      "[INFO - 2022-10-28 03:34:09,881] Finding shots of interest\n",
      "[INFO - 2022-10-28 03:34:15,894] Number of shots of interest: 3\n",
      "[INFO - 2022-10-28 03:34:15,896] Extracting 3 sources\n",
      "[INFO - 2022-10-28 03:34:16,096] Working on shot: 20200716013\n",
      "[INFO - 2022-10-28 03:34:16,122] Working on shot: 20210711014\n",
      "[INFO - 2022-10-28 03:34:16,189] Working on shot: 20210728008\n",
      "[INFO - 2022-10-28 03:34:17,903] Extracting 1\n",
      "[INFO - 2022-10-28 03:34:19,576] Extraction of sources completed in 0.06 minutes.\n",
      "[INFO - 2022-10-28 03:34:19,676] Retrieved 1 spectra.\n",
      "[INFO - 2022-10-28 03:34:19,724] Finding shots of interest\n",
      "[INFO - 2022-10-28 03:34:25,909] Number of shots of interest: 0\n",
      "[INFO - 2022-10-28 03:34:25,910] Extracting 0 sources\n",
      "[INFO - 2022-10-28 03:34:25,984] Extraction of sources completed in 0.00 minutes.\n",
      "[INFO - 2022-10-28 03:34:26,068] Retrieved 0 spectra.\n",
      "[INFO - 2022-10-28 03:34:26,120] Finding shots of interest\n",
      "[INFO - 2022-10-28 03:34:32,268] Number of shots of interest: 0\n",
      "[INFO - 2022-10-28 03:34:32,269] Extracting 0 sources\n",
      "[INFO - 2022-10-28 03:34:32,345] Extraction of sources completed in 0.00 minutes.\n",
      "[INFO - 2022-10-28 03:34:32,430] Retrieved 0 spectra.\n",
      "[INFO - 2022-10-28 03:34:32,485] Finding shots of interest\n",
      "[INFO - 2022-10-28 03:34:38,543] Number of shots of interest: 6\n",
      "[INFO - 2022-10-28 03:34:38,545] Extracting 6 sources\n",
      "[INFO - 2022-10-28 03:34:38,716] Working on shot: 20200716014\n",
      "[INFO - 2022-10-28 03:34:38,753] Working on shot: 20200812016\n",
      "[INFO - 2022-10-28 03:34:38,807] Working on shot: 20200813010\n",
      "[INFO - 2022-10-28 03:34:38,876] Working on shot: 20200813011\n",
      "[INFO - 2022-10-28 03:34:38,968] Working on shot: 20210706015\n",
      "[INFO - 2022-10-28 03:34:38,984] Working on shot: 20210710013\n",
      "[INFO - 2022-10-28 03:34:40,348] Extraction of sources completed in 0.03 minutes.\n",
      "[INFO - 2022-10-28 03:34:40,459] Retrieved 0 spectra.\n",
      "[INFO - 2022-10-28 03:34:40,535] Finding shots of interest\n",
      "[INFO - 2022-10-28 03:34:46,558] Number of shots of interest: 3\n",
      "[INFO - 2022-10-28 03:34:46,560] Extracting 3 sources\n",
      "[INFO - 2022-10-28 03:34:46,716] Working on shot: 20210709017\n",
      "[INFO - 2022-10-28 03:34:46,787] Working on shot: 20210709018\n",
      "[INFO - 2022-10-28 03:34:46,832] Working on shot: 20210713017\n",
      "[INFO - 2022-10-28 03:34:48,434] Extraction of sources completed in 0.03 minutes.\n",
      "[INFO - 2022-10-28 03:34:48,523] Retrieved 0 spectra.\n",
      "[INFO - 2022-10-28 03:34:48,571] Finding shots of interest\n",
      "[INFO - 2022-10-28 03:34:54,758] Number of shots of interest: 8\n",
      "[INFO - 2022-10-28 03:34:54,759] Extracting 8 sources\n",
      "[INFO - 2022-10-28 03:34:54,912] Working on shot: 20210510026\n",
      "[INFO - 2022-10-28 03:34:54,963] Working on shot: 20210609015\n",
      "[INFO - 2022-10-28 03:34:55,028] Working on shot: 20210612015\n",
      "[INFO - 2022-10-28 03:34:55,111] Working on shot: 20210616019\n",
      "[INFO - 2022-10-28 03:34:55,177] Working on shot: 20210616020\n",
      "[INFO - 2022-10-28 03:34:55,238] Working on shot: 20210616021\n",
      "[INFO - 2022-10-28 03:34:55,302] Working on shot: 20210705015\n",
      "[INFO - 2022-10-28 03:34:55,366] Working on shot: 20210709019\n",
      "[INFO - 2022-10-28 03:34:56,591] Extracting 1\n",
      "[INFO - 2022-10-28 03:34:57,311] Extraction of sources completed in 0.04 minutes.\n",
      "[INFO - 2022-10-28 03:34:57,410] Retrieved 1 spectra.\n",
      "[INFO - 2022-10-28 03:34:57,465] Finding shots of interest\n",
      "[INFO - 2022-10-28 03:35:03,453] Number of shots of interest: 4\n",
      "[INFO - 2022-10-28 03:35:03,454] Extracting 4 sources\n",
      "[INFO - 2022-10-28 03:35:03,608] Working on shot: 20210514007\n",
      "[INFO - 2022-10-28 03:35:03,675] Working on shot: 20210604005\n",
      "[INFO - 2022-10-28 03:35:03,713] Working on shot: 20210605014\n",
      "[INFO - 2022-10-28 03:35:03,770] Working on shot: 20210608013\n",
      "[INFO - 2022-10-28 03:35:07,510] Extracting 1\n",
      "[INFO - 2022-10-28 03:35:08,363] Extraction of sources completed in 0.08 minutes.\n",
      "[INFO - 2022-10-28 03:35:08,464] Retrieved 1 spectra.\n",
      "[INFO - 2022-10-28 03:35:08,524] Finding shots of interest\n",
      "[INFO - 2022-10-28 03:35:14,573] Number of shots of interest: 4\n",
      "[INFO - 2022-10-28 03:35:14,575] Extracting 4 sources\n",
      "[INFO - 2022-10-28 03:35:14,811] Working on shot: 20210518020\n",
      "[INFO - 2022-10-28 03:35:14,843] Working on shot: 20210614017\n",
      "[INFO - 2022-10-28 03:35:14,875] Working on shot: 20210617016\n",
      "[INFO - 2022-10-28 03:35:14,921] Working on shot: 20210710012\n",
      "[INFO - 2022-10-28 03:35:16,065] Extraction of sources completed in 0.02 minutes.\n",
      "[INFO - 2022-10-28 03:35:16,155] Retrieved 0 spectra.\n",
      "[INFO - 2022-10-28 03:35:16,205] Finding shots of interest\n",
      "[INFO - 2022-10-28 03:35:22,306] Number of shots of interest: 5\n",
      "[INFO - 2022-10-28 03:35:22,308] Extracting 5 sources\n",
      "[INFO - 2022-10-28 03:35:22,466] Working on shot: 20210706014\n",
      "[INFO - 2022-10-28 03:35:22,548] Working on shot: 20210709017\n",
      "[INFO - 2022-10-28 03:35:22,587] Working on shot: 20210709018\n",
      "[INFO - 2022-10-28 03:35:22,625] Working on shot: 20210713017\n",
      "[INFO - 2022-10-28 03:35:22,690] Working on shot: 20210728010\n",
      "[INFO - 2022-10-28 03:35:24,431] Extraction of sources completed in 0.03 minutes.\n",
      "[INFO - 2022-10-28 03:35:24,522] Retrieved 0 spectra.\n"
     ]
    }
   ],
   "source": [
    "extractions_list = []\n",
    "\n",
    "for i in range(samples_amount):\n",
    "    extractions_list.append(get_spectra(test[i]))"
   ]
  },
  {
   "cell_type": "markdown",
   "id": "bd8d0be7",
   "metadata": {},
   "source": [
    "Extract one by one, if len of spectra table = 0, try different coordinate.\n",
    "\n",
    "Parallel computing maybe?\n",
    "\n",
    "Save generated spectra somewhere!!!"
   ]
  },
  {
   "cell_type": "code",
   "execution_count": 64,
   "id": "616c9e28",
   "metadata": {},
   "outputs": [
    {
     "data": {
      "text/html": [
       "<div><i>Table length=1</i>\n",
       "<table id=\"table139808018948512\" class=\"table-striped table-bordered table-condensed\">\n",
       "<thead><tr><th>ID</th><th>shotid</th><th>wavelength</th><th>spec</th><th>spec_err</th><th>apcor</th><th>flag</th><th>gal_flag</th><th>amp_flag</th><th>meteor_flag</th></tr></thead>\n",
       "<thead><tr><th></th><th></th><th>Angstrom</th><th>1e-17 erg / (Angstrom cm2 s)</th><th>1e-17 erg / (Angstrom cm2 s)</th><th></th><th></th><th></th><th></th><th></th></tr></thead>\n",
       "<thead><tr><th>int64</th><th>int64</th><th>float64[1036]</th><th>float64[1036]</th><th>float64[1036]</th><th>float64[1036]</th><th>int64</th><th>int64</th><th>int64</th><th>int64</th></tr></thead>\n",
       "<tr><td>1</td><td>20210711014</td><td>3470.0 .. 5540.0</td><td>1.3294483924083418 .. -0.07721117212808482</td><td>6.464677535572048 .. 2.735933553858209</td><td>0.9031886712147194 .. 0.9218978503874391</td><td>1</td><td>1</td><td>1</td><td>1</td></tr>\n",
       "</table></div>"
      ],
      "text/plain": [
       "<Table length=1>\n",
       "  ID     shotid      wavelength    ... gal_flag amp_flag meteor_flag\n",
       "                      Angstrom     ...                              \n",
       "int64    int64     float64[1036]   ...  int64    int64      int64   \n",
       "----- ----------- ---------------- ... -------- -------- -----------\n",
       "    1 20210711014 3470.0 .. 5540.0 ...        1        1           1"
      ]
     },
     "execution_count": 64,
     "metadata": {},
     "output_type": "execute_result"
    }
   ],
   "source": [
    "extraction_check = extractions_list[0]"
   ]
  },
  {
   "cell_type": "code",
   "execution_count": 65,
   "id": "bf1f88bc",
   "metadata": {},
   "outputs": [],
   "source": [
    "%matplotlib inline"
   ]
  },
  {
   "cell_type": "code",
   "execution_count": 66,
   "id": "1f7d0861",
   "metadata": {
    "scrolled": true
   },
   "outputs": [
    {
     "data": {
      "text/plain": [
       "[<matplotlib.lines.Line2D at 0x7f2797276800>]"
      ]
     },
     "execution_count": 66,
     "metadata": {},
     "output_type": "execute_result"
    },
    {
     "data": {
      "image/png": "[encoded data removed]",
      "text/plain": [
       "<Figure size 432x288 with 1 Axes>"
      ]
     },
     "metadata": {
      "needs_background": "light"
     },
     "output_type": "display_data"
    }
   ],
   "source": [
    "plt.plot(extractions_list[0]['wavelength'][0], extractions_list[0]['spec'][0])"
   ]
  },
  {
   "cell_type": "markdown",
   "id": "99b8cb84",
   "metadata": {},
   "source": [
    "# QUESTIONS AND NEXT STEPS\n",
    "\n",
    "    Q1. What is t-SNE and why do we need it?\n",
    "    \n",
    "        T-SNE reduces dimension even further. Run it through notebook that will plot it in T-SNE space. TSNE plot and gaussian kernel does labeling. \n",
    "        \n",
    "        Added check to see what numbers are being labeled. \n",
    "        \n",
    "        Then we want the ones that say high-z!\n",
    "        \n",
    "    *  Next steps:\n",
    "        - Run spectra through Valentina's code\n",
    "        - Use T-SNE to plot results in 2D space (the plots will have labels we can use)\n",
    "        - Want encoded_final and then use TSNE on it with training data\n",
    "        \n",
    "        \n",
    "        - Train random forest on noise and actual high-z \n",
    "            > Expected: start off with high confidence lyman-a alpha emitter but as we get to lower-z ambguity with increase. Hopefully noise sample helps!!"
   ]
  },
  {
   "cell_type": "markdown",
   "id": "a2a7bc58",
   "metadata": {},
   "source": [
    "\n",
    "# OLD CODE BELOW THIS!!!!! "
   ]
  },
  {
   "cell_type": "code",
   "execution_count": 17,
   "id": "29941aee",
   "metadata": {},
   "outputs": [],
   "source": [
    "# Getting a random coordinate from the h20 catalog. I didn't get from the hdr3 catalog \n",
    "# because the hdr3 one is so much bigger, so it could happen where we dont have imaging overlap\n",
    "random_coord = h20_skycoords[random.randint(0, h20_skycoords.size)]\n",
    "# Creating an offseted skycoord (from random one we picked) to hopefully be a noise source\n",
    "offset_skycoord = random_coord.directional_offset_by(200 * u.arcsec, 200 * u.arcsec)"
   ]
  },
  {
   "cell_type": "code",
   "execution_count": 18,
   "id": "f43efd6b",
   "metadata": {},
   "outputs": [],
   "source": [
    "# Creating two variables holding the separation of both catalogs, returns angles\n",
    "sep_hdr3 = offset_skycoord.separation(hdr3_skycoords)\n",
    "sep_h20 = offset_skycoord.separation(h20_skycoords)"
   ]
  },
  {
   "cell_type": "code",
   "execution_count": 19,
   "id": "55a03b63",
   "metadata": {},
   "outputs": [],
   "source": [
    "# Checking if the separation is less than 1.2 arcseconds (arbitrary value)\n",
    "check_hdr3 = (sep_hdr3 < 1.2 * u.arcsec)\n",
    "check_h20 = (sep_h20 < 1.2 * u.arcsec)"
   ]
  },
  {
   "cell_type": "code",
   "execution_count": 20,
   "id": "3353459c",
   "metadata": {},
   "outputs": [],
   "source": [
    "sepboth = (offset_skycoord.separation(hdr3_skycoords), offset_skycoord.separation(h20_skycoords))"
   ]
  },
  {
   "cell_type": "code",
   "execution_count": 21,
   "id": "efe9679a",
   "metadata": {},
   "outputs": [],
   "source": [
    "checksep = sepboth[0] or sepboth[1] < 1.2 * u.arcsec"
   ]
  },
  {
   "cell_type": "code",
   "execution_count": 22,
   "id": "ace649bf",
   "metadata": {},
   "outputs": [
    {
     "name": "stdout",
     "output_type": "stream",
     "text": [
      "extract\n"
     ]
    }
   ],
   "source": [
    "if True in checksep:\n",
    "    print('change')\n",
    "else:\n",
    "    print(\"extract\")"
   ]
  },
  {
   "cell_type": "code",
   "execution_count": 23,
   "id": "5501f696",
   "metadata": {
    "scrolled": true
   },
   "outputs": [
    {
     "name": "stdout",
     "output_type": "stream",
     "text": [
      "need to change source\n"
     ]
    }
   ],
   "source": [
    "# If there is a true value in any of the checks, we need to find a new source because it means there was a close match\n",
    "if (True in check_hdr3) or (True in check_h20):\n",
    "    print('need to change source')\n",
    "else:\n",
    "    # we extract!!\n",
    "    print('extract')\n",
    "    #extraction = get_spectra(offset_skycoord)\n",
    "    offset_skycoord"
   ]
  },
  {
   "cell_type": "code",
   "execution_count": 63,
   "id": "35d3aa81",
   "metadata": {},
   "outputs": [
    {
     "data": {
      "text/plain": [
       "<SkyCoord (ICRS): (ra, dec) in deg\n",
       "    (270.95618973, 67.27747307)>"
      ]
     },
     "execution_count": 63,
     "metadata": {},
     "output_type": "execute_result"
    }
   ],
   "source": [
    "offset_skycoord"
   ]
  },
  {
   "cell_type": "markdown",
   "id": "e0fa5884",
   "metadata": {},
   "source": [
    "0 means we change offset or another random coordinate\n",
    "\n",
    "1 great! Makes our job easier, we have noise spectrum\n",
    "\n",
    "2 or more, what do we do? Bounce off ideas. \"Weighted stacking\" might be an option! However might not be ideal for comparing to real data."
   ]
  },
  {
   "cell_type": "code",
   "execution_count": 16,
   "id": "513692e5",
   "metadata": {
    "scrolled": true
   },
   "outputs": [
    {
     "data": {
      "text/html": [
       "<div><i>Table length=1</i>\n",
       "<table id=\"table139901446784288\" class=\"table-striped table-bordered table-condensed\">\n",
       "<thead><tr><th>ID</th><th>shotid</th><th>wavelength</th><th>spec</th><th>spec_err</th><th>apcor</th><th>flag</th><th>gal_flag</th><th>amp_flag</th><th>meteor_flag</th></tr></thead>\n",
       "<thead><tr><th></th><th></th><th>Angstrom</th><th>1e-17 erg / (Angstrom cm2 s)</th><th>1e-17 erg / (Angstrom cm2 s)</th><th></th><th></th><th></th><th></th><th></th></tr></thead>\n",
       "<thead><tr><th>int64</th><th>int64</th><th>float64[1036]</th><th>float64[1036]</th><th>float64[1036]</th><th>float64[1036]</th><th>int64</th><th>int64</th><th>int64</th><th>int64</th></tr></thead>\n",
       "<tr><td>1</td><td>20210616021</td><td>3470.0 .. 5540.0</td><td>-1.0332901577661509 .. -0.5001153100141618</td><td>6.543976661339851 .. 1.8833140977926013</td><td>0.9179288166985348 .. 0.9323621325512689</td><td>1</td><td>1</td><td>1</td><td>1</td></tr>\n",
       "</table></div>"
      ],
      "text/plain": [
       "<Table length=1>\n",
       "  ID     shotid      wavelength    ... gal_flag amp_flag meteor_flag\n",
       "                      Angstrom     ...                              \n",
       "int64    int64     float64[1036]   ...  int64    int64      int64   \n",
       "----- ----------- ---------------- ... -------- -------- -----------\n",
       "    1 20210616021 3470.0 .. 5540.0 ...        1        1           1"
      ]
     },
     "execution_count": 16,
     "metadata": {},
     "output_type": "execute_result"
    }
   ],
   "source": [
    "extraction"
   ]
  },
  {
   "cell_type": "code",
   "execution_count": 17,
   "id": "b20d76ae",
   "metadata": {},
   "outputs": [
    {
     "data": {
      "text/plain": [
       "(1, 1036)"
      ]
     },
     "execution_count": 17,
     "metadata": {},
     "output_type": "execute_result"
    }
   ],
   "source": [
    "extraction['wavelength'].shape"
   ]
  },
  {
   "cell_type": "code",
   "execution_count": 18,
   "id": "28ba16ac",
   "metadata": {},
   "outputs": [],
   "source": [
    "%matplotlib inline"
   ]
  },
  {
   "cell_type": "code",
   "execution_count": 104,
   "id": "e852e096",
   "metadata": {
    "scrolled": true
   },
   "outputs": [
    {
     "ename": "NameError",
     "evalue": "name 'extraction' is not defined",
     "output_type": "error",
     "traceback": [
      "\u001b[0;31m---------------------------------------------------------------------------\u001b[0m",
      "\u001b[0;31mNameError\u001b[0m                                 Traceback (most recent call last)",
      "Input \u001b[0;32mIn [104]\u001b[0m, in \u001b[0;36m<cell line: 1>\u001b[0;34m()\u001b[0m\n\u001b[0;32m----> 1\u001b[0m plt\u001b[38;5;241m.\u001b[39mplot(\u001b[43mextraction\u001b[49m[\u001b[38;5;124m'\u001b[39m\u001b[38;5;124mwavelength\u001b[39m\u001b[38;5;124m'\u001b[39m][\u001b[38;5;241m0\u001b[39m], extraction[\u001b[38;5;124m'\u001b[39m\u001b[38;5;124mspec\u001b[39m\u001b[38;5;124m'\u001b[39m][\u001b[38;5;241m0\u001b[39m])\n",
      "\u001b[0;31mNameError\u001b[0m: name 'extraction' is not defined"
     ]
    }
   ],
   "source": [
    "plt.plot(extraction['wavelength'][0], extraction['spec'][0])"
   ]
  },
  {
   "cell_type": "markdown",
   "id": "217e26a7",
   "metadata": {},
   "source": [
    "## Question: So now do I just put this in a for loop? What do I do now that I have one noise spectrum?\n",
    "\n",
    "(Function) While loop over 100 random coordinates. Basically repeat this 100 times and then extract. \n",
    "\n",
    "Think about how to save noise spectra. A lot of options (numpy, pandas (empty DF, append spec as a column, and transpose so its all rows))."
   ]
  },
  {
   "cell_type": "markdown",
   "id": "bc04415f",
   "metadata": {},
   "source": [
    "Once spectrum, check length of table. If 0 no fiber coverage, then need to change things around to get a spectrum. No spectrum means wasn't able to get fiber."
   ]
  },
  {
   "cell_type": "markdown",
   "id": "30a3f4f4",
   "metadata": {},
   "source": [
    "## NOTES"
   ]
  },
  {
   "cell_type": "markdown",
   "id": "33c20ad6",
   "metadata": {},
   "source": [
    "We want no source. This catalog has HETDEX detections one. \n",
    "\n",
    "    Want to make sure:\n",
    "        1.No hetdection detec\n",
    "        \n",
    "        2. No imaging counterpart. Do some cross-matching. Gives us a 0 and THEN we extract. Want to extract in basically empty space. Start with 100. \n",
    "        \n",
    "            Coordinates still. Trying to see if no match with the .fits file."
   ]
  },
  {
   "cell_type": "markdown",
   "id": "3330499d",
   "metadata": {},
   "source": [
    "Start with detection. One approach was fits file with coordinates. \n",
    "\n",
    "Or \n",
    "\n",
    "Use this but expand upon it. Find RA and DEC of each shot. And randomly extract.\n",
    "\n",
    "    delta ra and delta dec. Double check if is there a source there. \n",
    "    \n",
    "For noise sample, no need to run through valentina's code. Only focus on High-z after filtering through Valentina's code."
   ]
  },
  {
   "cell_type": "markdown",
   "id": "a3a0dae8",
   "metadata": {},
   "source": [
    "Once we have noise sample.\n",
    "\n",
    "Run through valentina's code. Hopefully it detects them all as high-z. Cause neither low-z or star.\n",
    "\n",
    "Two skycoords. Check coordinates to see if HETDEX detection is there. Compare minimum separation. If the difference is smaller than 3 arcseconds. Then there is a source there, so do not extract there."
   ]
  }
 ],
 "metadata": {
  "kernelspec": {
   "display_name": "Python 3 (ipykernel)",
   "language": "python",
   "name": "python3"
  },
  "language_info": {
   "codemirror_mode": {
    "name": "ipython",
    "version": 3
   },
   "file_extension": ".py",
   "mimetype": "text/x-python",
   "name": "python",
   "nbconvert_exporter": "python",
   "pygments_lexer": "ipython3",
   "version": "3.10.5"
  }
 },
 "nbformat": 4,
 "nbformat_minor": 5
}
