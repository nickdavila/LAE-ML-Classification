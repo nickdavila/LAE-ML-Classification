{
 "cells": [
  {
   "cell_type": "markdown",
   "id": "bd8fef7b",
   "metadata": {},
   "source": [
    "### Trying to find a location where there is no source. Finding a source in the .fits file and then extracting at some random delta_x or delta_y away from the source.\n",
    "\n",
    "Q1. We want to extract at a location where there is no source. What indicates there is no source\n",
    "\n",
    "    I know you mentioned something about finding a source and then extractice at some random delta_x or delta_y, does that mean like before where we took a circle area? Or is it just two x and y points? Which part of the data is the x and y points I use?\n",
    "    \n",
    "        Just take RA and DEC like like x,y points. RA +- delta RA and DEC +- DEC.\n",
    "        \n",
    "        Want to make sure there's no HETDEX\n",
    "        \n",
    "        Check there is no other source\n",
    "        \n",
    "        Want a noise SAMPLE, so we want a lot of them. Want around 100. Once confident on fine-tuning random forest sapmle.\n",
    "       \n",
    "       Want to use valid source modeling, and RA/DEC modeling. Check for both!!!\n",
    "       \n",
    "       Catalog sky matching using skycoords.\n",
    "    \n",
    "Q2. Make sure that this new location does not have a source there already. How do we make sure the location is new?\n",
    "\n",
    "Q3. Start from HETDEX detections. How do I access those?\n",
    "\n",
    "    There is a class that has hetdex detections. Still need to check, is there a source nearby. "
   ]
  },
  {
   "cell_type": "code",
   "execution_count": 1,
   "id": "135171aa",
   "metadata": {},
   "outputs": [],
   "source": [
    "import astropy\n",
    "import numpy as np\n",
    "from astropy.io import fits"
   ]
  },
  {
   "cell_type": "code",
   "execution_count": 2,
   "id": "17e74474",
   "metadata": {},
   "outputs": [],
   "source": [
    "test = astropy.io.fits.open('H20_NEP_VIRUS_OVERLAP_CAT_10_2021.fits')"
   ]
  },
  {
   "cell_type": "code",
   "execution_count": 3,
   "id": "e4b484be",
   "metadata": {},
   "outputs": [
    {
     "name": "stdout",
     "output_type": "stream",
     "text": [
      "Filename: H20_NEP_VIRUS_OVERLAP_CAT_10_2021.fits\n",
      "No.    Name      Ver    Type      Cards   Dimensions   Format\n",
      "  0  PRIMARY       1 PrimaryHDU       4   ()      \n",
      "  1                1 BinTableHDU    123   670852R x 54C   [K, 5A, K, E, D, D, K, L, 20A, D, D, D, D, D, D, D, D, D, D, D, D, D, D, D, D, D, D, D, D, D, D, D, D, D, D, D, D, D, D, D, D, D, K, D, D, E, E, E, E, E, E, E, E, E]   \n"
     ]
    }
   ],
   "source": [
    "test.info()"
   ]
  },
  {
   "cell_type": "code",
   "execution_count": 4,
   "id": "92bbc451",
   "metadata": {},
   "outputs": [],
   "source": [
    "data = test[1].data\n",
    "test.close()"
   ]
  },
  {
   "cell_type": "code",
   "execution_count": 5,
   "id": "cd1a4311",
   "metadata": {},
   "outputs": [
    {
     "data": {
      "text/plain": [
       "(670852,)"
      ]
     },
     "execution_count": 5,
     "metadata": {},
     "output_type": "execute_result"
    }
   ],
   "source": [
    "data.shape"
   ]
  },
  {
   "cell_type": "code",
   "execution_count": 6,
   "id": "e3f5a1d9",
   "metadata": {
    "scrolled": false
   },
   "outputs": [
    {
     "name": "stdout",
     "output_type": "stream",
     "text": [
      "[( 75930, '18114', 10, 0.04799938, 18.71685982, 30.69256783,   3,  1, 'DevGalaxy', 0.97443161, 0.7687403 , 0.98163305, 2.69085974e+02, 66.87087896, 25.95775292, 0.03167598, 0.15027918, 0.0043712 , 25.08168901, 0.0226665 , 0.33676302, 0.0070094 , 24.42730413, 0.01944373, 0.61528786, 0.01098576, 24.20424967, 0.02870832, 0.75561424, 0.01991957, 24.2407826 , 0.09089437, 0.73061227, 0.06098122, 24.3692217 , 0.05439502, 0.64909957, 0.03242221, 25.37028783, 0.1187865 , 0.25815757, 0.02815944, 7, 4.79734688e+03, 45020.33785231, 0.6735554 ,  6.644014 , 0.02698214, 0.60895896, 0.67551285, 0.711973 , 0.74083495,  12.898712,   9.5703745)\n",
      " ( 75931, '18114', 10, 0.03181879, 12.76249123, 16.01280022, -99,  0, '', 0.        , 0.        , 0.        , 4.66666667e-03,  0.        ,  0.        , 0.        , 0.        , 0.        ,  0.        , 0.        , 0.        , 0.        ,  0.        , 0.        , 0.        , 0.        ,  0.        , 0.        , 0.        , 0.        ,  0.        , 0.        , 0.        , 0.        ,  0.        , 0.        , 0.        , 0.        ,  0.        , 0.        , 0.        , 0.        , 0, 4.79734688e+13,     0.        , 0.01      , -1.       , 0.        , 0.        , 0.        , 0.       , 0.        , -99.      , -99.       )\n",
      " ( 75932, '18114', 10, 0.03181879, 13.93057632, 20.33235168, -99,  0, '', 0.        , 0.        , 0.        , 4.66666667e-03,  0.        ,  0.        , 0.        , 0.        , 0.        ,  0.        , 0.        , 0.        , 0.        ,  0.        , 0.        , 0.        , 0.        ,  0.        , 0.        , 0.        , 0.        ,  0.        , 0.        , 0.        , 0.        ,  0.        , 0.        , 0.        , 0.        ,  0.        , 0.        , 0.        , 0.        , 0, 4.79734688e+13,     0.        , 0.01      , -1.       , 0.        , 0.        , 0.        , 0.       , 0.        , -99.      , -99.       )\n",
      " ...\n",
      " (984568, '18212', 96, 0.04738947,  4.24650145,  8.77868366,   1,  1, 'PointSource', 0.94192121, 0.73558   , 0.7419775 , 2.70905773e+02, 67.68710189, 26.31612913, 0.04863589, 0.10803099, 0.00482478, 25.91818676, 0.06842857, 0.15585663, 0.00979343, 25.74976873, 0.06946055, 0.18200885, 0.01160921, 25.55956041, 0.11601187, 0.21685819, 0.02310204, 25.25982981, 0.298867  , 0.28580385, 0.07843649, 25.21777467, 0.14553333, 0.29709144, 0.03970313, 26.0874407 , 0.33274293, 0.13335943, 0.04074785, 7, 4.79734688e+03, 45020.33785231, 0.05648814,  1.0841621, 0.03418073, 0.16614279, 0.6462798 , 2.605537 , 3.2547889 ,   9.579337,   9.863496 )\n",
      " (984569, '18212', 96, 0.04813224,  4.81515789,  8.19054222,   1,  1, 'ExpGalaxy', 0.88528402, 1.14613029, 1.23899136, 2.70649051e+02, 67.68381571, 26.74426767, 0.07682172, 0.07282709, 0.00513747, 25.57917562, 0.05554497, 0.21297555, 0.01086292, 25.61533654, 0.0667148 , 0.20599913, 0.01262001, 25.61194135, 0.13036248, 0.20664431, 0.02473707, 25.77242245, 0.48390273, 0.17825061, 0.07920657, 24.33690748, 0.05308665, 0.66870875, 0.03259826, 25.87118845, 0.37079191, 0.16275136, 0.05541496, 7, 4.79734688e+03, 45020.33785231, 0.03040335, 15.109349 , 0.0205224 , 0.07981538, 0.5881682 , 3.828028 , 3.9647841 ,  51.30156 ,  47.416607 )\n",
      " (984570, '18212', 96, 0.04711892,  2.09148407,  4.940732  ,   1,  1, 'PointSource', 0.64225307, 0.48321006, 1.26311128, 2.70846826e+02, 67.68646439, 27.06839572, 0.09564522, 0.05403084, 0.00474545, 26.75352107, 0.13561208, 0.07220904, 0.00899212, 26.27436982, 0.101156  , 0.11226699, 0.01042836, 25.99584545, 0.15705038, 0.14509813, 0.02092536, 26.12256172, 0.60870885, 0.12911459, 0.07217006, 23.90743651, 0.04053403, 0.99317412, 0.03696726, 24.35757625, 0.06732615, 0.65609919, 0.04056257, 7, 4.79734688e+03, 45020.33785231, 0.7073634 ,  0.7978862, 0.5786624 , 0.7079258 , 0.92848223, 1.2054768, 2.1468134 ,  55.914715,  44.51028  )]\n"
     ]
    }
   ],
   "source": [
    "print(data)"
   ]
  },
  {
   "cell_type": "code",
   "execution_count": 7,
   "id": "b197d7b8",
   "metadata": {
    "scrolled": false
   },
   "outputs": [
    {
     "name": "stdout",
     "output_type": "stream",
     "text": [
      "name:\n",
      "    ['id', 'tract_id', 'brick_id', 'EBV', 'cpeak', 'peak', 'N_BLOB', 'VALID_SOURCE_MODELING', 'SOLMODEL_MODELING', 'CHISQ_MODELING_hsc_r', 'CHISQ_MODELING_hsc_i', 'CHISQ_MODELING_hsc_z', 'RA_MODELING', 'DEC_MODELING', 'MAG_hsc_g', 'MAGERR_hsc_g', 'FLUX_hsc_g', 'FLUXERR_hsc_g', 'MAG_hsc_r', 'MAGERR_hsc_r', 'FLUX_hsc_r', 'FLUXERR_hsc_r', 'MAG_hsc_i', 'MAGERR_hsc_i', 'FLUX_hsc_i', 'FLUXERR_hsc_i', 'MAG_hsc_z', 'MAGERR_hsc_z', 'FLUX_hsc_z', 'FLUXERR_hsc_z', 'MAG_hsc_y', 'MAGERR_hsc_y', 'FLUX_hsc_y', 'FLUXERR_hsc_y', 'MAG_irac_ch1', 'MAGERR_irac_ch1', 'FLUX_irac_ch1', 'FLUXERR_irac_ch1', 'MAG_irac_ch2', 'MAGERR_irac_ch2', 'FLUX_irac_ch2', 'FLUXERR_irac_ch2', 'nusefilt', 'lc_min', 'lc_max', 'z_raw_chi2', 'z_phot_chi2', 'z025', 'z160', 'z500', 'z840', 'z975', 'PSTAR_chi2', 'LSTAR_chi2']\n",
      "format:\n",
      "    ['K', '5A', 'K', 'E', 'D', 'D', 'K', 'L', '20A', 'D', 'D', 'D', 'D', 'D', 'D', 'D', 'D', 'D', 'D', 'D', 'D', 'D', 'D', 'D', 'D', 'D', 'D', 'D', 'D', 'D', 'D', 'D', 'D', 'D', 'D', 'D', 'D', 'D', 'D', 'D', 'D', 'D', 'K', 'D', 'D', 'E', 'E', 'E', 'E', 'E', 'E', 'E', 'E', 'E']\n",
      "unit:\n",
      "    ['', '', '', '', '', '', '', '', '', '', '', '', '', '', '', '', '', '', '', '', '', '', '', '', '', '', '', '', '', '', '', '', '', '', '', '', '', '', '', '', '', '', '', '', '', '', '', '', '', '', '', '', '', '']\n",
      "null:\n",
      "    ['', '', '', '', '', '', '', '', '', '', '', '', '', '', '', '', '', '', '', '', '', '', '', '', '', '', '', '', '', '', '', '', '', '', '', '', '', '', '', '', '', '', '', '', '', '', '', '', '', '', '', '', '', '']\n",
      "bscale:\n",
      "    ['', '', '', '', '', '', '', '', '', '', '', '', '', '', '', '', '', '', '', '', '', '', '', '', '', '', '', '', '', '', '', '', '', '', '', '', '', '', '', '', '', '', '', '', '', '', '', '', '', '', '', '', '', '']\n",
      "bzero:\n",
      "    ['', '', '', '', '', '', '', '', '', '', '', '', '', '', '', '', '', '', '', '', '', '', '', '', '', '', '', '', '', '', '', '', '', '', '', '', '', '', '', '', '', '', '', '', '', '', '', '', '', '', '', '', '', '']\n",
      "disp:\n",
      "    ['', '', '', '', '', '', '', '', '', '', '', '', '', '', '', '', '', '', '', '', '', '', '', '', '', '', '', '', '', '', '', '', '', '', '', '', '', '', '', '', '', '', '', 'F10.1', 'F10.1', '', '', 'F8.4', 'F8.4', 'F8.4', 'F8.4', 'F8.4', '', '']\n",
      "start:\n",
      "    ['', '', '', '', '', '', '', '', '', '', '', '', '', '', '', '', '', '', '', '', '', '', '', '', '', '', '', '', '', '', '', '', '', '', '', '', '', '', '', '', '', '', '', '', '', '', '', '', '', '', '', '', '', '']\n",
      "dim:\n",
      "    ['', '', '', '', '', '', '', '', '', '', '', '', '', '', '', '', '', '', '', '', '', '', '', '', '', '', '', '', '', '', '', '', '', '', '', '', '', '', '', '', '', '', '', '', '', '', '', '', '', '', '', '', '', '']\n",
      "coord_type:\n",
      "    ['', '', '', '', '', '', '', '', '', '', '', '', '', '', '', '', '', '', '', '', '', '', '', '', '', '', '', '', '', '', '', '', '', '', '', '', '', '', '', '', '', '', '', '', '', '', '', '', '', '', '', '', '', '']\n",
      "coord_unit:\n",
      "    ['', '', '', '', '', '', '', '', '', '', '', '', '', '', '', '', '', '', '', '', '', '', '', '', '', '', '', '', '', '', '', '', '', '', '', '', '', '', '', '', '', '', '', '', '', '', '', '', '', '', '', '', '', '']\n",
      "coord_ref_point:\n",
      "    ['', '', '', '', '', '', '', '', '', '', '', '', '', '', '', '', '', '', '', '', '', '', '', '', '', '', '', '', '', '', '', '', '', '', '', '', '', '', '', '', '', '', '', '', '', '', '', '', '', '', '', '', '', '']\n",
      "coord_ref_value:\n",
      "    ['', '', '', '', '', '', '', '', '', '', '', '', '', '', '', '', '', '', '', '', '', '', '', '', '', '', '', '', '', '', '', '', '', '', '', '', '', '', '', '', '', '', '', '', '', '', '', '', '', '', '', '', '', '']\n",
      "coord_inc:\n",
      "    ['', '', '', '', '', '', '', '', '', '', '', '', '', '', '', '', '', '', '', '', '', '', '', '', '', '', '', '', '', '', '', '', '', '', '', '', '', '', '', '', '', '', '', '', '', '', '', '', '', '', '', '', '', '']\n",
      "time_ref_pos:\n",
      "    ['', '', '', '', '', '', '', '', '', '', '', '', '', '', '', '', '', '', '', '', '', '', '', '', '', '', '', '', '', '', '', '', '', '', '', '', '', '', '', '', '', '', '', '', '', '', '', '', '', '', '', '', '', '']\n"
     ]
    }
   ],
   "source": [
    "data.columns.info()"
   ]
  },
  {
   "cell_type": "code",
   "execution_count": 8,
   "id": "f9e4ba65",
   "metadata": {},
   "outputs": [
    {
     "data": {
      "text/plain": [
       "['id',\n",
       " 'tract_id',\n",
       " 'brick_id',\n",
       " 'EBV',\n",
       " 'cpeak',\n",
       " 'peak',\n",
       " 'N_BLOB',\n",
       " 'VALID_SOURCE_MODELING',\n",
       " 'SOLMODEL_MODELING',\n",
       " 'CHISQ_MODELING_hsc_r',\n",
       " 'CHISQ_MODELING_hsc_i',\n",
       " 'CHISQ_MODELING_hsc_z',\n",
       " 'RA_MODELING',\n",
       " 'DEC_MODELING',\n",
       " 'MAG_hsc_g',\n",
       " 'MAGERR_hsc_g',\n",
       " 'FLUX_hsc_g',\n",
       " 'FLUXERR_hsc_g',\n",
       " 'MAG_hsc_r',\n",
       " 'MAGERR_hsc_r',\n",
       " 'FLUX_hsc_r',\n",
       " 'FLUXERR_hsc_r',\n",
       " 'MAG_hsc_i',\n",
       " 'MAGERR_hsc_i',\n",
       " 'FLUX_hsc_i',\n",
       " 'FLUXERR_hsc_i',\n",
       " 'MAG_hsc_z',\n",
       " 'MAGERR_hsc_z',\n",
       " 'FLUX_hsc_z',\n",
       " 'FLUXERR_hsc_z',\n",
       " 'MAG_hsc_y',\n",
       " 'MAGERR_hsc_y',\n",
       " 'FLUX_hsc_y',\n",
       " 'FLUXERR_hsc_y',\n",
       " 'MAG_irac_ch1',\n",
       " 'MAGERR_irac_ch1',\n",
       " 'FLUX_irac_ch1',\n",
       " 'FLUXERR_irac_ch1',\n",
       " 'MAG_irac_ch2',\n",
       " 'MAGERR_irac_ch2',\n",
       " 'FLUX_irac_ch2',\n",
       " 'FLUXERR_irac_ch2',\n",
       " 'nusefilt',\n",
       " 'lc_min',\n",
       " 'lc_max',\n",
       " 'z_raw_chi2',\n",
       " 'z_phot_chi2',\n",
       " 'z025',\n",
       " 'z160',\n",
       " 'z500',\n",
       " 'z840',\n",
       " 'z975',\n",
       " 'PSTAR_chi2',\n",
       " 'LSTAR_chi2']"
      ]
     },
     "execution_count": 8,
     "metadata": {},
     "output_type": "execute_result"
    }
   ],
   "source": [
    "data.columns.names"
   ]
  },
  {
   "cell_type": "code",
   "execution_count": 9,
   "id": "0cdd1e42",
   "metadata": {},
   "outputs": [
    {
     "data": {
      "text/plain": [
       "array([2.69085974e+02, 4.66666667e-03, 4.66666667e-03, ...,\n",
       "       2.70905773e+02, 2.70649051e+02, 2.70846826e+02])"
      ]
     },
     "execution_count": 9,
     "metadata": {},
     "output_type": "execute_result"
    }
   ],
   "source": [
    "data.field('RA_MODELING')"
   ]
  },
  {
   "cell_type": "code",
   "execution_count": 10,
   "id": "19d099c6",
   "metadata": {},
   "outputs": [],
   "source": [
    "peaks = data.field('peak')"
   ]
  },
  {
   "cell_type": "code",
   "execution_count": 11,
   "id": "237eecea",
   "metadata": {},
   "outputs": [
    {
     "data": {
      "text/plain": [
       "numpy.ndarray"
      ]
     },
     "execution_count": 11,
     "metadata": {},
     "output_type": "execute_result"
    }
   ],
   "source": [
    "type(peaks)"
   ]
  },
  {
   "cell_type": "code",
   "execution_count": 12,
   "id": "0d0088e6",
   "metadata": {},
   "outputs": [
    {
     "data": {
      "text/plain": [
       "(array([], dtype=int64),)"
      ]
     },
     "execution_count": 12,
     "metadata": {},
     "output_type": "execute_result"
    }
   ],
   "source": [
    "np.where(peaks == 0)"
   ]
  },
  {
   "cell_type": "code",
   "execution_count": 13,
   "id": "55381a34",
   "metadata": {},
   "outputs": [],
   "source": [
    "zeros = np.where(peaks == 0)[0]"
   ]
  },
  {
   "cell_type": "code",
   "execution_count": 14,
   "id": "228c7600",
   "metadata": {},
   "outputs": [
    {
     "data": {
      "text/plain": [
       "array([], dtype=int64)"
      ]
     },
     "execution_count": 14,
     "metadata": {},
     "output_type": "execute_result"
    }
   ],
   "source": [
    "zeros"
   ]
  }
 ],
 "metadata": {
  "kernelspec": {
   "display_name": "Python 3 (ipykernel)",
   "language": "python",
   "name": "python3"
  },
  "language_info": {
   "codemirror_mode": {
    "name": "ipython",
    "version": 3
   },
   "file_extension": ".py",
   "mimetype": "text/x-python",
   "name": "python",
   "nbconvert_exporter": "python",
   "pygments_lexer": "ipython3",
   "version": "3.10.6"
  }
 },
 "nbformat": 4,
 "nbformat_minor": 5
}
