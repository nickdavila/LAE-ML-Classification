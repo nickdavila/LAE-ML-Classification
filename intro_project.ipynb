{
 "cells": [
  {
   "cell_type": "code",
   "execution_count": 1,
   "id": "5fd2b5ff",
   "metadata": {},
   "outputs": [],
   "source": [
    "# Using ML to classify LAEs in the NEP Field\n",
    "import tables as tb\n",
    "import numpy as np\n",
    "\n",
    "import matplotlib.pyplot as plt\n",
    "from matplotlib.colors import LogNorm\n",
    "\n",
    "from astropy import constants as const\n",
    "from astropy.table import Table, column, join\n",
    "from astropy.io import fits\n",
    "import astropy.units as u\n",
    "from astropy.coordinates import SkyCoord\n",
    "from astropy.visualization import ZScaleInterval\n",
    "\n",
    "from regions import CircleSkyRegion, CirclePixelRegion\n",
    "\n",
    "from hetdex_api.survey import Survey, FiberIndex\n",
    "from hetdex_api.config import HDRconfig\n",
    "from hetdex_api.detections import Detections\n",
    "from hetdex_api.elixer_widget_cls import ElixerWidget\n",
    "\n",
    "from hetdex_tools.get_spec import get_spectra\n",
    "\n",
    "import pandas as pd\n",
    "import seaborn as sb"
   ]
  },
  {
   "cell_type": "code",
   "execution_count": 2,
   "id": "29140b57",
   "metadata": {},
   "outputs": [],
   "source": [
    "det_object = Detections('hdr2.1', loadtable = False)"
   ]
  },
  {
   "cell_type": "code",
   "execution_count": 3,
   "id": "3f307cc7",
   "metadata": {},
   "outputs": [
    {
     "name": "stdout",
     "output_type": "stream",
     "text": [
      "det_object: 69799\n"
     ]
    }
   ],
   "source": [
    "# Once it has loaded you want to filter out the data by selecting those that are in the NEP field\n",
    "# to do this I will give you the verticies of a box that will encompass all the NEP field - Oscar\n",
    "\n",
    "# The center of the NEP field is given by:\n",
    "# NEP Central Coordinates:\n",
    "# R.A. = 18hours00minutes00seconds, decl. = 66 degree 33minute 38.552 arcmin\n",
    "# Then make a radius of 3.5 degrees centered above and find all the RA and DEC coordinates\n",
    "# in the DF that are within this circle\n",
    "\n",
    "# creating the circle region in the sky (NEP field)\n",
    "ra = '18h00m00s'\n",
    "dec = '+66d33m38.552s'\n",
    "center_sky_coords = SkyCoord(ra, dec, frame = 'icrs')\n",
    "\n",
    "maskregion = det_object.query_by_coords(center_sky_coords, 3.5 * u.deg)\n",
    "detects_in_NEP = det_object[maskregion]     # Sources within the NEP footprint\n",
    "\n",
    "print('det_object: ', end = \"\")\n",
    "print(np.size(detects_in_NEP.detectid))"
   ]
  },
  {
   "cell_type": "code",
   "execution_count": null,
   "id": "d07e29a7",
   "metadata": {},
   "outputs": [],
   "source": [
    "ra = detects_in_NEP.ra * u.deg\n",
    "dec = detects_in_NEP.dec * u.deg\n",
    "input_coords = SkyCoord(ra, dec)"
   ]
  },
  {
   "cell_type": "code",
   "execution_count": null,
   "id": "02969e5a",
   "metadata": {
    "scrolled": false
   },
   "outputs": [],
   "source": [
    "sources = get_spectra(input_coords[10])"
   ]
  },
  {
   "cell_type": "code",
   "execution_count": null,
   "id": "fba266ae",
   "metadata": {},
   "outputs": [],
   "source": [
    "sources"
   ]
  },
  {
   "cell_type": "code",
   "execution_count": null,
   "id": "3061ad96",
   "metadata": {
    "scrolled": true
   },
   "outputs": [],
   "source": [
    "det_object.__dict__.keys()"
   ]
  },
  {
   "cell_type": "code",
   "execution_count": null,
   "id": "fc06631d",
   "metadata": {},
   "outputs": [],
   "source": [
    "print(det_object.version)"
   ]
  },
  {
   "cell_type": "code",
   "execution_count": null,
   "id": "e8f1304e",
   "metadata": {},
   "outputs": [],
   "source": [
    "# Once you have selected sources within the NEP footprint we can then go ahead and find some\n",
    "# spectra from these sources - Oscar\n",
    "spectra = detects_in_NEP.hdfile.root.Spectra"
   ]
  },
  {
   "cell_type": "markdown",
   "id": "49f4c104",
   "metadata": {},
   "source": [
    "center_ksy.separations(skycoords entire)\n",
    "    return indeces\n",
    "    return distance\n",
    "    return 3d\n",
    "\n",
    "separate by dist\n",
    "mask\n",
    "\n",
    "main goal of algorithm\n",
    "want it to distinguish lae vs o2 emitter. wouldn't impose cuts unless training.\n",
    "\n",
    "cut = filter\n",
    "cut = signal to noise could do plya\n",
    "\n",
    "might need cuts for taining for confident lya and o2\n",
    "\n",
    "increase confidence by visually inspecting\n",
    "\n",
    "could visually inspect to increase confidence.\n",
    "\n",
    "plotting histograms to look for outliers\n",
    "\n",
    "hetdex isn't perfect and it catches emission lines that aren't real. visual inspections helps\n",
    "\n",
    "no need for dataframes if i found another way\n",
    "\n",
    "save as csv with astropy table\n",
    "\n",
    "csv into get_spec()\n",
    "\n",
    "    has nice documentation\n",
    "        \n",
    "get_spectrum good for ids ****USE*** returns all fiber spec with corresponding weights.\n",
    "\n",
    "    try to see if can get LAE samples. O2 samples. and ambigious samples. Clasify some of them. Signal to noise (ask Oscar)\n",
    "    \n",
    "    \n",
    "detection object filter by fields. turn to astropy table and then filter. \n",
    "\n",
    "Want psf weighted."
   ]
  },
  {
   "cell_type": "code",
   "execution_count": null,
   "id": "89f3c3ad",
   "metadata": {},
   "outputs": [],
   "source": []
  }
 ],
 "metadata": {
  "kernelspec": {
   "display_name": "Python 3",
   "language": "python",
   "name": "python3"
  },
  "language_info": {
   "codemirror_mode": {
    "name": "ipython",
    "version": 3
   },
   "file_extension": ".py",
   "mimetype": "text/x-python",
   "name": "python",
   "nbconvert_exporter": "python",
   "pygments_lexer": "ipython3",
   "version": "3.9.4"
  }
 },
 "nbformat": 4,
 "nbformat_minor": 5
}
