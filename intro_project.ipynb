{
 "cells": [
  {
   "cell_type": "code",
   "execution_count": null,
   "id": "5fd2b5ff",
   "metadata": {},
   "outputs": [],
   "source": [
    "# Using ML to classify LAEs in the NEP Field\n",
    "import tables as tb\n",
    "import numpy as np\n",
    "\n",
    "import matplotlib.pyplot as plt\n",
    "from matplotlib.colors import LogNorm\n",
    "\n",
    "from astropy import constants as const\n",
    "from astropy.table import Table, column, join\n",
    "from astropy.io import fits\n",
    "import astropy.units as u\n",
    "from astropy.coordinates import SkyCoord\n",
    "from astropy.visualization import ZScaleInterval\n",
    "\n",
    "from regions import CircleSkyRegion, CirclePixelRegion\n",
    "\n",
    "from hetdex_api.survey import Survey, FiberIndex\n",
    "from hetdex_api.config import HDRconfig\n",
    "from hetdex_api.detections import Detections\n",
    "\n",
    "from hetdex_tools.get_spec import get_spectra\n",
    "\n",
    "import pandas as pd\n",
    "import seaborn as sb"
   ]
  },
  {
   "cell_type": "code",
   "execution_count": null,
   "id": "67a4d616",
   "metadata": {},
   "outputs": [],
   "source": [
    "config = HDRconfig(survey = 'hdr2.1')\n",
    "file_elix = tb.open_file(config.elixerh5)"
   ]
  },
  {
   "cell_type": "code",
   "execution_count": null,
   "id": "c949a4d6",
   "metadata": {},
   "outputs": [],
   "source": [
    "#getting the detections info from the h5 file\n",
    "Detections_h5 = file_elix.root.Detections"
   ]
  },
  {
   "cell_type": "code",
   "execution_count": null,
   "id": "ae239f33",
   "metadata": {},
   "outputs": [],
   "source": [
    "det_object = Detections('hdr2.1', loadtable = False)"
   ]
  },
  {
   "cell_type": "code",
   "execution_count": null,
   "id": "3f307cc7",
   "metadata": {},
   "outputs": [],
   "source": [
    "# Once it has loaded you want to filter out the data by selecting those that are in the NEP field\n",
    "# to do this I will give you the verticies of a box that will encompass all the NEP field - Oscar\n",
    "\n",
    "# The center of the NEP field is given by:\n",
    "# NEP Central Coordinates:\n",
    "# R.A. = 18hours00minutes00seconds, decl. = 66 degree 33minute 38.552 arcmin\n",
    "# Then make a radius of 3.5 degrees centered above and find all the RA and DEC coordinates\n",
    "# in the DF that are within this circle\n",
    "\n",
    "########################\n",
    "# creating the circle region in the sky (NEP field)\n",
    "ra = '18h00m00s'\n",
    "dec = '+66d33m38.552s'\n",
    "center_sky_coords = SkyCoord(ra, dec, frame = 'icrs')\n",
    "\n",
    "#sources = get_spectra(center_sky_coords, config)\n",
    "\n",
    "maskregion = det_object.query_by_coords(center_sky_coords, 3.5 * u.deg)\n",
    "detects_in_NEP = det_object[maskregion]     # Sources within the NEP footprint\n",
    "print(np.size(detects_in_NEP.detectid))\n",
    "\n",
    "########################"
   ]
  },
  {
   "cell_type": "code",
   "execution_count": null,
   "id": "e8f1304e",
   "metadata": {},
   "outputs": [],
   "source": [
    "# Once you have selected sources within the NEP footprint we can then go ahead and find some\n",
    "# spectra from these sources - Oscar\n",
    "spectra = detects_in_NEP.hdfile.root.Spectra"
   ]
  },
  {
   "cell_type": "code",
   "execution_count": null,
   "id": "ad538759",
   "metadata": {},
   "outputs": [],
   "source": [
    "detects_in_NEP.__dict__.keys()"
   ]
  },
  {
   "cell_type": "code",
   "execution_count": null,
   "id": "5dc3792c",
   "metadata": {},
   "outputs": [],
   "source": [
    "detects_in_NEP.detectid"
   ]
  },
  {
   "cell_type": "code",
   "execution_count": null,
   "id": "846be721",
   "metadata": {},
   "outputs": [],
   "source": [
    "detects_in_NEP.wave     #wavelengths"
   ]
  },
  {
   "cell_type": "code",
   "execution_count": null,
   "id": "fd3b7b8c",
   "metadata": {},
   "outputs": [],
   "source": [
    "detects_in_NEP.detectid"
   ]
  },
  {
   "cell_type": "markdown",
   "id": "49f4c104",
   "metadata": {},
   "source": [
    "center_ksy.separations(skycoords entire)\n",
    "    return indeces\n",
    "    return distance\n",
    "    return 3d\n",
    "\n",
    "separate by dist\n",
    "mask\n",
    "\n",
    "main goal of algorithm\n",
    "want it to distinguish lae vs o2 emitter. wouldn't impose cuts unless training.\n",
    "\n",
    "cut = filter\n",
    "cut = signal to noise could do plya\n",
    "\n",
    "might need cuts for taining for confident lya and o2\n",
    "\n",
    "increase confidence by visually inspecting\n",
    "\n",
    "could visually inspect to increase confidence.\n",
    "\n",
    "plotting histograms to look for outliers\n",
    "\n",
    "hetdex isn't perfect and it catches emission lines that aren't real. visual inspections helps\n",
    "\n",
    "no need for dataframes if i found another way\n",
    "\n",
    "save as csv with astropy table\n",
    "\n",
    "csv into get_spec()\n",
    "\n",
    "    has nice documentation\n",
    "        \n",
    "get_spectrum good for ids ****USE*** returns all fiber spec with corresponding weights.\n",
    "\n",
    "    try to see if can get LAE samples. O2 samples. and ambigious samples. Clasify some of them. Signal to noise (ask Oscar)"
   ]
  }
 ],
 "metadata": {
  "kernelspec": {
   "display_name": "Python 3",
   "language": "python",
   "name": "python3"
  },
  "language_info": {
   "codemirror_mode": {
    "name": "ipython",
    "version": 3
   },
   "file_extension": ".py",
   "mimetype": "text/x-python",
   "name": "python",
   "nbconvert_exporter": "python",
   "pygments_lexer": "ipython3",
   "version": "3.9.4"
  }
 },
 "nbformat": 4,
 "nbformat_minor": 5
}
