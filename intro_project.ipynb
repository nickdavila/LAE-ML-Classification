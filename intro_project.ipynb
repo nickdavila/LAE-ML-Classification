{
 "cells": [
  {
   "cell_type": "code",
   "execution_count": 1,
   "id": "5fd2b5ff",
   "metadata": {},
   "outputs": [],
   "source": [
    "# Using ML to classify LAEs in the NEP Field\n",
    "import tables as tb\n",
    "import numpy as np\n",
    "\n",
    "import matplotlib.pyplot as plt\n",
    "from matplotlib.colors import LogNorm\n",
    "\n",
    "from astropy import constants as const\n",
    "from astropy.table import Table, column, join\n",
    "from astropy.io import fits\n",
    "import astropy.units as u\n",
    "from astropy.coordinates import SkyCoord\n",
    "from astropy.visualization import ZScaleInterval\n",
    "\n",
    "from regions import CircleSkyRegion, CirclePixelRegion\n",
    "\n",
    "from hetdex_api.survey import Survey, FiberIndex\n",
    "from hetdex_api.config import HDRconfig\n",
    "from hetdex_api.detections import Detections\n",
    "\n",
    "from hetdex_tools.get_spec import get_spectra\n",
    "\n",
    "import pandas as pd\n",
    "import seaborn as sb"
   ]
  },
  {
   "cell_type": "code",
   "execution_count": 2,
   "id": "29140b57",
   "metadata": {},
   "outputs": [],
   "source": [
    "det_object = Detections('hdr2.1', loadtable = False)"
   ]
  },
  {
   "cell_type": "code",
   "execution_count": 13,
   "id": "ae239f33",
   "metadata": {},
   "outputs": [],
   "source": [
    "hdr2 = Detections(curated_version = '2.1.3')"
   ]
  },
  {
   "cell_type": "code",
   "execution_count": 14,
   "id": "fe5a9624",
   "metadata": {
    "scrolled": true
   },
   "outputs": [
    {
     "name": "stdout",
     "output_type": "stream",
     "text": [
      "hdr2.coords.size 578587\n",
      "det_object.coords.size 1482880\n"
     ]
    }
   ],
   "source": [
    "print('hdr2.coords.size', hdr2.coords.size)\n",
    "print('det_object.coords.size', det_object.coords.size)"
   ]
  },
  {
   "cell_type": "code",
   "execution_count": 21,
   "id": "c15f36b2",
   "metadata": {},
   "outputs": [],
   "source": [
    "tb = hdr2.return_astropy_table()"
   ]
  },
  {
   "cell_type": "code",
   "execution_count": 25,
   "id": "5b62a0f0",
   "metadata": {},
   "outputs": [
    {
     "data": {
      "text/plain": [
       "array([False, False, False, ..., False, False, False])"
      ]
     },
     "execution_count": 25,
     "metadata": {},
     "output_type": "execute_result"
    }
   ],
   "source": [
    "tb[\"field\"] == \"nep\""
   ]
  },
  {
   "cell_type": "code",
   "execution_count": 28,
   "id": "20da68ba",
   "metadata": {},
   "outputs": [
    {
     "data": {
      "text/html": [
       "&lt;Column name=&apos;field&apos; dtype=&apos;str12&apos; length=5&gt;\n",
       "<table>\n",
       "<tr><td>cosmos</td></tr>\n",
       "<tr><td>dex-fall</td></tr>\n",
       "<tr><td>dex-spring</td></tr>\n",
       "<tr><td>egs</td></tr>\n",
       "<tr><td>goods-n</td></tr>\n",
       "</table>"
      ],
      "text/plain": [
       "<Column name='field' dtype='str12' length=5>\n",
       "    cosmos\n",
       "  dex-fall\n",
       "dex-spring\n",
       "       egs\n",
       "   goods-n"
      ]
     },
     "execution_count": 28,
     "metadata": {},
     "output_type": "execute_result"
    }
   ],
   "source": [
    "np.unique(tb[\"field\"])"
   ]
  },
  {
   "cell_type": "code",
   "execution_count": 19,
   "id": "3f307cc7",
   "metadata": {},
   "outputs": [
    {
     "name": "stdout",
     "output_type": "stream",
     "text": [
      "hdr2: 0\n",
      "det_object: 69799\n"
     ]
    }
   ],
   "source": [
    "# Once it has loaded you want to filter out the data by selecting those that are in the NEP field\n",
    "# to do this I will give you the verticies of a box that will encompass all the NEP field - Oscar\n",
    "\n",
    "# The center of the NEP field is given by:\n",
    "# NEP Central Coordinates:\n",
    "# R.A. = 18hours00minutes00seconds, decl. = 66 degree 33minute 38.552 arcmin\n",
    "# Then make a radius of 3.5 degrees centered above and find all the RA and DEC coordinates\n",
    "# in the DF that are within this circle\n",
    "\n",
    "########### USING HDR2 OBJECT #########################\n",
    "# creating the circle region in the sky (NEP field)\n",
    "ra = '18h00m00s'\n",
    "dec = '+66d33m38.552s'\n",
    "center_sky_coords = SkyCoord(ra, dec, frame = 'icrs')\n",
    "\n",
    "maskregion = hdr2.query_by_coords(center_sky_coords, 3.5 * u.deg)\n",
    "detects_in_NEP = hdr2[maskregion]     # Sources within the NEP footprint\n",
    "print('hdr2: ', end = \"\")\n",
    "print(np.size(detects_in_NEP.detectid))\n",
    "\n",
    "########### USING det_object OBJECT #########################\n",
    "\n",
    "ra = '18h00m00s'\n",
    "dec = '+66d33m38.552s'\n",
    "center_sky_coords = SkyCoord(ra, dec, frame = 'icrs')\n",
    "\n",
    "maskregion = det_object.query_by_coords(center_sky_coords, 3.5 * u.deg)\n",
    "detects_in_NEP = det_object[maskregion]     # Sources within the NEP footprint\n",
    "print('det_object: ', end = \"\")\n",
    "print(np.size(detects_in_NEP.detectid))"
   ]
  },
  {
   "cell_type": "code",
   "execution_count": 17,
   "id": "9c5a12a3",
   "metadata": {},
   "outputs": [
    {
     "data": {
      "text/plain": [
       "0"
      ]
     },
     "execution_count": 17,
     "metadata": {},
     "output_type": "execute_result"
    }
   ],
   "source": [
    "np.sum(maskregion)"
   ]
  },
  {
   "cell_type": "code",
   "execution_count": null,
   "id": "e8f1304e",
   "metadata": {},
   "outputs": [],
   "source": [
    "# Once you have selected sources within the NEP footprint we can then go ahead and find some\n",
    "# spectra from these sources - Oscar\n",
    "spectra = detects_in_NEP.hdfile.root.Spectra"
   ]
  },
  {
   "cell_type": "markdown",
   "id": "49f4c104",
   "metadata": {},
   "source": [
    "center_ksy.separations(skycoords entire)\n",
    "    return indeces\n",
    "    return distance\n",
    "    return 3d\n",
    "\n",
    "separate by dist\n",
    "mask\n",
    "\n",
    "main goal of algorithm\n",
    "want it to distinguish lae vs o2 emitter. wouldn't impose cuts unless training.\n",
    "\n",
    "cut = filter\n",
    "cut = signal to noise could do plya\n",
    "\n",
    "might need cuts for taining for confident lya and o2\n",
    "\n",
    "increase confidence by visually inspecting\n",
    "\n",
    "could visually inspect to increase confidence.\n",
    "\n",
    "plotting histograms to look for outliers\n",
    "\n",
    "hetdex isn't perfect and it catches emission lines that aren't real. visual inspections helps\n",
    "\n",
    "no need for dataframes if i found another way\n",
    "\n",
    "save as csv with astropy table\n",
    "\n",
    "csv into get_spec()\n",
    "\n",
    "    has nice documentation\n",
    "        \n",
    "get_spectrum good for ids ****USE*** returns all fiber spec with corresponding weights.\n",
    "\n",
    "    try to see if can get LAE samples. O2 samples. and ambigious samples. Clasify some of them. Signal to noise (ask Oscar)\n",
    "    \n",
    "    \n",
    "detection object filter by fields. turn to astropy table and then filter. \n",
    "\n",
    "Want psf weighted."
   ]
  },
  {
   "cell_type": "code",
   "execution_count": null,
   "id": "89f3c3ad",
   "metadata": {},
   "outputs": [],
   "source": []
  }
 ],
 "metadata": {
  "kernelspec": {
   "display_name": "Python 3",
   "language": "python",
   "name": "python3"
  },
  "language_info": {
   "codemirror_mode": {
    "name": "ipython",
    "version": 3
   },
   "file_extension": ".py",
   "mimetype": "text/x-python",
   "name": "python",
   "nbconvert_exporter": "python",
   "pygments_lexer": "ipython3",
   "version": "3.9.4"
  }
 },
 "nbformat": 4,
 "nbformat_minor": 5
}
