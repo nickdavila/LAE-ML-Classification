{
 "cells": [
  {
   "cell_type": "code",
   "execution_count": 1,
   "id": "5fd2b5ff",
   "metadata": {},
   "outputs": [],
   "source": [
    "# Using ML to classify LAEs in the NEP Field\n",
    "import tables as tb\n",
    "import numpy as np\n",
    "\n",
    "import matplotlib.pyplot as plt\n",
    "from matplotlib.colors import LogNorm\n",
    "\n",
    "from astropy import constants as const\n",
    "from astropy.table import Table, column, join\n",
    "from astropy.io import fits\n",
    "import astropy.units as u\n",
    "from astropy.coordinates import SkyCoord\n",
    "from astropy.visualization import ZScaleInterval\n",
    "\n",
    "from regions import CircleSkyRegion, CirclePixelRegion\n",
    "\n",
    "from hetdex_api.survey import Survey, FiberIndex\n",
    "from hetdex_api.config import HDRconfig\n",
    "from hetdex_api.detections import Detections\n",
    "from hetdex_api.elixer_widget_cls import ElixerWidget\n",
    "\n",
    "from hetdex_tools.get_spec import get_spectra\n",
    "\n",
    "import pandas as pd\n",
    "import seaborn as sns"
   ]
  },
  {
   "cell_type": "code",
   "execution_count": 2,
   "id": "29140b57",
   "metadata": {},
   "outputs": [],
   "source": [
    "det_object = Detections('hdr2.1', loadtable = False)"
   ]
  },
  {
   "cell_type": "code",
   "execution_count": 3,
   "id": "3f307cc7",
   "metadata": {},
   "outputs": [],
   "source": [
    "# Once it has loaded you want to filter out the data by selecting those that are in the NEP field\n",
    "# to do this I will give you the verticies of a box that will encompass all the NEP field - Oscar\n",
    "\n",
    "# The center of the NEP field is given by:\n",
    "# NEP Central Coordinates:\n",
    "# R.A. = 18hours00minutes00seconds, decl. = 66 degree 33minute 38.552 arcmin\n",
    "# Then make a radius of 3.5 degrees centered above and find all the RA and DEC coordinates\n",
    "# in the DF that are within this circle\n",
    "\n",
    "# creating the circle region in the sky (NEP field)\n",
    "ra = '18h00m00s'\n",
    "dec = '+66d33m38.552s'\n",
    "center_sky_coords = SkyCoord(ra, dec, frame = 'icrs')\n",
    "\n",
    "maskregion = det_object.query_by_coords(center_sky_coords, 3.5 * u.deg)\n",
    "detects_in_NEP = det_object[maskregion]     # Sources within the NEP footprint"
   ]
  },
  {
   "cell_type": "code",
   "execution_count": 17,
   "id": "86aa8459",
   "metadata": {},
   "outputs": [],
   "source": [
    "spec_test = detects_in_NEP.get_spectrum(detects_in_NEP.detectid[0])"
   ]
  },
  {
   "cell_type": "code",
   "execution_count": 20,
   "id": "533be148",
   "metadata": {
    "scrolled": true
   },
   "outputs": [
    {
     "data": {
      "text/html": [
       "<div><i>Table length=1036</i>\n",
       "<table id=\"table140078848873904\" class=\"table-striped table-bordered table-condensed\">\n",
       "<thead><tr><th>wave1d</th><th>spec1d</th><th>spec1d_err</th></tr></thead>\n",
       "<thead><tr><th>Angstrom</th><th>1e-17 erg / (Angstrom cm2 s)</th><th>1e-17 erg / (Angstrom cm2 s)</th></tr></thead>\n",
       "<thead><tr><th>float32</th><th>float32</th><th>float32</th></tr></thead>\n",
       "<tr><td>3470.0</td><td>1.3739702</td><td>3.301174</td></tr>\n",
       "<tr><td>3472.0</td><td>1.3739702</td><td>3.301174</td></tr>\n",
       "<tr><td>3474.0</td><td>1.3739702</td><td>3.301174</td></tr>\n",
       "<tr><td>3476.0</td><td>1.3739702</td><td>3.301174</td></tr>\n",
       "<tr><td>3478.0</td><td>1.3739702</td><td>3.301174</td></tr>\n",
       "<tr><td>3480.0</td><td>1.3739702</td><td>3.301174</td></tr>\n",
       "<tr><td>3482.0</td><td>1.3739702</td><td>3.301174</td></tr>\n",
       "<tr><td>3484.0</td><td>1.3739702</td><td>3.301174</td></tr>\n",
       "<tr><td>3486.0</td><td>1.3739702</td><td>3.301174</td></tr>\n",
       "<tr><td>...</td><td>...</td><td>...</td></tr>\n",
       "<tr><td>5522.0</td><td>1.9421544</td><td>1.8177477</td></tr>\n",
       "<tr><td>5524.0</td><td>1.9345994</td><td>1.8484716</td></tr>\n",
       "<tr><td>5526.0</td><td>1.9345994</td><td>1.8484716</td></tr>\n",
       "<tr><td>5528.0</td><td>1.9345994</td><td>1.8484716</td></tr>\n",
       "<tr><td>5530.0</td><td>1.9345994</td><td>1.8484716</td></tr>\n",
       "<tr><td>5532.0</td><td>1.9345994</td><td>1.8484716</td></tr>\n",
       "<tr><td>5534.0</td><td>1.9345994</td><td>1.8484716</td></tr>\n",
       "<tr><td>5536.0</td><td>1.9345994</td><td>1.8484716</td></tr>\n",
       "<tr><td>5538.0</td><td>1.9345994</td><td>1.8484716</td></tr>\n",
       "<tr><td>5540.0</td><td>1.9345994</td><td>1.8484716</td></tr>\n",
       "</table></div>"
      ],
      "text/plain": [
       "<Table length=1036>\n",
       " wave1d             spec1d                     spec1d_err         \n",
       "Angstrom 1e-17 erg / (Angstrom cm2 s) 1e-17 erg / (Angstrom cm2 s)\n",
       "float32            float32                      float32           \n",
       "-------- ---------------------------- ----------------------------\n",
       "  3470.0                    1.3739702                     3.301174\n",
       "  3472.0                    1.3739702                     3.301174\n",
       "  3474.0                    1.3739702                     3.301174\n",
       "  3476.0                    1.3739702                     3.301174\n",
       "  3478.0                    1.3739702                     3.301174\n",
       "  3480.0                    1.3739702                     3.301174\n",
       "  3482.0                    1.3739702                     3.301174\n",
       "  3484.0                    1.3739702                     3.301174\n",
       "  3486.0                    1.3739702                     3.301174\n",
       "     ...                          ...                          ...\n",
       "  5522.0                    1.9421544                    1.8177477\n",
       "  5524.0                    1.9345994                    1.8484716\n",
       "  5526.0                    1.9345994                    1.8484716\n",
       "  5528.0                    1.9345994                    1.8484716\n",
       "  5530.0                    1.9345994                    1.8484716\n",
       "  5532.0                    1.9345994                    1.8484716\n",
       "  5534.0                    1.9345994                    1.8484716\n",
       "  5536.0                    1.9345994                    1.8484716\n",
       "  5538.0                    1.9345994                    1.8484716\n",
       "  5540.0                    1.9345994                    1.8484716"
      ]
     },
     "execution_count": 20,
     "metadata": {},
     "output_type": "execute_result"
    }
   ],
   "source": [
    "spec_test"
   ]
  },
  {
   "cell_type": "code",
   "execution_count": 6,
   "id": "08e3a6e4",
   "metadata": {
    "scrolled": true
   },
   "outputs": [],
   "source": [
    "num_detects = np.size(detects_in_NEP.detectid)    # getting the number of detections in NEP which is 69799\n",
    "\n",
    "# this part is creating a 2d list which will then be inputting into a dictionary to be converted into an astropy Table\n",
    "# 2d list because I wanted a list of lists to hold all the spec1d and spec1d error values\n",
    "# TAKES A LONG TIME TO RUN!!!\n",
    "rows, cols = (num_detects, 1)\n",
    "spec_ls = [[0 for i in range(cols)] for j in range(rows)]\n",
    "\n",
    "# going from a list to an astropy array\n",
    "for i in range(len(spec_ls)):\n",
    "    spec_table = detects_in_NEP.get_spectrum(detects_in_NEP.detectid[i])\n",
    "    spec_ls[i] = np.array(spec_table['spec1d'])    # turned into array because astropy column ['spec1d'] was confusing to work with"
   ]
  },
  {
   "cell_type": "code",
   "execution_count": 7,
   "id": "468f15ed",
   "metadata": {},
   "outputs": [],
   "source": [
    "# same code as above except this one is for the spec1d error column\n",
    "# only change is getting erorr numbers so all past comments apply to here too\n",
    "# I would've put them in the same block but these blocks take awhile to finish running so I didn't want to overload\n",
    "specErr_ls = [[0 for i in range(cols)] for j in range(rows)]\n",
    "\n",
    "# going from a list to an astropy array\n",
    "for i in range(len(specErr_ls)):\n",
    "    spec_table = detects_in_NEP.get_spectrum(detects_in_NEP.detectid[i])\n",
    "    specErr_ls[i] = np.array(spec_table['spec1d_err'])"
   ]
  },
  {
   "cell_type": "markdown",
   "id": "cce54a29",
   "metadata": {},
   "source": [
    "Want to make a table where the first row is the detectid, then I have rows for, spect1d  (array), spec1d error (array), line info like EW, line flux, magnitude, RA, and DEC."
   ]
  },
  {
   "cell_type": "code",
   "execution_count": 8,
   "id": "514725a0",
   "metadata": {},
   "outputs": [],
   "source": [
    "# Using a dict of column data to initialize an astropy Table\n",
    "dic_to_table = {'detects': detects_in_NEP.detectid,\n",
    "               'wavelength': detects_in_NEP.wave,\n",
    "                'ra': detects_in_NEP.ra,\n",
    "                'dec': detects_in_NEP.dec,\n",
    "                'spec1d': spec_ls,\n",
    "               'spec1d_err': specErr_ls}\n",
    "\n",
    "detect_info = Table(dic_to_table)"
   ]
  },
  {
   "cell_type": "code",
   "execution_count": 21,
   "id": "fdd26870",
   "metadata": {
    "scrolled": true
   },
   "outputs": [
    {
     "data": {
      "text/html": [
       "<div><i>Table length=69799</i>\n",
       "<table id=\"table140078849445120\" class=\"table-striped table-bordered table-condensed\">\n",
       "<thead><tr><th>detects</th><th>wavelength</th><th>ra</th><th>dec</th><th>spec1d</th><th>spec1d_err</th></tr></thead>\n",
       "<thead><tr><th>int64</th><th>float32</th><th>float32</th><th>float32</th><th>float32[1036]</th><th>float32[1036]</th></tr></thead>\n",
       "<tr><td>2100395300</td><td>4795.6</td><td>274.08817</td><td>66.04029</td><td>1.3739702 .. 1.9345994</td><td>3.301174 .. 1.8484716</td></tr>\n",
       "<tr><td>2100395301</td><td>3684.0</td><td>274.10938</td><td>66.03482</td><td>0.25948396 .. 0.104944706</td><td>4.9196553 .. 1.5617634</td></tr>\n",
       "<tr><td>2100395303</td><td>4407.54</td><td>274.08798</td><td>66.04312</td><td>-0.18306294 .. 0.120995596</td><td>3.343359 .. 1.752679</td></tr>\n",
       "<tr><td>2100395308</td><td>3779.01</td><td>274.16028</td><td>66.039375</td><td>3.5947866 .. 29.83107</td><td>5.0278735 .. 3.9272287</td></tr>\n",
       "<tr><td>2100395309</td><td>3779.08</td><td>274.176</td><td>66.03694</td><td>7.810404 .. 8.485255</td><td>4.6782527 .. 2.2743156</td></tr>\n",
       "<tr><td>2100395310</td><td>3777.96</td><td>274.16217</td><td>66.03878</td><td>5.4102297 .. 16.955706</td><td>5.465975 .. 3.143807</td></tr>\n",
       "<tr><td>2100395312</td><td>3540.37</td><td>274.16037</td><td>66.039116</td><td>7.232119 .. 36.326458</td><td>5.369271 .. 4.3121314</td></tr>\n",
       "<tr><td>2100395314</td><td>3779.73</td><td>274.17523</td><td>66.03811</td><td>5.690473 .. 39.514835</td><td>4.060331 .. 5.03607</td></tr>\n",
       "<tr><td>2100395323</td><td>3783.45</td><td>274.17462</td><td>66.03752</td><td>6.0763054 .. 14.341705</td><td>4.181327 .. 2.8485444</td></tr>\n",
       "<tr><td>2100395329</td><td>3911.59</td><td>274.1744</td><td>66.03752</td><td>3.6374705 .. 9.342827</td><td>3.9804099 .. 2.4529374</td></tr>\n",
       "<tr><td>...</td><td>...</td><td>...</td><td>...</td><td>...</td><td>...</td></tr>\n",
       "<tr><td>2102591133</td><td>3621.42</td><td>272.33502</td><td>65.94886</td><td>2.9745781 .. -0.15291205</td><td>8.845858 .. 2.1556869</td></tr>\n",
       "<tr><td>2102591135</td><td>3798.57</td><td>272.3601</td><td>65.94865</td><td>6.340416 .. 43.41358</td><td>4.712274 .. 6.132177</td></tr>\n",
       "<tr><td>2102591136</td><td>4496.66</td><td>272.3553</td><td>65.955605</td><td>0.41709733 .. -0.05633008</td><td>4.158766 .. 0.99008995</td></tr>\n",
       "<tr><td>2102591137</td><td>3960.42</td><td>272.35065</td><td>65.95086</td><td>-0.2628514 .. 0.08616114</td><td>5.2677093 .. 1.1210852</td></tr>\n",
       "<tr><td>2102591139</td><td>4664.4</td><td>272.33316</td><td>65.95318</td><td>-0.28486162 .. 0.3934254</td><td>3.0511537 .. 0.97738653</td></tr>\n",
       "<tr><td>2102591140</td><td>4358.55</td><td>272.3581</td><td>65.954025</td><td>0.25720462 .. -0.06428938</td><td>4.398488 .. 1.6613194</td></tr>\n",
       "<tr><td>2102591141</td><td>4198.65</td><td>272.35995</td><td>65.95431</td><td>0.8538195 .. 0.037515007</td><td>4.3777156 .. 1.1644461</td></tr>\n",
       "<tr><td>2102591142</td><td>5337.0</td><td>272.33536</td><td>65.95191</td><td>-0.72364336 .. 0.034434147</td><td>3.8486855 .. 0.986437</td></tr>\n",
       "<tr><td>2102591144</td><td>4173.24</td><td>272.3593</td><td>65.94936</td><td>1.5328524 .. 24.75373</td><td>4.7959304 .. 4.3725624</td></tr>\n",
       "<tr><td>2102591145</td><td>3507.24</td><td>272.35077</td><td>65.94832</td><td>2.864891 .. 0.13571836</td><td>7.040993 .. 1.7914823</td></tr>\n",
       "</table></div>"
      ],
      "text/plain": [
       "<Table length=69799>\n",
       " detects   wavelength ...           spec1d                  spec1d_err      \n",
       "  int64     float32   ...       float32[1036]             float32[1036]     \n",
       "---------- ---------- ... -------------------------- -----------------------\n",
       "2100395300     4795.6 ...     1.3739702 .. 1.9345994   3.301174 .. 1.8484716\n",
       "2100395301     3684.0 ...  0.25948396 .. 0.104944706  4.9196553 .. 1.5617634\n",
       "2100395303    4407.54 ... -0.18306294 .. 0.120995596    3.343359 .. 1.752679\n",
       "2100395308    3779.01 ...      3.5947866 .. 29.83107  5.0278735 .. 3.9272287\n",
       "2100395309    3779.08 ...       7.810404 .. 8.485255  4.6782527 .. 2.2743156\n",
       "2100395310    3777.96 ...     5.4102297 .. 16.955706    5.465975 .. 3.143807\n",
       "2100395312    3540.37 ...      7.232119 .. 36.326458   5.369271 .. 4.3121314\n",
       "2100395314    3779.73 ...      5.690473 .. 39.514835     4.060331 .. 5.03607\n",
       "2100395323    3783.45 ...     6.0763054 .. 14.341705   4.181327 .. 2.8485444\n",
       "2100395329    3911.59 ...      3.6374705 .. 9.342827  3.9804099 .. 2.4529374\n",
       "       ...        ... ...                        ...                     ...\n",
       "2102591133    3621.42 ...   2.9745781 .. -0.15291205   8.845858 .. 2.1556869\n",
       "2102591135    3798.57 ...       6.340416 .. 43.41358    4.712274 .. 6.132177\n",
       "2102591136    4496.66 ...  0.41709733 .. -0.05633008  4.158766 .. 0.99008995\n",
       "2102591137    3960.42 ...   -0.2628514 .. 0.08616114  5.2677093 .. 1.1210852\n",
       "2102591139     4664.4 ...   -0.28486162 .. 0.3934254 3.0511537 .. 0.97738653\n",
       "2102591140    4358.55 ...  0.25720462 .. -0.06428938   4.398488 .. 1.6613194\n",
       "2102591141    4198.65 ...   0.8538195 .. 0.037515007  4.3777156 .. 1.1644461\n",
       "2102591142     5337.0 ... -0.72364336 .. 0.034434147   3.8486855 .. 0.986437\n",
       "2102591144    4173.24 ...      1.5328524 .. 24.75373  4.7959304 .. 4.3725624\n",
       "2102591145    3507.24 ...     2.864891 .. 0.13571836   7.040993 .. 1.7914823"
      ]
     },
     "execution_count": 21,
     "metadata": {},
     "output_type": "execute_result"
    }
   ],
   "source": [
    "detect_info"
   ]
  },
  {
   "cell_type": "markdown",
   "id": "dbb0541f",
   "metadata": {},
   "source": [
    "Got: the spectra, wavelength, RA and DEC\n",
    "Need?: Line information such as EW, line flux and Magnitude of the source\n",
    "    - Not needed for first part. \n",
    "\n",
    "Combination of spec1d divided by spec1d erorr should give a signal to noise specturm. Should suppress noisy stuff and if detection should be more clear. Do a wavelength cut. 3500 - 5500 cut. Cut first 100 angstroms. \n",
    "\n",
    "Want like a probability for Phase 1. \n",
    "\n",
    "Next steps (PHASE 1):\n",
    "1. Read on machine learning algorithms\n",
    "    1a. Learn how to implement\n",
    "2. Figure out what data exactly is needed\n",
    "3. Begin training\n",
    "\n",
    "Phase 2 is use EW, line flux, Magnitude. Will use output from Phase 1."
   ]
  },
  {
   "cell_type": "code",
   "execution_count": 10,
   "id": "e8f1304e",
   "metadata": {},
   "outputs": [],
   "source": [
    "# Once you have selected sources within the NEP footprint we can then go ahead and find some\n",
    "# spectra from these sources - Oscar\n",
    "spectra = detects_in_NEP.hdfile.root.Spectra"
   ]
  },
  {
   "cell_type": "markdown",
   "id": "49f4c104",
   "metadata": {},
   "source": [
    "center_ksy.separations(skycoords entire)\n",
    "    return indeces\n",
    "    return distance\n",
    "    return 3d\n",
    "\n",
    "separate by dist\n",
    "mask\n",
    "\n",
    "main goal of algorithm\n",
    "want it to distinguish lae vs o2 emitter. wouldn't impose cuts unless training.\n",
    "\n",
    "cut = filter\n",
    "cut = signal to noise could do plya\n",
    "\n",
    "might need cuts for taining for confident lya and o2\n",
    "\n",
    "increase confidence by visually inspecting\n",
    "\n",
    "could visually inspect to increase confidence.\n",
    "\n",
    "plotting histograms to look for outliers\n",
    "\n",
    "hetdex isn't perfect and it catches emission lines that aren't real. visual inspections helps\n",
    "\n",
    "no need for dataframes if i found another way\n",
    "\n",
    "save as csv with astropy table\n",
    "\n",
    "csv into get_spec()\n",
    "\n",
    "    has nice documentation\n",
    "        \n",
    "get_spectrum good for ids ****USE*** returns all fiber spec with corresponding weights.\n",
    "\n",
    "    try to see if can get LAE samples. O2 samples. and ambigious samples. Clasify some of them. Signal to noise (ask Oscar)\n",
    "    \n",
    "    \n",
    "detection object filter by fields. turn to astropy table and then filter. \n",
    "\n",
    "Want psf weighted."
   ]
  },
  {
   "cell_type": "markdown",
   "id": "6ca5464e",
   "metadata": {},
   "source": [
    "reionization was the last major change in universe. hetdex gives us a way to study that period from a lower redshift/"
   ]
  },
  {
   "cell_type": "code",
   "execution_count": null,
   "id": "26d5e058",
   "metadata": {},
   "outputs": [],
   "source": []
  }
 ],
 "metadata": {
  "kernelspec": {
   "display_name": "Python 3 (ipykernel)",
   "language": "python",
   "name": "python3"
  },
  "language_info": {
   "codemirror_mode": {
    "name": "ipython",
    "version": 3
   },
   "file_extension": ".py",
   "mimetype": "text/x-python",
   "name": "python",
   "nbconvert_exporter": "python",
   "pygments_lexer": "ipython3",
   "version": "3.10.6"
  }
 },
 "nbformat": 4,
 "nbformat_minor": 5
}
