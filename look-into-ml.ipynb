{
 "cells": [
  {
   "cell_type": "code",
   "execution_count": 1,
   "id": "5fa0e2a2",
   "metadata": {},
   "outputs": [],
   "source": [
    "import h5py\n",
    "\n",
    "import sys"
   ]
  },
  {
   "cell_type": "code",
   "execution_count": 2,
   "id": "735f3a6a",
   "metadata": {},
   "outputs": [],
   "source": [
    "file_path = \"/home/jovyan/Hobby-Eberly-Telesco/hdr3/catalogs/ml/detect_ml_3.0.0.h5\"\n",
    "\n",
    "h5 = h5py.File(file_path, 'r')"
   ]
  },
  {
   "cell_type": "code",
   "execution_count": 3,
   "id": "090f1ad7",
   "metadata": {},
   "outputs": [
    {
     "data": {
      "text/plain": [
       "<HDF5 file \"detect_ml_3.0.0.h5\" (mode r)>"
      ]
     },
     "execution_count": 3,
     "metadata": {},
     "output_type": "execute_result"
    }
   ],
   "source": [
    "h5"
   ]
  },
  {
   "cell_type": "code",
   "execution_count": 4,
   "id": "9befcceb",
   "metadata": {},
   "outputs": [
    {
     "data": {
      "text/plain": [
       "['FiberImages',\n",
       " 'PhotImages',\n",
       " 'Spec1D',\n",
       " '_i_FiberImages',\n",
       " '_i_PhotImages',\n",
       " '_i_Spec1D']"
      ]
     },
     "execution_count": 4,
     "metadata": {},
     "output_type": "execute_result"
    }
   ],
   "source": [
    "list(h5.keys())"
   ]
  },
  {
   "cell_type": "markdown",
   "id": "95cc5070",
   "metadata": {},
   "source": [
    "Spectrum and label. Use this to filter out 'junk' using Valentina's code. Low-z and High-z sample"
   ]
  },
  {
   "cell_type": "code",
   "execution_count": 5,
   "id": "c90211d4",
   "metadata": {},
   "outputs": [],
   "source": [
    "dset = h5['Spec1D']"
   ]
  },
  {
   "cell_type": "code",
   "execution_count": 76,
   "id": "cf00a45e",
   "metadata": {},
   "outputs": [
    {
     "data": {
      "text/plain": [
       "dtype([('detectid', '<i8'), ('spec1D', '<f4', (1036,)), ('spec1D_err', '<f4', (1036,))])"
      ]
     },
     "execution_count": 76,
     "metadata": {},
     "output_type": "execute_result"
    }
   ],
   "source": [
    "dset.dtype"
   ]
  },
  {
   "cell_type": "code",
   "execution_count": 77,
   "id": "b39a4790",
   "metadata": {},
   "outputs": [
    {
     "data": {
      "text/plain": [
       "dtype([('detectid', '<i8'), ('im_wave', '<f4', (100,)), ('im_sum', '<f4', (9, 100)), ('im_array', '<f4', (4, 9, 100))])"
      ]
     },
     "execution_count": 77,
     "metadata": {},
     "output_type": "execute_result"
    }
   ],
   "source": [
    "h5['FiberImages'].dtype"
   ]
  },
  {
   "cell_type": "code",
   "execution_count": 78,
   "id": "09d784a4",
   "metadata": {},
   "outputs": [
    {
     "data": {
      "text/plain": [
       "dtype([('detectid', '<i8'), ('im_phot', '<f4', (60, 60)), ('im_phot_hdr', 'S2880')])"
      ]
     },
     "execution_count": 78,
     "metadata": {},
     "output_type": "execute_result"
    }
   ],
   "source": [
    "h5['PhotImages'].dtype"
   ]
  }
 ],
 "metadata": {
  "kernelspec": {
   "display_name": "Python 3",
   "language": "python",
   "name": "python3"
  },
  "language_info": {
   "codemirror_mode": {
    "name": "ipython",
    "version": 3
   },
   "file_extension": ".py",
   "mimetype": "text/x-python",
   "name": "python",
   "nbconvert_exporter": "python",
   "pygments_lexer": "ipython3",
   "version": "3.9.4"
  }
 },
 "nbformat": 4,
 "nbformat_minor": 5
}
